{
 "cells": [
  {
   "cell_type": "markdown",
   "id": "155526c5",
   "metadata": {
    "id": "155526c5"
   },
   "source": [
    "## 1 Импорт библиотек и модулей"
   ]
  },
  {
   "cell_type": "code",
   "execution_count": 1,
   "id": "dbb462da",
   "metadata": {
    "id": "dbb462da",
    "scrolled": true
   },
   "outputs": [],
   "source": [
    "!pip install -q ydata_profiling"
   ]
  },
  {
   "cell_type": "code",
   "execution_count": 2,
   "id": "78223a18",
   "metadata": {
    "id": "78223a18"
   },
   "outputs": [],
   "source": [
    "#!pip install -q hyperopt"
   ]
  },
  {
   "cell_type": "code",
   "execution_count": 3,
   "id": "b7f7de47",
   "metadata": {
    "id": "b7f7de47"
   },
   "outputs": [],
   "source": [
    "%matplotlib inline "
   ]
  },
  {
   "cell_type": "code",
   "execution_count": 4,
   "metadata": {},
   "outputs": [],
   "source": [
    "# для обработки ошибок \n",
    "import warnings\n",
    "\n",
    "# для работы с данными\n",
    "import pandas as pd\n",
    "\n",
    "# для EDA анализа\n",
    "import ydata_profiling\n",
    "\n",
    "# для математических вычислений\n",
    "import numpy as np\n",
    "\n",
    "# для разделения данных на выборки\n",
    "from sklearn.model_selection import train_test_split\n",
    "\n",
    "# для визуализации\n",
    "import seaborn as sns\n",
    "import matplotlib.pyplot as plt\n",
    "from sklearn.metrics import confusion_matrix\n",
    "\n",
    "# для кодирования данных\n",
    "from sklearn.preprocessing import OneHotEncoder\n",
    "\n",
    "# для масштабирования признаков\n",
    "from sklearn.preprocessing import RobustScaler\n",
    "\n",
    "# модели машинного обучения\n",
    "from sklearn.linear_model import LogisticRegression\n",
    "from sklearn.tree import DecisionTreeClassifier\n",
    "from sklearn.ensemble import RandomForestClassifier\n",
    "\n",
    "# для подсчёта точности модели\n",
    "from sklearn.metrics import accuracy_score, f1_score, precision_score, recall_score, roc_auc_score, roc_curve\n",
    "from sklearn.metrics import classification_report\n",
    "from sklearn.metrics import precision_recall_curve\n",
    "\n",
    "# константная модель\n",
    "from sklearn.dummy import DummyClassifier\n",
    "\n",
    "# для перемешивания данных\n",
    "from sklearn.utils import shuffle\n",
    "\n",
    "# для подбора гиперпараметров\n",
    "from hyperopt import fmin, tpe, hp, STATUS_OK, Trials\n",
    "from hyperopt.pyll.base import scope"
   ]
  },
  {
   "cell_type": "markdown",
   "metadata": {},
   "source": [
    "## 2 Открытие файла с данными и изучение общей информации\n",
    "Считаем данные из csv-файла в датафрейм и сохраним в переменную `df` и проведём EDA анализ."
   ]
  },
  {
   "cell_type": "code",
   "execution_count": 2,
   "metadata": {},
   "outputs": [],
   "source": [
    "def read_eda(name):\n",
    "    try:\n",
    "        df = pd.read_csv('/datasets/' + name + '.csv')\n",
    "    except:\n",
    "        df = pd.read_csv('https://code.s3.yandex.net/datasets/' + name + '.csv')\n",
    "    ydata_profiling.ProfileReport(df, progress_bar=False).to_file(name + '.html')\n",
    "    return df"
   ]
  },
  {
   "cell_type": "code",
   "execution_count": 5,
   "metadata": {},
   "outputs": [],
   "source": [
    "df = read_eda('Churn')"
   ]
  },
  {
   "cell_type": "markdown",
   "metadata": {},
   "source": [
    "[Посмотреть анализ.](https://www.dropbox.com/s/l3lcdqo89aendnt/Churn.html?dl=0)\n",
    "\n",
    "- **В данных 10000 строк, 14 столбцов, 3 типа данных: float64, int64, object.**\n",
    "- **Присутствуют пропуски в столбце `Tenure`.**\n",
    "- **По графикам видно, что в столбцах `CreditScore`, `Age` и `NumOfProducts` присутствуют выбросы.**\n",
    "- **Также, виден сильный дисбаланс классов в целевом признаке.**"
   ]
  },
  {
   "cell_type": "markdown",
   "metadata": {},
   "source": [
    "<div style=\"border:solid steelblue 5px; padding: 30px\">\n",
    "<p>\n",
    "        <b>После изучения данных, стала ясна их общая структура:</b> 10000 строк, 14 столбцов, 3 типа данных: float64, int64, object.<br> <b>Также были обнаружены данные, подлежащие обработке:</b>\n",
    "        <li>Пропуски в столбце \"Tenure\".</li>\n",
    "        <li>Выбросы в столбцах \"CreditScore\", \"Age\" и \"NumOfProducts\".</li>\n",
    "        <li>Дисбаланс классов в целевом признаке.</li>\n",
    "    </p>  \n",
    "</div>"
   ]
  },
  {
   "cell_type": "markdown",
   "metadata": {},
   "source": [
    "## 3 Подготовка данных\n",
    "### 3.1 Удаление столбцов\n",
    "Столбцы `RowNumber`, `CustomerId` и `Surname` содержат идентификационные переменные, которые не помогут модели в нахождении общих закономерностей, поэтому удалим их."
   ]
  },
  {
   "cell_type": "code",
   "execution_count": 47,
   "metadata": {},
   "outputs": [],
   "source": [
    "df = df.drop(['RowNumber', 'CustomerId', 'Surname'], axis=1)"
   ]
  },
  {
   "cell_type": "markdown",
   "metadata": {},
   "source": [
    "### 3.2 Обработка пропусков\n",
    "При [изучении данных](#ginf) были обнаружены пропуски в столбце `Tenure`, проверим уникальные значения этого столбца."
   ]
  },
  {
   "cell_type": "code",
   "execution_count": 48,
   "metadata": {},
   "outputs": [
    {
     "data": {
      "text/plain": [
       "array([ 2.,  1.,  8.,  7.,  4.,  6.,  3., 10.,  5.,  9.,  0., nan])"
      ]
     },
     "execution_count": 48,
     "metadata": {},
     "output_type": "execute_result"
    }
   ],
   "source": [
    "df['Tenure'].unique()"
   ]
  },
  {
   "cell_type": "markdown",
   "metadata": {},
   "source": [
    "Столбец содержит целые значения, возможно пропуски возникли из-за того, что люди являются клиентами банка меньше года, заменим на 0."
   ]
  },
  {
   "cell_type": "code",
   "execution_count": 49,
   "metadata": {},
   "outputs": [],
   "source": [
    "df['Tenure'] = df['Tenure'].fillna(0)"
   ]
  },
  {
   "cell_type": "markdown",
   "metadata": {},
   "source": [
    "### 3.3 Разбивка\n",
    "Разобьём данные на признаки (`x`) и целевой признак (`y`)."
   ]
  },
  {
   "cell_type": "code",
   "execution_count": 50,
   "metadata": {},
   "outputs": [],
   "source": [
    "x = df.drop('Exited', axis=1)\n",
    "y = df['Exited']"
   ]
  },
  {
   "cell_type": "markdown",
   "metadata": {},
   "source": [
    "Разобьём данные на обучающую, валидационную и тестовую выборки."
   ]
  },
  {
   "cell_type": "code",
   "execution_count": 51,
   "metadata": {},
   "outputs": [],
   "source": [
    "RANDOM_STATE = 0\n",
    "\n",
    "x_train, x_valid, y_train, y_valid = train_test_split(x, y, test_size=0.25, random_state=RANDOM_STATE, stratify=y)\n",
    "x_valid, x_test, y_valid, y_test = train_test_split(x_valid, y_valid, test_size=0.4, \n",
    "                                                    random_state=RANDOM_STATE, stratify=y_valid)"
   ]
  },
  {
   "cell_type": "markdown",
   "metadata": {},
   "source": [
    "Проверим размеры выборок."
   ]
  },
  {
   "cell_type": "code",
   "execution_count": 52,
   "metadata": {},
   "outputs": [
    {
     "name": "stdout",
     "output_type": "stream",
     "text": [
      "Размер обучающей выборки: (7500, 10)\n",
      "Размер валидационной выборки: (1500, 10)\n",
      "Размер тестовой выборки: (1000, 10)\n"
     ]
    }
   ],
   "source": [
    "print('Размер обучающей выборки:', x_train.shape)\n",
    "print('Размер валидационной выборки:', x_valid.shape)\n",
    "print('Размер тестовой выборки:', x_test.shape)"
   ]
  },
  {
   "cell_type": "markdown",
   "metadata": {},
   "source": [
    "### 3.4 Кодирование\n",
    "Проверим, признаки какого типа хранятся в таблице."
   ]
  },
  {
   "cell_type": "code",
   "execution_count": 53,
   "metadata": {},
   "outputs": [
    {
     "data": {
      "text/plain": [
       "CreditScore          int64\n",
       "Geography           object\n",
       "Gender              object\n",
       "Age                  int64\n",
       "Tenure             float64\n",
       "Balance            float64\n",
       "NumOfProducts        int64\n",
       "HasCrCard            int64\n",
       "IsActiveMember       int64\n",
       "EstimatedSalary    float64\n",
       "Exited               int64\n",
       "dtype: object"
      ]
     },
     "execution_count": 53,
     "metadata": {},
     "output_type": "execute_result"
    }
   ],
   "source": [
    "df.dtypes"
   ]
  },
  {
   "cell_type": "markdown",
   "metadata": {},
   "source": [
    "Тип столбцов `Geography` и `Gender` — object, значит они содержат категориальные переменные. Такие значения не поддерживаются многими моделями машинного обучения, закодируем их техникой прямого кодирования (она подходит для всех моделей)."
   ]
  },
  {
   "cell_type": "code",
   "execution_count": 54,
   "metadata": {},
   "outputs": [],
   "source": [
    "categorical_columns = ['Geography', 'Gender']\n",
    "numeric_columns = ['CreditScore', 'Age', 'Tenure', 'Balance', 'NumOfProducts', 'HasCrCard', 'IsActiveMember', \n",
    "                  'EstimatedSalary']\n",
    "\n",
    "encoder = OneHotEncoder(drop='first', handle_unknown='ignore')\n",
    "encoder.fit(x_train[categorical_columns])\n",
    "\n",
    "def ohe(x):\n",
    "    x_encoded = pd.DataFrame(\n",
    "        encoder.transform(x[categorical_columns]).toarray(),\n",
    "        columns=encoder.get_feature_names_out(categorical_columns),\n",
    "        index=x.index\n",
    "    )\n",
    "    x = pd.concat((x[numeric_columns], x_encoded), axis=1)\n",
    "    return x\n",
    "\n",
    "x_train = ohe(x_train)\n",
    "x_valid = ohe(x_valid)\n",
    "x_test = ohe(x_test)"
   ]
  },
  {
   "cell_type": "markdown",
   "metadata": {},
   "source": [
    "### 3.5 Масштабирование признаков\n",
    "На гистограммах столбцов были замечены выбросы, проверим их наличие на диаграммах размаха."
   ]
  },
  {
   "cell_type": "code",
   "execution_count": 55,
   "metadata": {
    "scrolled": false
   },
   "outputs": [
    {
     "data": {
      "image/png": "[encoded data removed]",
      "text/plain": [
       "<Figure size 1500x300 with 1 Axes>"
      ]
     },
     "metadata": {},
     "output_type": "display_data"
    },
    {
     "data": {
      "image/png": "[encoded data removed]",
      "text/plain": [
       "<Figure size 1500x300 with 1 Axes>"
      ]
     },
     "metadata": {},
     "output_type": "display_data"
    },
    {
     "data": {
      "image/png": "[encoded data removed]",
      "text/plain": [
       "<Figure size 1500x300 with 1 Axes>"
      ]
     },
     "metadata": {},
     "output_type": "display_data"
    },
    {
     "data": {
      "image/png": "[encoded data removed]",
      "text/plain": [
       "<Figure size 1500x300 with 1 Axes>"
      ]
     },
     "metadata": {},
     "output_type": "display_data"
    },
    {
     "data": {
      "image/png": "[encoded data removed]",
      "text/plain": [
       "<Figure size 1500x300 with 1 Axes>"
      ]
     },
     "metadata": {},
     "output_type": "display_data"
    }
   ],
   "source": [
    "columns = ['CreditScore', 'Age', 'Balance', 'NumOfProducts', 'EstimatedSalary']\n",
    "\n",
    "for column in columns:\n",
    "    (\n",
    "        df\n",
    "        .boxplot(column=column, figsize=(15, 3), vert=False)\n",
    "        .set_title('Диаграмма размаха по столбцу ' + column + \"\\n\", size=20)\n",
    "    )\n",
    "    plt.show()"
   ]
  },
  {
   "cell_type": "markdown",
   "metadata": {},
   "source": [
    "В столбцах `CreditScore`, `Age` и `NumOfProducts` правда присутствуют выбросы, поэтому используем устойчивый к выбросам `RobustScaler` ([сравнение масштабаторов на данных с выбросами](https://scikit-learn.org/stable/auto_examples/preprocessing/plot_all_scaling.html)), чтобы признаки стали равными по значимости."
   ]
  },
  {
   "cell_type": "code",
   "execution_count": 57,
   "metadata": {},
   "outputs": [],
   "source": [
    "pd.options.mode.chained_assignment = None\n",
    "\n",
    "scaler = RobustScaler()\n",
    "scaler.fit(x_train[columns])\n",
    "x_train[columns] = scaler.transform(x_train[columns])\n",
    "x_valid[columns] = scaler.transform(x_valid[columns])\n",
    "x_test[columns] = scaler.transform(x_test[columns])"
   ]
  },
  {
   "cell_type": "markdown",
   "metadata": {},
   "source": [
    "<div style=\"border:solid steelblue 5px; padding: 30px\">\n",
    "   <p>\n",
    "        <b>Результаты подготовки данных:</b>\n",
    "        <ol>\n",
    "        <li>Удалены ненужные столбцы.</li>\n",
    "        <li>Обработаны пропуски.</li>\n",
    "        <li>Закодированы категориальные переменные.</li>\n",
    "        <li>Данные разбиты на выборки.</li>\n",
    "        <li>Численные признаки масштабированы.</li>\n",
    "        </ol>\n",
    "   </p>  \n",
    "</div>"
   ]
  },
  {
   "cell_type": "markdown",
   "metadata": {},
   "source": [
    "## 4 Исследование задачи\n",
    "На гистограмме целевого признака был замечен сильный дисбаланс классов, проверим это.\n",
    "\n",
    "Обучим и оценим модели без учёта дисбаланса классов."
   ]
  },
  {
   "cell_type": "code",
   "execution_count": 18,
   "metadata": {},
   "outputs": [
    {
     "name": "stdout",
     "output_type": "stream",
     "text": [
      "0.8086666666666666\n"
     ]
    }
   ],
   "source": [
    "lgr = LogisticRegression(random_state=RANDOM_STATE, max_iter=300)\n",
    "lgr.fit(x_train, y_train)\n",
    "lgr_predictions = lgr.predict(x_valid)\n",
    "print(accuracy_score(y_valid, lgr_predictions))"
   ]
  },
  {
   "cell_type": "code",
   "execution_count": 19,
   "metadata": {},
   "outputs": [
    {
     "name": "stdout",
     "output_type": "stream",
     "text": [
      "0.7953333333333333\n"
     ]
    }
   ],
   "source": [
    "dt = DecisionTreeClassifier(random_state=RANDOM_STATE)\n",
    "dt.fit(x_train, y_train)\n",
    "dt_predictions = dt.predict(x_valid)\n",
    "print(accuracy_score(y_valid, dt_predictions))"
   ]
  },
  {
   "cell_type": "code",
   "execution_count": 20,
   "metadata": {},
   "outputs": [
    {
     "name": "stdout",
     "output_type": "stream",
     "text": [
      "0.8546666666666667\n"
     ]
    }
   ],
   "source": [
    "rf = RandomForestClassifier(random_state=RANDOM_STATE)\n",
    "rf.fit(x_train, y_train)\n",
    "rf_predictions = rf.predict(x_valid)\n",
    "print(accuracy_score(y_valid, rf_predictions))"
   ]
  },
  {
   "cell_type": "markdown",
   "metadata": {},
   "source": [
    "Проверим модели на адекватность с помощью фиктивного классификатора. "
   ]
  },
  {
   "cell_type": "code",
   "execution_count": 21,
   "metadata": {},
   "outputs": [
    {
     "name": "stdout",
     "output_type": "stream",
     "text": [
      "0.7966666666666666\n"
     ]
    }
   ],
   "source": [
    "dummy = DummyClassifier(strategy='most_frequent')\n",
    "dummy.fit(x_train, y_train)\n",
    "dummy_predictions = dummy.predict(x_valid)\n",
    "print(accuracy_score(y_valid, dummy_predictions))"
   ]
  },
  {
   "cell_type": "markdown",
   "metadata": {},
   "source": [
    "<div style=\"border:solid steelblue 5px; padding: 30px\">\n",
    "   <p>\n",
    "        <b>Разница точностей моделей и фиктивного классификатора меньше 0.1, следовательно, в данных присутствует сильный дисбаланс классов, что плохо сказывается на обучении моделей.</b>\n",
    "   </p>  \n",
    "</div>"
   ]
  },
  {
   "cell_type": "markdown",
   "metadata": {},
   "source": [
    "## 5 Борьба с дисбалансом\n",
    "Проверим, какой метод борьбы с дисбалансом даст лучшие оценки.\n",
    "\n",
    "Выведем оценки без учёта дисбаланса классов."
   ]
  },
  {
   "cell_type": "code",
   "execution_count": 22,
   "metadata": {},
   "outputs": [],
   "source": [
    "f1_without = {}\n",
    "auc_without = {}"
   ]
  },
  {
   "cell_type": "code",
   "execution_count": 23,
   "metadata": {},
   "outputs": [],
   "source": [
    "def scores(mdl, x_train=x_train, y_train=y_train, class_weight=None, f1_dict=f1_without, auc_dict=auc_without):\n",
    "    try:\n",
    "        model = mdl(solver='liblinear', class_weight=class_weight, random_state=RANDOM_STATE)\n",
    "    except:\n",
    "        model = mdl(class_weight=class_weight, random_state=RANDOM_STATE)\n",
    "        \n",
    "    model.fit(x_train, y_train)\n",
    "    predictions = model.predict(x_valid)\n",
    "    f1 = f1_score(y_valid, predictions)\n",
    "    auc = roc_auc_score(y_valid, model.predict_proba(x_valid)[:, 1])\n",
    "    \n",
    "    mdl = type(model).__name__\n",
    "        \n",
    "    f1_dict[mdl] = f1\n",
    "    auc_dict[mdl] = auc\n",
    "    print(mdl + \"\\n\" + 'F1:', f1, \"\\n\" + 'AUC-ROC:', auc, \"\\n\")"
   ]
  },
  {
   "cell_type": "code",
   "execution_count": 24,
   "metadata": {},
   "outputs": [
    {
     "name": "stdout",
     "output_type": "stream",
     "text": [
      "LogisticRegression\n",
      "F1: 0.308433734939759 \n",
      "AUC-ROC: 0.7676054599080869 \n",
      "\n",
      "DecisionTreeClassifier\n",
      "F1: 0.5225505443234837 \n",
      "AUC-ROC: 0.7042801289526031 \n",
      "\n",
      "RandomForestClassifier\n",
      "F1: 0.5532786885245902 \n",
      "AUC-ROC: 0.8435530557651416 \n",
      "\n"
     ]
    }
   ],
   "source": [
    "models = [LogisticRegression, DecisionTreeClassifier, RandomForestClassifier]\n",
    "\n",
    "for model in models:\n",
    "    scores(mdl=model)"
   ]
  },
  {
   "cell_type": "markdown",
   "metadata": {},
   "source": [
    "### 5.1 Взвешивание классов\n",
    "Добавим в модели параметр `class_weight='balanced'` и посчитаем оценки."
   ]
  },
  {
   "cell_type": "code",
   "execution_count": 25,
   "metadata": {},
   "outputs": [
    {
     "name": "stdout",
     "output_type": "stream",
     "text": [
      "LogisticRegression\n",
      "F1: 0.502283105022831 \n",
      "AUC-ROC: 0.7696467521777899 \n",
      "\n",
      "DecisionTreeClassifier\n",
      "F1: 0.5156794425087109 \n",
      "AUC-ROC: 0.6919953357569106 \n",
      "\n",
      "RandomForestClassifier\n",
      "F1: 0.5305263157894737 \n",
      "AUC-ROC: 0.8408176143768433 \n",
      "\n"
     ]
    }
   ],
   "source": [
    "f1_weighted = {}\n",
    "auc_weighted = {}\n",
    "\n",
    "for model in models:\n",
    "    scores(mdl=model, class_weight='balanced', f1_dict=f1_weighted, auc_dict=auc_weighted)"
   ]
  },
  {
   "cell_type": "markdown",
   "metadata": {},
   "source": [
    "F1-мера\n",
    "\n",
    "- Оценка логистической регрессии увеличилась примерно на 0.2.\n",
    "- Оценки дерева решений и случайного леса незначительно уменьшились.\n",
    "\n",
    "AUC-ROC\n",
    "\n",
    "- Оценки логистической регрессии и случайного леса остались примерно на том же уровне.\n",
    "- Оценка дерева решений незначительно уменьшилась."
   ]
  },
  {
   "cell_type": "markdown",
   "metadata": {},
   "source": [
    "### 5.2 Увеличение выборки\n",
    "Увеличим недостающий класс."
   ]
  },
  {
   "cell_type": "code",
   "execution_count": 26,
   "metadata": {},
   "outputs": [],
   "source": [
    "def upsample(x, y):\n",
    "    x_zeros = x[y == 0]\n",
    "    x_ones = x[y == 1]\n",
    "    y_zeros = y[y == 0]\n",
    "    y_ones = y[y == 1]\n",
    "    \n",
    "    repeat = round(len(x_zeros) / len(x_ones))\n",
    "\n",
    "    x_upsampled = pd.concat([x_zeros] + [x_ones] * repeat)\n",
    "    y_upsampled = pd.concat([y_zeros] + [y_ones] * repeat)\n",
    "    \n",
    "    x_upsampled, y_upsampled = shuffle(x_upsampled, y_upsampled, random_state=RANDOM_STATE)\n",
    "    return x_upsampled, y_upsampled"
   ]
  },
  {
   "cell_type": "code",
   "execution_count": 27,
   "metadata": {},
   "outputs": [],
   "source": [
    "x_upsampled, y_upsampled = upsample(x_train, y_train)"
   ]
  },
  {
   "cell_type": "markdown",
   "metadata": {},
   "source": [
    "Посчитаем оценки."
   ]
  },
  {
   "cell_type": "code",
   "execution_count": 28,
   "metadata": {},
   "outputs": [
    {
     "name": "stdout",
     "output_type": "stream",
     "text": [
      "LogisticRegression\n",
      "F1: 0.5005636978579481 \n",
      "AUC-ROC: 0.7695836477124631 \n",
      "\n",
      "DecisionTreeClassifier\n",
      "F1: 0.5180102915951972 \n",
      "AUC-ROC: 0.6944029082927499 \n",
      "\n",
      "RandomForestClassifier\n",
      "F1: 0.5698529411764706 \n",
      "AUC-ROC: 0.8441004184100419 \n",
      "\n"
     ]
    }
   ],
   "source": [
    "f1_upsampled = {}\n",
    "auc_upsampled = {}\n",
    "\n",
    "for model in models:\n",
    "    scores(mdl=model, x_train=x_upsampled, y_train=y_upsampled, f1_dict=f1_upsampled, auc_dict=auc_upsampled)"
   ]
  },
  {
   "cell_type": "markdown",
   "metadata": {},
   "source": [
    "F1-мера\n",
    "\n",
    "- Оценка логистической регрессии так же увеличилась примерно на 0.2, но меньше, чем при взвешевании классов.\n",
    "- Оценка дерева решений так же незначительно уменьшилась, но меньше, чем при взвешевании классов.\n",
    "- Оценка случайного леса незначительно увеличилась.\n",
    "\n",
    "AUC-ROC\n",
    "\n",
    "- Оценки логистической регрессии и случайного леса остались примерно на том же уровне.\n",
    "- Оценка дерева решений незначительно уменьшилась, но меньше, чем при взвешевании классов."
   ]
  },
  {
   "cell_type": "markdown",
   "metadata": {},
   "source": [
    "### 5.3 Уменьшение выборки\n",
    "Сократим преобладающий класс."
   ]
  },
  {
   "cell_type": "code",
   "execution_count": 29,
   "metadata": {},
   "outputs": [],
   "source": [
    "def downsample(x, y):\n",
    "    x_zeros = x[y == 0]\n",
    "    x_ones = x[y == 1]\n",
    "    y_zeros = y[y == 0]\n",
    "    y_ones = y[y == 1]\n",
    "    \n",
    "    fraction = len(x_ones) / len(x_zeros)\n",
    "\n",
    "    x_downsampled = pd.concat([x_zeros.sample(frac=fraction, random_state=RANDOM_STATE)] + [x_ones])\n",
    "    y_downsampled = pd.concat([y_zeros.sample(frac=fraction, random_state=RANDOM_STATE)] + [y_ones])\n",
    "    \n",
    "    x_downsampled, y_downsampled = shuffle(x_downsampled, y_downsampled, random_state=RANDOM_STATE)\n",
    "    return x_downsampled, y_downsampled"
   ]
  },
  {
   "cell_type": "code",
   "execution_count": 30,
   "metadata": {},
   "outputs": [],
   "source": [
    "x_downsampled, y_downsampled = downsample(x_train, y_train)"
   ]
  },
  {
   "cell_type": "markdown",
   "metadata": {},
   "source": [
    "Посчитаем оценки."
   ]
  },
  {
   "cell_type": "code",
   "execution_count": 31,
   "metadata": {},
   "outputs": [
    {
     "name": "stdout",
     "output_type": "stream",
     "text": [
      "LogisticRegression\n",
      "F1: 0.49382716049382713 \n",
      "AUC-ROC: 0.7678002606488785 \n",
      "\n",
      "DecisionTreeClassifier\n",
      "F1: 0.4700239808153477 \n",
      "AUC-ROC: 0.6819809314767817 \n",
      "\n",
      "RandomForestClassifier\n",
      "F1: 0.5825747724317295 \n",
      "AUC-ROC: 0.8409095274024281 \n",
      "\n"
     ]
    }
   ],
   "source": [
    "f1_downsampled = {}\n",
    "auc_downsampled = {}\n",
    "\n",
    "for model in models:\n",
    "    scores(mdl=model, x_train=x_downsampled, y_train=y_downsampled, f1_dict=f1_downsampled, auc_dict=auc_downsampled)"
   ]
  },
  {
   "cell_type": "markdown",
   "metadata": {},
   "source": [
    "F1-мера\n",
    "\n",
    "- Оценка логистической регрессии так же увеличилась примерно на 0.2, но меньше, чем при увеличении выборки.\n",
    "- Оценка дерева решений так же незначительно уменьшилась, но больше, чем при увеличении выборки.\n",
    "- Оценка случайного леса так же незначительно увеличилась, но больше, чем при увеличении выборки.\n",
    "\n",
    "AUC-ROC\n",
    "\n",
    "- Оценки логистической регрессии и случайного леса остались примерно на том же уровне.\n",
    "- Оценка дерева решений незначительно уменьшилась, но больше, чем при увеличении выборки."
   ]
  },
  {
   "cell_type": "markdown",
   "metadata": {},
   "source": [
    "### 5.4 Общие таблицы\n",
    "Соединим предыдущие наблюдения по F1-мере в один датафрейм."
   ]
  },
  {
   "cell_type": "code",
   "execution_count": 32,
   "metadata": {},
   "outputs": [],
   "source": [
    "def dataframe(without, weighted, upsampled, downsampled):\n",
    "    df = pd.DataFrame()\n",
    "\n",
    "    dicts = [without, weighted, upsampled, downsampled]\n",
    "\n",
    "    for dict in dicts:\n",
    "        df = df.append(dict, ignore_index=True)\n",
    "    \n",
    "    df.index = ['Без учёта дисбаланса', 'Взвешивание классов', 'Увеличение выборки', ' Уменьшение выборки']\n",
    "    return df"
   ]
  },
  {
   "cell_type": "code",
   "execution_count": 33,
   "metadata": {},
   "outputs": [
    {
     "data": {
      "text/html": [
       "<div>\n",
       "<style scoped>\n",
       "    .dataframe tbody tr th:only-of-type {\n",
       "        vertical-align: middle;\n",
       "    }\n",
       "\n",
       "    .dataframe tbody tr th {\n",
       "        vertical-align: top;\n",
       "    }\n",
       "\n",
       "    .dataframe thead th {\n",
       "        text-align: right;\n",
       "    }\n",
       "</style>\n",
       "<table border=\"1\" class=\"dataframe\">\n",
       "  <thead>\n",
       "    <tr style=\"text-align: right;\">\n",
       "      <th></th>\n",
       "      <th>DecisionTreeClassifier</th>\n",
       "      <th>LogisticRegression</th>\n",
       "      <th>RandomForestClassifier</th>\n",
       "    </tr>\n",
       "  </thead>\n",
       "  <tbody>\n",
       "    <tr>\n",
       "      <th>Без учёта дисбаланса</th>\n",
       "      <td>0.522551</td>\n",
       "      <td>0.308434</td>\n",
       "      <td>0.553279</td>\n",
       "    </tr>\n",
       "    <tr>\n",
       "      <th>Взвешивание классов</th>\n",
       "      <td>0.515679</td>\n",
       "      <td>0.502283</td>\n",
       "      <td>0.530526</td>\n",
       "    </tr>\n",
       "    <tr>\n",
       "      <th>Увеличение выборки</th>\n",
       "      <td>0.518010</td>\n",
       "      <td>0.500564</td>\n",
       "      <td>0.569853</td>\n",
       "    </tr>\n",
       "    <tr>\n",
       "      <th>Уменьшение выборки</th>\n",
       "      <td>0.470024</td>\n",
       "      <td>0.493827</td>\n",
       "      <td>0.582575</td>\n",
       "    </tr>\n",
       "  </tbody>\n",
       "</table>\n",
       "</div>"
      ],
      "text/plain": [
       "                      DecisionTreeClassifier  LogisticRegression  \\\n",
       "Без учёта дисбаланса                0.522551            0.308434   \n",
       "Взвешивание классов                 0.515679            0.502283   \n",
       "Увеличение выборки                  0.518010            0.500564   \n",
       " Уменьшение выборки                 0.470024            0.493827   \n",
       "\n",
       "                      RandomForestClassifier  \n",
       "Без учёта дисбаланса                0.553279  \n",
       "Взвешивание классов                 0.530526  \n",
       "Увеличение выборки                  0.569853  \n",
       " Уменьшение выборки                 0.582575  "
      ]
     },
     "execution_count": 33,
     "metadata": {},
     "output_type": "execute_result"
    }
   ],
   "source": [
    "dataframe(f1_without, f1_weighted, f1_upsampled, f1_downsampled)"
   ]
  },
  {
   "cell_type": "markdown",
   "metadata": {},
   "source": [
    "Соединим предыдущие наблюдения по AUC-ROC в один датафрейм."
   ]
  },
  {
   "cell_type": "code",
   "execution_count": 34,
   "metadata": {},
   "outputs": [
    {
     "data": {
      "text/html": [
       "<div>\n",
       "<style scoped>\n",
       "    .dataframe tbody tr th:only-of-type {\n",
       "        vertical-align: middle;\n",
       "    }\n",
       "\n",
       "    .dataframe tbody tr th {\n",
       "        vertical-align: top;\n",
       "    }\n",
       "\n",
       "    .dataframe thead th {\n",
       "        text-align: right;\n",
       "    }\n",
       "</style>\n",
       "<table border=\"1\" class=\"dataframe\">\n",
       "  <thead>\n",
       "    <tr style=\"text-align: right;\">\n",
       "      <th></th>\n",
       "      <th>DecisionTreeClassifier</th>\n",
       "      <th>LogisticRegression</th>\n",
       "      <th>RandomForestClassifier</th>\n",
       "    </tr>\n",
       "  </thead>\n",
       "  <tbody>\n",
       "    <tr>\n",
       "      <th>Без учёта дисбаланса</th>\n",
       "      <td>0.704280</td>\n",
       "      <td>0.767605</td>\n",
       "      <td>0.843553</td>\n",
       "    </tr>\n",
       "    <tr>\n",
       "      <th>Взвешивание классов</th>\n",
       "      <td>0.691995</td>\n",
       "      <td>0.769647</td>\n",
       "      <td>0.840818</td>\n",
       "    </tr>\n",
       "    <tr>\n",
       "      <th>Увеличение выборки</th>\n",
       "      <td>0.694403</td>\n",
       "      <td>0.769584</td>\n",
       "      <td>0.844100</td>\n",
       "    </tr>\n",
       "    <tr>\n",
       "      <th>Уменьшение выборки</th>\n",
       "      <td>0.681981</td>\n",
       "      <td>0.767800</td>\n",
       "      <td>0.840910</td>\n",
       "    </tr>\n",
       "  </tbody>\n",
       "</table>\n",
       "</div>"
      ],
      "text/plain": [
       "                      DecisionTreeClassifier  LogisticRegression  \\\n",
       "Без учёта дисбаланса                0.704280            0.767605   \n",
       "Взвешивание классов                 0.691995            0.769647   \n",
       "Увеличение выборки                  0.694403            0.769584   \n",
       " Уменьшение выборки                 0.681981            0.767800   \n",
       "\n",
       "                      RandomForestClassifier  \n",
       "Без учёта дисбаланса                0.843553  \n",
       "Взвешивание классов                 0.840818  \n",
       "Увеличение выборки                  0.844100  \n",
       " Уменьшение выборки                 0.840910  "
      ]
     },
     "execution_count": 34,
     "metadata": {},
     "output_type": "execute_result"
    }
   ],
   "source": [
    "dataframe(auc_without, auc_weighted, auc_upsampled, auc_downsampled)"
   ]
  },
  {
   "cell_type": "markdown",
   "metadata": {},
   "source": [
    "<div style=\"border:solid steelblue 5px; padding: 30px\">\n",
    "<p>\n",
    "        <b>Лучшие методы борьбы с дисбалансом:</b>\n",
    "        <li>Для дерева решений — увеличение выборки.</li>\n",
    "        <li>Для логистической регрессии — взвешивание классов.</li>\n",
    "        <li>Для случайного леса — уменьшение выборки.</li>\n",
    "    </p>  \n",
    "</div>"
   ]
  },
  {
   "cell_type": "markdown",
   "metadata": {},
   "source": [
    "## 6 Подбор порога классификации\n",
    "Найдём лучший порог классификации для логистической регрессии."
   ]
  },
  {
   "cell_type": "code",
   "execution_count": 35,
   "metadata": {},
   "outputs": [],
   "source": [
    "def clf_threshold(mdl, x_train, y_train):\n",
    "    \n",
    "    if mdl == LogisticRegression:\n",
    "        model = mdl(solver='liblinear', class_weight='balanced', random_state=RANDOM_STATE)\n",
    "    else:\n",
    "        model = mdl(random_state=RANDOM_STATE)\n",
    "    \n",
    "    model.fit(x_train, y_train)\n",
    "    probabilities = model.predict_proba(x_valid)\n",
    "    probabilities_one = probabilities[:, 1]\n",
    "    \n",
    "    best_f1 = 0\n",
    "    best_threshold = 0\n",
    "\n",
    "    for threshold in np.arange(0, 0.95, 0.05):\n",
    "        predicted = probabilities_one > threshold\n",
    "        precision = precision_score(y_valid, predicted)\n",
    "        recall = recall_score(y_valid, predicted)\n",
    "        f1 = f1_score(y_valid, predicted)\n",
    "        \n",
    "        if best_f1 < f1:\n",
    "            best_f1 = f1\n",
    "            best_threshold = threshold\n",
    "    \n",
    "    print('Лучшая F1-мера:', best_f1)\n",
    "    print('AUC-ROC:', roc_auc_score(y_valid, probabilities_one)) \n",
    "    print('Лучший порог:', round(best_threshold, 2)) \n",
    "    \n",
    "    label_size = 16\n",
    "    title_size = 18\n",
    "    \n",
    "    precision, recall, thresholds = precision_recall_curve(y_valid, probabilities_one)\n",
    "\n",
    "    plt.figure(figsize=(6, 5))\n",
    "    plt.step(recall, precision, where='post')\n",
    "    plt.xlabel('Recall', size=label_size)\n",
    "    plt.ylabel('Precision', size=label_size)\n",
    "    plt.ylim([0.0, 1.05])\n",
    "    plt.xlim([0.0, 1.0])\n",
    "    plt.title('Кривая Precision-Recall', size=title_size)\n",
    "    plt.show() \n",
    "    \n",
    "    fpr, tpr, thresholds = roc_curve(y_valid, probabilities_one)\n",
    "\n",
    "    plt.figure(figsize=(6, 5))\n",
    "    plt.plot(fpr, tpr)\n",
    "    plt.plot([0, 1], [0, 1], linestyle='--')\n",
    "    plt.xlim([0.0, 1.0])\n",
    "    plt.ylim([0.0, 1.0])\n",
    "    plt.xlabel('False Positive Rate', size=label_size)\n",
    "    plt.ylabel('True Positive Rate', size=label_size)\n",
    "    plt.title('ROC-кривая', size=title_size)\n",
    "    plt.show()"
   ]
  },
  {
   "cell_type": "code",
   "execution_count": 36,
   "metadata": {},
   "outputs": [
    {
     "name": "stdout",
     "output_type": "stream",
     "text": [
      "Лучшая F1-мера: 0.502283105022831\n",
      "AUC-ROC: 0.7696467521777899\n",
      "Лучший порог: 0.5\n"
     ]
    },
    {
     "data": {
      "image/png": "[encoded data removed]",
      "text/plain": [
       "<Figure size 432x360 with 1 Axes>"
      ]
     },
     "metadata": {
      "needs_background": "light"
     },
     "output_type": "display_data"
    },
    {
     "data": {
      "image/png": "[encoded data removed]",
      "text/plain": [
       "<Figure size 432x360 with 1 Axes>"
      ]
     },
     "metadata": {
      "needs_background": "light"
     },
     "output_type": "display_data"
    }
   ],
   "source": [
    "clf_threshold(mdl=LogisticRegression, x_train=x_train, y_train=y_train)"
   ]
  },
  {
   "cell_type": "markdown",
   "metadata": {},
   "source": [
    "Найдём лучший порог классификации для дерева решений."
   ]
  },
  {
   "cell_type": "code",
   "execution_count": 37,
   "metadata": {},
   "outputs": [
    {
     "name": "stdout",
     "output_type": "stream",
     "text": [
      "Лучшая F1-мера: 0.5180102915951972\n",
      "AUC-ROC: 0.6944029082927499\n",
      "Лучший порог: 0.0\n"
     ]
    },
    {
     "data": {
      "image/png": "[encoded data removed]",
      "text/plain": [
       "<Figure size 432x360 with 1 Axes>"
      ]
     },
     "metadata": {
      "needs_background": "light"
     },
     "output_type": "display_data"
    },
    {
     "data": {
      "image/png": "[encoded data removed]",
      "text/plain": [
       "<Figure size 432x360 with 1 Axes>"
      ]
     },
     "metadata": {
      "needs_background": "light"
     },
     "output_type": "display_data"
    }
   ],
   "source": [
    "clf_threshold(mdl=DecisionTreeClassifier, x_train=x_upsampled, y_train=y_upsampled)"
   ]
  },
  {
   "cell_type": "markdown",
   "metadata": {},
   "source": [
    "Найдём лучший порог классификации для случайного леса."
   ]
  },
  {
   "cell_type": "code",
   "execution_count": 38,
   "metadata": {},
   "outputs": [
    {
     "name": "stdout",
     "output_type": "stream",
     "text": [
      "Лучшая F1-мера: 0.6076335877862596\n",
      "AUC-ROC: 0.8409095274024281\n",
      "Лучший порог: 0.6\n"
     ]
    },
    {
     "data": {
      "image/png": "[encoded data removed]",
      "text/plain": [
       "<Figure size 432x360 with 1 Axes>"
      ]
     },
     "metadata": {
      "needs_background": "light"
     },
     "output_type": "display_data"
    },
    {
     "data": {
      "image/png": "[encoded data removed]",
      "text/plain": [
       "<Figure size 432x360 with 1 Axes>"
      ]
     },
     "metadata": {
      "needs_background": "light"
     },
     "output_type": "display_data"
    }
   ],
   "source": [
    "clf_threshold(mdl=RandomForestClassifier, x_train=x_downsampled, y_train=y_downsampled)"
   ]
  },
  {
   "cell_type": "markdown",
   "metadata": {},
   "source": [
    "<div style=\"border:solid steelblue 5px; padding: 30px\">\n",
    "<p>\n",
    "        <b>Лучшие пороги классификации:</b>\n",
    "        <li>Для логистической регрессии — 0.5.</li>\n",
    "        <li>Для дерева решений — 0.</li>\n",
    "        <li>Для случайного леса — 0.6.</li>\n",
    "    </p>  \n",
    "</div>"
   ]
  },
  {
   "cell_type": "markdown",
   "metadata": {},
   "source": [
    "## 7 Подбор гиперпараметров\n",
    "Найдём лучшие гиперпараметры для логистической регрессии с помощью байесовской оптимизации. "
   ]
  },
  {
   "cell_type": "code",
   "execution_count": 39,
   "metadata": {},
   "outputs": [],
   "source": [
    "def hyperparams_selections(mdl, x_train, y_train):\n",
    "    def func(args):\n",
    "        if mdl == LogisticRegression:\n",
    "            model = mdl(C=args['C'], solver=args['solver'], \n",
    "                        tol=args['tol'], fit_intercept=args['fit_intercept'], \n",
    "                        max_iter=args['max_iter'], class_weight='balanced', random_state=RANDOM_STATE)\n",
    "        elif mdl == DecisionTreeClassifier:\n",
    "            model = mdl(max_depth=args['max_depth'], max_features=args['max_features'], \n",
    "                        criterion=args['criterion'], min_samples_split=args['min_samples_split'], \n",
    "                        min_samples_leaf=args['min_samples_leaf'], random_state=RANDOM_STATE)\n",
    "        else:\n",
    "            model = mdl(max_depth=args['max_depth'], max_features=args['max_features'], \n",
    "                        min_samples_split=args['min_samples_split'], \n",
    "                        min_samples_leaf=args['min_samples_leaf'], n_estimators=args['n_estimators'], \n",
    "                        random_state=RANDOM_STATE)\n",
    "        model.fit(x_train, y_train)\n",
    "        loss = -model.score(x_valid, y_valid)\n",
    "        return {'loss': loss, 'status': STATUS_OK, 'model':model}\n",
    "    \n",
    "    trials = Trials()\n",
    "    best = fmin(func,\n",
    "                space=space,\n",
    "                algo=tpe.suggest,\n",
    "                trials=trials,\n",
    "                max_evals=10, \n",
    "                show_progressbar=True)\n",
    "    best_model = trials.best_trial['result']['model']\n",
    "    \n",
    "    print('Лучшие гиперпараметры:', best)\n",
    "    print('Точность обучения: %f' % best_model.score(x_train, y_train))\n",
    "    print('Точность теста: %f' % best_model.score(x_valid, y_valid))\n",
    "    return best"
   ]
  },
  {
   "cell_type": "code",
   "execution_count": 40,
   "metadata": {},
   "outputs": [
    {
     "name": "stdout",
     "output_type": "stream",
     "text": [
      "100%|██████████| 10/10 [00:03<00:00,  2.89trial/s, best loss: -0.7113333333333334]\n",
      "Лучшие гиперпараметры: {'C': 0.24936301801599606, 'fit_intercept': 1, 'max_iter': 140.0, 'solver': 1, 'tol': 0.00021095158295996686}\n",
      "Точность обучения: 0.724667\n",
      "Точность теста: 0.711333\n",
      "CPU times: user 1.68 s, sys: 1.86 s, total: 3.54 s\n",
      "Wall time: 3.56 s\n"
     ]
    }
   ],
   "source": [
    "%%time\n",
    "\n",
    "space = {\n",
    "        'C': hp.uniform('C', 0.1, 2.0),\n",
    "        'solver': hp.choice('solver', ['liblinear', 'lbfgs']),\n",
    "        'tol': hp.loguniform('tol', np.log(1e-5), np.log(1e-2)),\n",
    "        'fit_intercept': hp.choice('fit_intercept', [True, False]),\n",
    "        'max_iter': scope.int(hp.quniform('max_iter', 50, 500, 20))\n",
    "        }\n",
    "\n",
    "best_lnr = hyperparams_selections(mdl=LogisticRegression, x_train=x_train, y_train=y_train)"
   ]
  },
  {
   "cell_type": "markdown",
   "metadata": {},
   "source": [
    "Найдём лучшие гиперпараметры для дерева решений с помощью байесовской оптимизации."
   ]
  },
  {
   "cell_type": "code",
   "execution_count": 41,
   "metadata": {},
   "outputs": [
    {
     "name": "stdout",
     "output_type": "stream",
     "text": [
      "100%|██████████| 10/10 [00:00<00:00, 36.51trial/s, best loss: -0.7886666666666666]\n",
      "Лучшие гиперпараметры: {'criterion': 1, 'max_depth': 91.0, 'max_features': 2, 'min_samples_leaf': 2.0, 'min_samples_split': 26.0}\n",
      "Точность обучения: 0.890599\n",
      "Точность теста: 0.788667\n",
      "CPU times: user 232 ms, sys: 77.9 ms, total: 310 ms\n",
      "Wall time: 375 ms\n"
     ]
    }
   ],
   "source": [
    "%%time\n",
    "\n",
    "space = {\n",
    "        'max_depth': scope.int(hp.quniform('max_depth', 3, 100, 1)),\n",
    "        'max_features': hp.choice('max_features', range(1,5)),\n",
    "        'criterion': hp.choice('criterion', [\"gini\", \"entropy\"]), \n",
    "        'min_samples_split': scope.int(hp.quniform('min_samples_split', 2, 50, 1)),\n",
    "        'min_samples_leaf': scope.int(hp.quniform('min_samples_leaf', 1, 50, 1))\n",
    "        }\n",
    "\n",
    "best_dt = hyperparams_selections(mdl=DecisionTreeClassifier, x_train=x_upsampled, y_train=y_upsampled)"
   ]
  },
  {
   "cell_type": "markdown",
   "metadata": {},
   "source": [
    "Найдём лучшие гиперпараметры для случайного леса с помощью байесовской оптимизации."
   ]
  },
  {
   "cell_type": "code",
   "execution_count": 42,
   "metadata": {},
   "outputs": [
    {
     "name": "stdout",
     "output_type": "stream",
     "text": [
      "100%|██████████| 10/10 [00:00<00:00, 26.33trial/s, best loss: -0.7706666666666667]\n",
      "Лучшие гиперпараметры: {'max_depth': 94.0, 'max_features': 3, 'min_samples_leaf': 40.0, 'min_samples_split': 2.0, 'n_estimators': 15}\n",
      "Точность обучения: 0.797448\n",
      "Точность теста: 0.770667\n",
      "CPU times: user 382 ms, sys: 12.3 ms, total: 395 ms\n",
      "Wall time: 407 ms\n"
     ]
    }
   ],
   "source": [
    "%%time\n",
    "\n",
    "space = {\n",
    "        'max_depth': scope.int(hp.quniform('max_depth', 3, 100, 1)),\n",
    "        'max_features': hp.choice('max_features', range(1,5)),\n",
    "        'min_samples_split': scope.int(hp.quniform('min_samples_split', 2, 50, 1)),\n",
    "        'min_samples_leaf': scope.int(hp.quniform('min_samples_leaf', 1, 50, 1)), \n",
    "        'n_estimators': hp.choice('n_estimators', range(1,20))\n",
    "        }\n",
    "\n",
    "best_rf = hyperparams_selections(mdl=RandomForestClassifier, x_train=x_downsampled, y_train=y_downsampled)"
   ]
  },
  {
   "cell_type": "markdown",
   "metadata": {},
   "source": [
    "<div style=\"border:solid steelblue 5px; padding: 30px\">\n",
    "   <p>\n",
    "        <b>После подбора гиперпараметров, можно сделать такие выводы:</b>\n",
    "        <li>Самая высокая точность у случайного леса, самая низкая у логистической регресии.</li>\n",
    "        <li>Самое быстрое время работы у дерева решений, самое медленное у логистической регресии.</li>\n",
    "   </p>  \n",
    "</div>"
   ]
  },
  {
   "cell_type": "markdown",
   "metadata": {},
   "source": [
    "## 8 Тестирование модели\n",
    "Обучим модель и сделаем предсказание."
   ]
  },
  {
   "cell_type": "code",
   "execution_count": 43,
   "metadata": {},
   "outputs": [],
   "source": [
    "rf = RandomForestClassifier(max_depth=best_rf['max_depth'], \n",
    "                            max_features=int(best_rf['max_features']), \n",
    "                            min_samples_split=int(best_rf['min_samples_split']),\n",
    "                            min_samples_leaf=int(best_rf['min_samples_leaf']),\n",
    "                            n_estimators=best_rf['n_estimators'], \n",
    "                            random_state=RANDOM_STATE)\n",
    "rf.fit(x_upsampled, y_upsampled)\n",
    "rf_prediction = rf.predict(x_test)"
   ]
  },
  {
   "cell_type": "markdown",
   "metadata": {},
   "source": [
    "Оценим предсказание."
   ]
  },
  {
   "cell_type": "code",
   "execution_count": 44,
   "metadata": {},
   "outputs": [
    {
     "name": "stdout",
     "output_type": "stream",
     "text": [
      "\\Точность: 0.78\n",
      "\n",
      "Микро точность: 0.78\n",
      "Микро полнота: 0.78\n",
      "Микро F1-мера: 0.78\n",
      "\n",
      "Макро точность: 0.70\n",
      "Макро полнота: 0.75\n",
      "Макро F1-мера: 0.71\n",
      "\n",
      "Взвешенная точность: 0.82\n",
      "Взвешенная полнота: 0.78\n",
      "Взвешенная F1-мера: 0.80\n",
      "\n",
      "Отчёт классификации\n",
      "\n",
      "              precision    recall  f1-score   support\n",
      "\n",
      "           0       0.91      0.81      0.86       796\n",
      "           1       0.48      0.70      0.57       204\n",
      "\n",
      "    accuracy                           0.78      1000\n",
      "   macro avg       0.70      0.75      0.71      1000\n",
      "weighted avg       0.82      0.78      0.80      1000\n",
      "\n"
     ]
    }
   ],
   "source": [
    "print('\\Точность: {:.2f}\\n'.format(accuracy_score(y_test, rf_prediction)))\n",
    "\n",
    "print('Микро точность: {:.2f}'.format(precision_score(y_test, rf_prediction, average='micro')))\n",
    "print('Микро полнота: {:.2f}'.format(recall_score(y_test, rf_prediction, average='micro')))\n",
    "print('Микро F1-мера: {:.2f}\\n'.format(f1_score(y_test, rf_prediction, average='micro')))\n",
    "\n",
    "print('Макро точность: {:.2f}'.format(precision_score(y_test, rf_prediction, average='macro')))\n",
    "print('Макро полнота: {:.2f}'.format(recall_score(y_test, rf_prediction, average='macro')))\n",
    "print('Макро F1-мера: {:.2f}\\n'.format(f1_score(y_test, rf_prediction, average='macro')))\n",
    "\n",
    "print('Взвешенная точность: {:.2f}'.format(precision_score(y_test, rf_prediction, average='weighted')))\n",
    "print('Взвешенная полнота: {:.2f}'.format(recall_score(y_test, rf_prediction, average='weighted')))\n",
    "print('Взвешенная F1-мера: {:.2f}'.format(f1_score(y_test, rf_prediction, average='weighted')))\n",
    "\n",
    "print('\\nОтчёт классификации\\n')\n",
    "print(classification_report(y_test, rf_prediction))"
   ]
  },
  {
   "cell_type": "markdown",
   "metadata": {},
   "source": [
    "Построим марицу ошибок."
   ]
  },
  {
   "cell_type": "code",
   "execution_count": 45,
   "metadata": {},
   "outputs": [
    {
     "data": {
      "image/png": "[encoded data removed]",
      "text/plain": [
       "<Figure size 432x360 with 2 Axes>"
      ]
     },
     "metadata": {
      "needs_background": "light"
     },
     "output_type": "display_data"
    }
   ],
   "source": [
    "plt.figure(figsize=(6, 5))\n",
    "heatmap = sns.heatmap(confusion_matrix(y_test, rf_prediction), annot=True, cmap='Blues')\n",
    "sns.set_style('white')\n",
    "heatmap.set_title('Матрица ошибок' + \"\\n\", fontsize=18);\n",
    "heatmap.set_xlabel('Результаты предсказания', fontsize=14);\n",
    "heatmap.set_ylabel('Ожидаемые результаты', fontsize=14);\n",
    "plt.show()"
   ]
  },
  {
   "cell_type": "markdown",
   "metadata": {},
   "source": [
    "<div style=\"border:solid steelblue 5px; padding: 30px\">\n",
    "   <p>\n",
    "        <b>Модель показала хорошие результаты, значит можно использовать её для прогнозирования.</b>\n",
    "   </p>  \n",
    "</div>"
   ]
  },
  {
   "cell_type": "markdown",
   "metadata": {
    "id": "8fb46225"
   },
   "source": [
    "## 9 Отчёт"
   ]
  },
  {
   "cell_type": "markdown",
   "metadata": {
    "id": "d98c8159"
   },
   "source": [
    "<hr style=\"color: steelblue; background-color: steelblue; height: 5px; border: none;\">"
   ]
  },
  {
   "cell_type": "markdown",
   "metadata": {
    "id": "ca51b4da"
   },
   "source": [
    "### Описание ключевых шагов решения\n",
    "1. При подготовке данных были удалены ненужные столбцы, обработаны пропуски, закодированы категориальные переменные, данные разбиты на выборки и масштабированы численные признаки.\n",
    "1. При исследовании задачи выяснилось, что разница точностей моделей и фиктивного классификатора меньше 0.1, что означало, что в данных присутствовал сильный дисбаланс классов, что плохо сказывалось на обучении моделей.\n",
    "1. Были выявлены лучшие методы борьбы с дисбалансом:\n",
    "   - Для дерева решений — увеличение выборки.\n",
    "   - Для логистической регрессии — взвешивание классов.\n",
    "   - Для случайного леса — уменьшение выборки.\n",
    "1. Также, были выявлены лучшие пороги классификации:\n",
    "   - Для логистической регрессии — 0.5.\n",
    "   - Для дерева решений — 0.\n",
    "   - Для случайного леса — 0.6.\n",
    "1. После подбора гиперпараметров стало понятно следующее:\n",
    "   - Самая высокая точность у случайного леса, самая низкая у логистической регресии.\n",
    "   - Самое быстрое время работы у дерева решений, самое медленное у логистической регресии.\n",
    "1. Лучшая модель была протестирована, её предсказание бвло оценено.\n",
    "\n",
    "***\n",
    "\n",
    "### Описание модели\n",
    "Модель — `RandomForestClassifier`.\n",
    "\n",
    "Гиперпараметры:\n",
    "- `random_state` = 0\n",
    "- `max_depth` = 94\n",
    "- `max_features` = 3\n",
    "- `min_samples_leaf` = 40\n",
    "- `min_samples_split` = 2\n",
    "- `n_estimators` = 15\n",
    "\n",
    "***\n",
    "\n",
    "### Итоговая метрика\n",
    "accuracy 0.78"
   ]
  },
  {
   "cell_type": "markdown",
   "metadata": {
    "id": "d98c8159"
   },
   "source": [
    "<hr style=\"color: steelblue; background-color: steelblue; height: 5px; border: none;\">"
   ]
  }
 ],
 "metadata": {
  "ExecuteTimeLog": [
   {
    "duration": 5,
    "start_time": "2022-12-09T11:43:23.198Z"
   },
   {
    "duration": 412,
    "start_time": "2022-12-09T11:43:27.034Z"
   },
   {
    "duration": 90,
    "start_time": "2022-12-09T11:46:45.479Z"
   },
   {
    "duration": 59,
    "start_time": "2022-12-09T11:47:31.811Z"
   },
   {
    "duration": 39,
    "start_time": "2022-12-09T11:47:34.017Z"
   },
   {
    "duration": 18,
    "start_time": "2022-12-09T11:47:34.804Z"
   },
   {
    "duration": 13,
    "start_time": "2022-12-09T12:13:00.756Z"
   },
   {
    "duration": 41,
    "start_time": "2022-12-09T12:18:06.473Z"
   },
   {
    "duration": 1753,
    "start_time": "2022-12-09T12:32:15.882Z"
   },
   {
    "duration": 1077,
    "start_time": "2022-12-09T12:32:32.570Z"
   },
   {
    "duration": 1377,
    "start_time": "2022-12-09T12:32:51.234Z"
   },
   {
    "duration": 1131,
    "start_time": "2022-12-09T12:33:00.834Z"
   },
   {
    "duration": 1315,
    "start_time": "2022-12-09T12:33:17.586Z"
   },
   {
    "duration": 1277,
    "start_time": "2022-12-09T12:33:38.265Z"
   },
   {
    "duration": 1387,
    "start_time": "2022-12-09T12:34:18.586Z"
   },
   {
    "duration": 1464,
    "start_time": "2022-12-09T12:34:31.763Z"
   },
   {
    "duration": 1347,
    "start_time": "2022-12-09T12:37:30.064Z"
   },
   {
    "duration": 4,
    "start_time": "2022-12-09T12:40:09.795Z"
   },
   {
    "duration": 105,
    "start_time": "2022-12-09T12:42:44.025Z"
   },
   {
    "duration": 86,
    "start_time": "2022-12-09T12:42:49.858Z"
   },
   {
    "duration": 714,
    "start_time": "2022-12-09T12:52:45.516Z"
   },
   {
    "duration": 21,
    "start_time": "2022-12-09T12:53:01.536Z"
   },
   {
    "duration": 3,
    "start_time": "2022-12-09T12:53:54.073Z"
   },
   {
    "duration": 27,
    "start_time": "2022-12-09T12:53:54.078Z"
   },
   {
    "duration": 69,
    "start_time": "2022-12-09T12:53:54.107Z"
   },
   {
    "duration": 21,
    "start_time": "2022-12-09T12:53:54.178Z"
   },
   {
    "duration": 36,
    "start_time": "2022-12-09T12:53:54.201Z"
   },
   {
    "duration": 36,
    "start_time": "2022-12-09T12:53:54.239Z"
   },
   {
    "duration": 1373,
    "start_time": "2022-12-09T12:53:54.277Z"
   },
   {
    "duration": 4,
    "start_time": "2022-12-09T12:54:04.907Z"
   },
   {
    "duration": 46,
    "start_time": "2022-12-09T12:59:10.828Z"
   },
   {
    "duration": 24,
    "start_time": "2022-12-09T12:59:42.724Z"
   },
   {
    "duration": 5,
    "start_time": "2022-12-09T12:59:55.666Z"
   },
   {
    "duration": 4,
    "start_time": "2022-12-09T13:00:01.975Z"
   },
   {
    "duration": 4,
    "start_time": "2022-12-09T13:01:27.871Z"
   },
   {
    "duration": 5,
    "start_time": "2022-12-09T13:01:28.791Z"
   },
   {
    "duration": 10,
    "start_time": "2022-12-09T13:19:04.493Z"
   },
   {
    "duration": 6,
    "start_time": "2022-12-09T13:26:22.452Z"
   },
   {
    "duration": 10,
    "start_time": "2022-12-09T13:26:36.099Z"
   },
   {
    "duration": 746,
    "start_time": "2022-12-09T13:26:42.389Z"
   },
   {
    "duration": 8,
    "start_time": "2022-12-09T13:26:48.483Z"
   },
   {
    "duration": 6,
    "start_time": "2022-12-09T13:28:50.149Z"
   },
   {
    "duration": 4,
    "start_time": "2022-12-09T13:29:43.694Z"
   },
   {
    "duration": 6,
    "start_time": "2022-12-09T13:36:02.420Z"
   },
   {
    "duration": 12,
    "start_time": "2022-12-09T13:46:30.422Z"
   },
   {
    "duration": 4,
    "start_time": "2022-12-09T13:51:47.463Z"
   },
   {
    "duration": 4,
    "start_time": "2022-12-09T13:52:43.164Z"
   },
   {
    "duration": 5,
    "start_time": "2022-12-09T13:55:08.949Z"
   },
   {
    "duration": 316,
    "start_time": "2022-12-09T14:22:38.283Z"
   },
   {
    "duration": 24,
    "start_time": "2022-12-09T14:22:44.146Z"
   },
   {
    "duration": 44,
    "start_time": "2022-12-09T14:23:32.189Z"
   },
   {
    "duration": 7,
    "start_time": "2022-12-09T14:23:48.913Z"
   },
   {
    "duration": 7,
    "start_time": "2022-12-09T14:24:00.256Z"
   },
   {
    "duration": 4,
    "start_time": "2022-12-09T14:24:13.133Z"
   },
   {
    "duration": 5,
    "start_time": "2022-12-09T14:25:56.224Z"
   },
   {
    "duration": 217,
    "start_time": "2022-12-09T14:47:26.556Z"
   },
   {
    "duration": 26,
    "start_time": "2022-12-09T14:47:47.700Z"
   },
   {
    "duration": 5,
    "start_time": "2022-12-09T14:49:52.799Z"
   },
   {
    "duration": 228,
    "start_time": "2022-12-09T14:49:55.245Z"
   },
   {
    "duration": 5,
    "start_time": "2022-12-09T14:53:31.240Z"
   },
   {
    "duration": 25,
    "start_time": "2022-12-09T14:59:33.780Z"
   },
   {
    "duration": 3,
    "start_time": "2022-12-09T15:00:09.901Z"
   },
   {
    "duration": 16,
    "start_time": "2022-12-09T15:00:09.906Z"
   },
   {
    "duration": 54,
    "start_time": "2022-12-09T15:00:09.924Z"
   },
   {
    "duration": 14,
    "start_time": "2022-12-09T15:00:09.980Z"
   },
   {
    "duration": 42,
    "start_time": "2022-12-09T15:00:09.996Z"
   },
   {
    "duration": 43,
    "start_time": "2022-12-09T15:00:10.040Z"
   },
   {
    "duration": 1432,
    "start_time": "2022-12-09T15:00:10.085Z"
   },
   {
    "duration": 849,
    "start_time": "2022-12-09T15:00:11.519Z"
   },
   {
    "duration": 0,
    "start_time": "2022-12-09T15:00:12.370Z"
   },
   {
    "duration": 0,
    "start_time": "2022-12-09T15:00:12.371Z"
   },
   {
    "duration": 0,
    "start_time": "2022-12-09T15:00:12.372Z"
   },
   {
    "duration": 0,
    "start_time": "2022-12-09T15:00:12.374Z"
   },
   {
    "duration": 0,
    "start_time": "2022-12-09T15:00:12.375Z"
   },
   {
    "duration": 5,
    "start_time": "2022-12-09T15:00:30.358Z"
   },
   {
    "duration": 5,
    "start_time": "2022-12-09T15:01:36.262Z"
   },
   {
    "duration": 184,
    "start_time": "2022-12-09T15:04:28.443Z"
   },
   {
    "duration": 17,
    "start_time": "2022-12-09T15:05:39.799Z"
   },
   {
    "duration": 44,
    "start_time": "2022-12-09T15:05:54.146Z"
   },
   {
    "duration": 60,
    "start_time": "2022-12-09T15:05:56.395Z"
   },
   {
    "duration": 4,
    "start_time": "2022-12-09T15:05:57.737Z"
   },
   {
    "duration": 2,
    "start_time": "2022-12-09T15:10:28.860Z"
   },
   {
    "duration": 207,
    "start_time": "2022-12-09T15:22:59.940Z"
   },
   {
    "duration": 19,
    "start_time": "2022-12-09T15:23:09.054Z"
   },
   {
    "duration": 4,
    "start_time": "2022-12-09T15:25:11.774Z"
   },
   {
    "duration": 5,
    "start_time": "2022-12-09T15:25:52.924Z"
   },
   {
    "duration": 6,
    "start_time": "2022-12-09T15:26:04.375Z"
   },
   {
    "duration": 11,
    "start_time": "2022-12-09T15:40:06.135Z"
   },
   {
    "duration": 8,
    "start_time": "2022-12-09T15:40:22.052Z"
   },
   {
    "duration": 1352,
    "start_time": "2022-12-09T15:41:17.229Z"
   },
   {
    "duration": 15,
    "start_time": "2022-12-09T15:41:30.868Z"
   },
   {
    "duration": 15,
    "start_time": "2022-12-09T15:41:37.914Z"
   },
   {
    "duration": 20,
    "start_time": "2022-12-09T15:43:17.407Z"
   },
   {
    "duration": 14,
    "start_time": "2022-12-09T15:44:02.142Z"
   },
   {
    "duration": 14,
    "start_time": "2022-12-09T15:44:13.282Z"
   },
   {
    "duration": 19,
    "start_time": "2022-12-09T15:44:38.261Z"
   },
   {
    "duration": 4,
    "start_time": "2022-12-09T15:44:46.418Z"
   },
   {
    "duration": 17,
    "start_time": "2022-12-09T15:44:48.644Z"
   },
   {
    "duration": 13,
    "start_time": "2022-12-09T15:59:27.243Z"
   },
   {
    "duration": 5,
    "start_time": "2022-12-09T15:59:37.786Z"
   },
   {
    "duration": 4,
    "start_time": "2022-12-09T16:00:40.591Z"
   },
   {
    "duration": 8,
    "start_time": "2022-12-09T16:00:42.396Z"
   },
   {
    "duration": 1337,
    "start_time": "2022-12-09T16:04:04.064Z"
   },
   {
    "duration": 18,
    "start_time": "2022-12-09T16:04:13.797Z"
   },
   {
    "duration": 14,
    "start_time": "2022-12-09T16:06:01.946Z"
   },
   {
    "duration": 4,
    "start_time": "2022-12-09T16:06:24.403Z"
   },
   {
    "duration": 6,
    "start_time": "2022-12-09T16:07:43.866Z"
   },
   {
    "duration": 6,
    "start_time": "2022-12-09T16:08:17.418Z"
   },
   {
    "duration": 3,
    "start_time": "2022-12-09T16:08:23.303Z"
   },
   {
    "duration": 13,
    "start_time": "2022-12-09T16:08:23.313Z"
   },
   {
    "duration": 45,
    "start_time": "2022-12-09T16:08:23.328Z"
   },
   {
    "duration": 13,
    "start_time": "2022-12-09T16:08:23.375Z"
   },
   {
    "duration": 17,
    "start_time": "2022-12-09T16:08:23.390Z"
   },
   {
    "duration": 39,
    "start_time": "2022-12-09T16:08:23.409Z"
   },
   {
    "duration": 1444,
    "start_time": "2022-12-09T16:08:23.450Z"
   },
   {
    "duration": 5,
    "start_time": "2022-12-09T16:08:24.897Z"
   },
   {
    "duration": 10,
    "start_time": "2022-12-09T16:08:24.904Z"
   },
   {
    "duration": 24,
    "start_time": "2022-12-09T16:08:24.915Z"
   },
   {
    "duration": 14,
    "start_time": "2022-12-09T16:08:24.944Z"
   },
   {
    "duration": 5,
    "start_time": "2022-12-09T16:08:24.960Z"
   },
   {
    "duration": 10,
    "start_time": "2022-12-09T16:08:24.967Z"
   },
   {
    "duration": 10,
    "start_time": "2022-12-09T16:08:24.978Z"
   },
   {
    "duration": 7,
    "start_time": "2022-12-09T16:08:26.330Z"
   },
   {
    "duration": 9,
    "start_time": "2022-12-09T16:09:15.071Z"
   },
   {
    "duration": 18,
    "start_time": "2022-12-09T16:09:26.303Z"
   },
   {
    "duration": 25,
    "start_time": "2022-12-09T16:10:52.340Z"
   },
   {
    "duration": 22,
    "start_time": "2022-12-09T16:12:37.887Z"
   },
   {
    "duration": 19,
    "start_time": "2022-12-09T16:12:50.790Z"
   },
   {
    "duration": 26,
    "start_time": "2022-12-09T16:14:26.596Z"
   },
   {
    "duration": 1204,
    "start_time": "2022-12-09T16:15:41.099Z"
   },
   {
    "duration": 26,
    "start_time": "2022-12-09T16:15:49.480Z"
   },
   {
    "duration": 23,
    "start_time": "2022-12-09T16:19:12.036Z"
   },
   {
    "duration": 23,
    "start_time": "2022-12-09T16:19:12.958Z"
   },
   {
    "duration": 22,
    "start_time": "2022-12-09T16:22:24.892Z"
   },
   {
    "duration": 26,
    "start_time": "2022-12-09T16:22:25.966Z"
   },
   {
    "duration": 23,
    "start_time": "2022-12-09T16:23:02.663Z"
   },
   {
    "duration": 25,
    "start_time": "2022-12-09T16:23:03.715Z"
   },
   {
    "duration": 21,
    "start_time": "2022-12-09T16:23:08.645Z"
   },
   {
    "duration": 24,
    "start_time": "2022-12-09T16:23:09.498Z"
   },
   {
    "duration": 5,
    "start_time": "2022-12-09T16:23:12.895Z"
   },
   {
    "duration": 6,
    "start_time": "2022-12-09T16:23:13.850Z"
   },
   {
    "duration": 4,
    "start_time": "2022-12-09T16:23:14.551Z"
   },
   {
    "duration": 36,
    "start_time": "2022-12-09T16:23:15.374Z"
   },
   {
    "duration": 25,
    "start_time": "2022-12-09T16:23:17.215Z"
   },
   {
    "duration": 20,
    "start_time": "2022-12-09T16:26:52.428Z"
   },
   {
    "duration": 123,
    "start_time": "2022-12-09T16:28:00.514Z"
   },
   {
    "duration": 247,
    "start_time": "2022-12-09T16:28:14.548Z"
   },
   {
    "duration": 125,
    "start_time": "2022-12-09T16:33:03.234Z"
   },
   {
    "duration": 220,
    "start_time": "2022-12-09T16:39:26.147Z"
   },
   {
    "duration": 57,
    "start_time": "2022-12-09T16:40:24.254Z"
   },
   {
    "duration": 748,
    "start_time": "2022-12-09T16:40:29.138Z"
   },
   {
    "duration": 36,
    "start_time": "2022-12-09T16:49:54.945Z"
   },
   {
    "duration": 2,
    "start_time": "2022-12-09T16:50:08.319Z"
   },
   {
    "duration": 14,
    "start_time": "2022-12-09T16:50:08.324Z"
   },
   {
    "duration": 53,
    "start_time": "2022-12-09T16:50:08.341Z"
   },
   {
    "duration": 18,
    "start_time": "2022-12-09T16:50:08.397Z"
   },
   {
    "duration": 30,
    "start_time": "2022-12-09T16:50:08.417Z"
   },
   {
    "duration": 109,
    "start_time": "2022-12-09T16:50:08.450Z"
   },
   {
    "duration": 1431,
    "start_time": "2022-12-09T16:50:08.562Z"
   },
   {
    "duration": 5,
    "start_time": "2022-12-09T16:50:09.995Z"
   },
   {
    "duration": 58,
    "start_time": "2022-12-09T16:50:10.002Z"
   },
   {
    "duration": 30,
    "start_time": "2022-12-09T16:50:10.062Z"
   },
   {
    "duration": 36,
    "start_time": "2022-12-09T16:50:10.095Z"
   },
   {
    "duration": 17,
    "start_time": "2022-12-09T16:50:10.134Z"
   },
   {
    "duration": 21,
    "start_time": "2022-12-09T16:50:10.153Z"
   },
   {
    "duration": 9,
    "start_time": "2022-12-09T16:50:10.176Z"
   },
   {
    "duration": 37,
    "start_time": "2022-12-09T16:50:10.187Z"
   },
   {
    "duration": 50,
    "start_time": "2022-12-09T17:56:11.651Z"
   },
   {
    "duration": 19,
    "start_time": "2022-12-09T17:56:15.757Z"
   },
   {
    "duration": 53,
    "start_time": "2022-12-09T17:57:21.336Z"
   },
   {
    "duration": 9,
    "start_time": "2022-12-09T17:58:48.356Z"
   },
   {
    "duration": 12,
    "start_time": "2022-12-09T18:00:20.961Z"
   },
   {
    "duration": 4,
    "start_time": "2022-12-09T18:01:17.866Z"
   },
   {
    "duration": 11,
    "start_time": "2022-12-09T18:01:20.519Z"
   },
   {
    "duration": 234,
    "start_time": "2022-12-09T18:02:24.288Z"
   },
   {
    "duration": 11,
    "start_time": "2022-12-09T18:03:58.371Z"
   },
   {
    "duration": 5,
    "start_time": "2022-12-09T18:04:39.866Z"
   },
   {
    "duration": 5,
    "start_time": "2022-12-09T18:05:46.528Z"
   },
   {
    "duration": 6,
    "start_time": "2022-12-09T18:05:55.026Z"
   },
   {
    "duration": 6,
    "start_time": "2022-12-09T18:05:55.738Z"
   },
   {
    "duration": 6,
    "start_time": "2022-12-09T18:05:56.221Z"
   },
   {
    "duration": 7,
    "start_time": "2022-12-09T18:05:56.580Z"
   },
   {
    "duration": 5,
    "start_time": "2022-12-09T18:05:56.964Z"
   },
   {
    "duration": 6,
    "start_time": "2022-12-09T18:05:57.340Z"
   },
   {
    "duration": 6,
    "start_time": "2022-12-09T18:05:57.719Z"
   },
   {
    "duration": 5,
    "start_time": "2022-12-09T18:05:58.088Z"
   },
   {
    "duration": 5,
    "start_time": "2022-12-09T18:05:58.448Z"
   },
   {
    "duration": 5,
    "start_time": "2022-12-09T18:05:58.814Z"
   },
   {
    "duration": 5,
    "start_time": "2022-12-09T18:05:59.182Z"
   },
   {
    "duration": 6,
    "start_time": "2022-12-09T18:05:59.534Z"
   },
   {
    "duration": 6,
    "start_time": "2022-12-09T18:06:00.002Z"
   },
   {
    "duration": 6,
    "start_time": "2022-12-09T18:07:26.060Z"
   },
   {
    "duration": 6,
    "start_time": "2022-12-09T18:14:55.421Z"
   },
   {
    "duration": 6,
    "start_time": "2022-12-09T18:15:00.027Z"
   },
   {
    "duration": 47,
    "start_time": "2022-12-09T18:19:35.146Z"
   },
   {
    "duration": 47,
    "start_time": "2022-12-09T18:20:07.773Z"
   },
   {
    "duration": 46,
    "start_time": "2022-12-09T18:20:31.721Z"
   },
   {
    "duration": 7,
    "start_time": "2022-12-09T18:22:34.657Z"
   },
   {
    "duration": 44,
    "start_time": "2022-12-09T18:22:59.276Z"
   },
   {
    "duration": 5,
    "start_time": "2022-12-09T18:23:00.411Z"
   },
   {
    "duration": 5,
    "start_time": "2022-12-09T18:31:32.904Z"
   },
   {
    "duration": 47,
    "start_time": "2022-12-09T18:31:34.410Z"
   },
   {
    "duration": 51,
    "start_time": "2022-12-11T12:02:36.503Z"
   },
   {
    "duration": 41,
    "start_time": "2022-12-11T12:02:43.659Z"
   },
   {
    "duration": 2,
    "start_time": "2022-12-11T12:02:47.178Z"
   },
   {
    "duration": 1491,
    "start_time": "2022-12-11T12:02:47.187Z"
   },
   {
    "duration": 84,
    "start_time": "2022-12-11T12:02:48.680Z"
   },
   {
    "duration": 15,
    "start_time": "2022-12-11T12:02:48.766Z"
   },
   {
    "duration": 12,
    "start_time": "2022-12-11T12:02:48.782Z"
   },
   {
    "duration": 38,
    "start_time": "2022-12-11T12:02:48.795Z"
   },
   {
    "duration": 1364,
    "start_time": "2022-12-11T12:02:48.834Z"
   },
   {
    "duration": 1831,
    "start_time": "2022-12-11T12:03:07.009Z"
   },
   {
    "duration": 2525,
    "start_time": "2022-12-11T12:03:21.572Z"
   },
   {
    "duration": 1706,
    "start_time": "2022-12-11T12:03:31.529Z"
   },
   {
    "duration": 46,
    "start_time": "2022-12-11T12:10:27.344Z"
   },
   {
    "duration": 119,
    "start_time": "2022-12-11T12:10:37.504Z"
   },
   {
    "duration": 117,
    "start_time": "2022-12-11T12:10:53.862Z"
   },
   {
    "duration": 73,
    "start_time": "2022-12-11T12:11:08.939Z"
   },
   {
    "duration": 124,
    "start_time": "2022-12-11T12:11:14.209Z"
   },
   {
    "duration": 14,
    "start_time": "2022-12-11T12:12:33.924Z"
   },
   {
    "duration": 301,
    "start_time": "2022-12-11T12:12:49.950Z"
   },
   {
    "duration": 594,
    "start_time": "2022-12-11T12:13:01.753Z"
   },
   {
    "duration": 679,
    "start_time": "2022-12-11T12:14:39.966Z"
   },
   {
    "duration": 798,
    "start_time": "2022-12-11T12:14:46.135Z"
   },
   {
    "duration": 625,
    "start_time": "2022-12-11T12:14:59.756Z"
   },
   {
    "duration": 630,
    "start_time": "2022-12-11T12:18:45.831Z"
   },
   {
    "duration": 661,
    "start_time": "2022-12-11T12:18:54.693Z"
   },
   {
    "duration": 540,
    "start_time": "2022-12-11T12:19:04.299Z"
   },
   {
    "duration": 548,
    "start_time": "2022-12-11T12:19:10.382Z"
   },
   {
    "duration": 654,
    "start_time": "2022-12-11T12:19:18.593Z"
   },
   {
    "duration": 541,
    "start_time": "2022-12-11T12:19:23.022Z"
   },
   {
    "duration": 630,
    "start_time": "2022-12-11T12:19:47.431Z"
   },
   {
    "duration": 576,
    "start_time": "2022-12-11T12:38:23.583Z"
   },
   {
    "duration": 601,
    "start_time": "2022-12-11T12:38:35.327Z"
   },
   {
    "duration": 687,
    "start_time": "2022-12-11T12:38:42.875Z"
   },
   {
    "duration": 559,
    "start_time": "2022-12-11T12:38:47.979Z"
   },
   {
    "duration": 551,
    "start_time": "2022-12-11T12:39:09.281Z"
   },
   {
    "duration": 691,
    "start_time": "2022-12-11T12:39:17.454Z"
   },
   {
    "duration": 3,
    "start_time": "2022-12-11T14:07:31.937Z"
   },
   {
    "duration": 9,
    "start_time": "2022-12-11T14:07:43.046Z"
   },
   {
    "duration": 2,
    "start_time": "2022-12-11T14:07:47.344Z"
   },
   {
    "duration": 5,
    "start_time": "2022-12-11T14:07:47.351Z"
   },
   {
    "duration": 41,
    "start_time": "2022-12-11T14:07:47.358Z"
   },
   {
    "duration": 14,
    "start_time": "2022-12-11T14:07:47.401Z"
   },
   {
    "duration": 13,
    "start_time": "2022-12-11T14:07:47.416Z"
   },
   {
    "duration": 35,
    "start_time": "2022-12-11T14:07:47.431Z"
   },
   {
    "duration": 1703,
    "start_time": "2022-12-11T14:07:47.468Z"
   },
   {
    "duration": 5,
    "start_time": "2022-12-11T14:07:49.173Z"
   },
   {
    "duration": 16,
    "start_time": "2022-12-11T14:07:49.180Z"
   },
   {
    "duration": 22,
    "start_time": "2022-12-11T14:07:49.199Z"
   },
   {
    "duration": 15,
    "start_time": "2022-12-11T14:07:49.223Z"
   },
   {
    "duration": 5,
    "start_time": "2022-12-11T14:07:49.240Z"
   },
   {
    "duration": 26,
    "start_time": "2022-12-11T14:07:49.247Z"
   },
   {
    "duration": 68,
    "start_time": "2022-12-11T14:07:49.275Z"
   },
   {
    "duration": 630,
    "start_time": "2022-12-11T14:07:49.345Z"
   },
   {
    "duration": 22,
    "start_time": "2022-12-11T14:07:53.019Z"
   },
   {
    "duration": 19,
    "start_time": "2022-12-11T14:09:02.581Z"
   },
   {
    "duration": 2,
    "start_time": "2022-12-11T14:09:09.267Z"
   },
   {
    "duration": 4,
    "start_time": "2022-12-11T14:09:09.273Z"
   },
   {
    "duration": 35,
    "start_time": "2022-12-11T14:09:09.282Z"
   },
   {
    "duration": 14,
    "start_time": "2022-12-11T14:09:09.319Z"
   },
   {
    "duration": 19,
    "start_time": "2022-12-11T14:09:09.335Z"
   },
   {
    "duration": 41,
    "start_time": "2022-12-11T14:09:09.356Z"
   },
   {
    "duration": 1660,
    "start_time": "2022-12-11T14:09:09.400Z"
   },
   {
    "duration": 4,
    "start_time": "2022-12-11T14:09:11.062Z"
   },
   {
    "duration": 7,
    "start_time": "2022-12-11T14:09:11.068Z"
   },
   {
    "duration": 7,
    "start_time": "2022-12-11T14:09:11.076Z"
   },
   {
    "duration": 12,
    "start_time": "2022-12-11T14:09:11.096Z"
   },
   {
    "duration": 4,
    "start_time": "2022-12-11T14:09:11.109Z"
   },
   {
    "duration": 6,
    "start_time": "2022-12-11T14:09:11.114Z"
   },
   {
    "duration": 4,
    "start_time": "2022-12-11T14:09:11.121Z"
   },
   {
    "duration": 583,
    "start_time": "2022-12-11T14:09:11.126Z"
   },
   {
    "duration": 22,
    "start_time": "2022-12-11T14:09:14.777Z"
   },
   {
    "duration": 3,
    "start_time": "2022-12-11T14:25:49.677Z"
   },
   {
    "duration": 45,
    "start_time": "2022-12-11T14:25:58.726Z"
   },
   {
    "duration": 10,
    "start_time": "2022-12-11T14:29:38.854Z"
   },
   {
    "duration": 45,
    "start_time": "2022-12-11T14:30:03.530Z"
   },
   {
    "duration": 45,
    "start_time": "2022-12-11T14:30:18.335Z"
   },
   {
    "duration": 44,
    "start_time": "2022-12-11T14:30:37.097Z"
   },
   {
    "duration": 793,
    "start_time": "2022-12-11T14:31:25.876Z"
   },
   {
    "duration": 48,
    "start_time": "2022-12-11T14:31:40.115Z"
   },
   {
    "duration": 760,
    "start_time": "2022-12-11T14:31:45.007Z"
   },
   {
    "duration": 422,
    "start_time": "2022-12-11T14:32:16.477Z"
   },
   {
    "duration": 139,
    "start_time": "2022-12-11T14:32:17.566Z"
   },
   {
    "duration": 4,
    "start_time": "2022-12-11T14:39:35.487Z"
   },
   {
    "duration": 46,
    "start_time": "2022-12-11T14:39:45.936Z"
   },
   {
    "duration": 59,
    "start_time": "2022-12-11T14:40:15.686Z"
   },
   {
    "duration": 278,
    "start_time": "2022-12-11T14:43:21.619Z"
   },
   {
    "duration": 151,
    "start_time": "2022-12-11T14:43:29.255Z"
   },
   {
    "duration": 740,
    "start_time": "2022-12-11T14:44:05.056Z"
   },
   {
    "duration": 43,
    "start_time": "2022-12-11T14:45:59.831Z"
   },
   {
    "duration": 217,
    "start_time": "2022-12-11T14:46:13.481Z"
   },
   {
    "duration": 738,
    "start_time": "2022-12-11T14:46:31.015Z"
   },
   {
    "duration": 32,
    "start_time": "2022-12-11T14:59:33.980Z"
   },
   {
    "duration": 77,
    "start_time": "2022-12-11T14:59:48.619Z"
   },
   {
    "duration": 49,
    "start_time": "2022-12-11T14:59:50.959Z"
   },
   {
    "duration": 5,
    "start_time": "2022-12-11T15:03:33.376Z"
   },
   {
    "duration": 4,
    "start_time": "2022-12-11T15:05:47.513Z"
   },
   {
    "duration": 4,
    "start_time": "2022-12-11T15:08:27.212Z"
   },
   {
    "duration": 37,
    "start_time": "2022-12-11T15:08:28.589Z"
   },
   {
    "duration": 79,
    "start_time": "2022-12-11T15:08:57.202Z"
   },
   {
    "duration": 89,
    "start_time": "2022-12-11T15:09:26.649Z"
   },
   {
    "duration": 10,
    "start_time": "2022-12-11T15:10:28.775Z"
   },
   {
    "duration": 56,
    "start_time": "2022-12-11T15:10:29.563Z"
   },
   {
    "duration": 16,
    "start_time": "2022-12-11T15:10:39.688Z"
   },
   {
    "duration": 103,
    "start_time": "2022-12-11T15:10:40.603Z"
   },
   {
    "duration": 14,
    "start_time": "2022-12-11T15:10:45.362Z"
   },
   {
    "duration": 143,
    "start_time": "2022-12-11T15:10:46.003Z"
   },
   {
    "duration": 13,
    "start_time": "2022-12-11T15:10:51.075Z"
   },
   {
    "duration": 81,
    "start_time": "2022-12-11T15:10:51.732Z"
   },
   {
    "duration": 10,
    "start_time": "2022-12-11T15:10:54.799Z"
   },
   {
    "duration": 56,
    "start_time": "2022-12-11T15:10:55.362Z"
   },
   {
    "duration": 10,
    "start_time": "2022-12-11T15:11:03.910Z"
   },
   {
    "duration": 47,
    "start_time": "2022-12-11T15:11:04.486Z"
   },
   {
    "duration": 76,
    "start_time": "2022-12-11T15:11:53.219Z"
   },
   {
    "duration": 3,
    "start_time": "2022-12-11T15:18:03.750Z"
   },
   {
    "duration": 10,
    "start_time": "2022-12-11T15:18:25.609Z"
   },
   {
    "duration": 13,
    "start_time": "2022-12-11T15:18:33.183Z"
   },
   {
    "duration": 49,
    "start_time": "2022-12-11T15:19:34.478Z"
   },
   {
    "duration": 3,
    "start_time": "2022-12-11T15:20:13.223Z"
   },
   {
    "duration": 30,
    "start_time": "2022-12-11T15:20:48.027Z"
   },
   {
    "duration": 4,
    "start_time": "2022-12-11T15:21:53.023Z"
   },
   {
    "duration": 278,
    "start_time": "2022-12-11T15:22:05.831Z"
   },
   {
    "duration": 4,
    "start_time": "2022-12-11T15:22:13.599Z"
   },
   {
    "duration": 44,
    "start_time": "2022-12-11T15:22:14.853Z"
   },
   {
    "duration": 771,
    "start_time": "2022-12-11T15:22:39.452Z"
   },
   {
    "duration": 3,
    "start_time": "2022-12-11T15:27:43.149Z"
   },
   {
    "duration": 3,
    "start_time": "2022-12-11T15:27:43.853Z"
   },
   {
    "duration": 9,
    "start_time": "2022-12-11T15:27:44.860Z"
   },
   {
    "duration": 37,
    "start_time": "2022-12-11T15:28:05.384Z"
   },
   {
    "duration": 3,
    "start_time": "2022-12-11T15:28:13.389Z"
   },
   {
    "duration": 3,
    "start_time": "2022-12-11T15:28:14.880Z"
   },
   {
    "duration": 4,
    "start_time": "2022-12-11T15:28:15.408Z"
   },
   {
    "duration": 25,
    "start_time": "2022-12-11T15:28:16.291Z"
   },
   {
    "duration": 3,
    "start_time": "2022-12-11T15:29:01.542Z"
   },
   {
    "duration": 46,
    "start_time": "2022-12-11T15:29:04.803Z"
   },
   {
    "duration": 750,
    "start_time": "2022-12-11T15:29:09.090Z"
   },
   {
    "duration": 7,
    "start_time": "2022-12-11T15:30:40.853Z"
   },
   {
    "duration": 5,
    "start_time": "2022-12-11T15:31:58.635Z"
   },
   {
    "duration": 60,
    "start_time": "2022-12-11T15:32:01.336Z"
   },
   {
    "duration": 49,
    "start_time": "2022-12-11T15:32:02.943Z"
   },
   {
    "duration": 776,
    "start_time": "2022-12-11T15:32:04.076Z"
   },
   {
    "duration": 8,
    "start_time": "2022-12-11T15:32:05.546Z"
   },
   {
    "duration": 7,
    "start_time": "2022-12-11T15:32:08.219Z"
   },
   {
    "duration": 57,
    "start_time": "2022-12-11T16:25:29.286Z"
   },
   {
    "duration": 3,
    "start_time": "2022-12-11T16:25:44.407Z"
   },
   {
    "duration": 85,
    "start_time": "2022-12-11T16:25:45.287Z"
   },
   {
    "duration": 11,
    "start_time": "2022-12-11T16:27:31.762Z"
   },
   {
    "duration": 47,
    "start_time": "2022-12-11T16:27:38.307Z"
   },
   {
    "duration": 3,
    "start_time": "2022-12-11T16:27:50.509Z"
   },
   {
    "duration": 58,
    "start_time": "2022-12-11T16:27:51.581Z"
   },
   {
    "duration": 265,
    "start_time": "2022-12-11T16:28:26.252Z"
   },
   {
    "duration": 60,
    "start_time": "2022-12-11T16:28:38.168Z"
   },
   {
    "duration": 69,
    "start_time": "2022-12-11T16:30:24.084Z"
   },
   {
    "duration": 4,
    "start_time": "2022-12-11T16:30:39.767Z"
   },
   {
    "duration": 76,
    "start_time": "2022-12-11T16:30:46.241Z"
   },
   {
    "duration": 65,
    "start_time": "2022-12-11T16:31:53.056Z"
   },
   {
    "duration": 152,
    "start_time": "2022-12-11T16:33:30.889Z"
   },
   {
    "duration": 397,
    "start_time": "2022-12-11T16:45:56.634Z"
   },
   {
    "duration": 796,
    "start_time": "2022-12-11T16:47:46.910Z"
   },
   {
    "duration": 929,
    "start_time": "2022-12-11T16:49:02.210Z"
   },
   {
    "duration": 535,
    "start_time": "2022-12-11T16:49:13.406Z"
   },
   {
    "duration": 6,
    "start_time": "2022-12-11T16:56:19.968Z"
   },
   {
    "duration": 61,
    "start_time": "2022-12-11T16:56:23.650Z"
   },
   {
    "duration": 4,
    "start_time": "2022-12-11T16:56:25.458Z"
   },
   {
    "duration": 6,
    "start_time": "2022-12-11T16:56:26.582Z"
   },
   {
    "duration": 5,
    "start_time": "2022-12-11T16:56:56.016Z"
   },
   {
    "duration": 6,
    "start_time": "2022-12-11T16:56:57.551Z"
   },
   {
    "duration": 4,
    "start_time": "2022-12-11T16:56:59.409Z"
   },
   {
    "duration": 13,
    "start_time": "2022-12-11T16:57:00.494Z"
   },
   {
    "duration": 6,
    "start_time": "2022-12-11T16:57:16.097Z"
   },
   {
    "duration": 6,
    "start_time": "2022-12-11T16:57:17.465Z"
   },
   {
    "duration": 4,
    "start_time": "2022-12-11T16:57:27.214Z"
   },
   {
    "duration": 63,
    "start_time": "2022-12-11T16:57:28.174Z"
   },
   {
    "duration": 5,
    "start_time": "2022-12-11T16:58:09.117Z"
   },
   {
    "duration": 44,
    "start_time": "2022-12-11T16:58:09.957Z"
   },
   {
    "duration": 6,
    "start_time": "2022-12-11T16:58:11.595Z"
   },
   {
    "duration": 4,
    "start_time": "2022-12-11T16:58:37.115Z"
   },
   {
    "duration": 8,
    "start_time": "2022-12-11T16:58:38.323Z"
   },
   {
    "duration": 3,
    "start_time": "2022-12-11T16:59:39.186Z"
   },
   {
    "duration": 3,
    "start_time": "2022-12-11T16:59:40.047Z"
   },
   {
    "duration": 37,
    "start_time": "2022-12-11T16:59:41.172Z"
   },
   {
    "duration": 5,
    "start_time": "2022-12-11T16:59:54.065Z"
   },
   {
    "duration": 33,
    "start_time": "2022-12-11T16:59:54.708Z"
   },
   {
    "duration": 4,
    "start_time": "2022-12-11T17:00:04.793Z"
   },
   {
    "duration": 48,
    "start_time": "2022-12-11T17:07:05.450Z"
   },
   {
    "duration": 3,
    "start_time": "2022-12-11T17:07:30.137Z"
   },
   {
    "duration": 4,
    "start_time": "2022-12-11T17:07:31.182Z"
   },
   {
    "duration": 4,
    "start_time": "2022-12-11T17:08:09.221Z"
   },
   {
    "duration": 179,
    "start_time": "2022-12-11T17:08:17.233Z"
   },
   {
    "duration": 3,
    "start_time": "2022-12-11T17:10:16.090Z"
   },
   {
    "duration": 4,
    "start_time": "2022-12-11T17:10:24.986Z"
   },
   {
    "duration": 4,
    "start_time": "2022-12-11T17:10:37.050Z"
   },
   {
    "duration": 4,
    "start_time": "2022-12-11T17:12:59.227Z"
   },
   {
    "duration": 34,
    "start_time": "2022-12-11T17:13:01.904Z"
   },
   {
    "duration": 4,
    "start_time": "2022-12-11T17:13:13.336Z"
   },
   {
    "duration": 4,
    "start_time": "2022-12-11T17:16:20.359Z"
   },
   {
    "duration": 5,
    "start_time": "2022-12-11T17:16:26.435Z"
   },
   {
    "duration": 3,
    "start_time": "2022-12-11T17:16:33.782Z"
   },
   {
    "duration": 3,
    "start_time": "2022-12-11T17:16:40.529Z"
   },
   {
    "duration": 4,
    "start_time": "2022-12-11T17:16:47.167Z"
   },
   {
    "duration": 4,
    "start_time": "2022-12-11T17:16:54.648Z"
   },
   {
    "duration": 4,
    "start_time": "2022-12-11T17:17:00.573Z"
   },
   {
    "duration": 4,
    "start_time": "2022-12-11T17:17:06.234Z"
   },
   {
    "duration": 4,
    "start_time": "2022-12-11T17:17:11.254Z"
   },
   {
    "duration": 4,
    "start_time": "2022-12-11T17:17:21.895Z"
   },
   {
    "duration": 4,
    "start_time": "2022-12-11T17:18:02.964Z"
   },
   {
    "duration": 4,
    "start_time": "2022-12-11T17:18:05.060Z"
   },
   {
    "duration": 5,
    "start_time": "2022-12-11T17:18:08.420Z"
   },
   {
    "duration": 94,
    "start_time": "2022-12-11T17:18:17.103Z"
   },
   {
    "duration": 4,
    "start_time": "2022-12-11T17:18:18.070Z"
   },
   {
    "duration": 4,
    "start_time": "2022-12-11T17:20:51.268Z"
   },
   {
    "duration": 82,
    "start_time": "2022-12-11T17:20:52.015Z"
   },
   {
    "duration": 48,
    "start_time": "2022-12-11T17:21:56.715Z"
   },
   {
    "duration": 4,
    "start_time": "2022-12-11T17:22:18.374Z"
   },
   {
    "duration": 46,
    "start_time": "2022-12-11T17:22:19.258Z"
   },
   {
    "duration": 5,
    "start_time": "2022-12-11T17:23:07.661Z"
   },
   {
    "duration": 24,
    "start_time": "2022-12-11T17:23:08.904Z"
   },
   {
    "duration": 5,
    "start_time": "2022-12-11T17:23:17.790Z"
   },
   {
    "duration": 32,
    "start_time": "2022-12-11T17:23:18.931Z"
   },
   {
    "duration": 5,
    "start_time": "2022-12-11T17:24:20.001Z"
   },
   {
    "duration": 969,
    "start_time": "2022-12-11T17:25:30.655Z"
   },
   {
    "duration": 45,
    "start_time": "2022-12-11T17:27:03.763Z"
   },
   {
    "duration": 6,
    "start_time": "2022-12-11T17:27:11.811Z"
   },
   {
    "duration": 953,
    "start_time": "2022-12-11T17:27:13.516Z"
   },
   {
    "duration": 5,
    "start_time": "2022-12-11T17:30:09.961Z"
   },
   {
    "duration": 947,
    "start_time": "2022-12-11T17:30:11.405Z"
   },
   {
    "duration": 3,
    "start_time": "2022-12-11T17:31:09.303Z"
   },
   {
    "duration": 13,
    "start_time": "2022-12-11T17:31:30.005Z"
   },
   {
    "duration": 11,
    "start_time": "2022-12-11T17:31:40.593Z"
   },
   {
    "duration": 3,
    "start_time": "2022-12-11T17:31:49.199Z"
   },
   {
    "duration": 1042,
    "start_time": "2022-12-11T17:31:51.073Z"
   },
   {
    "duration": 7,
    "start_time": "2022-12-11T17:31:53.146Z"
   },
   {
    "duration": 7,
    "start_time": "2022-12-11T17:31:56.539Z"
   },
   {
    "duration": 4,
    "start_time": "2022-12-11T17:32:00.974Z"
   },
   {
    "duration": 943,
    "start_time": "2022-12-11T17:32:02.409Z"
   },
   {
    "duration": 3,
    "start_time": "2022-12-11T17:32:04.537Z"
   },
   {
    "duration": 9,
    "start_time": "2022-12-11T17:32:05.223Z"
   },
   {
    "duration": 5,
    "start_time": "2022-12-11T17:34:59.168Z"
   },
   {
    "duration": 918,
    "start_time": "2022-12-11T17:35:00.745Z"
   },
   {
    "duration": 4,
    "start_time": "2022-12-11T17:35:59.498Z"
   },
   {
    "duration": 4,
    "start_time": "2022-12-11T17:36:43.853Z"
   },
   {
    "duration": 986,
    "start_time": "2022-12-11T17:36:46.252Z"
   },
   {
    "duration": 5,
    "start_time": "2022-12-11T17:36:59.970Z"
   },
   {
    "duration": 4,
    "start_time": "2022-12-11T17:38:01.665Z"
   },
   {
    "duration": 5,
    "start_time": "2022-12-11T17:40:26.050Z"
   },
   {
    "duration": 3,
    "start_time": "2022-12-11T17:40:33.027Z"
   },
   {
    "duration": 910,
    "start_time": "2022-12-11T17:40:33.943Z"
   },
   {
    "duration": 2,
    "start_time": "2022-12-11T17:42:59.656Z"
   },
   {
    "duration": 1103,
    "start_time": "2022-12-11T17:43:33.317Z"
   },
   {
    "duration": 4,
    "start_time": "2022-12-11T17:52:25.293Z"
   },
   {
    "duration": 10,
    "start_time": "2022-12-11T17:52:57.055Z"
   },
   {
    "duration": 440,
    "start_time": "2022-12-11T17:54:26.558Z"
   },
   {
    "duration": 10,
    "start_time": "2022-12-11T17:54:53.812Z"
   },
   {
    "duration": 1391,
    "start_time": "2022-12-11T17:54:55.014Z"
   },
   {
    "duration": 9,
    "start_time": "2022-12-11T17:55:05.370Z"
   },
   {
    "duration": 1071,
    "start_time": "2022-12-11T17:55:06.849Z"
   },
   {
    "duration": 10,
    "start_time": "2022-12-11T17:55:11.510Z"
   },
   {
    "duration": 1358,
    "start_time": "2022-12-11T17:55:12.454Z"
   },
   {
    "duration": 11,
    "start_time": "2022-12-11T17:55:18.404Z"
   },
   {
    "duration": 1686,
    "start_time": "2022-12-11T17:55:19.404Z"
   },
   {
    "duration": 10,
    "start_time": "2022-12-11T17:55:41.001Z"
   },
   {
    "duration": 1348,
    "start_time": "2022-12-11T17:55:41.859Z"
   },
   {
    "duration": 10,
    "start_time": "2022-12-11T18:05:32.121Z"
   },
   {
    "duration": 733,
    "start_time": "2022-12-11T18:05:33.112Z"
   },
   {
    "duration": 11,
    "start_time": "2022-12-11T18:05:56.975Z"
   },
   {
    "duration": 772,
    "start_time": "2022-12-11T18:05:57.947Z"
   },
   {
    "duration": 9,
    "start_time": "2022-12-11T18:06:03.296Z"
   },
   {
    "duration": 577,
    "start_time": "2022-12-11T18:06:04.187Z"
   },
   {
    "duration": 9,
    "start_time": "2022-12-11T18:06:08.733Z"
   },
   {
    "duration": 567,
    "start_time": "2022-12-11T18:06:09.444Z"
   },
   {
    "duration": 11,
    "start_time": "2022-12-11T18:06:14.852Z"
   },
   {
    "duration": 738,
    "start_time": "2022-12-11T18:06:15.681Z"
   },
   {
    "duration": 10,
    "start_time": "2022-12-11T18:06:20.340Z"
   },
   {
    "duration": 701,
    "start_time": "2022-12-11T18:06:21.004Z"
   },
   {
    "duration": 11,
    "start_time": "2022-12-11T18:06:28.070Z"
   },
   {
    "duration": 928,
    "start_time": "2022-12-11T18:06:28.790Z"
   },
   {
    "duration": 9,
    "start_time": "2022-12-11T18:06:34.201Z"
   },
   {
    "duration": 655,
    "start_time": "2022-12-11T18:06:35.048Z"
   },
   {
    "duration": 3,
    "start_time": "2022-12-11T18:14:17.625Z"
   },
   {
    "duration": 5,
    "start_time": "2022-12-11T18:14:23.065Z"
   },
   {
    "duration": 3,
    "start_time": "2022-12-11T18:14:47.571Z"
   },
   {
    "duration": 5,
    "start_time": "2022-12-11T18:14:48.637Z"
   },
   {
    "duration": 47,
    "start_time": "2022-12-11T18:16:13.003Z"
   },
   {
    "duration": 9,
    "start_time": "2022-12-11T18:16:33.363Z"
   },
   {
    "duration": 6,
    "start_time": "2022-12-11T18:16:34.496Z"
   },
   {
    "duration": 5,
    "start_time": "2022-12-11T18:16:35.409Z"
   },
   {
    "duration": 6,
    "start_time": "2022-12-11T18:16:36.056Z"
   },
   {
    "duration": 4,
    "start_time": "2022-12-11T18:16:36.566Z"
   },
   {
    "duration": 5,
    "start_time": "2022-12-11T18:16:36.991Z"
   },
   {
    "duration": 7,
    "start_time": "2022-12-11T18:16:37.431Z"
   },
   {
    "duration": 14,
    "start_time": "2022-12-11T18:16:43.926Z"
   },
   {
    "duration": 7,
    "start_time": "2022-12-11T18:16:44.768Z"
   },
   {
    "duration": 2,
    "start_time": "2022-12-11T18:16:57.404Z"
   },
   {
    "duration": 6,
    "start_time": "2022-12-11T18:16:57.408Z"
   },
   {
    "duration": 40,
    "start_time": "2022-12-11T18:16:57.415Z"
   },
   {
    "duration": 12,
    "start_time": "2022-12-11T18:16:57.456Z"
   },
   {
    "duration": 15,
    "start_time": "2022-12-11T18:16:57.469Z"
   },
   {
    "duration": 35,
    "start_time": "2022-12-11T18:16:57.486Z"
   },
   {
    "duration": 1500,
    "start_time": "2022-12-11T18:16:57.523Z"
   },
   {
    "duration": 4,
    "start_time": "2022-12-11T18:16:59.026Z"
   },
   {
    "duration": 8,
    "start_time": "2022-12-11T18:16:59.032Z"
   },
   {
    "duration": 6,
    "start_time": "2022-12-11T18:16:59.042Z"
   },
   {
    "duration": 12,
    "start_time": "2022-12-11T18:16:59.049Z"
   },
   {
    "duration": 5,
    "start_time": "2022-12-11T18:16:59.062Z"
   },
   {
    "duration": 27,
    "start_time": "2022-12-11T18:16:59.069Z"
   },
   {
    "duration": 4,
    "start_time": "2022-12-11T18:16:59.098Z"
   },
   {
    "duration": 661,
    "start_time": "2022-12-11T18:16:59.103Z"
   },
   {
    "duration": 32,
    "start_time": "2022-12-11T18:16:59.766Z"
   },
   {
    "duration": 41,
    "start_time": "2022-12-11T18:16:59.800Z"
   },
   {
    "duration": 5,
    "start_time": "2022-12-11T18:16:59.843Z"
   },
   {
    "duration": 5,
    "start_time": "2022-12-11T18:16:59.849Z"
   },
   {
    "duration": 5,
    "start_time": "2022-12-11T18:16:59.855Z"
   },
   {
    "duration": 997,
    "start_time": "2022-12-11T18:16:59.862Z"
   },
   {
    "duration": 994,
    "start_time": "2022-12-11T18:17:00.861Z"
   },
   {
    "duration": 3,
    "start_time": "2022-12-11T18:17:01.857Z"
   },
   {
    "duration": 31,
    "start_time": "2022-12-11T18:17:01.862Z"
   },
   {
    "duration": 1342,
    "start_time": "2022-12-11T18:17:01.896Z"
   },
   {
    "duration": 3,
    "start_time": "2022-12-11T18:17:03.240Z"
   },
   {
    "duration": 11,
    "start_time": "2022-12-11T18:17:03.245Z"
   },
   {
    "duration": 676,
    "start_time": "2022-12-11T18:17:03.257Z"
   },
   {
    "duration": 12,
    "start_time": "2022-12-11T18:17:05.126Z"
   },
   {
    "duration": 8,
    "start_time": "2022-12-11T18:17:05.889Z"
   },
   {
    "duration": 166,
    "start_time": "2022-12-11T18:17:49.228Z"
   },
   {
    "duration": 10,
    "start_time": "2022-12-11T18:17:58.212Z"
   },
   {
    "duration": 8,
    "start_time": "2022-12-11T18:17:59.423Z"
   },
   {
    "duration": 16,
    "start_time": "2022-12-11T18:18:42.459Z"
   },
   {
    "duration": 3,
    "start_time": "2022-12-11T18:30:03.506Z"
   },
   {
    "duration": 1305,
    "start_time": "2022-12-11T18:30:03.512Z"
   },
   {
    "duration": 37,
    "start_time": "2022-12-11T18:30:04.819Z"
   },
   {
    "duration": 16,
    "start_time": "2022-12-11T18:30:04.859Z"
   },
   {
    "duration": 15,
    "start_time": "2022-12-11T18:30:04.877Z"
   },
   {
    "duration": 40,
    "start_time": "2022-12-11T18:30:04.894Z"
   },
   {
    "duration": 1771,
    "start_time": "2022-12-11T18:30:04.936Z"
   },
   {
    "duration": 4,
    "start_time": "2022-12-11T18:30:06.709Z"
   },
   {
    "duration": 7,
    "start_time": "2022-12-11T18:30:06.715Z"
   },
   {
    "duration": 6,
    "start_time": "2022-12-11T18:30:06.724Z"
   },
   {
    "duration": 15,
    "start_time": "2022-12-11T18:30:06.731Z"
   },
   {
    "duration": 5,
    "start_time": "2022-12-11T18:30:06.747Z"
   },
   {
    "duration": 7,
    "start_time": "2022-12-11T18:30:06.753Z"
   },
   {
    "duration": 6,
    "start_time": "2022-12-11T18:30:06.761Z"
   },
   {
    "duration": 598,
    "start_time": "2022-12-11T18:30:06.769Z"
   },
   {
    "duration": 33,
    "start_time": "2022-12-11T18:30:07.369Z"
   },
   {
    "duration": 53,
    "start_time": "2022-12-11T18:30:07.404Z"
   },
   {
    "duration": 5,
    "start_time": "2022-12-11T18:30:07.459Z"
   },
   {
    "duration": 7,
    "start_time": "2022-12-11T18:30:07.465Z"
   },
   {
    "duration": 5,
    "start_time": "2022-12-11T18:30:07.473Z"
   },
   {
    "duration": 936,
    "start_time": "2022-12-11T18:30:07.496Z"
   },
   {
    "duration": 913,
    "start_time": "2022-12-11T18:30:08.434Z"
   },
   {
    "duration": 4,
    "start_time": "2022-12-11T18:30:09.348Z"
   },
   {
    "duration": 32,
    "start_time": "2022-12-11T18:30:09.354Z"
   },
   {
    "duration": 1322,
    "start_time": "2022-12-11T18:30:09.388Z"
   },
   {
    "duration": 5,
    "start_time": "2022-12-11T18:30:10.711Z"
   },
   {
    "duration": 12,
    "start_time": "2022-12-11T18:30:10.717Z"
   },
   {
    "duration": 682,
    "start_time": "2022-12-11T18:30:10.731Z"
   },
   {
    "duration": 17,
    "start_time": "2022-12-11T18:30:11.415Z"
   },
   {
    "duration": 120,
    "start_time": "2022-12-11T18:34:58.359Z"
   },
   {
    "duration": 10,
    "start_time": "2022-12-11T18:35:11.795Z"
   },
   {
    "duration": 234,
    "start_time": "2022-12-11T18:35:12.677Z"
   },
   {
    "duration": 9,
    "start_time": "2022-12-11T18:35:18.206Z"
   },
   {
    "duration": 130,
    "start_time": "2022-12-11T18:35:19.260Z"
   },
   {
    "duration": 10,
    "start_time": "2022-12-11T18:35:23.156Z"
   },
   {
    "duration": 123,
    "start_time": "2022-12-11T18:35:23.756Z"
   },
   {
    "duration": 10,
    "start_time": "2022-12-11T18:35:28.903Z"
   },
   {
    "duration": 148,
    "start_time": "2022-12-11T18:35:29.588Z"
   },
   {
    "duration": 10,
    "start_time": "2022-12-11T18:35:33.750Z"
   },
   {
    "duration": 120,
    "start_time": "2022-12-11T18:35:34.350Z"
   },
   {
    "duration": 6,
    "start_time": "2022-12-11T18:37:33.944Z"
   },
   {
    "duration": 103,
    "start_time": "2022-12-11T18:37:44.841Z"
   },
   {
    "duration": 4,
    "start_time": "2022-12-11T18:37:48.431Z"
   },
   {
    "duration": 11,
    "start_time": "2022-12-11T18:37:49.361Z"
   },
   {
    "duration": 166,
    "start_time": "2022-12-11T18:37:50.261Z"
   },
   {
    "duration": 5,
    "start_time": "2022-12-11T18:38:00.679Z"
   },
   {
    "duration": 129,
    "start_time": "2022-12-11T18:38:02.179Z"
   },
   {
    "duration": 4,
    "start_time": "2022-12-11T18:38:08.735Z"
   },
   {
    "duration": 163,
    "start_time": "2022-12-11T18:38:09.993Z"
   },
   {
    "duration": 637,
    "start_time": "2022-12-11T18:38:16.190Z"
   },
   {
    "duration": 4,
    "start_time": "2022-12-11T18:41:43.654Z"
   },
   {
    "duration": 10,
    "start_time": "2022-12-11T18:41:48.197Z"
   },
   {
    "duration": 19,
    "start_time": "2022-12-11T18:41:53.946Z"
   },
   {
    "duration": 4,
    "start_time": "2022-12-11T18:42:20.123Z"
   },
   {
    "duration": 20,
    "start_time": "2022-12-11T18:42:21.577Z"
   },
   {
    "duration": 10,
    "start_time": "2022-12-11T18:43:17.274Z"
   },
   {
    "duration": 4,
    "start_time": "2022-12-11T18:43:38.081Z"
   },
   {
    "duration": 14,
    "start_time": "2022-12-11T18:43:40.603Z"
   },
   {
    "duration": 115,
    "start_time": "2022-12-11T18:43:57.347Z"
   },
   {
    "duration": 4,
    "start_time": "2022-12-11T18:45:18.356Z"
   },
   {
    "duration": 16,
    "start_time": "2022-12-11T18:45:21.220Z"
   },
   {
    "duration": 4,
    "start_time": "2022-12-11T18:45:38.250Z"
   },
   {
    "duration": 12,
    "start_time": "2022-12-11T18:45:40.095Z"
   },
   {
    "duration": 127,
    "start_time": "2022-12-11T18:45:42.754Z"
   },
   {
    "duration": 5,
    "start_time": "2022-12-11T18:46:00.421Z"
   },
   {
    "duration": 15,
    "start_time": "2022-12-11T18:46:01.615Z"
   },
   {
    "duration": 125,
    "start_time": "2022-12-11T18:46:13.619Z"
   },
   {
    "duration": 1339,
    "start_time": "2022-12-11T18:46:22.860Z"
   },
   {
    "duration": 4,
    "start_time": "2022-12-11T18:47:05.400Z"
   },
   {
    "duration": 10,
    "start_time": "2022-12-11T18:47:07.092Z"
   },
   {
    "duration": 1383,
    "start_time": "2022-12-11T18:47:08.592Z"
   },
   {
    "duration": 4,
    "start_time": "2022-12-11T18:47:17.573Z"
   },
   {
    "duration": 12,
    "start_time": "2022-12-11T18:47:18.775Z"
   },
   {
    "duration": 667,
    "start_time": "2022-12-11T18:47:19.978Z"
   },
   {
    "duration": 2,
    "start_time": "2022-12-11T18:47:48.046Z"
   },
   {
    "duration": 6,
    "start_time": "2022-12-11T18:47:48.051Z"
   },
   {
    "duration": 46,
    "start_time": "2022-12-11T18:47:48.060Z"
   },
   {
    "duration": 13,
    "start_time": "2022-12-11T18:47:48.108Z"
   },
   {
    "duration": 14,
    "start_time": "2022-12-11T18:47:48.125Z"
   },
   {
    "duration": 63,
    "start_time": "2022-12-11T18:47:48.140Z"
   },
   {
    "duration": 1697,
    "start_time": "2022-12-11T18:47:48.205Z"
   },
   {
    "duration": 11,
    "start_time": "2022-12-11T18:47:49.904Z"
   },
   {
    "duration": 10,
    "start_time": "2022-12-11T18:47:49.918Z"
   },
   {
    "duration": 17,
    "start_time": "2022-12-11T18:47:49.930Z"
   },
   {
    "duration": 30,
    "start_time": "2022-12-11T18:47:49.951Z"
   },
   {
    "duration": 14,
    "start_time": "2022-12-11T18:47:49.983Z"
   },
   {
    "duration": 11,
    "start_time": "2022-12-11T18:47:49.999Z"
   },
   {
    "duration": 18,
    "start_time": "2022-12-11T18:47:50.012Z"
   },
   {
    "duration": 773,
    "start_time": "2022-12-11T18:47:50.032Z"
   },
   {
    "duration": 35,
    "start_time": "2022-12-11T18:47:50.807Z"
   },
   {
    "duration": 63,
    "start_time": "2022-12-11T18:47:50.843Z"
   },
   {
    "duration": 6,
    "start_time": "2022-12-11T18:47:50.908Z"
   },
   {
    "duration": 4,
    "start_time": "2022-12-11T18:47:50.916Z"
   },
   {
    "duration": 6,
    "start_time": "2022-12-11T18:47:50.921Z"
   },
   {
    "duration": 1058,
    "start_time": "2022-12-11T18:47:50.929Z"
   },
   {
    "duration": 1051,
    "start_time": "2022-12-11T18:47:51.989Z"
   },
   {
    "duration": 5,
    "start_time": "2022-12-11T18:47:53.042Z"
   },
   {
    "duration": 27,
    "start_time": "2022-12-11T18:47:53.048Z"
   },
   {
    "duration": 1379,
    "start_time": "2022-12-11T18:47:53.076Z"
   },
   {
    "duration": 4,
    "start_time": "2022-12-11T18:47:54.457Z"
   },
   {
    "duration": 13,
    "start_time": "2022-12-11T18:47:54.463Z"
   },
   {
    "duration": 611,
    "start_time": "2022-12-11T18:47:54.478Z"
   },
   {
    "duration": 17,
    "start_time": "2022-12-11T18:47:55.095Z"
   },
   {
    "duration": 2867,
    "start_time": "2022-12-11T19:34:29.634Z"
   },
   {
    "duration": 3,
    "start_time": "2022-12-11T19:34:37.114Z"
   },
   {
    "duration": 1493,
    "start_time": "2022-12-11T19:34:38.065Z"
   },
   {
    "duration": 987,
    "start_time": "2022-12-11T19:34:53.125Z"
   },
   {
    "duration": 923,
    "start_time": "2022-12-11T19:35:19.140Z"
   },
   {
    "duration": 728,
    "start_time": "2022-12-11T19:36:17.819Z"
   },
   {
    "duration": 356,
    "start_time": "2022-12-11T19:46:22.883Z"
   },
   {
    "duration": 2,
    "start_time": "2022-12-11T19:49:43.131Z"
   },
   {
    "duration": 17,
    "start_time": "2022-12-11T19:49:43.134Z"
   },
   {
    "duration": 51,
    "start_time": "2022-12-11T19:49:43.153Z"
   },
   {
    "duration": 14,
    "start_time": "2022-12-11T19:49:43.206Z"
   },
   {
    "duration": 14,
    "start_time": "2022-12-11T19:49:43.221Z"
   },
   {
    "duration": 37,
    "start_time": "2022-12-11T19:49:43.237Z"
   },
   {
    "duration": 1822,
    "start_time": "2022-12-11T19:49:43.276Z"
   },
   {
    "duration": 6,
    "start_time": "2022-12-11T19:49:45.100Z"
   },
   {
    "duration": 15,
    "start_time": "2022-12-11T19:49:45.109Z"
   },
   {
    "duration": 8,
    "start_time": "2022-12-11T19:49:45.126Z"
   },
   {
    "duration": 16,
    "start_time": "2022-12-11T19:49:45.136Z"
   },
   {
    "duration": 6,
    "start_time": "2022-12-11T19:49:45.153Z"
   },
   {
    "duration": 13,
    "start_time": "2022-12-11T19:49:45.161Z"
   },
   {
    "duration": 21,
    "start_time": "2022-12-11T19:49:45.175Z"
   },
   {
    "duration": 640,
    "start_time": "2022-12-11T19:49:45.198Z"
   },
   {
    "duration": 31,
    "start_time": "2022-12-11T19:49:49.971Z"
   },
   {
    "duration": 5,
    "start_time": "2022-12-11T20:41:41.676Z"
   },
   {
    "duration": 161,
    "start_time": "2022-12-11T20:42:00.149Z"
   },
   {
    "duration": 6,
    "start_time": "2022-12-11T20:43:13.310Z"
   },
   {
    "duration": 226,
    "start_time": "2022-12-11T20:43:14.429Z"
   },
   {
    "duration": 11,
    "start_time": "2022-12-11T20:43:25.615Z"
   },
   {
    "duration": 7,
    "start_time": "2022-12-11T21:52:39.913Z"
   },
   {
    "duration": 252,
    "start_time": "2022-12-11T21:52:41.103Z"
   },
   {
    "duration": 4,
    "start_time": "2022-12-11T21:53:10.128Z"
   },
   {
    "duration": 213,
    "start_time": "2022-12-11T21:53:15.048Z"
   },
   {
    "duration": 8,
    "start_time": "2022-12-11T21:56:27.660Z"
   },
   {
    "duration": 404,
    "start_time": "2022-12-11T21:56:29.073Z"
   },
   {
    "duration": 5,
    "start_time": "2022-12-11T21:56:48.223Z"
   },
   {
    "duration": 10,
    "start_time": "2022-12-11T21:57:09.939Z"
   },
   {
    "duration": 425,
    "start_time": "2022-12-11T21:57:11.181Z"
   },
   {
    "duration": 6,
    "start_time": "2022-12-11T21:57:26.522Z"
   },
   {
    "duration": 362,
    "start_time": "2022-12-11T21:57:27.927Z"
   },
   {
    "duration": 8,
    "start_time": "2022-12-11T21:57:39.746Z"
   },
   {
    "duration": 396,
    "start_time": "2022-12-11T21:57:41.384Z"
   },
   {
    "duration": 7,
    "start_time": "2022-12-11T21:57:57.388Z"
   },
   {
    "duration": 367,
    "start_time": "2022-12-11T21:57:58.818Z"
   },
   {
    "duration": 8,
    "start_time": "2022-12-11T21:58:25.945Z"
   },
   {
    "duration": 419,
    "start_time": "2022-12-11T21:58:27.477Z"
   },
   {
    "duration": 6,
    "start_time": "2022-12-11T21:58:36.734Z"
   },
   {
    "duration": 417,
    "start_time": "2022-12-11T21:58:37.873Z"
   },
   {
    "duration": 6,
    "start_time": "2022-12-11T21:58:47.039Z"
   },
   {
    "duration": 418,
    "start_time": "2022-12-11T21:58:48.883Z"
   },
   {
    "duration": 8,
    "start_time": "2022-12-11T22:02:56.951Z"
   },
   {
    "duration": 406,
    "start_time": "2022-12-11T22:02:58.573Z"
   },
   {
    "duration": 146,
    "start_time": "2022-12-11T22:03:23.583Z"
   },
   {
    "duration": 405,
    "start_time": "2022-12-11T22:03:25.761Z"
   },
   {
    "duration": 5,
    "start_time": "2022-12-11T22:03:30.340Z"
   },
   {
    "duration": 11,
    "start_time": "2022-12-11T22:03:34.196Z"
   },
   {
    "duration": 447,
    "start_time": "2022-12-11T22:03:35.702Z"
   },
   {
    "duration": 11,
    "start_time": "2022-12-11T22:04:20.671Z"
   },
   {
    "duration": 485,
    "start_time": "2022-12-11T22:04:22.814Z"
   },
   {
    "duration": 7,
    "start_time": "2022-12-11T22:04:43.421Z"
   },
   {
    "duration": 522,
    "start_time": "2022-12-11T22:04:46.399Z"
   },
   {
    "duration": 8,
    "start_time": "2022-12-11T22:05:23.768Z"
   },
   {
    "duration": 519,
    "start_time": "2022-12-11T22:05:25.072Z"
   },
   {
    "duration": 8,
    "start_time": "2022-12-11T22:05:39.032Z"
   },
   {
    "duration": 441,
    "start_time": "2022-12-11T22:05:41.140Z"
   },
   {
    "duration": 14,
    "start_time": "2022-12-12T15:25:07.838Z"
   },
   {
    "duration": 3,
    "start_time": "2022-12-12T15:25:12.160Z"
   },
   {
    "duration": 1692,
    "start_time": "2022-12-12T15:25:12.166Z"
   },
   {
    "duration": 86,
    "start_time": "2022-12-12T15:25:13.861Z"
   },
   {
    "duration": 16,
    "start_time": "2022-12-12T15:25:13.949Z"
   },
   {
    "duration": 12,
    "start_time": "2022-12-12T15:25:13.968Z"
   },
   {
    "duration": 59,
    "start_time": "2022-12-12T15:25:13.982Z"
   },
   {
    "duration": 1786,
    "start_time": "2022-12-12T15:25:14.044Z"
   },
   {
    "duration": 5,
    "start_time": "2022-12-12T15:25:15.834Z"
   },
   {
    "duration": 14,
    "start_time": "2022-12-12T15:25:15.841Z"
   },
   {
    "duration": 16,
    "start_time": "2022-12-12T15:25:15.857Z"
   },
   {
    "duration": 26,
    "start_time": "2022-12-12T15:25:15.875Z"
   },
   {
    "duration": 6,
    "start_time": "2022-12-12T15:25:15.902Z"
   },
   {
    "duration": 13,
    "start_time": "2022-12-12T15:25:15.909Z"
   },
   {
    "duration": 13,
    "start_time": "2022-12-12T15:25:15.923Z"
   },
   {
    "duration": 668,
    "start_time": "2022-12-12T15:25:15.937Z"
   },
   {
    "duration": 32,
    "start_time": "2022-12-12T15:25:16.607Z"
   },
   {
    "duration": 52,
    "start_time": "2022-12-12T15:25:16.641Z"
   },
   {
    "duration": 5,
    "start_time": "2022-12-12T15:25:16.695Z"
   },
   {
    "duration": 5,
    "start_time": "2022-12-12T15:25:16.702Z"
   },
   {
    "duration": 139,
    "start_time": "2022-12-12T15:25:16.709Z"
   },
   {
    "duration": 1094,
    "start_time": "2022-12-12T15:25:16.850Z"
   },
   {
    "duration": 1054,
    "start_time": "2022-12-12T15:25:17.946Z"
   },
   {
    "duration": 5,
    "start_time": "2022-12-12T15:25:19.003Z"
   },
   {
    "duration": 31,
    "start_time": "2022-12-12T15:25:19.010Z"
   },
   {
    "duration": 1479,
    "start_time": "2022-12-12T15:25:19.044Z"
   },
   {
    "duration": 5,
    "start_time": "2022-12-12T15:25:20.525Z"
   },
   {
    "duration": 14,
    "start_time": "2022-12-12T15:25:20.534Z"
   },
   {
    "duration": 645,
    "start_time": "2022-12-12T15:25:20.549Z"
   },
   {
    "duration": 18,
    "start_time": "2022-12-12T15:25:21.198Z"
   },
   {
    "duration": 20,
    "start_time": "2022-12-12T15:25:21.218Z"
   },
   {
    "duration": 520,
    "start_time": "2022-12-12T15:25:56.270Z"
   },
   {
    "duration": 497,
    "start_time": "2022-12-12T15:26:39.346Z"
   },
   {
    "duration": 397,
    "start_time": "2022-12-12T15:29:19.166Z"
   },
   {
    "duration": 1473,
    "start_time": "2022-12-12T15:30:59.692Z"
   },
   {
    "duration": 7,
    "start_time": "2022-12-12T17:16:14.727Z"
   },
   {
    "duration": 142,
    "start_time": "2022-12-12T17:17:18.505Z"
   },
   {
    "duration": 12,
    "start_time": "2022-12-12T17:17:55.501Z"
   },
   {
    "duration": 6675,
    "start_time": "2022-12-12T17:18:00.140Z"
   },
   {
    "duration": 135,
    "start_time": "2022-12-12T17:18:06.817Z"
   },
   {
    "duration": 154,
    "start_time": "2022-12-12T17:18:13.662Z"
   },
   {
    "duration": 7,
    "start_time": "2022-12-12T17:23:42.707Z"
   },
   {
    "duration": 175,
    "start_time": "2022-12-12T17:23:43.813Z"
   },
   {
    "duration": 8,
    "start_time": "2022-12-12T17:25:38.985Z"
   },
   {
    "duration": 49,
    "start_time": "2022-12-12T17:25:41.700Z"
   },
   {
    "duration": 7,
    "start_time": "2022-12-12T17:31:00.224Z"
   },
   {
    "duration": 53,
    "start_time": "2022-12-12T17:31:01.627Z"
   },
   {
    "duration": 9,
    "start_time": "2022-12-12T17:31:16.770Z"
   },
   {
    "duration": 173,
    "start_time": "2022-12-12T17:31:19.112Z"
   },
   {
    "duration": 160,
    "start_time": "2022-12-12T17:31:21.959Z"
   },
   {
    "duration": 139,
    "start_time": "2022-12-12T17:31:24.816Z"
   },
   {
    "duration": 144,
    "start_time": "2022-12-12T17:31:26.373Z"
   },
   {
    "duration": 167,
    "start_time": "2022-12-12T17:31:27.608Z"
   },
   {
    "duration": 155,
    "start_time": "2022-12-12T17:31:29.097Z"
   },
   {
    "duration": 147,
    "start_time": "2022-12-12T17:31:30.112Z"
   },
   {
    "duration": 166,
    "start_time": "2022-12-12T17:31:30.932Z"
   },
   {
    "duration": 161,
    "start_time": "2022-12-12T17:31:32.064Z"
   },
   {
    "duration": 152,
    "start_time": "2022-12-12T17:31:32.991Z"
   },
   {
    "duration": 2192,
    "start_time": "2022-12-12T17:33:48.754Z"
   },
   {
    "duration": 679,
    "start_time": "2022-12-12T17:35:47.983Z"
   },
   {
    "duration": 852,
    "start_time": "2022-12-12T17:35:54.493Z"
   },
   {
    "duration": 1037,
    "start_time": "2022-12-12T17:35:56.666Z"
   },
   {
    "duration": 930,
    "start_time": "2022-12-12T17:35:59.087Z"
   },
   {
    "duration": 56,
    "start_time": "2022-12-13T15:17:15.504Z"
   },
   {
    "duration": 7589,
    "start_time": "2022-12-13T15:17:23.919Z"
   },
   {
    "duration": 2047,
    "start_time": "2022-12-13T15:17:31.511Z"
   },
   {
    "duration": 129,
    "start_time": "2022-12-13T15:17:33.569Z"
   },
   {
    "duration": 28,
    "start_time": "2022-12-13T15:17:33.703Z"
   },
   {
    "duration": 19,
    "start_time": "2022-12-13T15:17:33.733Z"
   },
   {
    "duration": 75,
    "start_time": "2022-12-13T15:17:33.754Z"
   },
   {
    "duration": 2243,
    "start_time": "2022-12-13T15:17:33.831Z"
   },
   {
    "duration": 13,
    "start_time": "2022-12-13T15:17:36.081Z"
   },
   {
    "duration": 19,
    "start_time": "2022-12-13T15:17:36.096Z"
   },
   {
    "duration": 7,
    "start_time": "2022-12-13T15:17:36.119Z"
   },
   {
    "duration": 18,
    "start_time": "2022-12-13T15:17:36.128Z"
   },
   {
    "duration": 14,
    "start_time": "2022-12-13T15:17:36.148Z"
   },
   {
    "duration": 9,
    "start_time": "2022-12-13T15:17:36.164Z"
   },
   {
    "duration": 8,
    "start_time": "2022-12-13T15:17:36.175Z"
   },
   {
    "duration": 924,
    "start_time": "2022-12-13T15:17:36.185Z"
   },
   {
    "duration": 32,
    "start_time": "2022-12-13T15:17:37.110Z"
   },
   {
    "duration": 75,
    "start_time": "2022-12-13T15:17:37.144Z"
   },
   {
    "duration": 6,
    "start_time": "2022-12-13T15:17:37.221Z"
   },
   {
    "duration": 31,
    "start_time": "2022-12-13T15:17:37.229Z"
   },
   {
    "duration": 10,
    "start_time": "2022-12-13T15:17:37.265Z"
   },
   {
    "duration": 1216,
    "start_time": "2022-12-13T15:17:37.280Z"
   },
   {
    "duration": 1270,
    "start_time": "2022-12-13T15:17:38.498Z"
   },
   {
    "duration": 11,
    "start_time": "2022-12-13T15:17:39.772Z"
   },
   {
    "duration": 24,
    "start_time": "2022-12-13T15:17:39.785Z"
   },
   {
    "duration": 1762,
    "start_time": "2022-12-13T15:17:39.811Z"
   },
   {
    "duration": 5,
    "start_time": "2022-12-13T15:17:41.576Z"
   },
   {
    "duration": 295,
    "start_time": "2022-12-13T15:17:41.583Z"
   },
   {
    "duration": 723,
    "start_time": "2022-12-13T15:17:41.883Z"
   },
   {
    "duration": 29,
    "start_time": "2022-12-13T15:17:42.609Z"
   },
   {
    "duration": 39,
    "start_time": "2022-12-13T15:17:42.641Z"
   },
   {
    "duration": 635,
    "start_time": "2022-12-13T15:17:42.682Z"
   },
   {
    "duration": 527,
    "start_time": "2022-12-13T15:17:43.319Z"
   },
   {
    "duration": 2119,
    "start_time": "2022-12-13T15:17:43.847Z"
   },
   {
    "duration": 10,
    "start_time": "2022-12-13T15:17:45.980Z"
   },
   {
    "duration": 4285,
    "start_time": "2022-12-13T15:17:45.992Z"
   },
   {
    "duration": 282,
    "start_time": "2022-12-13T15:17:50.294Z"
   },
   {
    "duration": 1463,
    "start_time": "2022-12-13T15:17:50.578Z"
   },
   {
    "duration": 179,
    "start_time": "2022-12-13T15:18:03.974Z"
   },
   {
    "duration": 50,
    "start_time": "2022-12-13T15:19:13.193Z"
   },
   {
    "duration": 202,
    "start_time": "2022-12-13T15:19:28.427Z"
   },
   {
    "duration": 83,
    "start_time": "2022-12-13T15:20:33.847Z"
   },
   {
    "duration": 6,
    "start_time": "2022-12-13T15:21:37.244Z"
   },
   {
    "duration": 64,
    "start_time": "2022-12-13T15:21:47.913Z"
   },
   {
    "duration": 21,
    "start_time": "2022-12-13T15:22:43.180Z"
   },
   {
    "duration": 10,
    "start_time": "2022-12-13T15:23:21.780Z"
   },
   {
    "duration": 16,
    "start_time": "2022-12-13T15:23:26.836Z"
   },
   {
    "duration": 454,
    "start_time": "2022-12-13T15:23:37.680Z"
   },
   {
    "duration": 331,
    "start_time": "2022-12-13T15:23:50.388Z"
   },
   {
    "duration": 411,
    "start_time": "2022-12-13T15:23:56.588Z"
   },
   {
    "duration": 382,
    "start_time": "2022-12-13T15:24:13.439Z"
   },
   {
    "duration": 409,
    "start_time": "2022-12-13T15:24:22.005Z"
   },
   {
    "duration": 369,
    "start_time": "2022-12-13T15:24:31.242Z"
   },
   {
    "duration": 1043,
    "start_time": "2022-12-13T15:29:21.804Z"
   },
   {
    "duration": 1331,
    "start_time": "2022-12-13T15:29:24.203Z"
   },
   {
    "duration": 6870,
    "start_time": "2022-12-13T15:37:30.886Z"
   },
   {
    "duration": 180,
    "start_time": "2022-12-13T15:37:41.810Z"
   },
   {
    "duration": 1029,
    "start_time": "2022-12-13T15:37:47.875Z"
   },
   {
    "duration": 4,
    "start_time": "2022-12-13T15:39:19.516Z"
   },
   {
    "duration": 1776,
    "start_time": "2022-12-13T15:39:19.523Z"
   },
   {
    "duration": 42,
    "start_time": "2022-12-13T15:39:21.300Z"
   },
   {
    "duration": 20,
    "start_time": "2022-12-13T15:39:21.344Z"
   },
   {
    "duration": 39,
    "start_time": "2022-12-13T15:39:21.366Z"
   },
   {
    "duration": 41,
    "start_time": "2022-12-13T15:39:21.407Z"
   },
   {
    "duration": 2195,
    "start_time": "2022-12-13T15:39:21.450Z"
   },
   {
    "duration": 10,
    "start_time": "2022-12-13T15:39:23.648Z"
   },
   {
    "duration": 27,
    "start_time": "2022-12-13T15:39:23.659Z"
   },
   {
    "duration": 18,
    "start_time": "2022-12-13T15:39:23.691Z"
   },
   {
    "duration": 28,
    "start_time": "2022-12-13T15:39:23.712Z"
   },
   {
    "duration": 22,
    "start_time": "2022-12-13T15:39:23.742Z"
   },
   {
    "duration": 42,
    "start_time": "2022-12-13T15:39:23.765Z"
   },
   {
    "duration": 24,
    "start_time": "2022-12-13T15:39:23.809Z"
   },
   {
    "duration": 1010,
    "start_time": "2022-12-13T15:39:23.836Z"
   },
   {
    "duration": 49,
    "start_time": "2022-12-13T15:39:24.848Z"
   },
   {
    "duration": 77,
    "start_time": "2022-12-13T15:39:24.899Z"
   },
   {
    "duration": 16,
    "start_time": "2022-12-13T15:39:24.978Z"
   },
   {
    "duration": 16,
    "start_time": "2022-12-13T15:39:24.996Z"
   },
   {
    "duration": 47,
    "start_time": "2022-12-13T15:39:25.014Z"
   },
   {
    "duration": 1211,
    "start_time": "2022-12-13T15:39:25.062Z"
   },
   {
    "duration": 1204,
    "start_time": "2022-12-13T15:39:26.282Z"
   },
   {
    "duration": 5,
    "start_time": "2022-12-13T15:39:27.488Z"
   },
   {
    "duration": 23,
    "start_time": "2022-12-13T15:39:27.494Z"
   },
   {
    "duration": 1666,
    "start_time": "2022-12-13T15:39:27.519Z"
   },
   {
    "duration": 6,
    "start_time": "2022-12-13T15:39:29.188Z"
   },
   {
    "duration": 12,
    "start_time": "2022-12-13T15:39:29.195Z"
   },
   {
    "duration": 631,
    "start_time": "2022-12-13T15:39:29.211Z"
   },
   {
    "duration": 44,
    "start_time": "2022-12-13T15:39:29.844Z"
   },
   {
    "duration": 9,
    "start_time": "2022-12-13T15:39:29.890Z"
   },
   {
    "duration": 537,
    "start_time": "2022-12-13T15:39:29.901Z"
   },
   {
    "duration": 473,
    "start_time": "2022-12-13T15:39:30.441Z"
   },
   {
    "duration": 1879,
    "start_time": "2022-12-13T15:39:30.916Z"
   },
   {
    "duration": 7,
    "start_time": "2022-12-13T15:39:32.798Z"
   },
   {
    "duration": 5569,
    "start_time": "2022-12-13T15:39:32.807Z"
   },
   {
    "duration": 336,
    "start_time": "2022-12-13T15:39:38.390Z"
   },
   {
    "duration": 1071,
    "start_time": "2022-12-13T15:39:38.727Z"
   },
   {
    "duration": 199,
    "start_time": "2022-12-13T15:39:39.800Z"
   },
   {
    "duration": 30,
    "start_time": "2022-12-13T15:39:40.001Z"
   },
   {
    "duration": 330,
    "start_time": "2022-12-13T15:39:40.033Z"
   },
   {
    "duration": 1173,
    "start_time": "2022-12-13T15:43:49.007Z"
   },
   {
    "duration": 1008,
    "start_time": "2022-12-13T15:44:21.668Z"
   },
   {
    "duration": 9,
    "start_time": "2022-12-13T15:47:07.072Z"
   },
   {
    "duration": 1837,
    "start_time": "2022-12-13T15:47:07.087Z"
   },
   {
    "duration": 53,
    "start_time": "2022-12-13T15:47:08.927Z"
   },
   {
    "duration": 25,
    "start_time": "2022-12-13T15:47:08.983Z"
   },
   {
    "duration": 15,
    "start_time": "2022-12-13T15:47:09.010Z"
   },
   {
    "duration": 74,
    "start_time": "2022-12-13T15:47:09.027Z"
   },
   {
    "duration": 2295,
    "start_time": "2022-12-13T15:47:09.103Z"
   },
   {
    "duration": 5,
    "start_time": "2022-12-13T15:47:11.400Z"
   },
   {
    "duration": 13,
    "start_time": "2022-12-13T15:47:11.407Z"
   },
   {
    "duration": 23,
    "start_time": "2022-12-13T15:47:11.424Z"
   },
   {
    "duration": 67,
    "start_time": "2022-12-13T15:47:11.449Z"
   },
   {
    "duration": 17,
    "start_time": "2022-12-13T15:47:11.519Z"
   },
   {
    "duration": 20,
    "start_time": "2022-12-13T15:47:11.538Z"
   },
   {
    "duration": 46,
    "start_time": "2022-12-13T15:47:11.560Z"
   },
   {
    "duration": 970,
    "start_time": "2022-12-13T15:47:11.608Z"
   },
   {
    "duration": 29,
    "start_time": "2022-12-13T15:47:12.587Z"
   },
   {
    "duration": 1374,
    "start_time": "2022-12-13T15:47:12.618Z"
   },
   {
    "duration": 73,
    "start_time": "2022-12-13T15:47:14.061Z"
   },
   {
    "duration": 1122,
    "start_time": "2022-12-13T15:47:14.155Z"
   },
   {
    "duration": 15,
    "start_time": "2022-12-13T15:47:15.284Z"
   },
   {
    "duration": 9,
    "start_time": "2022-12-13T15:47:15.306Z"
   },
   {
    "duration": 13,
    "start_time": "2022-12-13T15:47:15.317Z"
   },
   {
    "duration": 1318,
    "start_time": "2022-12-13T15:47:15.332Z"
   },
   {
    "duration": 1321,
    "start_time": "2022-12-13T15:47:16.655Z"
   },
   {
    "duration": 9,
    "start_time": "2022-12-13T15:47:17.985Z"
   },
   {
    "duration": 24,
    "start_time": "2022-12-13T15:47:17.997Z"
   },
   {
    "duration": 1764,
    "start_time": "2022-12-13T15:47:18.023Z"
   },
   {
    "duration": 5,
    "start_time": "2022-12-13T15:47:19.793Z"
   },
   {
    "duration": 15,
    "start_time": "2022-12-13T15:47:19.799Z"
   },
   {
    "duration": 712,
    "start_time": "2022-12-13T15:47:19.816Z"
   },
   {
    "duration": 37,
    "start_time": "2022-12-13T15:47:20.530Z"
   },
   {
    "duration": 26,
    "start_time": "2022-12-13T15:47:20.569Z"
   },
   {
    "duration": 551,
    "start_time": "2022-12-13T15:47:20.597Z"
   },
   {
    "duration": 457,
    "start_time": "2022-12-13T15:47:21.155Z"
   },
   {
    "duration": 1809,
    "start_time": "2022-12-13T15:47:21.614Z"
   },
   {
    "duration": 11,
    "start_time": "2022-12-13T15:47:23.425Z"
   },
   {
    "duration": 3977,
    "start_time": "2022-12-13T15:47:23.437Z"
   },
   {
    "duration": 284,
    "start_time": "2022-12-13T15:47:27.461Z"
   },
   {
    "duration": 842,
    "start_time": "2022-12-13T15:47:27.748Z"
   },
   {
    "duration": 88,
    "start_time": "2022-12-13T15:47:28.597Z"
   },
   {
    "duration": 72,
    "start_time": "2022-12-13T15:47:28.688Z"
   },
   {
    "duration": 378,
    "start_time": "2022-12-13T15:47:28.762Z"
   },
   {
    "duration": 50,
    "start_time": "2022-12-14T13:32:37.888Z"
   },
   {
    "duration": 2,
    "start_time": "2022-12-14T13:32:42.988Z"
   },
   {
    "duration": 1618,
    "start_time": "2022-12-14T13:32:42.992Z"
   },
   {
    "duration": 0,
    "start_time": "2022-12-14T13:32:44.612Z"
   },
   {
    "duration": 0,
    "start_time": "2022-12-14T13:32:44.613Z"
   },
   {
    "duration": 0,
    "start_time": "2022-12-14T13:32:44.614Z"
   },
   {
    "duration": 1,
    "start_time": "2022-12-14T13:32:44.615Z"
   },
   {
    "duration": 0,
    "start_time": "2022-12-14T13:32:44.616Z"
   },
   {
    "duration": 0,
    "start_time": "2022-12-14T13:32:44.617Z"
   },
   {
    "duration": 9,
    "start_time": "2022-12-14T13:32:52.322Z"
   },
   {
    "duration": 6490,
    "start_time": "2022-12-14T13:33:12.569Z"
   },
   {
    "duration": 223,
    "start_time": "2022-12-14T13:33:19.061Z"
   },
   {
    "duration": 178,
    "start_time": "2022-12-14T13:33:19.286Z"
   },
   {
    "duration": 20,
    "start_time": "2022-12-14T13:33:19.466Z"
   },
   {
    "duration": 13,
    "start_time": "2022-12-14T13:33:19.488Z"
   },
   {
    "duration": 44,
    "start_time": "2022-12-14T13:33:19.503Z"
   },
   {
    "duration": 1666,
    "start_time": "2022-12-14T13:33:19.549Z"
   },
   {
    "duration": 4,
    "start_time": "2022-12-14T13:33:21.217Z"
   },
   {
    "duration": 5,
    "start_time": "2022-12-14T13:33:21.965Z"
   },
   {
    "duration": 6,
    "start_time": "2022-12-14T17:15:53.846Z"
   },
   {
    "duration": 39,
    "start_time": "2022-12-14T17:16:28.085Z"
   },
   {
    "duration": 2187,
    "start_time": "2022-12-14T17:16:31.882Z"
   },
   {
    "duration": 5,
    "start_time": "2022-12-14T17:16:34.072Z"
   },
   {
    "duration": 49,
    "start_time": "2022-12-14T17:16:34.079Z"
   },
   {
    "duration": 17,
    "start_time": "2022-12-14T17:16:34.130Z"
   },
   {
    "duration": 24,
    "start_time": "2022-12-14T17:16:34.149Z"
   },
   {
    "duration": 62,
    "start_time": "2022-12-14T17:16:34.175Z"
   },
   {
    "duration": 1692,
    "start_time": "2022-12-14T17:16:34.239Z"
   },
   {
    "duration": 5,
    "start_time": "2022-12-14T17:16:35.933Z"
   },
   {
    "duration": 10,
    "start_time": "2022-12-14T17:16:35.940Z"
   },
   {
    "duration": 3,
    "start_time": "2022-12-14T17:16:35.953Z"
   },
   {
    "duration": 24,
    "start_time": "2022-12-14T17:16:35.958Z"
   },
   {
    "duration": 0,
    "start_time": "2022-12-14T17:16:35.983Z"
   },
   {
    "duration": 5,
    "start_time": "2022-12-14T17:16:46.611Z"
   },
   {
    "duration": 13,
    "start_time": "2022-12-14T17:16:48.383Z"
   },
   {
    "duration": 4,
    "start_time": "2022-12-14T17:16:50.920Z"
   },
   {
    "duration": 5,
    "start_time": "2022-12-14T17:17:01.833Z"
   },
   {
    "duration": 6,
    "start_time": "2022-12-14T17:18:04.177Z"
   },
   {
    "duration": 31,
    "start_time": "2022-12-14T17:21:28.410Z"
   },
   {
    "duration": 12,
    "start_time": "2022-12-14T17:24:20.919Z"
   },
   {
    "duration": 12,
    "start_time": "2022-12-14T17:24:53.020Z"
   },
   {
    "duration": 17,
    "start_time": "2022-12-14T17:25:19.685Z"
   },
   {
    "duration": 16,
    "start_time": "2022-12-14T17:25:35.228Z"
   },
   {
    "duration": 16,
    "start_time": "2022-12-14T17:27:02.994Z"
   },
   {
    "duration": 4118,
    "start_time": "2022-12-14T17:29:54.879Z"
   },
   {
    "duration": 17831,
    "start_time": "2022-12-14T17:30:22.190Z"
   },
   {
    "duration": 48,
    "start_time": "2022-12-14T17:42:38.712Z"
   },
   {
    "duration": 2211,
    "start_time": "2022-12-14T17:42:43.270Z"
   },
   {
    "duration": 1899,
    "start_time": "2022-12-14T17:42:45.483Z"
   },
   {
    "duration": 166,
    "start_time": "2022-12-14T17:42:47.384Z"
   },
   {
    "duration": 16,
    "start_time": "2022-12-14T17:42:47.552Z"
   },
   {
    "duration": 14,
    "start_time": "2022-12-14T17:42:47.570Z"
   },
   {
    "duration": 53,
    "start_time": "2022-12-14T17:42:47.586Z"
   },
   {
    "duration": 1774,
    "start_time": "2022-12-14T17:42:47.642Z"
   },
   {
    "duration": 6,
    "start_time": "2022-12-14T17:42:49.418Z"
   },
   {
    "duration": 20,
    "start_time": "2022-12-14T17:42:49.426Z"
   },
   {
    "duration": 7,
    "start_time": "2022-12-14T17:42:49.449Z"
   },
   {
    "duration": 10,
    "start_time": "2022-12-14T17:42:49.457Z"
   },
   {
    "duration": 20,
    "start_time": "2022-12-14T17:42:49.469Z"
   },
   {
    "duration": 5,
    "start_time": "2022-12-14T17:42:49.490Z"
   },
   {
    "duration": 9,
    "start_time": "2022-12-14T17:42:49.496Z"
   },
   {
    "duration": 13,
    "start_time": "2022-12-14T17:42:49.506Z"
   },
   {
    "duration": 2187,
    "start_time": "2022-12-14T17:42:53.389Z"
   },
   {
    "duration": 6,
    "start_time": "2022-12-14T17:42:55.578Z"
   },
   {
    "duration": 49,
    "start_time": "2022-12-14T17:42:55.586Z"
   },
   {
    "duration": 14,
    "start_time": "2022-12-14T17:42:55.637Z"
   },
   {
    "duration": 15,
    "start_time": "2022-12-14T17:42:55.653Z"
   },
   {
    "duration": 40,
    "start_time": "2022-12-14T17:42:55.670Z"
   },
   {
    "duration": 1837,
    "start_time": "2022-12-14T17:42:55.711Z"
   },
   {
    "duration": 5,
    "start_time": "2022-12-14T17:42:57.550Z"
   },
   {
    "duration": 12,
    "start_time": "2022-12-14T17:42:57.556Z"
   },
   {
    "duration": 4,
    "start_time": "2022-12-14T17:42:57.570Z"
   },
   {
    "duration": 8,
    "start_time": "2022-12-14T17:42:57.576Z"
   },
   {
    "duration": 19,
    "start_time": "2022-12-14T17:42:57.586Z"
   },
   {
    "duration": 4,
    "start_time": "2022-12-14T17:42:57.607Z"
   },
   {
    "duration": 29,
    "start_time": "2022-12-14T17:42:57.612Z"
   },
   {
    "duration": 106,
    "start_time": "2022-12-14T17:42:59.181Z"
   },
   {
    "duration": 13,
    "start_time": "2022-12-14T17:43:08.236Z"
   },
   {
    "duration": 18,
    "start_time": "2022-12-14T17:43:20.361Z"
   },
   {
    "duration": 30,
    "start_time": "2022-12-14T17:43:32.049Z"
   },
   {
    "duration": 12,
    "start_time": "2022-12-14T17:48:57.550Z"
   },
   {
    "duration": 3,
    "start_time": "2022-12-14T17:49:15.083Z"
   },
   {
    "duration": 4,
    "start_time": "2022-12-14T17:49:16.215Z"
   },
   {
    "duration": 6113,
    "start_time": "2022-12-14T17:49:20.919Z"
   },
   {
    "duration": 3,
    "start_time": "2022-12-14T17:51:49.316Z"
   },
   {
    "duration": 2,
    "start_time": "2022-12-14T17:52:05.476Z"
   },
   {
    "duration": 4,
    "start_time": "2022-12-14T17:54:18.168Z"
   },
   {
    "duration": 5850,
    "start_time": "2022-12-14T17:54:19.698Z"
   },
   {
    "duration": 855,
    "start_time": "2022-12-14T17:54:32.892Z"
   },
   {
    "duration": 4,
    "start_time": "2022-12-14T17:54:38.470Z"
   },
   {
    "duration": 801,
    "start_time": "2022-12-14T17:54:40.938Z"
   },
   {
    "duration": 4,
    "start_time": "2022-12-14T17:54:52.184Z"
   },
   {
    "duration": 5963,
    "start_time": "2022-12-14T17:54:53.974Z"
   },
   {
    "duration": 5,
    "start_time": "2022-12-14T17:58:38.658Z"
   },
   {
    "duration": 11415,
    "start_time": "2022-12-14T17:58:40.125Z"
   },
   {
    "duration": 5,
    "start_time": "2022-12-14T17:59:02.168Z"
   },
   {
    "duration": 5925,
    "start_time": "2022-12-14T17:59:09.896Z"
   },
   {
    "duration": 5,
    "start_time": "2022-12-14T17:59:50.843Z"
   },
   {
    "duration": 5676,
    "start_time": "2022-12-14T17:59:52.641Z"
   },
   {
    "duration": 11,
    "start_time": "2022-12-14T18:01:09.862Z"
   },
   {
    "duration": 10,
    "start_time": "2022-12-14T18:01:18.147Z"
   },
   {
    "duration": 11,
    "start_time": "2022-12-14T18:01:58.613Z"
   },
   {
    "duration": 6628,
    "start_time": "2022-12-14T18:02:13.965Z"
   },
   {
    "duration": 11,
    "start_time": "2022-12-14T18:41:19.031Z"
   },
   {
    "duration": 11,
    "start_time": "2022-12-14T18:42:15.238Z"
   },
   {
    "duration": 2177,
    "start_time": "2022-12-14T18:42:19.786Z"
   },
   {
    "duration": 6,
    "start_time": "2022-12-14T18:42:21.966Z"
   },
   {
    "duration": 49,
    "start_time": "2022-12-14T18:42:21.973Z"
   },
   {
    "duration": 14,
    "start_time": "2022-12-14T18:42:22.024Z"
   },
   {
    "duration": 16,
    "start_time": "2022-12-14T18:42:22.040Z"
   },
   {
    "duration": 41,
    "start_time": "2022-12-14T18:42:22.058Z"
   },
   {
    "duration": 1799,
    "start_time": "2022-12-14T18:42:22.101Z"
   },
   {
    "duration": 5,
    "start_time": "2022-12-14T18:42:23.902Z"
   },
   {
    "duration": 10,
    "start_time": "2022-12-14T18:42:23.908Z"
   },
   {
    "duration": 16,
    "start_time": "2022-12-14T18:42:23.921Z"
   },
   {
    "duration": 5,
    "start_time": "2022-12-14T18:42:23.939Z"
   },
   {
    "duration": 20,
    "start_time": "2022-12-14T18:42:23.945Z"
   },
   {
    "duration": 4,
    "start_time": "2022-12-14T18:42:23.966Z"
   },
   {
    "duration": 8,
    "start_time": "2022-12-14T18:42:23.972Z"
   },
   {
    "duration": 32,
    "start_time": "2022-12-14T18:42:23.981Z"
   },
   {
    "duration": 637,
    "start_time": "2022-12-14T18:42:24.037Z"
   },
   {
    "duration": 20,
    "start_time": "2022-12-14T18:42:24.676Z"
   },
   {
    "duration": 0,
    "start_time": "2022-12-14T18:42:24.698Z"
   },
   {
    "duration": 1,
    "start_time": "2022-12-14T18:42:24.699Z"
   },
   {
    "duration": 0,
    "start_time": "2022-12-14T18:42:24.701Z"
   },
   {
    "duration": 0,
    "start_time": "2022-12-14T18:42:24.702Z"
   },
   {
    "duration": 0,
    "start_time": "2022-12-14T18:42:24.704Z"
   },
   {
    "duration": 0,
    "start_time": "2022-12-14T18:42:24.705Z"
   },
   {
    "duration": 0,
    "start_time": "2022-12-14T18:42:24.707Z"
   },
   {
    "duration": 0,
    "start_time": "2022-12-14T18:42:24.708Z"
   },
   {
    "duration": 0,
    "start_time": "2022-12-14T18:42:24.738Z"
   },
   {
    "duration": 0,
    "start_time": "2022-12-14T18:42:24.739Z"
   },
   {
    "duration": 11,
    "start_time": "2022-12-14T18:42:25.390Z"
   },
   {
    "duration": 2194,
    "start_time": "2022-12-14T18:44:28.489Z"
   },
   {
    "duration": 1512,
    "start_time": "2022-12-14T18:44:30.685Z"
   },
   {
    "duration": 46,
    "start_time": "2022-12-14T18:44:32.199Z"
   },
   {
    "duration": 18,
    "start_time": "2022-12-14T18:44:32.247Z"
   },
   {
    "duration": 48,
    "start_time": "2022-12-14T18:44:32.267Z"
   },
   {
    "duration": 50,
    "start_time": "2022-12-14T18:44:32.317Z"
   },
   {
    "duration": 1771,
    "start_time": "2022-12-14T18:44:32.368Z"
   },
   {
    "duration": 6,
    "start_time": "2022-12-14T18:44:34.141Z"
   },
   {
    "duration": 8,
    "start_time": "2022-12-14T18:44:34.149Z"
   },
   {
    "duration": 8,
    "start_time": "2022-12-14T18:44:34.159Z"
   },
   {
    "duration": 7,
    "start_time": "2022-12-14T18:44:34.169Z"
   },
   {
    "duration": 17,
    "start_time": "2022-12-14T18:44:34.177Z"
   },
   {
    "duration": 5,
    "start_time": "2022-12-14T18:44:34.196Z"
   },
   {
    "duration": 35,
    "start_time": "2022-12-14T18:44:34.205Z"
   },
   {
    "duration": 30,
    "start_time": "2022-12-14T18:44:34.242Z"
   },
   {
    "duration": 757,
    "start_time": "2022-12-14T18:44:34.274Z"
   },
   {
    "duration": 141,
    "start_time": "2022-12-14T18:44:35.032Z"
   },
   {
    "duration": 0,
    "start_time": "2022-12-14T18:44:35.174Z"
   },
   {
    "duration": 1,
    "start_time": "2022-12-14T18:44:35.175Z"
   },
   {
    "duration": 0,
    "start_time": "2022-12-14T18:44:35.176Z"
   },
   {
    "duration": 0,
    "start_time": "2022-12-14T18:44:35.177Z"
   },
   {
    "duration": 0,
    "start_time": "2022-12-14T18:44:35.178Z"
   },
   {
    "duration": 0,
    "start_time": "2022-12-14T18:44:35.179Z"
   },
   {
    "duration": 0,
    "start_time": "2022-12-14T18:44:35.180Z"
   },
   {
    "duration": 0,
    "start_time": "2022-12-14T18:44:35.181Z"
   },
   {
    "duration": 0,
    "start_time": "2022-12-14T18:44:35.182Z"
   },
   {
    "duration": 0,
    "start_time": "2022-12-14T18:44:35.183Z"
   },
   {
    "duration": 0,
    "start_time": "2022-12-14T18:44:35.184Z"
   },
   {
    "duration": 0,
    "start_time": "2022-12-14T18:44:35.185Z"
   },
   {
    "duration": 0,
    "start_time": "2022-12-14T18:44:35.186Z"
   },
   {
    "duration": 0,
    "start_time": "2022-12-14T18:44:35.187Z"
   },
   {
    "duration": 0,
    "start_time": "2022-12-14T18:44:35.188Z"
   },
   {
    "duration": 0,
    "start_time": "2022-12-14T18:44:35.189Z"
   },
   {
    "duration": 0,
    "start_time": "2022-12-14T18:44:35.190Z"
   },
   {
    "duration": 0,
    "start_time": "2022-12-14T18:44:35.191Z"
   },
   {
    "duration": 0,
    "start_time": "2022-12-14T18:44:35.191Z"
   },
   {
    "duration": 0,
    "start_time": "2022-12-14T18:44:35.193Z"
   },
   {
    "duration": 0,
    "start_time": "2022-12-14T18:44:35.194Z"
   },
   {
    "duration": 0,
    "start_time": "2022-12-14T18:44:35.195Z"
   },
   {
    "duration": 0,
    "start_time": "2022-12-14T18:44:35.196Z"
   },
   {
    "duration": 0,
    "start_time": "2022-12-14T18:44:35.197Z"
   },
   {
    "duration": 0,
    "start_time": "2022-12-14T18:44:35.238Z"
   },
   {
    "duration": 0,
    "start_time": "2022-12-14T18:44:35.239Z"
   },
   {
    "duration": 2165,
    "start_time": "2022-12-14T18:47:02.163Z"
   },
   {
    "duration": 6,
    "start_time": "2022-12-14T18:47:04.331Z"
   },
   {
    "duration": 47,
    "start_time": "2022-12-14T18:47:04.339Z"
   },
   {
    "duration": 15,
    "start_time": "2022-12-14T18:47:04.389Z"
   },
   {
    "duration": 14,
    "start_time": "2022-12-14T18:47:04.406Z"
   },
   {
    "duration": 44,
    "start_time": "2022-12-14T18:47:04.422Z"
   },
   {
    "duration": 1787,
    "start_time": "2022-12-14T18:47:04.468Z"
   },
   {
    "duration": 5,
    "start_time": "2022-12-14T18:47:06.257Z"
   },
   {
    "duration": 6,
    "start_time": "2022-12-14T18:47:06.265Z"
   },
   {
    "duration": 6,
    "start_time": "2022-12-14T18:47:06.274Z"
   },
   {
    "duration": 5,
    "start_time": "2022-12-14T18:47:06.281Z"
   },
   {
    "duration": 14,
    "start_time": "2022-12-14T18:47:06.287Z"
   },
   {
    "duration": 4,
    "start_time": "2022-12-14T18:47:06.302Z"
   },
   {
    "duration": 622,
    "start_time": "2022-12-14T18:47:06.308Z"
   },
   {
    "duration": 29,
    "start_time": "2022-12-14T18:47:06.931Z"
   },
   {
    "duration": 4,
    "start_time": "2022-12-14T18:47:06.962Z"
   },
   {
    "duration": 30,
    "start_time": "2022-12-14T18:47:06.968Z"
   },
   {
    "duration": 2225,
    "start_time": "2022-12-14T18:52:40.846Z"
   },
   {
    "duration": 5,
    "start_time": "2022-12-14T18:52:43.074Z"
   },
   {
    "duration": 50,
    "start_time": "2022-12-14T18:52:43.080Z"
   },
   {
    "duration": 16,
    "start_time": "2022-12-14T18:52:43.133Z"
   },
   {
    "duration": 15,
    "start_time": "2022-12-14T18:52:43.151Z"
   },
   {
    "duration": 44,
    "start_time": "2022-12-14T18:52:43.167Z"
   },
   {
    "duration": 1843,
    "start_time": "2022-12-14T18:52:43.213Z"
   },
   {
    "duration": 4,
    "start_time": "2022-12-14T18:52:45.058Z"
   },
   {
    "duration": 9,
    "start_time": "2022-12-14T18:52:45.064Z"
   },
   {
    "duration": 5,
    "start_time": "2022-12-14T18:52:45.076Z"
   },
   {
    "duration": 7,
    "start_time": "2022-12-14T18:52:45.082Z"
   },
   {
    "duration": 17,
    "start_time": "2022-12-14T18:52:45.091Z"
   },
   {
    "duration": 4,
    "start_time": "2022-12-14T18:52:45.109Z"
   },
   {
    "duration": 644,
    "start_time": "2022-12-14T18:52:45.115Z"
   },
   {
    "duration": 35,
    "start_time": "2022-12-14T18:52:45.760Z"
   },
   {
    "duration": 6,
    "start_time": "2022-12-14T18:52:45.797Z"
   },
   {
    "duration": 57,
    "start_time": "2022-12-14T18:52:45.804Z"
   },
   {
    "duration": 4180,
    "start_time": "2022-12-14T18:52:45.862Z"
   },
   {
    "duration": 0,
    "start_time": "2022-12-14T18:52:50.044Z"
   },
   {
    "duration": 0,
    "start_time": "2022-12-14T18:52:50.045Z"
   },
   {
    "duration": 0,
    "start_time": "2022-12-14T18:52:50.046Z"
   },
   {
    "duration": 0,
    "start_time": "2022-12-14T18:52:50.047Z"
   },
   {
    "duration": 0,
    "start_time": "2022-12-14T18:52:50.048Z"
   },
   {
    "duration": 0,
    "start_time": "2022-12-14T18:52:50.049Z"
   },
   {
    "duration": 0,
    "start_time": "2022-12-14T18:52:50.050Z"
   },
   {
    "duration": 0,
    "start_time": "2022-12-14T18:52:50.051Z"
   },
   {
    "duration": 0,
    "start_time": "2022-12-14T18:52:50.052Z"
   },
   {
    "duration": 0,
    "start_time": "2022-12-14T18:52:50.053Z"
   },
   {
    "duration": 0,
    "start_time": "2022-12-14T18:52:50.054Z"
   },
   {
    "duration": 0,
    "start_time": "2022-12-14T18:52:50.055Z"
   },
   {
    "duration": 0,
    "start_time": "2022-12-14T18:52:50.056Z"
   },
   {
    "duration": 2185,
    "start_time": "2022-12-14T18:53:27.962Z"
   },
   {
    "duration": 6,
    "start_time": "2022-12-14T18:53:30.149Z"
   },
   {
    "duration": 55,
    "start_time": "2022-12-14T18:53:30.157Z"
   },
   {
    "duration": 15,
    "start_time": "2022-12-14T18:53:30.214Z"
   },
   {
    "duration": 24,
    "start_time": "2022-12-14T18:53:30.230Z"
   },
   {
    "duration": 45,
    "start_time": "2022-12-14T18:53:30.256Z"
   },
   {
    "duration": 1631,
    "start_time": "2022-12-14T18:53:30.303Z"
   },
   {
    "duration": 5,
    "start_time": "2022-12-14T18:53:31.937Z"
   },
   {
    "duration": 7,
    "start_time": "2022-12-14T18:53:31.944Z"
   },
   {
    "duration": 4,
    "start_time": "2022-12-14T18:53:31.954Z"
   },
   {
    "duration": 6,
    "start_time": "2022-12-14T18:53:31.960Z"
   },
   {
    "duration": 15,
    "start_time": "2022-12-14T18:53:31.967Z"
   },
   {
    "duration": 4,
    "start_time": "2022-12-14T18:53:31.984Z"
   },
   {
    "duration": 785,
    "start_time": "2022-12-14T18:53:31.990Z"
   },
   {
    "duration": 27,
    "start_time": "2022-12-14T18:53:32.777Z"
   },
   {
    "duration": 4,
    "start_time": "2022-12-14T18:53:32.806Z"
   },
   {
    "duration": 49,
    "start_time": "2022-12-14T18:53:32.812Z"
   },
   {
    "duration": 4084,
    "start_time": "2022-12-14T18:53:32.862Z"
   },
   {
    "duration": 549,
    "start_time": "2022-12-14T18:53:37.038Z"
   },
   {
    "duration": 4579,
    "start_time": "2022-12-14T18:53:37.588Z"
   },
   {
    "duration": 5,
    "start_time": "2022-12-14T18:53:42.168Z"
   },
   {
    "duration": 8271,
    "start_time": "2022-12-14T18:53:57.376Z"
   },
   {
    "duration": 8274,
    "start_time": "2022-12-14T18:54:30.566Z"
   },
   {
    "duration": 3,
    "start_time": "2022-12-14T19:13:04.299Z"
   },
   {
    "duration": 5,
    "start_time": "2022-12-14T19:13:04.989Z"
   },
   {
    "duration": 5948,
    "start_time": "2022-12-14T19:13:07.271Z"
   },
   {
    "duration": 6473,
    "start_time": "2022-12-14T19:15:51.395Z"
   },
   {
    "duration": 4,
    "start_time": "2022-12-14T19:16:00.846Z"
   },
   {
    "duration": 21,
    "start_time": "2022-12-14T19:16:02.501Z"
   },
   {
    "duration": 18,
    "start_time": "2022-12-14T19:16:26.376Z"
   },
   {
    "duration": 3,
    "start_time": "2022-12-14T19:17:47.146Z"
   },
   {
    "duration": 19,
    "start_time": "2022-12-14T19:17:48.115Z"
   },
   {
    "duration": 17,
    "start_time": "2022-12-14T19:19:41.044Z"
   },
   {
    "duration": 2189,
    "start_time": "2022-12-14T19:19:43.563Z"
   },
   {
    "duration": 6,
    "start_time": "2022-12-14T19:19:45.754Z"
   },
   {
    "duration": 50,
    "start_time": "2022-12-14T19:19:45.761Z"
   },
   {
    "duration": 17,
    "start_time": "2022-12-14T19:19:45.813Z"
   },
   {
    "duration": 18,
    "start_time": "2022-12-14T19:19:45.832Z"
   },
   {
    "duration": 46,
    "start_time": "2022-12-14T19:19:45.852Z"
   },
   {
    "duration": 1708,
    "start_time": "2022-12-14T19:19:45.900Z"
   },
   {
    "duration": 5,
    "start_time": "2022-12-14T19:19:47.610Z"
   },
   {
    "duration": 20,
    "start_time": "2022-12-14T19:19:47.617Z"
   },
   {
    "duration": 4,
    "start_time": "2022-12-14T19:19:47.640Z"
   },
   {
    "duration": 12,
    "start_time": "2022-12-14T19:19:47.645Z"
   },
   {
    "duration": 17,
    "start_time": "2022-12-14T19:19:47.659Z"
   },
   {
    "duration": 4,
    "start_time": "2022-12-14T19:19:47.677Z"
   },
   {
    "duration": 664,
    "start_time": "2022-12-14T19:19:47.683Z"
   },
   {
    "duration": 28,
    "start_time": "2022-12-14T19:19:48.349Z"
   },
   {
    "duration": 5,
    "start_time": "2022-12-14T19:19:48.379Z"
   },
   {
    "duration": 236,
    "start_time": "2022-12-14T19:19:48.385Z"
   },
   {
    "duration": 2337,
    "start_time": "2022-12-14T19:20:04.526Z"
   },
   {
    "duration": 6,
    "start_time": "2022-12-14T19:20:06.866Z"
   },
   {
    "duration": 51,
    "start_time": "2022-12-14T19:20:06.874Z"
   },
   {
    "duration": 14,
    "start_time": "2022-12-14T19:20:06.927Z"
   },
   {
    "duration": 13,
    "start_time": "2022-12-14T19:20:06.942Z"
   },
   {
    "duration": 205,
    "start_time": "2022-12-14T19:20:06.957Z"
   },
   {
    "duration": 1683,
    "start_time": "2022-12-14T19:20:07.163Z"
   },
   {
    "duration": 5,
    "start_time": "2022-12-14T19:20:08.848Z"
   },
   {
    "duration": 7,
    "start_time": "2022-12-14T19:20:08.855Z"
   },
   {
    "duration": 4,
    "start_time": "2022-12-14T19:20:08.865Z"
   },
   {
    "duration": 14,
    "start_time": "2022-12-14T19:20:08.871Z"
   },
   {
    "duration": 28,
    "start_time": "2022-12-14T19:20:08.887Z"
   },
   {
    "duration": 21,
    "start_time": "2022-12-14T19:20:08.917Z"
   },
   {
    "duration": 739,
    "start_time": "2022-12-14T19:20:08.940Z"
   },
   {
    "duration": 27,
    "start_time": "2022-12-14T19:20:09.681Z"
   },
   {
    "duration": 5,
    "start_time": "2022-12-14T19:20:09.709Z"
   },
   {
    "duration": 239,
    "start_time": "2022-12-14T19:20:09.716Z"
   },
   {
    "duration": 44281,
    "start_time": "2022-12-14T19:20:09.957Z"
   },
   {
    "duration": 17658,
    "start_time": "2022-12-14T19:20:54.244Z"
   },
   {
    "duration": 56501,
    "start_time": "2022-12-14T19:21:11.903Z"
   },
   {
    "duration": 5,
    "start_time": "2022-12-14T19:22:08.406Z"
   },
   {
    "duration": 6,
    "start_time": "2022-12-14T19:22:08.412Z"
   },
   {
    "duration": 18,
    "start_time": "2022-12-14T19:22:08.420Z"
   },
   {
    "duration": 74929,
    "start_time": "2022-12-14T19:22:08.439Z"
   },
   {
    "duration": 58236,
    "start_time": "2022-12-14T19:23:23.370Z"
   },
   {
    "duration": 4,
    "start_time": "2022-12-14T19:24:21.614Z"
   },
   {
    "duration": 4,
    "start_time": "2022-12-14T19:24:30.027Z"
   },
   {
    "duration": 271,
    "start_time": "2022-12-14T19:24:31.166Z"
   },
   {
    "duration": 44,
    "start_time": "2022-12-15T13:04:57.743Z"
   },
   {
    "duration": 5937,
    "start_time": "2022-12-15T13:05:02.346Z"
   },
   {
    "duration": 1676,
    "start_time": "2022-12-15T13:05:08.285Z"
   },
   {
    "duration": 167,
    "start_time": "2022-12-15T13:05:09.963Z"
   },
   {
    "duration": 17,
    "start_time": "2022-12-15T13:05:10.132Z"
   },
   {
    "duration": 12,
    "start_time": "2022-12-15T13:05:10.151Z"
   },
   {
    "duration": 40,
    "start_time": "2022-12-15T13:05:10.165Z"
   },
   {
    "duration": 1606,
    "start_time": "2022-12-15T13:05:10.207Z"
   },
   {
    "duration": 4,
    "start_time": "2022-12-15T13:05:11.815Z"
   },
   {
    "duration": 10,
    "start_time": "2022-12-15T13:05:11.821Z"
   },
   {
    "duration": 6,
    "start_time": "2022-12-15T13:05:11.833Z"
   },
   {
    "duration": 6,
    "start_time": "2022-12-15T13:05:11.840Z"
   },
   {
    "duration": 15,
    "start_time": "2022-12-15T13:05:11.847Z"
   },
   {
    "duration": 17,
    "start_time": "2022-12-15T13:05:11.863Z"
   },
   {
    "duration": 700,
    "start_time": "2022-12-15T13:05:11.882Z"
   },
   {
    "duration": 27,
    "start_time": "2022-12-15T13:05:12.584Z"
   },
   {
    "duration": 5,
    "start_time": "2022-12-15T13:05:12.612Z"
   },
   {
    "duration": 215,
    "start_time": "2022-12-15T13:05:12.619Z"
   },
   {
    "duration": 41643,
    "start_time": "2022-12-15T13:05:12.836Z"
   },
   {
    "duration": 17947,
    "start_time": "2022-12-15T13:05:54.481Z"
   },
   {
    "duration": 2125,
    "start_time": "2022-12-15T13:06:24.691Z"
   },
   {
    "duration": 1450,
    "start_time": "2022-12-15T13:06:28.221Z"
   },
   {
    "duration": 2187,
    "start_time": "2022-12-15T13:06:42.065Z"
   },
   {
    "duration": 5,
    "start_time": "2022-12-15T13:06:44.255Z"
   },
   {
    "duration": 54,
    "start_time": "2022-12-15T13:06:44.261Z"
   },
   {
    "duration": 18,
    "start_time": "2022-12-15T13:06:44.317Z"
   },
   {
    "duration": 12,
    "start_time": "2022-12-15T13:06:44.337Z"
   },
   {
    "duration": 40,
    "start_time": "2022-12-15T13:06:44.351Z"
   },
   {
    "duration": 1672,
    "start_time": "2022-12-15T13:06:44.393Z"
   },
   {
    "duration": 4,
    "start_time": "2022-12-15T13:06:46.067Z"
   },
   {
    "duration": 4,
    "start_time": "2022-12-15T13:06:46.078Z"
   },
   {
    "duration": 6,
    "start_time": "2022-12-15T13:06:46.085Z"
   },
   {
    "duration": 6,
    "start_time": "2022-12-15T13:06:46.093Z"
   },
   {
    "duration": 16,
    "start_time": "2022-12-15T13:06:46.100Z"
   },
   {
    "duration": 4,
    "start_time": "2022-12-15T13:06:46.117Z"
   },
   {
    "duration": 677,
    "start_time": "2022-12-15T13:06:46.122Z"
   },
   {
    "duration": 25,
    "start_time": "2022-12-15T13:06:46.801Z"
   },
   {
    "duration": 5,
    "start_time": "2022-12-15T13:06:46.827Z"
   },
   {
    "duration": 131,
    "start_time": "2022-12-15T13:08:06.000Z"
   },
   {
    "duration": 208,
    "start_time": "2022-12-15T13:09:31.005Z"
   },
   {
    "duration": 2162,
    "start_time": "2022-12-15T13:09:43.657Z"
   },
   {
    "duration": 6,
    "start_time": "2022-12-15T13:09:45.821Z"
   },
   {
    "duration": 47,
    "start_time": "2022-12-15T13:09:45.829Z"
   },
   {
    "duration": 12,
    "start_time": "2022-12-15T13:09:45.878Z"
   },
   {
    "duration": 19,
    "start_time": "2022-12-15T13:09:45.892Z"
   },
   {
    "duration": 37,
    "start_time": "2022-12-15T13:09:45.913Z"
   },
   {
    "duration": 1680,
    "start_time": "2022-12-15T13:09:45.952Z"
   },
   {
    "duration": 4,
    "start_time": "2022-12-15T13:09:47.634Z"
   },
   {
    "duration": 20,
    "start_time": "2022-12-15T13:09:47.639Z"
   },
   {
    "duration": 9,
    "start_time": "2022-12-15T13:09:47.662Z"
   },
   {
    "duration": 13,
    "start_time": "2022-12-15T13:09:47.673Z"
   },
   {
    "duration": 27,
    "start_time": "2022-12-15T13:09:47.688Z"
   },
   {
    "duration": 15,
    "start_time": "2022-12-15T13:09:47.716Z"
   },
   {
    "duration": 603,
    "start_time": "2022-12-15T13:09:47.732Z"
   },
   {
    "duration": 29,
    "start_time": "2022-12-15T13:09:48.337Z"
   },
   {
    "duration": 6,
    "start_time": "2022-12-15T13:09:48.378Z"
   },
   {
    "duration": 218,
    "start_time": "2022-12-15T13:09:48.385Z"
   },
   {
    "duration": 40374,
    "start_time": "2022-12-15T13:09:48.605Z"
   },
   {
    "duration": 16413,
    "start_time": "2022-12-15T13:10:28.982Z"
   },
   {
    "duration": 51783,
    "start_time": "2022-12-15T13:10:45.396Z"
   },
   {
    "duration": 4,
    "start_time": "2022-12-15T13:11:37.180Z"
   },
   {
    "duration": 10,
    "start_time": "2022-12-15T13:11:37.185Z"
   },
   {
    "duration": 12,
    "start_time": "2022-12-15T13:11:37.197Z"
   },
   {
    "duration": 70169,
    "start_time": "2022-12-15T13:11:37.210Z"
   },
   {
    "duration": 55867,
    "start_time": "2022-12-15T13:12:47.381Z"
   },
   {
    "duration": 4,
    "start_time": "2022-12-15T13:13:43.250Z"
   },
   {
    "duration": 34,
    "start_time": "2022-12-15T13:13:43.256Z"
   },
   {
    "duration": 0,
    "start_time": "2022-12-15T13:13:43.291Z"
   },
   {
    "duration": 0,
    "start_time": "2022-12-15T13:13:43.292Z"
   },
   {
    "duration": 0,
    "start_time": "2022-12-15T13:13:43.293Z"
   },
   {
    "duration": 0,
    "start_time": "2022-12-15T13:13:43.294Z"
   },
   {
    "duration": 0,
    "start_time": "2022-12-15T13:13:43.295Z"
   },
   {
    "duration": 0,
    "start_time": "2022-12-15T13:13:43.296Z"
   },
   {
    "duration": 0,
    "start_time": "2022-12-15T13:13:43.298Z"
   },
   {
    "duration": 37,
    "start_time": "2022-12-15T13:14:23.474Z"
   },
   {
    "duration": 2120,
    "start_time": "2022-12-15T13:14:50.105Z"
   },
   {
    "duration": 1476,
    "start_time": "2022-12-15T13:14:52.227Z"
   },
   {
    "duration": 40,
    "start_time": "2022-12-15T13:14:53.704Z"
   },
   {
    "duration": 16,
    "start_time": "2022-12-15T13:14:53.746Z"
   },
   {
    "duration": 13,
    "start_time": "2022-12-15T13:14:53.763Z"
   },
   {
    "duration": 36,
    "start_time": "2022-12-15T13:14:53.778Z"
   },
   {
    "duration": 1706,
    "start_time": "2022-12-15T13:14:53.816Z"
   },
   {
    "duration": 4,
    "start_time": "2022-12-15T13:14:55.523Z"
   },
   {
    "duration": 8,
    "start_time": "2022-12-15T13:14:55.529Z"
   },
   {
    "duration": 4,
    "start_time": "2022-12-15T13:14:55.539Z"
   },
   {
    "duration": 16,
    "start_time": "2022-12-15T13:14:55.544Z"
   },
   {
    "duration": 35,
    "start_time": "2022-12-15T13:14:55.562Z"
   },
   {
    "duration": 4,
    "start_time": "2022-12-15T13:14:55.598Z"
   },
   {
    "duration": 674,
    "start_time": "2022-12-15T13:14:55.604Z"
   },
   {
    "duration": 25,
    "start_time": "2022-12-15T13:14:56.279Z"
   },
   {
    "duration": 23,
    "start_time": "2022-12-15T13:14:56.305Z"
   },
   {
    "duration": 300,
    "start_time": "2022-12-15T13:14:56.330Z"
   },
   {
    "duration": 11,
    "start_time": "2022-12-15T13:14:58.010Z"
   },
   {
    "duration": 128,
    "start_time": "2022-12-15T13:16:01.649Z"
   },
   {
    "duration": 2172,
    "start_time": "2022-12-15T13:16:08.851Z"
   },
   {
    "duration": 6,
    "start_time": "2022-12-15T13:16:11.025Z"
   },
   {
    "duration": 54,
    "start_time": "2022-12-15T13:16:11.034Z"
   },
   {
    "duration": 14,
    "start_time": "2022-12-15T13:16:11.090Z"
   },
   {
    "duration": 17,
    "start_time": "2022-12-15T13:16:11.105Z"
   },
   {
    "duration": 38,
    "start_time": "2022-12-15T13:16:11.123Z"
   },
   {
    "duration": 1628,
    "start_time": "2022-12-15T13:16:11.178Z"
   },
   {
    "duration": 5,
    "start_time": "2022-12-15T13:16:12.808Z"
   },
   {
    "duration": 15,
    "start_time": "2022-12-15T13:16:12.814Z"
   },
   {
    "duration": 16,
    "start_time": "2022-12-15T13:16:12.833Z"
   },
   {
    "duration": 13,
    "start_time": "2022-12-15T13:16:12.851Z"
   },
   {
    "duration": 16,
    "start_time": "2022-12-15T13:16:12.866Z"
   },
   {
    "duration": 5,
    "start_time": "2022-12-15T13:16:12.883Z"
   },
   {
    "duration": 609,
    "start_time": "2022-12-15T13:16:12.890Z"
   },
   {
    "duration": 28,
    "start_time": "2022-12-15T13:16:13.501Z"
   },
   {
    "duration": 4,
    "start_time": "2022-12-15T13:16:13.531Z"
   },
   {
    "duration": 17,
    "start_time": "2022-12-15T13:16:16.539Z"
   },
   {
    "duration": 12,
    "start_time": "2022-12-15T13:17:29.281Z"
   },
   {
    "duration": 262,
    "start_time": "2022-12-15T13:18:05.075Z"
   },
   {
    "duration": 10,
    "start_time": "2022-12-15T13:18:12.467Z"
   },
   {
    "duration": 15,
    "start_time": "2022-12-15T13:18:34.997Z"
   },
   {
    "duration": 14,
    "start_time": "2022-12-15T13:18:56.560Z"
   },
   {
    "duration": 14,
    "start_time": "2022-12-15T13:25:29.558Z"
   },
   {
    "duration": 2275,
    "start_time": "2022-12-15T13:25:34.496Z"
   },
   {
    "duration": 9,
    "start_time": "2022-12-15T13:25:36.774Z"
   },
   {
    "duration": 69,
    "start_time": "2022-12-15T13:25:36.784Z"
   },
   {
    "duration": 14,
    "start_time": "2022-12-15T13:25:36.856Z"
   },
   {
    "duration": 18,
    "start_time": "2022-12-15T13:25:36.872Z"
   },
   {
    "duration": 45,
    "start_time": "2022-12-15T13:25:36.892Z"
   },
   {
    "duration": 1794,
    "start_time": "2022-12-15T13:25:36.939Z"
   },
   {
    "duration": 6,
    "start_time": "2022-12-15T13:25:38.734Z"
   },
   {
    "duration": 15,
    "start_time": "2022-12-15T13:25:38.742Z"
   },
   {
    "duration": 8,
    "start_time": "2022-12-15T13:25:38.759Z"
   },
   {
    "duration": 25,
    "start_time": "2022-12-15T13:25:38.769Z"
   },
   {
    "duration": 25,
    "start_time": "2022-12-15T13:25:38.797Z"
   },
   {
    "duration": 7,
    "start_time": "2022-12-15T13:25:38.824Z"
   },
   {
    "duration": 800,
    "start_time": "2022-12-15T13:25:38.833Z"
   },
   {
    "duration": 27,
    "start_time": "2022-12-15T13:25:39.635Z"
   },
   {
    "duration": 16,
    "start_time": "2022-12-15T13:25:39.664Z"
   },
   {
    "duration": 29,
    "start_time": "2022-12-15T13:25:41.119Z"
   },
   {
    "duration": 18,
    "start_time": "2022-12-15T13:26:38.578Z"
   },
   {
    "duration": 2232,
    "start_time": "2022-12-15T13:36:20.085Z"
   },
   {
    "duration": 7,
    "start_time": "2022-12-15T13:36:22.321Z"
   },
   {
    "duration": 47,
    "start_time": "2022-12-15T13:36:22.330Z"
   },
   {
    "duration": 15,
    "start_time": "2022-12-15T13:36:22.379Z"
   },
   {
    "duration": 14,
    "start_time": "2022-12-15T13:36:22.396Z"
   },
   {
    "duration": 38,
    "start_time": "2022-12-15T13:36:22.412Z"
   },
   {
    "duration": 1818,
    "start_time": "2022-12-15T13:36:22.451Z"
   },
   {
    "duration": 8,
    "start_time": "2022-12-15T13:36:24.271Z"
   },
   {
    "duration": 12,
    "start_time": "2022-12-15T13:36:24.280Z"
   },
   {
    "duration": 15,
    "start_time": "2022-12-15T13:36:24.294Z"
   },
   {
    "duration": 11,
    "start_time": "2022-12-15T13:36:24.311Z"
   },
   {
    "duration": 16,
    "start_time": "2022-12-15T13:36:24.324Z"
   },
   {
    "duration": 4,
    "start_time": "2022-12-15T13:36:24.342Z"
   },
   {
    "duration": 737,
    "start_time": "2022-12-15T13:36:24.347Z"
   },
   {
    "duration": 25,
    "start_time": "2022-12-15T13:36:25.086Z"
   },
   {
    "duration": 5,
    "start_time": "2022-12-15T13:36:25.112Z"
   },
   {
    "duration": 232,
    "start_time": "2022-12-15T13:36:25.119Z"
   },
   {
    "duration": 15,
    "start_time": "2022-12-15T13:36:29.042Z"
   },
   {
    "duration": 4,
    "start_time": "2022-12-15T13:36:31.407Z"
   },
   {
    "duration": 23,
    "start_time": "2022-12-15T13:36:32.396Z"
   },
   {
    "duration": 2258,
    "start_time": "2022-12-15T13:47:05.551Z"
   },
   {
    "duration": 7,
    "start_time": "2022-12-15T13:47:07.811Z"
   },
   {
    "duration": 45,
    "start_time": "2022-12-15T13:47:07.820Z"
   },
   {
    "duration": 13,
    "start_time": "2022-12-15T13:47:07.867Z"
   },
   {
    "duration": 18,
    "start_time": "2022-12-15T13:47:07.882Z"
   },
   {
    "duration": 49,
    "start_time": "2022-12-15T13:47:07.902Z"
   },
   {
    "duration": 1804,
    "start_time": "2022-12-15T13:47:07.953Z"
   },
   {
    "duration": 5,
    "start_time": "2022-12-15T13:47:09.758Z"
   },
   {
    "duration": 20,
    "start_time": "2022-12-15T13:47:09.764Z"
   },
   {
    "duration": 12,
    "start_time": "2022-12-15T13:47:09.786Z"
   },
   {
    "duration": 12,
    "start_time": "2022-12-15T13:47:09.799Z"
   },
   {
    "duration": 28,
    "start_time": "2022-12-15T13:47:09.813Z"
   },
   {
    "duration": 15,
    "start_time": "2022-12-15T13:47:09.843Z"
   },
   {
    "duration": 15,
    "start_time": "2022-12-15T13:47:09.860Z"
   },
   {
    "duration": 10,
    "start_time": "2022-12-15T13:47:09.877Z"
   },
   {
    "duration": 636,
    "start_time": "2022-12-15T13:47:09.889Z"
   },
   {
    "duration": 33,
    "start_time": "2022-12-15T13:47:10.527Z"
   },
   {
    "duration": 320,
    "start_time": "2022-12-15T13:47:10.561Z"
   },
   {
    "duration": 138,
    "start_time": "2022-12-15T13:47:10.887Z"
   },
   {
    "duration": 864,
    "start_time": "2022-12-15T13:47:11.027Z"
   },
   {
    "duration": 6,
    "start_time": "2022-12-15T13:47:11.893Z"
   },
   {
    "duration": 6,
    "start_time": "2022-12-15T13:47:11.901Z"
   },
   {
    "duration": 12,
    "start_time": "2022-12-15T13:47:11.909Z"
   },
   {
    "duration": 1136,
    "start_time": "2022-12-15T13:47:11.922Z"
   },
   {
    "duration": 1161,
    "start_time": "2022-12-15T13:47:13.060Z"
   },
   {
    "duration": 5,
    "start_time": "2022-12-15T13:47:14.223Z"
   },
   {
    "duration": 24,
    "start_time": "2022-12-15T13:47:14.230Z"
   },
   {
    "duration": 1398,
    "start_time": "2022-12-15T13:47:14.258Z"
   },
   {
    "duration": 4,
    "start_time": "2022-12-15T13:47:15.658Z"
   },
   {
    "duration": 34,
    "start_time": "2022-12-15T13:47:15.663Z"
   },
   {
    "duration": 11,
    "start_time": "2022-12-15T13:47:15.698Z"
   },
   {
    "duration": 0,
    "start_time": "2022-12-15T13:47:15.711Z"
   },
   {
    "duration": 0,
    "start_time": "2022-12-15T13:47:15.712Z"
   },
   {
    "duration": 0,
    "start_time": "2022-12-15T13:47:15.716Z"
   },
   {
    "duration": 634,
    "start_time": "2022-12-15T13:47:38.788Z"
   },
   {
    "duration": 4,
    "start_time": "2022-12-15T13:47:47.133Z"
   },
   {
    "duration": 17,
    "start_time": "2022-12-15T13:47:49.192Z"
   },
   {
    "duration": 16,
    "start_time": "2022-12-15T13:47:51.049Z"
   },
   {
    "duration": 5,
    "start_time": "2022-12-15T14:12:47.748Z"
   },
   {
    "duration": 2186,
    "start_time": "2022-12-15T14:13:02.126Z"
   },
   {
    "duration": 5,
    "start_time": "2022-12-15T14:13:04.314Z"
   },
   {
    "duration": 51,
    "start_time": "2022-12-15T14:13:04.321Z"
   },
   {
    "duration": 13,
    "start_time": "2022-12-15T14:13:04.374Z"
   },
   {
    "duration": 32,
    "start_time": "2022-12-15T14:13:04.389Z"
   },
   {
    "duration": 44,
    "start_time": "2022-12-15T14:13:04.424Z"
   },
   {
    "duration": 1732,
    "start_time": "2022-12-15T14:13:04.470Z"
   },
   {
    "duration": 5,
    "start_time": "2022-12-15T14:13:06.203Z"
   },
   {
    "duration": 8,
    "start_time": "2022-12-15T14:13:06.210Z"
   },
   {
    "duration": 5,
    "start_time": "2022-12-15T14:13:06.221Z"
   },
   {
    "duration": 6,
    "start_time": "2022-12-15T14:13:06.228Z"
   },
   {
    "duration": 12,
    "start_time": "2022-12-15T14:13:06.236Z"
   },
   {
    "duration": 5,
    "start_time": "2022-12-15T14:13:06.250Z"
   },
   {
    "duration": 15,
    "start_time": "2022-12-15T14:13:06.278Z"
   },
   {
    "duration": 5,
    "start_time": "2022-12-15T14:13:06.294Z"
   },
   {
    "duration": 570,
    "start_time": "2022-12-15T14:13:06.301Z"
   },
   {
    "duration": 24,
    "start_time": "2022-12-15T14:13:06.877Z"
   },
   {
    "duration": 477,
    "start_time": "2022-12-15T14:13:06.902Z"
   },
   {
    "duration": 130,
    "start_time": "2022-12-15T14:13:07.381Z"
   },
   {
    "duration": 919,
    "start_time": "2022-12-15T14:13:07.513Z"
   },
   {
    "duration": 4,
    "start_time": "2022-12-15T14:13:08.433Z"
   },
   {
    "duration": 4,
    "start_time": "2022-12-15T14:13:08.439Z"
   },
   {
    "duration": 6,
    "start_time": "2022-12-15T14:13:08.444Z"
   },
   {
    "duration": 235,
    "start_time": "2022-12-15T14:13:08.451Z"
   },
   {
    "duration": 0,
    "start_time": "2022-12-15T14:13:08.688Z"
   },
   {
    "duration": 0,
    "start_time": "2022-12-15T14:13:08.690Z"
   },
   {
    "duration": 0,
    "start_time": "2022-12-15T14:13:08.691Z"
   },
   {
    "duration": 0,
    "start_time": "2022-12-15T14:13:08.692Z"
   },
   {
    "duration": 0,
    "start_time": "2022-12-15T14:13:08.693Z"
   },
   {
    "duration": 0,
    "start_time": "2022-12-15T14:13:08.695Z"
   },
   {
    "duration": 0,
    "start_time": "2022-12-15T14:13:08.696Z"
   },
   {
    "duration": 4,
    "start_time": "2022-12-15T14:14:30.020Z"
   },
   {
    "duration": 1036,
    "start_time": "2022-12-15T14:14:31.575Z"
   },
   {
    "duration": 1014,
    "start_time": "2022-12-15T14:14:34.200Z"
   },
   {
    "duration": 3,
    "start_time": "2022-12-15T14:14:36.061Z"
   },
   {
    "duration": 10,
    "start_time": "2022-12-15T14:14:37.254Z"
   },
   {
    "duration": 1375,
    "start_time": "2022-12-15T14:14:37.885Z"
   },
   {
    "duration": 4,
    "start_time": "2022-12-15T14:14:40.100Z"
   },
   {
    "duration": 10,
    "start_time": "2022-12-15T14:14:41.053Z"
   },
   {
    "duration": 656,
    "start_time": "2022-12-15T14:14:41.748Z"
   },
   {
    "duration": 3,
    "start_time": "2022-12-15T14:14:46.842Z"
   },
   {
    "duration": 21,
    "start_time": "2022-12-15T14:14:47.827Z"
   },
   {
    "duration": 15,
    "start_time": "2022-12-15T14:14:49.444Z"
   },
   {
    "duration": 8,
    "start_time": "2022-12-15T15:05:47.138Z"
   },
   {
    "duration": 439,
    "start_time": "2022-12-15T15:05:49.932Z"
   },
   {
    "duration": 304,
    "start_time": "2022-12-15T15:05:53.437Z"
   },
   {
    "duration": 1418,
    "start_time": "2022-12-15T15:05:56.007Z"
   },
   {
    "duration": 6,
    "start_time": "2022-12-15T15:07:16.175Z"
   },
   {
    "duration": 1823,
    "start_time": "2022-12-15T15:07:17.661Z"
   },
   {
    "duration": 157,
    "start_time": "2022-12-15T15:07:22.322Z"
   },
   {
    "duration": 994,
    "start_time": "2022-12-15T15:07:27.536Z"
   },
   {
    "duration": 99,
    "start_time": "2022-12-15T15:07:54.686Z"
   },
   {
    "duration": 2264,
    "start_time": "2022-12-15T15:08:18.908Z"
   },
   {
    "duration": 1459,
    "start_time": "2022-12-15T15:08:21.174Z"
   },
   {
    "duration": 41,
    "start_time": "2022-12-15T15:08:22.634Z"
   },
   {
    "duration": 15,
    "start_time": "2022-12-15T15:08:22.678Z"
   },
   {
    "duration": 12,
    "start_time": "2022-12-15T15:08:22.695Z"
   },
   {
    "duration": 38,
    "start_time": "2022-12-15T15:08:22.710Z"
   },
   {
    "duration": 1737,
    "start_time": "2022-12-15T15:08:22.750Z"
   },
   {
    "duration": 5,
    "start_time": "2022-12-15T15:08:24.489Z"
   },
   {
    "duration": 15,
    "start_time": "2022-12-15T15:08:24.495Z"
   },
   {
    "duration": 4,
    "start_time": "2022-12-15T15:08:24.513Z"
   },
   {
    "duration": 9,
    "start_time": "2022-12-15T15:08:24.519Z"
   },
   {
    "duration": 12,
    "start_time": "2022-12-15T15:08:24.530Z"
   },
   {
    "duration": 4,
    "start_time": "2022-12-15T15:08:24.543Z"
   },
   {
    "duration": 36,
    "start_time": "2022-12-15T15:08:24.549Z"
   },
   {
    "duration": 4,
    "start_time": "2022-12-15T15:08:24.587Z"
   },
   {
    "duration": 693,
    "start_time": "2022-12-15T15:08:24.592Z"
   },
   {
    "duration": 25,
    "start_time": "2022-12-15T15:08:25.286Z"
   },
   {
    "duration": 377,
    "start_time": "2022-12-15T15:08:25.312Z"
   },
   {
    "duration": 133,
    "start_time": "2022-12-15T15:08:25.779Z"
   },
   {
    "duration": 784,
    "start_time": "2022-12-15T15:08:25.914Z"
   },
   {
    "duration": 5,
    "start_time": "2022-12-15T15:08:26.700Z"
   },
   {
    "duration": 6,
    "start_time": "2022-12-15T15:08:26.706Z"
   },
   {
    "duration": 12,
    "start_time": "2022-12-15T15:08:26.714Z"
   },
   {
    "duration": 1083,
    "start_time": "2022-12-15T15:08:26.728Z"
   },
   {
    "duration": 998,
    "start_time": "2022-12-15T15:08:27.813Z"
   },
   {
    "duration": 3,
    "start_time": "2022-12-15T15:08:28.813Z"
   },
   {
    "duration": 32,
    "start_time": "2022-12-15T15:08:28.818Z"
   },
   {
    "duration": 1435,
    "start_time": "2022-12-15T15:08:28.853Z"
   },
   {
    "duration": 5,
    "start_time": "2022-12-15T15:08:30.290Z"
   },
   {
    "duration": 60,
    "start_time": "2022-12-15T15:08:30.297Z"
   },
   {
    "duration": 674,
    "start_time": "2022-12-15T15:08:30.359Z"
   },
   {
    "duration": 4,
    "start_time": "2022-12-15T15:08:31.035Z"
   },
   {
    "duration": 58,
    "start_time": "2022-12-15T15:08:31.041Z"
   },
   {
    "duration": 41,
    "start_time": "2022-12-15T15:08:31.101Z"
   },
   {
    "duration": 43,
    "start_time": "2022-12-15T15:08:31.143Z"
   },
   {
    "duration": 520,
    "start_time": "2022-12-15T15:08:31.187Z"
   },
   {
    "duration": 326,
    "start_time": "2022-12-15T15:08:31.709Z"
   },
   {
    "duration": 1387,
    "start_time": "2022-12-15T15:08:32.036Z"
   },
   {
    "duration": 6,
    "start_time": "2022-12-15T15:08:33.424Z"
   },
   {
    "duration": 2047,
    "start_time": "2022-12-15T15:08:33.432Z"
   },
   {
    "duration": 261,
    "start_time": "2022-12-15T15:08:35.482Z"
   },
   {
    "duration": 980,
    "start_time": "2022-12-15T15:08:35.745Z"
   },
   {
    "duration": 116,
    "start_time": "2022-12-15T15:08:36.727Z"
   },
   {
    "duration": 38,
    "start_time": "2022-12-15T15:08:36.845Z"
   },
   {
    "duration": 257,
    "start_time": "2022-12-15T15:08:36.885Z"
   },
   {
    "duration": 508,
    "start_time": "2022-12-15T15:10:44.029Z"
   },
   {
    "duration": 467,
    "start_time": "2022-12-15T15:10:46.185Z"
   },
   {
    "duration": 748,
    "start_time": "2022-12-15T15:10:49.465Z"
   },
   {
    "duration": 10,
    "start_time": "2022-12-15T15:12:29.296Z"
   },
   {
    "duration": 3595,
    "start_time": "2022-12-15T15:12:30.387Z"
   },
   {
    "duration": 431,
    "start_time": "2022-12-15T15:12:33.985Z"
   },
   {
    "duration": 381,
    "start_time": "2022-12-15T15:12:39.577Z"
   },
   {
    "duration": 128,
    "start_time": "2022-12-15T15:12:46.040Z"
   },
   {
    "duration": 26,
    "start_time": "2022-12-15T15:12:48.155Z"
   },
   {
    "duration": 308,
    "start_time": "2022-12-15T15:12:54.957Z"
   },
   {
    "duration": 2191,
    "start_time": "2022-12-15T15:13:53.657Z"
   },
   {
    "duration": 1520,
    "start_time": "2022-12-15T15:13:55.851Z"
   },
   {
    "duration": 41,
    "start_time": "2022-12-15T15:13:57.373Z"
   },
   {
    "duration": 15,
    "start_time": "2022-12-15T15:13:57.416Z"
   },
   {
    "duration": 12,
    "start_time": "2022-12-15T15:13:57.432Z"
   },
   {
    "duration": 51,
    "start_time": "2022-12-15T15:13:57.446Z"
   },
   {
    "duration": 1676,
    "start_time": "2022-12-15T15:13:57.498Z"
   },
   {
    "duration": 5,
    "start_time": "2022-12-15T15:13:59.175Z"
   },
   {
    "duration": 13,
    "start_time": "2022-12-15T15:13:59.182Z"
   },
   {
    "duration": 7,
    "start_time": "2022-12-15T15:13:59.199Z"
   },
   {
    "duration": 8,
    "start_time": "2022-12-15T15:13:59.207Z"
   },
   {
    "duration": 14,
    "start_time": "2022-12-15T15:13:59.217Z"
   },
   {
    "duration": 18,
    "start_time": "2022-12-15T15:13:59.233Z"
   },
   {
    "duration": 32,
    "start_time": "2022-12-15T15:13:59.252Z"
   },
   {
    "duration": 5,
    "start_time": "2022-12-15T15:13:59.286Z"
   },
   {
    "duration": 691,
    "start_time": "2022-12-15T15:13:59.293Z"
   },
   {
    "duration": 25,
    "start_time": "2022-12-15T15:13:59.986Z"
   },
   {
    "duration": 370,
    "start_time": "2022-12-15T15:14:00.013Z"
   },
   {
    "duration": 222,
    "start_time": "2022-12-15T15:14:00.385Z"
   },
   {
    "duration": 847,
    "start_time": "2022-12-15T15:14:00.609Z"
   },
   {
    "duration": 4,
    "start_time": "2022-12-15T15:14:01.458Z"
   },
   {
    "duration": 31,
    "start_time": "2022-12-15T15:14:01.464Z"
   },
   {
    "duration": 17,
    "start_time": "2022-12-15T15:14:01.497Z"
   },
   {
    "duration": 1074,
    "start_time": "2022-12-15T15:14:01.515Z"
   },
   {
    "duration": 1114,
    "start_time": "2022-12-15T15:14:02.590Z"
   },
   {
    "duration": 4,
    "start_time": "2022-12-15T15:14:03.705Z"
   },
   {
    "duration": 15,
    "start_time": "2022-12-15T15:14:03.711Z"
   },
   {
    "duration": 1460,
    "start_time": "2022-12-15T15:14:03.729Z"
   },
   {
    "duration": 4,
    "start_time": "2022-12-15T15:14:05.191Z"
   },
   {
    "duration": 17,
    "start_time": "2022-12-15T15:14:05.196Z"
   },
   {
    "duration": 627,
    "start_time": "2022-12-15T15:14:05.214Z"
   },
   {
    "duration": 3,
    "start_time": "2022-12-15T15:14:05.843Z"
   },
   {
    "duration": 19,
    "start_time": "2022-12-15T15:14:05.847Z"
   },
   {
    "duration": 18,
    "start_time": "2022-12-15T15:14:05.867Z"
   },
   {
    "duration": 9,
    "start_time": "2022-12-15T15:14:05.886Z"
   },
   {
    "duration": 447,
    "start_time": "2022-12-15T15:14:05.896Z"
   },
   {
    "duration": 347,
    "start_time": "2022-12-15T15:14:06.344Z"
   },
   {
    "duration": 699,
    "start_time": "2022-12-15T15:14:06.693Z"
   },
   {
    "duration": 7,
    "start_time": "2022-12-15T15:14:07.394Z"
   },
   {
    "duration": 3578,
    "start_time": "2022-12-15T15:14:07.403Z"
   },
   {
    "duration": 381,
    "start_time": "2022-12-15T15:14:10.983Z"
   },
   {
    "duration": 421,
    "start_time": "2022-12-15T15:14:11.366Z"
   },
   {
    "duration": 132,
    "start_time": "2022-12-15T15:14:11.788Z"
   },
   {
    "duration": 21,
    "start_time": "2022-12-15T15:14:11.922Z"
   },
   {
    "duration": 308,
    "start_time": "2022-12-15T15:14:11.944Z"
   }
  ],
  "kernelspec": {
   "display_name": "Python 3 (ipykernel)",
   "language": "python",
   "name": "python3"
  },
  "language_info": {
   "codemirror_mode": {
    "name": "ipython",
    "version": 3
   },
   "file_extension": ".py",
   "mimetype": "text/x-python",
   "name": "python",
   "nbconvert_exporter": "python",
   "pygments_lexer": "ipython3",
   "version": "3.11.3"
  },
  "toc": {
   "base_numbering": 1,
   "nav_menu": {},
   "number_sections": true,
   "sideBar": true,
   "skip_h1_title": true,
   "title_cell": "Содержание",
   "title_sidebar": "Contents",
   "toc_cell": true,
   "toc_position": {
    "height": "634.933px",
    "left": "20px",
    "top": "111.333px",
    "width": "388.25px"
   },
   "toc_section_display": true,
   "toc_window_display": true
  }
 },
 "nbformat": 4,
 "nbformat_minor": 2
}
