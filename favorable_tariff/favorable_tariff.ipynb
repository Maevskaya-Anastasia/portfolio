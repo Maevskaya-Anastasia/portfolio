{
 "cells": [
  {
   "cell_type": "markdown",
   "metadata": {},
   "source": [
    "## 1 Импорт библиотек и модулей"
   ]
  },
  {
   "cell_type": "code",
   "execution_count": 2,
   "metadata": {},
   "outputs": [],
   "source": [
    "!pip install -q ydata_profiling"
   ]
  },
  {
   "cell_type": "code",
   "execution_count": 1,
   "metadata": {},
   "outputs": [],
   "source": [
    "#!pip install -q hyperopt"
   ]
  },
  {
   "cell_type": "code",
   "execution_count": 3,
   "metadata": {},
   "outputs": [],
   "source": [
    "%matplotlib inline"
   ]
  },
  {
   "cell_type": "code",
   "execution_count": 91,
   "metadata": {},
   "outputs": [],
   "source": [
    "# для обработки ошибок \n",
    "import warnings\n",
    "\n",
    "# для работы с данными\n",
    "import pandas as pd\n",
    "\n",
    "# для EDA анализа\n",
    "import ydata_profiling\n",
    "\n",
    "# для математических вычислений\n",
    "import numpy as np\n",
    "\n",
    "# для визуализации\n",
    "import matplotlib.pyplot as plt \n",
    "import seaborn as sns\n",
    "from sklearn.metrics import confusion_matrix\n",
    "\n",
    "# для разделения данных на выборки\n",
    "from sklearn.model_selection import train_test_split\n",
    "\n",
    "# модели машинного обучения\n",
    "from sklearn.tree import DecisionTreeClassifier\n",
    "from sklearn.ensemble import RandomForestClassifier\n",
    "from sklearn.linear_model import LogisticRegression\n",
    "from sklearn.dummy import DummyClassifier\n",
    "\n",
    "# для подбора гиперпараметров\n",
    "from hyperopt import fmin, tpe, hp, STATUS_OK, Trials\n",
    "from hyperopt.pyll.base import scope\n",
    "\n",
    "# для расчёта качества моделей\n",
    "from sklearn.metrics import accuracy_score\n",
    "from sklearn.model_selection import cross_val_score\n",
    "from sklearn.metrics import accuracy_score, precision_score, recall_score, f1_score, classification_report\n",
    "\n",
    "# для расчёта времени выполнения кода\n",
    "import time"
   ]
  },
  {
   "cell_type": "markdown",
   "metadata": {},
   "source": [
    "## 2 Подготовка данных\n",
    "### 2.1 Открытие файла и изучение общей информации\n",
    "Считаем данные из csv-файла в датафрейм, сохраним в переменную `df` и проведём EDA анализ."
   ]
  },
  {
   "cell_type": "code",
   "execution_count": 12,
   "metadata": {},
   "outputs": [],
   "source": [
    "def read_eda(name):\n",
    "    try:\n",
    "        df = pd.read_csv('/datasets/' + name + '.csv')\n",
    "    except:\n",
    "        df = pd.read_csv('https://code.s3.yandex.net/datasets/' + name + '.csv')\n",
    "    ydata_profiling.ProfileReport(df, progress_bar=False, correlations={\"auto\": {\"calculate\": False}})\\\n",
    "    .to_file(name + '.html')\n",
    "    return df"
   ]
  },
  {
   "cell_type": "code",
   "execution_count": 13,
   "metadata": {},
   "outputs": [],
   "source": [
    "df = read_eda('users_behavior')"
   ]
  },
  {
   "cell_type": "markdown",
   "metadata": {},
   "source": [
    "[Посмотреть анализ.](https://www.dropbox.com/s/6h1goknw903mtx7/users_behavior.html?dl=0)\n",
    "\n",
    "- **В данных 3214 строк, 5 столбцов, 2 типа данных: float64, int64.**\n",
    "- **Проблем не обнаружено.**"
   ]
  },
  {
   "cell_type": "markdown",
   "metadata": {},
   "source": [
    "### 2.2 Разбивка на выборки\n",
    "Разделим данные на признаки (`features`) и целевой признак (`target`)."
   ]
  },
  {
   "cell_type": "code",
   "execution_count": 30,
   "metadata": {},
   "outputs": [],
   "source": [
    "x = df.drop('is_ultra', axis=1)\n",
    "y = df['is_ultra']"
   ]
  },
  {
   "cell_type": "markdown",
   "metadata": {},
   "source": [
    "Разделим данные на обучающую и тестовую выборки."
   ]
  },
  {
   "cell_type": "code",
   "execution_count": 55,
   "metadata": {},
   "outputs": [],
   "source": [
    "RANDOM_STATE = 0\n",
    "\n",
    "x_train, x_test, y_train, y_test = train_test_split(x, y, test_size=0.25, random_state=RANDOM_STATE, stratify=y)"
   ]
  },
  {
   "cell_type": "markdown",
   "metadata": {},
   "source": [
    "Проверим размеры выборок."
   ]
  },
  {
   "cell_type": "code",
   "execution_count": 20,
   "metadata": {},
   "outputs": [
    {
     "name": "stdout",
     "output_type": "stream",
     "text": [
      "Размер обучающей выборки: (2410, 4)\n",
      "Размер валидационной выборки: (482, 4)\n",
      "Размер тестовой выборки: (322, 4)\n"
     ]
    }
   ],
   "source": [
    "print('Размер обучающей выборки:', x_train.shape)\n",
    "print('Размер тестовой выборки:', x_test.shape)"
   ]
  },
  {
   "cell_type": "markdown",
   "metadata": {},
   "source": [
    "<div style=\"border:solid steelblue 5px; padding: 30px\">\n",
    "   <p>\n",
    "        <b>Результаты подготовки данных:</b>\n",
    "        <ol>\n",
    "        <li>Общая информация о данных изучена.</li>\n",
    "        <li>Данные разбиты на выборки.</li>\n",
    "        </ol>\n",
    "   </p>  \n",
    "</div>"
   ]
  },
  {
   "cell_type": "markdown",
   "metadata": {},
   "source": [
    "## 3 Работа с моделями\n",
    "### 3.1 Обучение\n",
    "Обучим разные модели без параметров и выберем лучшую."
   ]
  },
  {
   "cell_type": "code",
   "execution_count": 56,
   "metadata": {
    "id": "8f814be8"
   },
   "outputs": [],
   "source": [
    "def quality(mdl, return_qual=0):\n",
    "    scores = cross_val_score(mdl, x_train, y_train, cv=5, scoring='accuracy')\n",
    "    quality = scores.mean()\n",
    "    print('Качество:', quality)\n",
    "    \n",
    "    if return_qual == 1:\n",
    "        return quality"
   ]
  },
  {
   "cell_type": "code",
   "execution_count": 57,
   "metadata": {},
   "outputs": [
    {
     "name": "stdout",
     "output_type": "stream",
     "text": [
      "Качество: 0.7228215767634855\n",
      "CPU times: total: 78.1 ms\n",
      "Wall time: 84.8 ms\n"
     ]
    }
   ],
   "source": [
    "%%time\n",
    "quality(LogisticRegression())"
   ]
  },
  {
   "cell_type": "code",
   "execution_count": 58,
   "metadata": {},
   "outputs": [
    {
     "name": "stdout",
     "output_type": "stream",
     "text": [
      "Качество: 0.7008298755186722\n",
      "CPU times: total: 62.5 ms\n",
      "Wall time: 72.8 ms\n"
     ]
    }
   ],
   "source": [
    "%%time\n",
    "quality(DecisionTreeClassifier(random_state=RANDOM_STATE))"
   ]
  },
  {
   "cell_type": "code",
   "execution_count": 59,
   "metadata": {},
   "outputs": [
    {
     "name": "stdout",
     "output_type": "stream",
     "text": [
      "Качество: 0.7908713692946059\n",
      "CPU times: total: 3.28 s\n",
      "Wall time: 3.3 s\n"
     ]
    }
   ],
   "source": [
    "%%time\n",
    "quality(RandomForestClassifier(random_state=RANDOM_STATE))"
   ]
  },
  {
   "cell_type": "markdown",
   "metadata": {},
   "source": [
    "**Лучшим себя показал случайный лес, подберём для него гиперпараметры при помощи байесовской оптимизации.**"
   ]
  },
  {
   "cell_type": "markdown",
   "metadata": {},
   "source": [
    "### 3.2 Подбор гиперпараметров"
   ]
  },
  {
   "cell_type": "code",
   "execution_count": 60,
   "metadata": {},
   "outputs": [],
   "source": [
    "state = np.random.default_rng(RANDOM_STATE)\n",
    "\n",
    "valid_scores = []\n",
    "\n",
    "def hp_slctns(model, space):\n",
    "    def func(args):\n",
    "        mdl = model.set_params(**args)\n",
    "        scores = cross_val_score(mdl, x_train, y_train, cv=5, scoring='accuracy', \n",
    "                                 error_score='raise')\n",
    "        final_score = -sum(scores) / len(scores)\n",
    "        valid_scores.append(final_score)\n",
    "        return {'loss': final_score, 'status': STATUS_OK, 'model':mdl}\n",
    "    \n",
    "    trials = Trials()\n",
    "    best = fmin(func,\n",
    "                space=space,\n",
    "                algo=tpe.suggest,\n",
    "                trials=trials,\n",
    "                max_evals=10, \n",
    "                show_progressbar=True, \n",
    "                rstate=state)\n",
    "    best_model = trials.best_trial['result']['model']\n",
    "    \n",
    "    print('Лучшие гиперпараметры:', best)\n",
    "    return best_model"
   ]
  },
  {
   "cell_type": "code",
   "execution_count": 61,
   "metadata": {},
   "outputs": [
    {
     "name": "stdout",
     "output_type": "stream",
     "text": [
      "100%|███████████████████████████████████████████████| 10/10 [00:02<00:00,  4.12trial/s, best loss: -0.8029045643153527]\n",
      "Лучшие гиперпараметры: {'max_depth': 39.0, 'max_features': 1, 'min_samples_leaf': 21.0, 'min_samples_split': 36.0, 'n_estimators': 10}\n"
     ]
    }
   ],
   "source": [
    "rf_space = {\n",
    "        'max_depth': scope.int(hp.quniform('max_depth', 3, 100, 1)),\n",
    "        'max_features': hp.choice('max_features', range(1,5)),\n",
    "        'min_samples_split': scope.int(hp.quniform('min_samples_split', 2, 50, 1)),\n",
    "        'min_samples_leaf': scope.int(hp.quniform('min_samples_leaf', 1, 50, 1)), \n",
    "        'n_estimators': hp.choice('n_estimators', range(1,20))\n",
    "        }\n",
    "\n",
    "best_rf = hp_slctns(model=RandomForestClassifier(random_state=RANDOM_STATE), space=rf_space)"
   ]
  },
  {
   "cell_type": "markdown",
   "metadata": {},
   "source": [
    "Посмотрим, как при изменении гиперпараметров меняется точность."
   ]
  },
  {
   "cell_type": "code",
   "execution_count": 53,
   "metadata": {},
   "outputs": [],
   "source": [
    "def dynamics_plot():\n",
    "    _, ax = plt.subplots(figsize=(10, 5))\n",
    "    ax.plot(valid_scores)\n",
    "    ax.grid()\n",
    "    \n",
    "    plt.title('Динамика точности модели' + \"\\n\", size=18)\n",
    "    plt.xlabel('Номер попытки', size=16)\n",
    "    plt.ylabel('Точность', size=16)\n",
    "    plt.show()"
   ]
  },
  {
   "cell_type": "code",
   "execution_count": 54,
   "metadata": {},
   "outputs": [
    {
     "data": {
      "image/png": "[encoded data removed]",
      "text/plain": [
       "<Figure size 1000x500 with 1 Axes>"
      ]
     },
     "metadata": {},
     "output_type": "display_data"
    }
   ],
   "source": [
    "dynamics_plot()"
   ]
  },
  {
   "cell_type": "markdown",
   "metadata": {},
   "source": [
    "### 3.3 Сравнение с константной моделью\n",
    "Получим качество константной модели."
   ]
  },
  {
   "cell_type": "code",
   "execution_count": 65,
   "metadata": {
    "scrolled": false
   },
   "outputs": [
    {
     "name": "stdout",
     "output_type": "stream",
     "text": [
      "Качество: 0.6933609958506224\n",
      "Качество: 0.5659751037344398\n",
      "Качество: 0.4987551867219917\n"
     ]
    }
   ],
   "source": [
    "dummy_most_frequent = quality(DummyClassifier(strategy='most_frequent'), return_qual=1)\n",
    "dummy_stratified = quality(DummyClassifier(strategy='stratified'), return_qual=1)\n",
    "dummy_uniform = quality(DummyClassifier(strategy='uniform'), return_qual=1)"
   ]
  },
  {
   "cell_type": "markdown",
   "metadata": {
    "id": "0d1f2b89"
   },
   "source": [
    "Сохраним результаты лучшей константной модели в пустой датафрейм."
   ]
  },
  {
   "cell_type": "code",
   "execution_count": 66,
   "metadata": {
    "id": "6765c8e8"
   },
   "outputs": [],
   "source": [
    "results_df = pd.DataFrame(columns=['Качество', 'Время обучения', 'Скорость предсказания'])\n",
    "results_df.loc['Константная модель'] = [dummy_most_frequent, 0, 0]"
   ]
  },
  {
   "cell_type": "markdown",
   "metadata": {},
   "source": [
    "Добавим строку с временем обучения, скоростью предсказания и качеством градиентного бустинга в таблицу с результатами."
   ]
  },
  {
   "cell_type": "code",
   "execution_count": 82,
   "metadata": {
    "id": "4d9acb1a"
   },
   "outputs": [],
   "source": [
    "def save_time(model, best_model, name):\n",
    "    mdl = model.set_params(**best_model.get_params())\n",
    "    \n",
    "    start_train_timer = time.time()\n",
    "    mdl.fit(x_train, y_train)\n",
    "    stop_train_timer = time.time() - start_train_timer\n",
    "    \n",
    "    start_pred_timer = time.time()\n",
    "    pred = mdl.predict(x_test)\n",
    "    score = accuracy_score(y_test, pred)\n",
    "    stop_pred_timer = time.time() - start_pred_timer\n",
    "    \n",
    "    results_df.loc[name] = [score, stop_train_timer, stop_pred_timer]\n",
    "    \n",
    "    return mdl, pred"
   ]
  },
  {
   "cell_type": "code",
   "execution_count": 83,
   "metadata": {
    "id": "a89fb53d"
   },
   "outputs": [],
   "source": [
    "mdl, pred = save_time(RandomForestClassifier(), best_rf, 'Случайный лес')"
   ]
  },
  {
   "cell_type": "markdown",
   "metadata": {
    "id": "e426bc14"
   },
   "source": [
    "Рассмотрим получившеюся таблицу."
   ]
  },
  {
   "cell_type": "code",
   "execution_count": 85,
   "metadata": {
    "id": "383cdf11"
   },
   "outputs": [
    {
     "data": {
      "text/html": [
       "<div>\n",
       "<style scoped>\n",
       "    .dataframe tbody tr th:only-of-type {\n",
       "        vertical-align: middle;\n",
       "    }\n",
       "\n",
       "    .dataframe tbody tr th {\n",
       "        vertical-align: top;\n",
       "    }\n",
       "\n",
       "    .dataframe thead th {\n",
       "        text-align: right;\n",
       "    }\n",
       "</style>\n",
       "<table border=\"1\" class=\"dataframe\">\n",
       "  <thead>\n",
       "    <tr style=\"text-align: right;\">\n",
       "      <th></th>\n",
       "      <th>Качество</th>\n",
       "      <th>Время обучения</th>\n",
       "      <th>Скорость предсказания</th>\n",
       "    </tr>\n",
       "  </thead>\n",
       "  <tbody>\n",
       "    <tr>\n",
       "      <th>Константная модель</th>\n",
       "      <td>0.693361</td>\n",
       "      <td>0.000000</td>\n",
       "      <td>0.000000</td>\n",
       "    </tr>\n",
       "    <tr>\n",
       "      <th>Случайный лес</th>\n",
       "      <td>0.788557</td>\n",
       "      <td>0.122639</td>\n",
       "      <td>0.009004</td>\n",
       "    </tr>\n",
       "  </tbody>\n",
       "</table>\n",
       "</div>"
      ],
      "text/plain": [
       "                    Качество  Время обучения  Скорость предсказания\n",
       "Константная модель  0.693361        0.000000               0.000000\n",
       "Случайный лес       0.788557        0.122639               0.009004"
      ]
     },
     "execution_count": 85,
     "metadata": {},
     "output_type": "execute_result"
    }
   ],
   "source": [
    "results_df"
   ]
  },
  {
   "cell_type": "markdown",
   "metadata": {
    "id": "aa080dc1"
   },
   "source": [
    "**Модель превзошла костантную модель.**"
   ]
  },
  {
   "cell_type": "markdown",
   "metadata": {
    "id": "6ac9720f"
   },
   "source": [
    "### 3.4 Оценка предсказания"
   ]
  },
  {
   "cell_type": "code",
   "execution_count": 88,
   "metadata": {},
   "outputs": [
    {
     "name": "stdout",
     "output_type": "stream",
     "text": [
      "\\Точность: 0.79\n",
      "\n",
      "Микро точность: 0.79\n",
      "Микро полнота: 0.79\n",
      "Микро F1-мера: 0.79\n",
      "\n",
      "Макро точность: 0.77\n",
      "Макро полнота: 0.70\n",
      "Макро F1-мера: 0.72\n",
      "\n",
      "Взвешенная точность: 0.78\n",
      "Взвешенная полнота: 0.79\n",
      "Взвешенная F1-мера: 0.77\n",
      "\n",
      "Отчёт классификации\n",
      "\n",
      "              precision    recall  f1-score   support\n",
      "\n",
      "           0       0.80      0.92      0.86       558\n",
      "           1       0.73      0.49      0.59       246\n",
      "\n",
      "    accuracy                           0.79       804\n",
      "   macro avg       0.77      0.70      0.72       804\n",
      "weighted avg       0.78      0.79      0.77       804\n",
      "\n"
     ]
    }
   ],
   "source": [
    "print('\\Точность: {:.2f}\\n'.format(accuracy_score(y_test, pred)))\n",
    "\n",
    "print('Микро точность: {:.2f}'.format(precision_score(y_test, pred, average='micro')))\n",
    "print('Микро полнота: {:.2f}'.format(recall_score(y_test, pred, average='micro')))\n",
    "print('Микро F1-мера: {:.2f}\\n'.format(f1_score(y_test, pred, average='micro')))\n",
    "\n",
    "print('Макро точность: {:.2f}'.format(precision_score(y_test, pred, average='macro')))\n",
    "print('Макро полнота: {:.2f}'.format(recall_score(y_test, pred, average='macro')))\n",
    "print('Макро F1-мера: {:.2f}\\n'.format(f1_score(y_test, pred, average='macro')))\n",
    "\n",
    "print('Взвешенная точность: {:.2f}'.format(precision_score(y_test, pred, average='weighted')))\n",
    "print('Взвешенная полнота: {:.2f}'.format(recall_score(y_test, pred, average='weighted')))\n",
    "print('Взвешенная F1-мера: {:.2f}'.format(f1_score(y_test, pred, average='weighted')))\n",
    "\n",
    "print('\\nОтчёт классификации\\n')\n",
    "print(classification_report(y_test, pred))"
   ]
  },
  {
   "cell_type": "markdown",
   "metadata": {
    "id": "lIMhGbWwPgqx"
   },
   "source": [
    "Построим марицу ошибок."
   ]
  },
  {
   "cell_type": "code",
   "execution_count": 93,
   "metadata": {
    "id": "LcMcQy0Th5KW",
    "scrolled": false
   },
   "outputs": [
    {
     "data": {
      "image/png": "[encoded data removed]",
      "text/plain": [
       "<Figure size 1000x500 with 2 Axes>"
      ]
     },
     "metadata": {},
     "output_type": "display_data"
    }
   ],
   "source": [
    "plt.figure(figsize=(10, 5))\n",
    "heatmap = sns.heatmap(confusion_matrix(y_test, pred), annot=True, cmap='Blues')\n",
    "sns.set_style('white')\n",
    "heatmap.set_title('Матрица ошибок' + \"\\n\", fontsize=20);\n",
    "heatmap.set_xlabel('Результаты предсказания', fontsize=16);\n",
    "heatmap.set_ylabel('Ожидаемые результаты', fontsize=16);\n",
    "plt.show()"
   ]
  },
  {
   "cell_type": "markdown",
   "metadata": {
    "id": "6ac9720f"
   },
   "source": [
    "### 3.4 Анализ важности признаков"
   ]
  },
  {
   "cell_type": "code",
   "execution_count": 80,
   "metadata": {
    "id": "1d94f104"
   },
   "outputs": [],
   "source": [
    "def feature_importances():\n",
    "    importances = mdl.feature_importances_\n",
    "    sorted_idx = importances.argsort()\n",
    "    \n",
    "    plt.figure(figsize=(10, 4))\n",
    "    plt.barh(range(x_train.shape[1]), importances[sorted_idx])\n",
    "    plt.yticks(range(x_train.shape[1]), x.columns[sorted_idx])\n",
    "    plt.xlabel('Важность признаков', fontsize=16)\n",
    "    plt.title('График важности признаков' + '\\n', fontsize=20)\n",
    "    plt.grid(True)\n",
    "    plt.show()"
   ]
  },
  {
   "cell_type": "code",
   "execution_count": 81,
   "metadata": {
    "scrolled": false
   },
   "outputs": [
    {
     "data": {
      "image/png": "[encoded data removed]",
      "text/plain": [
       "<Figure size 1000x400 with 1 Axes>"
      ]
     },
     "metadata": {},
     "output_type": "display_data"
    }
   ],
   "source": [
    "feature_importances()"
   ]
  },
  {
   "cell_type": "markdown",
   "metadata": {
    "id": "8e97a3d2"
   },
   "source": [
    "<div style=\"border:solid steelblue 5px; padding: 30px\">\n",
    "   <p>\n",
    "        <b>Результаты работы с моделями:</b>\n",
    "        <ol>\n",
    "        <li>Разные модели обучены.</li>\n",
    "        <li>Лучшая модель найдена, сравнена с константной и проверена на тестовой выборке.</li>\n",
    "        <li>Предсказание оценено.</li>\n",
    "        <li>Проведён анализ важности признаков.</li>\n",
    "        </ol>\n",
    "   </p>  \n",
    "</div>"
   ]
  },
  {
   "cell_type": "markdown",
   "metadata": {
    "id": "8fb46225"
   },
   "source": [
    "## 6 Отчёт"
   ]
  },
  {
   "cell_type": "markdown",
   "metadata": {
    "id": "d98c8159"
   },
   "source": [
    "<hr style=\"color: steelblue; background-color: steelblue; height: 4px; border: none;\">"
   ]
  },
  {
   "cell_type": "markdown",
   "metadata": {
    "id": "ca51b4da"
   },
   "source": [
    "### Описание ключевых шагов решения\n",
    "1. При подготовке данных была изучена общая информация о данных и данные были разбиты на выборки.\n",
    "1. Были обучены разные модели и выбрана лучшая.\n",
    "1. Лучшая модель была сравнена с константной и протестирована на тестовой выборке.\n",
    "1. Был проведён анализ важности признаков.\n",
    "\n",
    "***\n",
    "\n",
    "### Описание модели\n",
    "Модель — `RandomForestClassifier`.\n",
    "\n",
    "Гиперпараметры:\n",
    "- `random_state` = 220523\n",
    "- `max_depth` = 39\n",
    "- `max_features` = 1\n",
    "- `min_samples_leaf` = 21\n",
    "- `n_estimators` = 10\n",
    "- `min_samples_split` = 36\n",
    "\n",
    "***\n",
    "\n",
    "### Итоговая метрика\n",
    "accuracy 0.788557\t"
   ]
  },
  {
   "cell_type": "markdown",
   "metadata": {
    "id": "15a96012"
   },
   "source": [
    "<hr style=\"color: steelblue; background-color: steelblue; height: 4px; border: none;\">"
   ]
  }
 ],
 "metadata": {
  "ExecuteTimeLog": [
   {
    "duration": 768,
    "start_time": "2022-11-15T11:24:51.060Z"
   },
   {
    "duration": 61,
    "start_time": "2022-11-15T11:25:38.542Z"
   },
   {
    "duration": 14,
    "start_time": "2022-11-15T11:26:18.602Z"
   },
   {
    "duration": 12,
    "start_time": "2022-11-15T11:27:35.478Z"
   },
   {
    "duration": 31,
    "start_time": "2022-11-15T11:28:20.163Z"
   },
   {
    "duration": 409,
    "start_time": "2022-11-15T11:29:03.140Z"
   },
   {
    "duration": 490,
    "start_time": "2022-11-15T11:29:23.343Z"
   },
   {
    "duration": 449,
    "start_time": "2022-11-15T11:29:28.854Z"
   },
   {
    "duration": 508,
    "start_time": "2022-11-15T11:29:36.067Z"
   },
   {
    "duration": 529,
    "start_time": "2022-11-15T11:29:43.326Z"
   },
   {
    "duration": 579,
    "start_time": "2022-11-15T11:29:53.138Z"
   },
   {
    "duration": 536,
    "start_time": "2022-11-15T11:32:07.138Z"
   },
   {
    "duration": 545,
    "start_time": "2022-11-15T11:32:13.405Z"
   },
   {
    "duration": 611,
    "start_time": "2022-11-15T11:32:29.560Z"
   },
   {
    "duration": 678,
    "start_time": "2022-11-15T11:56:37.871Z"
   },
   {
    "duration": 4,
    "start_time": "2022-11-15T12:08:26.834Z"
   },
   {
    "duration": 97,
    "start_time": "2022-11-15T12:17:22.060Z"
   },
   {
    "duration": 5,
    "start_time": "2022-11-15T12:17:39.097Z"
   },
   {
    "duration": 4,
    "start_time": "2022-11-15T12:18:08.647Z"
   },
   {
    "duration": 3,
    "start_time": "2022-11-15T12:18:23.954Z"
   },
   {
    "duration": 4,
    "start_time": "2022-11-15T12:18:31.984Z"
   },
   {
    "duration": 6,
    "start_time": "2022-11-15T12:21:29.113Z"
   },
   {
    "duration": 51,
    "start_time": "2022-11-15T15:45:34.703Z"
   },
   {
    "duration": 8,
    "start_time": "2022-11-15T15:45:45.865Z"
   },
   {
    "duration": 8,
    "start_time": "2022-11-15T15:45:47.137Z"
   },
   {
    "duration": 1648,
    "start_time": "2022-11-15T15:45:50.904Z"
   },
   {
    "duration": 61,
    "start_time": "2022-11-15T15:45:52.554Z"
   },
   {
    "duration": 14,
    "start_time": "2022-11-15T15:45:52.617Z"
   },
   {
    "duration": 12,
    "start_time": "2022-11-15T15:45:52.634Z"
   },
   {
    "duration": 26,
    "start_time": "2022-11-15T15:45:52.648Z"
   },
   {
    "duration": 756,
    "start_time": "2022-11-15T15:45:52.676Z"
   },
   {
    "duration": 4,
    "start_time": "2022-11-15T15:45:53.434Z"
   },
   {
    "duration": 8,
    "start_time": "2022-11-15T15:45:53.450Z"
   },
   {
    "duration": 127,
    "start_time": "2022-11-15T15:55:18.299Z"
   },
   {
    "duration": 6948,
    "start_time": "2022-11-15T15:55:31.656Z"
   },
   {
    "duration": 1638,
    "start_time": "2022-11-15T15:55:49.713Z"
   },
   {
    "duration": 5,
    "start_time": "2022-11-15T15:58:15.804Z"
   },
   {
    "duration": 161,
    "start_time": "2022-11-15T15:58:16.860Z"
   },
   {
    "duration": 40,
    "start_time": "2022-11-15T15:59:33.775Z"
   },
   {
    "duration": 5,
    "start_time": "2022-11-15T15:59:48.714Z"
   },
   {
    "duration": 37,
    "start_time": "2022-11-15T15:59:48.722Z"
   },
   {
    "duration": 23,
    "start_time": "2022-11-15T15:59:48.761Z"
   },
   {
    "duration": 18,
    "start_time": "2022-11-15T15:59:48.787Z"
   },
   {
    "duration": 81,
    "start_time": "2022-11-15T15:59:48.808Z"
   },
   {
    "duration": 1119,
    "start_time": "2022-11-15T15:59:48.892Z"
   },
   {
    "duration": 5,
    "start_time": "2022-11-15T15:59:50.013Z"
   },
   {
    "duration": 54,
    "start_time": "2022-11-15T15:59:50.020Z"
   },
   {
    "duration": 5,
    "start_time": "2022-11-15T15:59:50.330Z"
   },
   {
    "duration": 149,
    "start_time": "2022-11-15T15:59:51.720Z"
   },
   {
    "duration": 73,
    "start_time": "2022-11-15T16:01:21.687Z"
   },
   {
    "duration": 164,
    "start_time": "2022-11-15T16:01:31.524Z"
   },
   {
    "duration": 4,
    "start_time": "2022-11-15T16:10:13.729Z"
   },
   {
    "duration": 116,
    "start_time": "2022-11-15T16:10:14.920Z"
   },
   {
    "duration": 18,
    "start_time": "2022-11-15T16:10:25.251Z"
   },
   {
    "duration": 41,
    "start_time": "2022-11-15T16:11:03.449Z"
   },
   {
    "duration": 5,
    "start_time": "2022-11-15T16:13:42.066Z"
   },
   {
    "duration": 5,
    "start_time": "2022-11-15T16:15:04.588Z"
   },
   {
    "duration": 129,
    "start_time": "2022-11-15T16:15:05.626Z"
   },
   {
    "duration": 111,
    "start_time": "2022-11-15T16:15:26.001Z"
   },
   {
    "duration": 114,
    "start_time": "2022-11-15T16:15:57.507Z"
   },
   {
    "duration": 130,
    "start_time": "2022-11-15T16:16:05.528Z"
   },
   {
    "duration": 5,
    "start_time": "2022-11-15T16:17:05.740Z"
   },
   {
    "duration": 147,
    "start_time": "2022-11-15T16:17:06.854Z"
   },
   {
    "duration": 176,
    "start_time": "2022-11-15T16:17:29.927Z"
   },
   {
    "duration": 255,
    "start_time": "2022-11-15T16:17:32.549Z"
   },
   {
    "duration": 161,
    "start_time": "2022-11-15T16:17:34.561Z"
   },
   {
    "duration": 148,
    "start_time": "2022-11-15T16:21:11.385Z"
   },
   {
    "duration": 26,
    "start_time": "2022-11-15T16:21:56.770Z"
   },
   {
    "duration": 142,
    "start_time": "2022-11-15T16:22:12.392Z"
   },
   {
    "duration": 618,
    "start_time": "2022-11-15T16:34:14.720Z"
   },
   {
    "duration": 691,
    "start_time": "2022-11-15T16:34:23.510Z"
   },
   {
    "duration": 522,
    "start_time": "2022-11-15T16:34:39.568Z"
   },
   {
    "duration": 726,
    "start_time": "2022-11-15T16:34:52.299Z"
   },
   {
    "duration": 378,
    "start_time": "2022-11-15T16:34:54.593Z"
   },
   {
    "duration": 734,
    "start_time": "2022-11-15T16:34:56.001Z"
   },
   {
    "duration": 418,
    "start_time": "2022-11-15T16:34:58.253Z"
   },
   {
    "duration": 1271,
    "start_time": "2022-11-15T16:36:22.235Z"
   },
   {
    "duration": 1164,
    "start_time": "2022-11-15T16:36:26.094Z"
   },
   {
    "duration": 1114,
    "start_time": "2022-11-15T16:36:29.202Z"
   },
   {
    "duration": 442,
    "start_time": "2022-11-15T16:36:41.683Z"
   },
   {
    "duration": 535,
    "start_time": "2022-11-15T16:36:44.504Z"
   },
   {
    "duration": 634,
    "start_time": "2022-11-15T16:36:47.775Z"
   },
   {
    "duration": 667,
    "start_time": "2022-11-15T16:36:49.892Z"
   },
   {
    "duration": 771,
    "start_time": "2022-11-15T16:36:52.142Z"
   },
   {
    "duration": 728,
    "start_time": "2022-11-15T16:36:54.235Z"
   },
   {
    "duration": 3950,
    "start_time": "2022-11-15T16:45:18.920Z"
   },
   {
    "duration": 3401,
    "start_time": "2022-11-15T16:45:41.760Z"
   },
   {
    "duration": 2592,
    "start_time": "2022-11-15T16:45:51.461Z"
   },
   {
    "duration": 1408,
    "start_time": "2022-11-15T16:48:07.506Z"
   },
   {
    "duration": 4613,
    "start_time": "2022-11-15T16:48:15.338Z"
   },
   {
    "duration": 2450,
    "start_time": "2022-11-15T16:48:24.719Z"
   },
   {
    "duration": 2582,
    "start_time": "2022-11-15T16:48:32.680Z"
   },
   {
    "duration": 2726,
    "start_time": "2022-11-15T16:49:14.268Z"
   },
   {
    "duration": 165,
    "start_time": "2022-11-15T17:05:58.016Z"
   },
   {
    "duration": 715,
    "start_time": "2022-11-15T17:06:09.736Z"
   },
   {
    "duration": 6077,
    "start_time": "2022-11-15T17:06:17.478Z"
   },
   {
    "duration": 146,
    "start_time": "2022-11-15T17:08:35.909Z"
   },
   {
    "duration": 728,
    "start_time": "2022-11-15T17:08:41.413Z"
   },
   {
    "duration": 2155,
    "start_time": "2022-11-15T17:08:47.912Z"
   },
   {
    "duration": 146,
    "start_time": "2022-11-15T17:15:01.508Z"
   },
   {
    "duration": 4,
    "start_time": "2022-11-15T17:19:43.457Z"
   },
   {
    "duration": 3,
    "start_time": "2022-11-15T17:20:27.243Z"
   },
   {
    "duration": 30,
    "start_time": "2022-11-15T17:26:57.971Z"
   },
   {
    "duration": 4,
    "start_time": "2022-11-15T17:30:33.957Z"
   },
   {
    "duration": 30,
    "start_time": "2022-11-15T17:30:34.942Z"
   },
   {
    "duration": 4,
    "start_time": "2022-11-15T17:30:52.962Z"
   },
   {
    "duration": 40,
    "start_time": "2022-11-15T17:30:54.315Z"
   },
   {
    "duration": 5,
    "start_time": "2022-11-15T17:32:02.094Z"
   },
   {
    "duration": 52,
    "start_time": "2022-11-15T17:32:04.953Z"
   },
   {
    "duration": 4,
    "start_time": "2022-11-15T17:32:15.083Z"
   },
   {
    "duration": 48,
    "start_time": "2022-11-15T17:32:20.783Z"
   },
   {
    "duration": 47,
    "start_time": "2022-11-15T17:32:28.802Z"
   },
   {
    "duration": 61,
    "start_time": "2022-11-15T17:32:29.605Z"
   },
   {
    "duration": 44,
    "start_time": "2022-11-15T17:32:30.469Z"
   },
   {
    "duration": 4,
    "start_time": "2022-11-15T17:33:31.939Z"
   },
   {
    "duration": 47,
    "start_time": "2022-11-15T17:33:32.945Z"
   },
   {
    "duration": 4,
    "start_time": "2022-11-15T17:33:39.362Z"
   },
   {
    "duration": 46,
    "start_time": "2022-11-15T17:33:40.267Z"
   },
   {
    "duration": 4,
    "start_time": "2022-11-15T17:33:48.150Z"
   },
   {
    "duration": 63,
    "start_time": "2022-11-15T17:33:49.102Z"
   },
   {
    "duration": 3,
    "start_time": "2022-11-15T17:33:57.639Z"
   },
   {
    "duration": 72,
    "start_time": "2022-11-15T17:33:58.645Z"
   },
   {
    "duration": 4,
    "start_time": "2022-11-15T17:34:04.370Z"
   },
   {
    "duration": 52,
    "start_time": "2022-11-15T17:34:05.347Z"
   },
   {
    "duration": 3,
    "start_time": "2022-11-15T17:34:15.365Z"
   },
   {
    "duration": 55,
    "start_time": "2022-11-15T17:34:16.365Z"
   },
   {
    "duration": 4,
    "start_time": "2022-11-15T17:34:24.033Z"
   },
   {
    "duration": 62,
    "start_time": "2022-11-15T17:34:25.531Z"
   },
   {
    "duration": 3,
    "start_time": "2022-11-15T17:34:34.455Z"
   },
   {
    "duration": 56,
    "start_time": "2022-11-15T17:34:36.677Z"
   },
   {
    "duration": 4,
    "start_time": "2022-11-15T17:34:58.496Z"
   },
   {
    "duration": 52,
    "start_time": "2022-11-15T17:35:00.196Z"
   },
   {
    "duration": 4,
    "start_time": "2022-11-15T17:35:20.661Z"
   },
   {
    "duration": 54,
    "start_time": "2022-11-15T17:35:21.637Z"
   },
   {
    "duration": 3,
    "start_time": "2022-11-15T17:35:30.449Z"
   },
   {
    "duration": 63,
    "start_time": "2022-11-15T17:35:31.342Z"
   },
   {
    "duration": 4,
    "start_time": "2022-11-15T17:35:36.744Z"
   },
   {
    "duration": 52,
    "start_time": "2022-11-15T17:35:37.634Z"
   },
   {
    "duration": 3,
    "start_time": "2022-11-15T17:36:08.804Z"
   },
   {
    "duration": 58,
    "start_time": "2022-11-15T17:36:10.098Z"
   },
   {
    "duration": 5,
    "start_time": "2022-11-15T17:38:21.366Z"
   },
   {
    "duration": 58,
    "start_time": "2022-11-15T17:38:22.568Z"
   },
   {
    "duration": 3,
    "start_time": "2022-11-15T17:38:31.345Z"
   },
   {
    "duration": 61,
    "start_time": "2022-11-15T17:38:32.877Z"
   },
   {
    "duration": 3,
    "start_time": "2022-11-15T17:38:50.645Z"
   },
   {
    "duration": 61,
    "start_time": "2022-11-15T17:38:51.719Z"
   },
   {
    "duration": 4,
    "start_time": "2022-11-15T17:38:59.682Z"
   },
   {
    "duration": 59,
    "start_time": "2022-11-15T17:39:01.273Z"
   },
   {
    "duration": 1366,
    "start_time": "2022-11-15T17:54:30.631Z"
   },
   {
    "duration": 28,
    "start_time": "2022-11-15T17:54:31.999Z"
   },
   {
    "duration": 19,
    "start_time": "2022-11-15T17:54:32.029Z"
   },
   {
    "duration": 18,
    "start_time": "2022-11-15T17:54:32.049Z"
   },
   {
    "duration": 27,
    "start_time": "2022-11-15T17:54:32.070Z"
   },
   {
    "duration": 918,
    "start_time": "2022-11-15T17:54:32.098Z"
   },
   {
    "duration": 4,
    "start_time": "2022-11-15T17:54:33.018Z"
   },
   {
    "duration": 11,
    "start_time": "2022-11-15T17:54:33.024Z"
   },
   {
    "duration": 171,
    "start_time": "2022-11-15T17:54:33.037Z"
   },
   {
    "duration": 480,
    "start_time": "2022-11-15T17:54:33.209Z"
   },
   {
    "duration": 2881,
    "start_time": "2022-11-15T17:54:33.691Z"
   },
   {
    "duration": 77,
    "start_time": "2022-11-15T17:54:36.575Z"
   },
   {
    "duration": 153,
    "start_time": "2022-11-15T17:54:36.654Z"
   },
   {
    "duration": 1484,
    "start_time": "2022-11-15T17:58:40.554Z"
   },
   {
    "duration": 29,
    "start_time": "2022-11-15T17:58:42.041Z"
   },
   {
    "duration": 23,
    "start_time": "2022-11-15T17:58:42.072Z"
   },
   {
    "duration": 26,
    "start_time": "2022-11-15T17:58:42.097Z"
   },
   {
    "duration": 35,
    "start_time": "2022-11-15T17:58:42.126Z"
   },
   {
    "duration": 972,
    "start_time": "2022-11-15T17:58:42.164Z"
   },
   {
    "duration": 12,
    "start_time": "2022-11-15T17:58:43.138Z"
   },
   {
    "duration": 9,
    "start_time": "2022-11-15T17:58:43.153Z"
   },
   {
    "duration": 215,
    "start_time": "2022-11-15T17:58:43.164Z"
   },
   {
    "duration": 574,
    "start_time": "2022-11-15T17:58:43.382Z"
   },
   {
    "duration": 1593,
    "start_time": "2022-11-15T17:58:43.958Z"
   },
   {
    "duration": 4,
    "start_time": "2022-11-15T17:58:45.554Z"
   },
   {
    "duration": 164,
    "start_time": "2022-11-15T17:58:45.560Z"
   },
   {
    "duration": 1786,
    "start_time": "2022-11-15T18:13:53.391Z"
   },
   {
    "duration": 0,
    "start_time": "2022-11-15T18:13:55.179Z"
   },
   {
    "duration": 0,
    "start_time": "2022-11-15T18:13:55.180Z"
   },
   {
    "duration": 0,
    "start_time": "2022-11-15T18:13:55.181Z"
   },
   {
    "duration": 0,
    "start_time": "2022-11-15T18:13:55.182Z"
   },
   {
    "duration": 0,
    "start_time": "2022-11-15T18:13:55.183Z"
   },
   {
    "duration": 1,
    "start_time": "2022-11-15T18:13:55.183Z"
   },
   {
    "duration": 0,
    "start_time": "2022-11-15T18:13:55.185Z"
   },
   {
    "duration": 0,
    "start_time": "2022-11-15T18:13:55.186Z"
   },
   {
    "duration": 0,
    "start_time": "2022-11-15T18:13:55.186Z"
   },
   {
    "duration": 0,
    "start_time": "2022-11-15T18:13:55.204Z"
   },
   {
    "duration": 0,
    "start_time": "2022-11-15T18:13:55.205Z"
   },
   {
    "duration": 0,
    "start_time": "2022-11-15T18:13:55.206Z"
   },
   {
    "duration": 3554,
    "start_time": "2022-11-15T18:14:24.896Z"
   },
   {
    "duration": 2,
    "start_time": "2022-11-15T18:14:37.170Z"
   },
   {
    "duration": 167,
    "start_time": "2022-11-15T18:14:37.174Z"
   },
   {
    "duration": 4,
    "start_time": "2022-11-15T18:14:39.945Z"
   },
   {
    "duration": 1771,
    "start_time": "2022-11-15T18:14:39.951Z"
   },
   {
    "duration": 25,
    "start_time": "2022-11-15T18:14:41.723Z"
   },
   {
    "duration": 16,
    "start_time": "2022-11-15T18:14:41.749Z"
   },
   {
    "duration": 10,
    "start_time": "2022-11-15T18:14:41.766Z"
   },
   {
    "duration": 28,
    "start_time": "2022-11-15T18:14:41.777Z"
   },
   {
    "duration": 751,
    "start_time": "2022-11-15T18:14:41.807Z"
   },
   {
    "duration": 4,
    "start_time": "2022-11-15T18:14:42.559Z"
   },
   {
    "duration": 9,
    "start_time": "2022-11-15T18:14:42.565Z"
   },
   {
    "duration": 142,
    "start_time": "2022-11-15T18:14:42.575Z"
   },
   {
    "duration": 661,
    "start_time": "2022-11-15T18:14:42.719Z"
   },
   {
    "duration": 2627,
    "start_time": "2022-11-15T18:14:43.382Z"
   },
   {
    "duration": 91,
    "start_time": "2022-11-15T18:14:46.014Z"
   },
   {
    "duration": 51,
    "start_time": "2022-11-15T18:14:46.107Z"
   },
   {
    "duration": 44,
    "start_time": "2022-11-16T05:51:02.651Z"
   },
   {
    "duration": 1157,
    "start_time": "2022-11-16T05:51:10.127Z"
   },
   {
    "duration": 0,
    "start_time": "2022-11-16T05:51:11.286Z"
   },
   {
    "duration": 0,
    "start_time": "2022-11-16T05:51:11.286Z"
   },
   {
    "duration": 0,
    "start_time": "2022-11-16T05:51:11.288Z"
   },
   {
    "duration": 0,
    "start_time": "2022-11-16T05:51:11.289Z"
   },
   {
    "duration": 0,
    "start_time": "2022-11-16T05:51:11.290Z"
   },
   {
    "duration": 0,
    "start_time": "2022-11-16T05:51:11.291Z"
   },
   {
    "duration": 0,
    "start_time": "2022-11-16T05:51:11.291Z"
   },
   {
    "duration": 8,
    "start_time": "2022-11-16T05:51:12.247Z"
   },
   {
    "duration": 5753,
    "start_time": "2022-11-16T05:51:50.864Z"
   },
   {
    "duration": 4,
    "start_time": "2022-11-16T05:52:30.005Z"
   },
   {
    "duration": 1176,
    "start_time": "2022-11-16T05:52:31.765Z"
   },
   {
    "duration": 2,
    "start_time": "2022-11-16T05:52:44.430Z"
   },
   {
    "duration": 6,
    "start_time": "2022-11-16T05:52:44.433Z"
   },
   {
    "duration": 68,
    "start_time": "2022-11-16T05:52:44.441Z"
   },
   {
    "duration": 17,
    "start_time": "2022-11-16T05:52:44.511Z"
   },
   {
    "duration": 11,
    "start_time": "2022-11-16T05:52:44.529Z"
   },
   {
    "duration": 22,
    "start_time": "2022-11-16T05:52:44.542Z"
   },
   {
    "duration": 923,
    "start_time": "2022-11-16T05:52:44.565Z"
   },
   {
    "duration": 4,
    "start_time": "2022-11-16T05:52:45.489Z"
   },
   {
    "duration": 18,
    "start_time": "2022-11-16T05:52:45.495Z"
   },
   {
    "duration": 4,
    "start_time": "2022-11-16T05:52:46.098Z"
   },
   {
    "duration": 3,
    "start_time": "2022-11-16T05:53:09.650Z"
   },
   {
    "duration": 43,
    "start_time": "2022-11-16T11:30:51.100Z"
   },
   {
    "duration": 3,
    "start_time": "2022-11-16T11:30:59.669Z"
   },
   {
    "duration": 1106,
    "start_time": "2022-11-16T11:30:59.686Z"
   },
   {
    "duration": 0,
    "start_time": "2022-11-16T11:31:00.793Z"
   },
   {
    "duration": 0,
    "start_time": "2022-11-16T11:31:00.795Z"
   },
   {
    "duration": 0,
    "start_time": "2022-11-16T11:31:00.795Z"
   },
   {
    "duration": 0,
    "start_time": "2022-11-16T11:31:00.796Z"
   },
   {
    "duration": 0,
    "start_time": "2022-11-16T11:31:00.797Z"
   },
   {
    "duration": 0,
    "start_time": "2022-11-16T11:31:00.798Z"
   },
   {
    "duration": 0,
    "start_time": "2022-11-16T11:31:00.799Z"
   },
   {
    "duration": 0,
    "start_time": "2022-11-16T11:31:00.800Z"
   },
   {
    "duration": 0,
    "start_time": "2022-11-16T11:31:00.801Z"
   },
   {
    "duration": 10,
    "start_time": "2022-11-16T11:31:03.965Z"
   },
   {
    "duration": 11,
    "start_time": "2022-11-16T11:31:05.404Z"
   },
   {
    "duration": 5505,
    "start_time": "2022-11-16T11:31:17.270Z"
   },
   {
    "duration": 1099,
    "start_time": "2022-11-16T11:31:39.744Z"
   },
   {
    "duration": 3,
    "start_time": "2022-11-16T11:31:49.359Z"
   },
   {
    "duration": 12,
    "start_time": "2022-11-16T11:31:49.363Z"
   },
   {
    "duration": 68,
    "start_time": "2022-11-16T11:31:49.376Z"
   },
   {
    "duration": 13,
    "start_time": "2022-11-16T11:31:49.445Z"
   },
   {
    "duration": 9,
    "start_time": "2022-11-16T11:31:49.460Z"
   },
   {
    "duration": 27,
    "start_time": "2022-11-16T11:31:49.470Z"
   },
   {
    "duration": 829,
    "start_time": "2022-11-16T11:31:49.499Z"
   },
   {
    "duration": 4,
    "start_time": "2022-11-16T11:31:50.329Z"
   },
   {
    "duration": 9,
    "start_time": "2022-11-16T11:31:50.334Z"
   },
   {
    "duration": 4,
    "start_time": "2022-11-16T11:31:50.351Z"
   },
   {
    "duration": 154,
    "start_time": "2022-11-16T11:31:52.435Z"
   },
   {
    "duration": 4,
    "start_time": "2022-11-16T11:32:05.539Z"
   },
   {
    "duration": 111,
    "start_time": "2022-11-16T11:32:53.664Z"
   },
   {
    "duration": 3,
    "start_time": "2022-11-16T11:33:28.184Z"
   },
   {
    "duration": 84,
    "start_time": "2022-11-16T11:33:32.296Z"
   },
   {
    "duration": 87,
    "start_time": "2022-11-16T11:34:19.190Z"
   },
   {
    "duration": 92,
    "start_time": "2022-11-16T11:34:40.434Z"
   },
   {
    "duration": 8,
    "start_time": "2022-11-16T11:35:03.001Z"
   },
   {
    "duration": 97,
    "start_time": "2022-11-16T11:36:06.764Z"
   },
   {
    "duration": 90,
    "start_time": "2022-11-16T11:36:27.444Z"
   },
   {
    "duration": 4,
    "start_time": "2022-11-16T11:43:01.894Z"
   },
   {
    "duration": 147,
    "start_time": "2022-11-16T11:43:10.054Z"
   },
   {
    "duration": 4,
    "start_time": "2022-11-16T11:43:45.089Z"
   },
   {
    "duration": 133,
    "start_time": "2022-11-16T11:43:45.914Z"
   },
   {
    "duration": 4,
    "start_time": "2022-11-16T11:44:08.109Z"
   },
   {
    "duration": 134,
    "start_time": "2022-11-16T11:44:09.014Z"
   },
   {
    "duration": 116,
    "start_time": "2022-11-16T11:46:49.900Z"
   },
   {
    "duration": 128,
    "start_time": "2022-11-16T11:46:53.616Z"
   },
   {
    "duration": 231,
    "start_time": "2022-11-16T11:52:26.314Z"
   },
   {
    "duration": 126,
    "start_time": "2022-11-16T11:52:33.550Z"
   },
   {
    "duration": 134,
    "start_time": "2022-11-16T11:52:54.144Z"
   },
   {
    "duration": 125,
    "start_time": "2022-11-16T11:52:57.664Z"
   },
   {
    "duration": 125,
    "start_time": "2022-11-16T11:53:11.359Z"
   },
   {
    "duration": 135,
    "start_time": "2022-11-16T11:53:13.999Z"
   },
   {
    "duration": 121,
    "start_time": "2022-11-16T11:53:18.864Z"
   },
   {
    "duration": 151,
    "start_time": "2022-11-16T11:53:23.310Z"
   },
   {
    "duration": 2,
    "start_time": "2022-11-16T12:12:36.215Z"
   },
   {
    "duration": 3,
    "start_time": "2022-11-16T12:12:36.224Z"
   },
   {
    "duration": 28,
    "start_time": "2022-11-16T12:12:36.231Z"
   },
   {
    "duration": 8,
    "start_time": "2022-11-16T12:12:36.261Z"
   },
   {
    "duration": 13,
    "start_time": "2022-11-16T12:12:36.270Z"
   },
   {
    "duration": 19,
    "start_time": "2022-11-16T12:12:36.284Z"
   },
   {
    "duration": 484,
    "start_time": "2022-11-16T12:12:36.304Z"
   },
   {
    "duration": 3,
    "start_time": "2022-11-16T12:12:36.789Z"
   },
   {
    "duration": 13,
    "start_time": "2022-11-16T12:12:36.794Z"
   },
   {
    "duration": 3,
    "start_time": "2022-11-16T12:12:36.808Z"
   },
   {
    "duration": 219,
    "start_time": "2022-11-16T12:12:36.813Z"
   },
   {
    "duration": 4,
    "start_time": "2022-11-16T12:12:37.033Z"
   },
   {
    "duration": 144,
    "start_time": "2022-11-16T12:12:37.039Z"
   },
   {
    "duration": 390,
    "start_time": "2022-11-16T12:12:37.185Z"
   },
   {
    "duration": 135,
    "start_time": "2022-11-16T12:12:37.577Z"
   },
   {
    "duration": 1446,
    "start_time": "2022-11-16T12:12:37.714Z"
   },
   {
    "duration": 230,
    "start_time": "2022-11-16T12:12:39.255Z"
   },
   {
    "duration": 529,
    "start_time": "2022-11-16T12:13:14.886Z"
   },
   {
    "duration": 134,
    "start_time": "2022-11-16T12:13:18.094Z"
   },
   {
    "duration": 126,
    "start_time": "2022-11-16T12:13:44.973Z"
   },
   {
    "duration": 139,
    "start_time": "2022-11-16T12:13:48.529Z"
   },
   {
    "duration": 127,
    "start_time": "2022-11-16T12:13:53.230Z"
   },
   {
    "duration": 121,
    "start_time": "2022-11-16T12:13:57.038Z"
   },
   {
    "duration": 155,
    "start_time": "2022-11-16T12:13:59.859Z"
   },
   {
    "duration": 678,
    "start_time": "2022-11-16T12:14:11.111Z"
   },
   {
    "duration": 135,
    "start_time": "2022-11-16T12:14:14.473Z"
   },
   {
    "duration": 4,
    "start_time": "2022-11-16T12:14:39.109Z"
   },
   {
    "duration": 129,
    "start_time": "2022-11-16T12:14:39.968Z"
   },
   {
    "duration": 5,
    "start_time": "2022-11-16T12:14:55.293Z"
   },
   {
    "duration": 4,
    "start_time": "2022-11-16T12:15:07.098Z"
   },
   {
    "duration": 129,
    "start_time": "2022-11-16T12:15:08.033Z"
   },
   {
    "duration": 397,
    "start_time": "2022-11-16T12:15:13.255Z"
   },
   {
    "duration": 138,
    "start_time": "2022-11-16T12:15:15.677Z"
   },
   {
    "duration": 1251,
    "start_time": "2022-11-16T12:15:20.207Z"
   },
   {
    "duration": 124,
    "start_time": "2022-11-16T12:15:22.720Z"
   },
   {
    "duration": 634,
    "start_time": "2022-11-16T12:35:12.141Z"
   },
   {
    "duration": 589,
    "start_time": "2022-11-16T12:35:14.349Z"
   },
   {
    "duration": 564,
    "start_time": "2022-11-16T12:35:25.111Z"
   },
   {
    "duration": 663,
    "start_time": "2022-11-16T12:42:01.708Z"
   },
   {
    "duration": 1185,
    "start_time": "2022-11-16T12:42:13.332Z"
   },
   {
    "duration": 609,
    "start_time": "2022-11-16T12:42:24.547Z"
   },
   {
    "duration": 722,
    "start_time": "2022-11-16T12:43:35.408Z"
   },
   {
    "duration": 443,
    "start_time": "2022-11-16T12:43:56.272Z"
   },
   {
    "duration": 411,
    "start_time": "2022-11-16T12:44:06.508Z"
   },
   {
    "duration": 432,
    "start_time": "2022-11-16T12:44:14.559Z"
   },
   {
    "duration": 423,
    "start_time": "2022-11-16T12:50:14.924Z"
   },
   {
    "duration": 426,
    "start_time": "2022-11-16T12:50:23.674Z"
   },
   {
    "duration": 405,
    "start_time": "2022-11-16T12:50:36.663Z"
   },
   {
    "duration": 413,
    "start_time": "2022-11-16T12:50:42.584Z"
   },
   {
    "duration": 2,
    "start_time": "2022-11-16T13:02:58.985Z"
   },
   {
    "duration": 39,
    "start_time": "2022-11-16T13:03:01.045Z"
   },
   {
    "duration": 2,
    "start_time": "2022-11-16T13:03:10.886Z"
   },
   {
    "duration": 42,
    "start_time": "2022-11-16T13:03:11.996Z"
   },
   {
    "duration": 3,
    "start_time": "2022-11-16T13:03:13.446Z"
   },
   {
    "duration": 43,
    "start_time": "2022-11-16T13:03:14.584Z"
   },
   {
    "duration": 2,
    "start_time": "2022-11-16T13:03:31.454Z"
   },
   {
    "duration": 40,
    "start_time": "2022-11-16T13:03:32.144Z"
   },
   {
    "duration": 3,
    "start_time": "2022-11-16T13:04:00.900Z"
   },
   {
    "duration": 43,
    "start_time": "2022-11-16T13:04:01.870Z"
   },
   {
    "duration": 3,
    "start_time": "2022-11-16T13:04:05.155Z"
   },
   {
    "duration": 43,
    "start_time": "2022-11-16T13:04:06.735Z"
   },
   {
    "duration": 3,
    "start_time": "2022-11-16T13:04:14.485Z"
   },
   {
    "duration": 39,
    "start_time": "2022-11-16T13:04:15.455Z"
   },
   {
    "duration": 2,
    "start_time": "2022-11-16T13:04:21.315Z"
   },
   {
    "duration": 48,
    "start_time": "2022-11-16T13:04:22.485Z"
   },
   {
    "duration": 3,
    "start_time": "2022-11-16T13:04:23.395Z"
   },
   {
    "duration": 48,
    "start_time": "2022-11-16T13:04:24.205Z"
   },
   {
    "duration": 3,
    "start_time": "2022-11-16T13:04:51.155Z"
   },
   {
    "duration": 40,
    "start_time": "2022-11-16T13:04:52.255Z"
   },
   {
    "duration": 2,
    "start_time": "2022-11-16T13:04:57.380Z"
   },
   {
    "duration": 43,
    "start_time": "2022-11-16T13:04:58.275Z"
   },
   {
    "duration": 3,
    "start_time": "2022-11-16T13:05:07.800Z"
   },
   {
    "duration": 42,
    "start_time": "2022-11-16T13:05:08.646Z"
   },
   {
    "duration": 2,
    "start_time": "2022-11-16T13:05:10.647Z"
   },
   {
    "duration": 45,
    "start_time": "2022-11-16T13:05:13.126Z"
   },
   {
    "duration": 2,
    "start_time": "2022-11-16T13:05:15.082Z"
   },
   {
    "duration": 41,
    "start_time": "2022-11-16T13:05:16.371Z"
   },
   {
    "duration": 3,
    "start_time": "2022-11-16T13:05:20.043Z"
   },
   {
    "duration": 43,
    "start_time": "2022-11-16T13:05:20.887Z"
   },
   {
    "duration": 3,
    "start_time": "2022-11-16T13:05:34.548Z"
   },
   {
    "duration": 3,
    "start_time": "2022-11-16T13:05:35.767Z"
   },
   {
    "duration": 40,
    "start_time": "2022-11-16T13:05:36.895Z"
   },
   {
    "duration": 3,
    "start_time": "2022-11-16T13:05:48.329Z"
   },
   {
    "duration": 45,
    "start_time": "2022-11-16T13:05:49.162Z"
   },
   {
    "duration": 2,
    "start_time": "2022-11-16T13:06:06.139Z"
   },
   {
    "duration": 42,
    "start_time": "2022-11-16T13:06:07.571Z"
   },
   {
    "duration": 3,
    "start_time": "2022-11-16T13:06:08.931Z"
   },
   {
    "duration": 39,
    "start_time": "2022-11-16T13:06:09.917Z"
   },
   {
    "duration": 463,
    "start_time": "2022-11-16T13:10:15.962Z"
   },
   {
    "duration": 3,
    "start_time": "2022-11-16T13:11:20.498Z"
   },
   {
    "duration": 39,
    "start_time": "2022-11-16T13:11:21.945Z"
   },
   {
    "duration": 11,
    "start_time": "2022-11-16T13:50:18.150Z"
   },
   {
    "duration": 11,
    "start_time": "2022-11-16T13:51:40.273Z"
   },
   {
    "duration": 9,
    "start_time": "2022-11-16T13:51:48.084Z"
   },
   {
    "duration": 14,
    "start_time": "2022-11-16T13:52:22.476Z"
   },
   {
    "duration": 4,
    "start_time": "2022-11-16T14:30:19.944Z"
   },
   {
    "duration": 3,
    "start_time": "2022-11-16T14:30:33.109Z"
   },
   {
    "duration": 2,
    "start_time": "2022-11-16T14:30:33.331Z"
   },
   {
    "duration": 44,
    "start_time": "2022-11-16T14:30:34.704Z"
   },
   {
    "duration": 2,
    "start_time": "2022-11-16T14:32:30.184Z"
   },
   {
    "duration": 76,
    "start_time": "2022-11-16T14:32:30.188Z"
   },
   {
    "duration": 0,
    "start_time": "2022-11-16T14:32:30.265Z"
   },
   {
    "duration": 0,
    "start_time": "2022-11-16T14:32:30.266Z"
   },
   {
    "duration": 0,
    "start_time": "2022-11-16T14:32:30.267Z"
   },
   {
    "duration": 0,
    "start_time": "2022-11-16T14:32:30.268Z"
   },
   {
    "duration": 0,
    "start_time": "2022-11-16T14:32:30.270Z"
   },
   {
    "duration": 0,
    "start_time": "2022-11-16T14:32:30.271Z"
   },
   {
    "duration": 0,
    "start_time": "2022-11-16T14:32:30.272Z"
   },
   {
    "duration": 0,
    "start_time": "2022-11-16T14:32:30.273Z"
   },
   {
    "duration": 0,
    "start_time": "2022-11-16T14:32:30.274Z"
   },
   {
    "duration": 0,
    "start_time": "2022-11-16T14:32:30.274Z"
   },
   {
    "duration": 0,
    "start_time": "2022-11-16T14:32:30.275Z"
   },
   {
    "duration": 0,
    "start_time": "2022-11-16T14:32:30.276Z"
   },
   {
    "duration": 0,
    "start_time": "2022-11-16T14:32:30.277Z"
   },
   {
    "duration": 0,
    "start_time": "2022-11-16T14:32:30.278Z"
   },
   {
    "duration": 0,
    "start_time": "2022-11-16T14:32:30.279Z"
   },
   {
    "duration": 0,
    "start_time": "2022-11-16T14:32:30.280Z"
   },
   {
    "duration": 3,
    "start_time": "2022-11-16T14:32:32.011Z"
   },
   {
    "duration": 43,
    "start_time": "2022-11-16T14:32:33.081Z"
   },
   {
    "duration": 57,
    "start_time": "2022-11-16T14:33:00.581Z"
   },
   {
    "duration": 2,
    "start_time": "2022-11-16T14:33:04.289Z"
   },
   {
    "duration": 44,
    "start_time": "2022-11-16T14:33:05.240Z"
   },
   {
    "duration": 3,
    "start_time": "2022-11-16T14:33:18.625Z"
   },
   {
    "duration": 116,
    "start_time": "2022-11-16T14:33:18.630Z"
   },
   {
    "duration": 0,
    "start_time": "2022-11-16T14:33:18.748Z"
   },
   {
    "duration": 0,
    "start_time": "2022-11-16T14:33:18.749Z"
   },
   {
    "duration": 0,
    "start_time": "2022-11-16T14:33:18.750Z"
   },
   {
    "duration": 0,
    "start_time": "2022-11-16T14:33:18.752Z"
   },
   {
    "duration": 0,
    "start_time": "2022-11-16T14:33:18.753Z"
   },
   {
    "duration": 0,
    "start_time": "2022-11-16T14:33:18.754Z"
   },
   {
    "duration": 0,
    "start_time": "2022-11-16T14:33:18.755Z"
   },
   {
    "duration": 0,
    "start_time": "2022-11-16T14:33:18.756Z"
   },
   {
    "duration": 0,
    "start_time": "2022-11-16T14:33:18.757Z"
   },
   {
    "duration": 0,
    "start_time": "2022-11-16T14:33:18.759Z"
   },
   {
    "duration": 0,
    "start_time": "2022-11-16T14:33:18.760Z"
   },
   {
    "duration": 0,
    "start_time": "2022-11-16T14:33:18.761Z"
   },
   {
    "duration": 0,
    "start_time": "2022-11-16T14:33:18.763Z"
   },
   {
    "duration": 0,
    "start_time": "2022-11-16T14:33:18.763Z"
   },
   {
    "duration": 0,
    "start_time": "2022-11-16T14:33:18.764Z"
   },
   {
    "duration": 0,
    "start_time": "2022-11-16T14:33:18.765Z"
   },
   {
    "duration": 0,
    "start_time": "2022-11-16T14:33:18.765Z"
   },
   {
    "duration": 1748,
    "start_time": "2022-11-16T14:33:28.890Z"
   },
   {
    "duration": 76,
    "start_time": "2022-11-16T14:33:40.809Z"
   },
   {
    "duration": 1253,
    "start_time": "2022-11-16T14:33:56.609Z"
   },
   {
    "duration": 2,
    "start_time": "2022-11-16T14:34:21.639Z"
   },
   {
    "duration": 3,
    "start_time": "2022-11-16T14:34:21.654Z"
   },
   {
    "duration": 31,
    "start_time": "2022-11-16T14:34:21.659Z"
   },
   {
    "duration": 10,
    "start_time": "2022-11-16T14:34:21.692Z"
   },
   {
    "duration": 8,
    "start_time": "2022-11-16T14:34:21.704Z"
   },
   {
    "duration": 19,
    "start_time": "2022-11-16T14:34:21.714Z"
   },
   {
    "duration": 531,
    "start_time": "2022-11-16T14:34:21.735Z"
   },
   {
    "duration": 4,
    "start_time": "2022-11-16T14:34:22.267Z"
   },
   {
    "duration": 12,
    "start_time": "2022-11-16T14:34:22.272Z"
   },
   {
    "duration": 3,
    "start_time": "2022-11-16T14:34:22.285Z"
   },
   {
    "duration": 151,
    "start_time": "2022-11-16T14:34:22.289Z"
   },
   {
    "duration": 10,
    "start_time": "2022-11-16T14:34:22.442Z"
   },
   {
    "duration": 167,
    "start_time": "2022-11-16T14:34:22.454Z"
   },
   {
    "duration": 448,
    "start_time": "2022-11-16T14:34:22.623Z"
   },
   {
    "duration": 565,
    "start_time": "2022-11-16T14:34:23.073Z"
   },
   {
    "duration": 130,
    "start_time": "2022-11-16T14:34:23.639Z"
   },
   {
    "duration": 1382,
    "start_time": "2022-11-16T14:34:23.770Z"
   },
   {
    "duration": 219,
    "start_time": "2022-11-16T14:34:25.157Z"
   },
   {
    "duration": 2,
    "start_time": "2022-11-16T14:34:32.330Z"
   },
   {
    "duration": 39,
    "start_time": "2022-11-16T14:34:33.419Z"
   },
   {
    "duration": 4,
    "start_time": "2022-11-16T14:36:38.599Z"
   },
   {
    "duration": 44,
    "start_time": "2022-11-16T14:37:12.230Z"
   },
   {
    "duration": 42,
    "start_time": "2022-11-16T14:39:16.695Z"
   },
   {
    "duration": 5,
    "start_time": "2022-11-16T14:40:30.090Z"
   },
   {
    "duration": 110,
    "start_time": "2022-11-16T16:36:19.434Z"
   },
   {
    "duration": 12,
    "start_time": "2022-11-16T16:36:32.134Z"
   },
   {
    "duration": 8,
    "start_time": "2022-11-16T18:02:38.086Z"
   },
   {
    "duration": 4,
    "start_time": "2022-11-16T18:03:19.062Z"
   },
   {
    "duration": 12,
    "start_time": "2022-11-16T18:03:28.556Z"
   },
   {
    "duration": 6,
    "start_time": "2022-11-16T18:04:14.788Z"
   },
   {
    "duration": 2,
    "start_time": "2022-11-16T18:12:02.192Z"
   },
   {
    "duration": 3,
    "start_time": "2022-11-16T18:12:59.652Z"
   },
   {
    "duration": 3,
    "start_time": "2022-11-16T18:13:21.134Z"
   },
   {
    "duration": 129,
    "start_time": "2022-11-16T18:13:31.103Z"
   },
   {
    "duration": 110,
    "start_time": "2022-11-16T18:14:02.117Z"
   },
   {
    "duration": 192,
    "start_time": "2022-11-16T18:15:55.137Z"
   },
   {
    "duration": 109,
    "start_time": "2022-11-16T18:16:07.492Z"
   },
   {
    "duration": 5,
    "start_time": "2022-11-16T18:31:18.208Z"
   },
   {
    "duration": 2263,
    "start_time": "2022-11-17T07:01:28.580Z"
   },
   {
    "duration": 4,
    "start_time": "2022-11-17T07:02:01.810Z"
   },
   {
    "duration": 1408,
    "start_time": "2022-11-17T07:02:01.830Z"
   },
   {
    "duration": 25,
    "start_time": "2022-11-17T07:02:03.240Z"
   },
   {
    "duration": 13,
    "start_time": "2022-11-17T07:02:03.267Z"
   },
   {
    "duration": 10,
    "start_time": "2022-11-17T07:02:03.281Z"
   },
   {
    "duration": 25,
    "start_time": "2022-11-17T07:02:03.293Z"
   },
   {
    "duration": 635,
    "start_time": "2022-11-17T07:02:03.319Z"
   },
   {
    "duration": 4,
    "start_time": "2022-11-17T07:02:03.956Z"
   },
   {
    "duration": 11,
    "start_time": "2022-11-17T07:02:03.961Z"
   },
   {
    "duration": 4,
    "start_time": "2022-11-17T07:02:03.973Z"
   },
   {
    "duration": 166,
    "start_time": "2022-11-17T07:02:03.979Z"
   },
   {
    "duration": 4,
    "start_time": "2022-11-17T07:02:04.147Z"
   },
   {
    "duration": 162,
    "start_time": "2022-11-17T07:02:04.153Z"
   },
   {
    "duration": 488,
    "start_time": "2022-11-17T07:02:04.316Z"
   },
   {
    "duration": 599,
    "start_time": "2022-11-17T07:02:04.807Z"
   },
   {
    "duration": 165,
    "start_time": "2022-11-17T07:02:05.407Z"
   },
   {
    "duration": 1940,
    "start_time": "2022-11-17T07:02:05.574Z"
   },
   {
    "duration": 329,
    "start_time": "2022-11-17T07:02:07.516Z"
   },
   {
    "duration": 2,
    "start_time": "2022-11-17T07:02:07.847Z"
   },
   {
    "duration": 7,
    "start_time": "2022-11-17T07:02:07.851Z"
   },
   {
    "duration": 59,
    "start_time": "2022-11-17T07:02:07.859Z"
   },
   {
    "duration": 45,
    "start_time": "2022-11-17T07:02:07.919Z"
   },
   {
    "duration": 5,
    "start_time": "2022-11-17T07:02:07.966Z"
   },
   {
    "duration": 134,
    "start_time": "2022-11-17T07:06:31.131Z"
   },
   {
    "duration": 21,
    "start_time": "2022-11-17T07:06:42.207Z"
   },
   {
    "duration": 3,
    "start_time": "2022-11-17T07:06:51.254Z"
   },
   {
    "duration": 8,
    "start_time": "2022-11-17T07:06:51.263Z"
   },
   {
    "duration": 35,
    "start_time": "2022-11-17T07:06:51.273Z"
   },
   {
    "duration": 11,
    "start_time": "2022-11-17T07:06:51.314Z"
   },
   {
    "duration": 12,
    "start_time": "2022-11-17T07:06:51.327Z"
   },
   {
    "duration": 24,
    "start_time": "2022-11-17T07:06:51.341Z"
   },
   {
    "duration": 673,
    "start_time": "2022-11-17T07:06:51.367Z"
   },
   {
    "duration": 4,
    "start_time": "2022-11-17T07:06:52.042Z"
   },
   {
    "duration": 12,
    "start_time": "2022-11-17T07:06:52.048Z"
   },
   {
    "duration": 4,
    "start_time": "2022-11-17T07:06:52.062Z"
   },
   {
    "duration": 190,
    "start_time": "2022-11-17T07:06:52.068Z"
   },
   {
    "duration": 4,
    "start_time": "2022-11-17T07:06:52.260Z"
   },
   {
    "duration": 186,
    "start_time": "2022-11-17T07:06:52.265Z"
   },
   {
    "duration": 494,
    "start_time": "2022-11-17T07:06:52.453Z"
   },
   {
    "duration": 520,
    "start_time": "2022-11-17T07:06:52.949Z"
   },
   {
    "duration": 181,
    "start_time": "2022-11-17T07:06:53.471Z"
   },
   {
    "duration": 2961,
    "start_time": "2022-11-17T07:06:53.654Z"
   },
   {
    "duration": 333,
    "start_time": "2022-11-17T07:06:56.620Z"
   },
   {
    "duration": 3,
    "start_time": "2022-11-17T07:06:56.955Z"
   },
   {
    "duration": 9,
    "start_time": "2022-11-17T07:06:56.960Z"
   },
   {
    "duration": 64,
    "start_time": "2022-11-17T07:06:56.970Z"
   },
   {
    "duration": 44,
    "start_time": "2022-11-17T07:06:57.035Z"
   },
   {
    "duration": 18,
    "start_time": "2022-11-17T07:07:00.479Z"
   },
   {
    "duration": 21,
    "start_time": "2022-11-17T07:07:14.503Z"
   },
   {
    "duration": 55,
    "start_time": "2022-11-17T07:07:44.074Z"
   },
   {
    "duration": 190,
    "start_time": "2022-11-17T07:07:55.624Z"
   },
   {
    "duration": 269,
    "start_time": "2022-11-17T07:08:04.619Z"
   },
   {
    "duration": 31,
    "start_time": "2022-11-17T07:10:16.419Z"
   },
   {
    "duration": 26,
    "start_time": "2022-11-17T07:11:00.384Z"
   },
   {
    "duration": 26,
    "start_time": "2022-11-17T07:12:30.596Z"
   },
   {
    "duration": 25,
    "start_time": "2022-11-17T07:12:40.548Z"
   },
   {
    "duration": 169,
    "start_time": "2022-11-17T07:12:52.980Z"
   },
   {
    "duration": 11,
    "start_time": "2022-11-17T07:14:20.090Z"
   },
   {
    "duration": 4,
    "start_time": "2022-11-17T07:14:41.963Z"
   },
   {
    "duration": 174,
    "start_time": "2022-11-17T07:14:56.278Z"
   },
   {
    "duration": 3,
    "start_time": "2022-11-17T09:53:31.463Z"
   },
   {
    "duration": 1684,
    "start_time": "2022-11-17T09:53:31.491Z"
   },
   {
    "duration": 0,
    "start_time": "2022-11-17T09:53:33.177Z"
   },
   {
    "duration": 0,
    "start_time": "2022-11-17T09:53:33.178Z"
   },
   {
    "duration": 0,
    "start_time": "2022-11-17T09:53:33.179Z"
   },
   {
    "duration": 0,
    "start_time": "2022-11-17T09:53:33.180Z"
   },
   {
    "duration": 0,
    "start_time": "2022-11-17T09:53:33.181Z"
   },
   {
    "duration": 0,
    "start_time": "2022-11-17T09:53:33.182Z"
   },
   {
    "duration": 0,
    "start_time": "2022-11-17T09:53:33.183Z"
   },
   {
    "duration": 0,
    "start_time": "2022-11-17T09:53:33.184Z"
   },
   {
    "duration": 0,
    "start_time": "2022-11-17T09:53:33.185Z"
   },
   {
    "duration": 0,
    "start_time": "2022-11-17T09:53:33.186Z"
   },
   {
    "duration": 0,
    "start_time": "2022-11-17T09:53:33.187Z"
   },
   {
    "duration": 0,
    "start_time": "2022-11-17T09:53:33.188Z"
   },
   {
    "duration": 1,
    "start_time": "2022-11-17T09:53:33.188Z"
   },
   {
    "duration": 0,
    "start_time": "2022-11-17T09:53:33.189Z"
   },
   {
    "duration": 0,
    "start_time": "2022-11-17T09:53:33.190Z"
   },
   {
    "duration": 0,
    "start_time": "2022-11-17T09:53:33.191Z"
   },
   {
    "duration": 0,
    "start_time": "2022-11-17T09:53:33.192Z"
   },
   {
    "duration": 0,
    "start_time": "2022-11-17T09:53:33.193Z"
   },
   {
    "duration": 0,
    "start_time": "2022-11-17T09:53:33.194Z"
   },
   {
    "duration": 0,
    "start_time": "2022-11-17T09:53:33.195Z"
   },
   {
    "duration": 0,
    "start_time": "2022-11-17T09:53:33.198Z"
   },
   {
    "duration": 6180,
    "start_time": "2022-11-17T09:53:41.571Z"
   },
   {
    "duration": 3,
    "start_time": "2022-11-17T09:54:07.366Z"
   },
   {
    "duration": 1436,
    "start_time": "2022-11-17T09:54:07.371Z"
   },
   {
    "duration": 120,
    "start_time": "2022-11-17T09:54:08.809Z"
   },
   {
    "duration": 13,
    "start_time": "2022-11-17T09:54:08.931Z"
   },
   {
    "duration": 11,
    "start_time": "2022-11-17T09:54:08.945Z"
   },
   {
    "duration": 22,
    "start_time": "2022-11-17T09:54:08.957Z"
   },
   {
    "duration": 620,
    "start_time": "2022-11-17T09:54:08.980Z"
   },
   {
    "duration": 3,
    "start_time": "2022-11-17T09:54:09.602Z"
   },
   {
    "duration": 34,
    "start_time": "2022-11-17T09:54:09.607Z"
   },
   {
    "duration": 16,
    "start_time": "2022-11-17T09:54:09.642Z"
   },
   {
    "duration": 163,
    "start_time": "2022-11-17T09:54:09.660Z"
   },
   {
    "duration": 10,
    "start_time": "2022-11-17T09:54:09.825Z"
   },
   {
    "duration": 191,
    "start_time": "2022-11-17T09:54:09.836Z"
   },
   {
    "duration": 467,
    "start_time": "2022-11-17T09:54:10.029Z"
   },
   {
    "duration": 573,
    "start_time": "2022-11-17T09:54:10.498Z"
   },
   {
    "duration": 157,
    "start_time": "2022-11-17T09:54:11.073Z"
   },
   {
    "duration": 1706,
    "start_time": "2022-11-17T09:54:11.235Z"
   },
   {
    "duration": 327,
    "start_time": "2022-11-17T09:54:12.944Z"
   },
   {
    "duration": 2,
    "start_time": "2022-11-17T09:54:13.273Z"
   },
   {
    "duration": 13,
    "start_time": "2022-11-17T09:54:13.277Z"
   },
   {
    "duration": 52,
    "start_time": "2022-11-17T09:54:13.291Z"
   },
   {
    "duration": 43,
    "start_time": "2022-11-17T09:54:13.344Z"
   },
   {
    "duration": 274,
    "start_time": "2022-11-17T09:54:13.388Z"
   }
  ],
  "kernelspec": {
   "display_name": "Python 3 (ipykernel)",
   "language": "python",
   "name": "python3"
  },
  "language_info": {
   "codemirror_mode": {
    "name": "ipython",
    "version": 3
   },
   "file_extension": ".py",
   "mimetype": "text/x-python",
   "name": "python",
   "nbconvert_exporter": "python",
   "pygments_lexer": "ipython3",
   "version": "3.11.3"
  },
  "toc": {
   "base_numbering": 1,
   "nav_menu": {},
   "number_sections": true,
   "sideBar": true,
   "skip_h1_title": true,
   "title_cell": "Table of Contents",
   "title_sidebar": "Contents",
   "toc_cell": false,
   "toc_position": {},
   "toc_section_display": true,
   "toc_window_display": false
  }
 },
 "nbformat": 4,
 "nbformat_minor": 2
}
