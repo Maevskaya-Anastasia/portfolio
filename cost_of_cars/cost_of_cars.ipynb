{
 "cells": [
  {
   "cell_type": "markdown",
   "metadata": {},
   "source": [
    "## 1 Импорт библиотек и модулей"
   ]
  },
  {
   "cell_type": "code",
   "execution_count": 1,
   "metadata": {},
   "outputs": [],
   "source": [
    "!pip install -q ydata_profiling"
   ]
  },
  {
   "cell_type": "code",
   "execution_count": 1,
   "metadata": {},
   "outputs": [],
   "source": [
    "#!pip install q category_encoders"
   ]
  },
  {
   "cell_type": "code",
   "execution_count": 2,
   "metadata": {},
   "outputs": [],
   "source": [
    "#!pip install q lightgbm"
   ]
  },
  {
   "cell_type": "code",
   "execution_count": 3,
   "metadata": {},
   "outputs": [],
   "source": [
    "#!pip install q hyperopt"
   ]
  },
  {
   "cell_type": "code",
   "execution_count": 5,
   "metadata": {},
   "outputs": [],
   "source": [
    "%matplotlib inline"
   ]
  },
  {
   "cell_type": "code",
   "execution_count": 6,
   "metadata": {
    "scrolled": false
   },
   "outputs": [],
   "source": [
    "# для обработки ошибок \n",
    "import warnings\n",
    "\n",
    "# для математических вычислений\n",
    "import numpy as np\n",
    "\n",
    "# для работы с таблицами\n",
    "import pandas as pd\n",
    "\n",
    "# для EDA анализа\n",
    "import ydata_profiling\n",
    "\n",
    "# для визуализации\n",
    "import matplotlib.pyplot as plt\n",
    "\n",
    "# для разбивки данных на выборки\n",
    "from sklearn.model_selection import train_test_split\n",
    "\n",
    "# для кодирования данных\n",
    "import category_encoders as ce\n",
    "\n",
    "# для масштабирования признаков\n",
    "from sklearn.preprocessing import RobustScaler\n",
    "\n",
    "# константная модель\n",
    "from sklearn.dummy import DummyRegressor\n",
    "\n",
    "# для расчёта качества моделей\n",
    "from sklearn.metrics import make_scorer, mean_squared_error\n",
    "from sklearn.model_selection import cross_val_score\n",
    "\n",
    "# модели машинного обучения\n",
    "from sklearn.linear_model import LinearRegression, SGDRegressor, BayesianRidge\n",
    "from sklearn.tree import DecisionTreeRegressor\n",
    "from sklearn.ensemble import RandomForestRegressor\n",
    "\n",
    "# для реализации градиентного бустинга\n",
    "import lightgbm as lgb\n",
    "\n",
    "# для подбора гиперпараметров\n",
    "from hyperopt import fmin, tpe, hp, STATUS_OK, Trials\n",
    "from hyperopt.pyll.base import scope\n",
    "\n",
    "# для расчёта времени выполнения кода\n",
    "import time"
   ]
  },
  {
   "cell_type": "markdown",
   "metadata": {},
   "source": [
    "## 2 Открытие файла с данными и изучение общей информации\n",
    "Считаем данные из csv-файла в датафрейм, сохраним в переменную `df` и проведём EDA анализ."
   ]
  },
  {
   "cell_type": "code",
   "execution_count": 75,
   "metadata": {},
   "outputs": [],
   "source": [
    "def read_eda(name):\n",
    "    try:\n",
    "        df = pd.read_csv('/datasets/' + name + '.csv', index_col=[0], parse_dates=[0])\n",
    "    except:\n",
    "        df = pd.read_csv('https://code.s3.yandex.net/datasets/' + name + '.csv', index_col=[0], parse_dates=[0])\n",
    "    ydata_profiling.ProfileReport(df, progress_bar=False).to_file(name + '.html')\n",
    "    return df"
   ]
  },
  {
   "cell_type": "code",
   "execution_count": 77,
   "metadata": {},
   "outputs": [],
   "source": [
    "df = read_eda('autos')"
   ]
  },
  {
   "cell_type": "markdown",
   "metadata": {},
   "source": [
    "[Посмотреть анализ.](https://www.dropbox.com/s/onu005e1sar22u3/autos.html?dl=0)\n",
    "\n",
    "- **В данных 354369 строк, 16 столбцов, 2 типа данных: int, object.**\n",
    "- **Обнаружены некорректные названия столбцов.**\n",
    "- **Присутствуют столбцы с идентификационными переменными.**\n",
    "- **Присутствуют пропуски в нецелевых признаках.**\n",
    "- **Нулевые минимальные значения в столбцах `Price`, `Power` и `RegistrationMonth` выглядят как аномалии.**\n",
    "- **Максимальное значение столбца `Power` является аномалией, так как даже [самые мощные автомобили в мире](https://www.arenda-auto.ru/news/samye-moshchnye-avtomobili-v-mire.html) имеют меньшее кол-во лошадиных сил.**\n",
    "- **Минимальное значение столбца `RegistrationYear` — аномалия, поскокльку машины появились позже ([история автомобиля](https://ru.wikipedia.org/wiki/%D0%98%D1%81%D1%82%D0%BE%D1%80%D0%B8%D1%8F_%D0%B0%D0%B2%D1%82%D0%BE%D0%BC%D0%BE%D0%B1%D0%B8%D0%BB%D1%8F)), максимальное значение данного столбца также является аномалией, так как данный проект создаётся в 2023 году.**\n",
    "- **Столбец `NumberOfPictures` полностью состоит из нулей, его позже удалим.**"
   ]
  },
  {
   "cell_type": "markdown",
   "metadata": {},
   "source": [
    "<div style=\"border:solid steelblue 5px; padding: 30px\">\n",
    "<p>\n",
    "        <b>После изучения данных, стала ясна их общая структура:</b> 354369 строк, 16 столбцов, 2 типа данных: int, object.<br> <b>Также были обнаружены данные, подлежащие обработке:</b>\n",
    "        <li>Названия столбцов.</li>\n",
    "        <li>Столбцы с идентификационными переменными.</li>\n",
    "        <li>Пропуски в нецелевых признаках.</li>\n",
    "        <li>Дубликаты.</li>\n",
    "        <li>Аномалии.</li>\n",
    "    </p>  \n",
    "</div>"
   ]
  },
  {
   "cell_type": "markdown",
   "metadata": {},
   "source": [
    "## 3 Подготовка данных\n",
    "### 3.1 Работа со столбцами\n",
    "Добавим нижние подчёркивания между словами в названиях столбцов и изменим их регистр на нижний."
   ]
  },
  {
   "cell_type": "code",
   "execution_count": 9,
   "metadata": {},
   "outputs": [],
   "source": [
    "df.columns = df.columns.str.replace(r\"([A-Z])\", r\" \\1\", regex=True).str.lower().str.replace(' ', '_').str[1:]"
   ]
  },
  {
   "cell_type": "markdown",
   "metadata": {},
   "source": [
    "Проверим названия."
   ]
  },
  {
   "cell_type": "code",
   "execution_count": 10,
   "metadata": {},
   "outputs": [
    {
     "data": {
      "text/plain": [
       "Index(['date_crawled', 'price', 'vehicle_type', 'registration_year', 'gearbox',\n",
       "       'power', 'model', 'kilometer', 'registration_month', 'fuel_type',\n",
       "       'brand', 'repaired', 'date_created', 'number_of_pictures',\n",
       "       'postal_code', 'last_seen'],\n",
       "      dtype='object')"
      ]
     },
     "execution_count": 10,
     "metadata": {},
     "output_type": "execute_result"
    }
   ],
   "source": [
    "df.columns"
   ]
  },
  {
   "cell_type": "markdown",
   "metadata": {},
   "source": [
    "Удалим столбцы, содержащие идентификационные переменные, предварительно создав копию исходного датафрейма.."
   ]
  },
  {
   "cell_type": "code",
   "execution_count": 11,
   "metadata": {},
   "outputs": [],
   "source": [
    "old_df = df.copy()\n",
    "df = df.drop(['date_crawled', 'date_created', 'postal_code', 'last_seen'], axis=1)"
   ]
  },
  {
   "cell_type": "markdown",
   "metadata": {},
   "source": [
    "Удалим столбец `number_of_pictures`, состоящий из нулей."
   ]
  },
  {
   "cell_type": "code",
   "execution_count": 12,
   "metadata": {},
   "outputs": [],
   "source": [
    "df = df.drop(['number_of_pictures'], axis=1)"
   ]
  },
  {
   "cell_type": "markdown",
   "metadata": {},
   "source": [
    "### 3.2 Обработка пропусков\n",
    "Определим процент пропусков по столбцам."
   ]
  },
  {
   "cell_type": "code",
   "execution_count": 13,
   "metadata": {},
   "outputs": [],
   "source": [
    "def find_nan():\n",
    "    if max(list(df.isna().sum())) > 0:\n",
    "        (\n",
    "            (df.isna().mean()*100)\n",
    "            .to_frame()\n",
    "            .rename(columns = {0:'space'})\n",
    "            .query('space > 0')\n",
    "            .sort_values(by='space', ascending=True)\n",
    "            .plot(kind='barh', figsize=(10, 3), legend=False, fontsize=14, grid=True)\n",
    "            .set_title('Процент пропусков' + \"\\n\", fontsize=16)    \n",
    "        );    \n",
    "    else:\n",
    "        print('Пропусков нет.')"
   ]
  },
  {
   "cell_type": "code",
   "execution_count": 14,
   "metadata": {},
   "outputs": [
    {
     "data": {
      "image/png": "[encoded data removed]",
      "text/plain": [
       "<Figure size 1000x300 with 1 Axes>"
      ]
     },
     "metadata": {},
     "output_type": "display_data"
    }
   ],
   "source": [
    "find_nan()"
   ]
  },
  {
   "cell_type": "markdown",
   "metadata": {},
   "source": [
    "Посмотрим на уникальные значения данных столбцов."
   ]
  },
  {
   "cell_type": "code",
   "execution_count": 15,
   "metadata": {},
   "outputs": [
    {
     "name": "stdout",
     "output_type": "stream",
     "text": [
      "vehicle_type \n",
      " [nan 'coupe' 'suv' 'small' 'sedan' 'convertible' 'bus' 'wagon' 'other'] \n",
      "\n",
      "\n",
      "gearbox \n",
      " ['manual' 'auto' nan] \n",
      "\n",
      "\n",
      "model \n",
      " ['golf' nan 'grand' 'fabia' '3er' '2_reihe' 'other' 'c_max' '3_reihe'\n",
      " 'passat' 'navara' 'ka' 'polo' 'twingo' 'a_klasse' 'scirocco' '5er'\n",
      " 'meriva' 'arosa' 'c4' 'civic' 'transporter' 'punto' 'e_klasse' 'clio'\n",
      " 'kadett' 'kangoo' 'corsa' 'one' 'fortwo' '1er' 'b_klasse' 'signum'\n",
      " 'astra' 'a8' 'jetta' 'fiesta' 'c_klasse' 'micra' 'vito' 'sprinter' '156'\n",
      " 'escort' 'forester' 'xc_reihe' 'scenic' 'a4' 'a1' 'insignia' 'combo'\n",
      " 'focus' 'tt' 'a6' 'jazz' 'omega' 'slk' '7er' '80' '147' '100' 'z_reihe'\n",
      " 'sportage' 'sorento' 'v40' 'ibiza' 'mustang' 'eos' 'touran' 'getz' 'a3'\n",
      " 'almera' 'megane' 'lupo' 'r19' 'zafira' 'caddy' 'mondeo' 'cordoba' 'colt'\n",
      " 'impreza' 'vectra' 'berlingo' 'tiguan' 'i_reihe' 'espace' 'sharan'\n",
      " '6_reihe' 'panda' 'up' 'seicento' 'ceed' '5_reihe' 'yeti' 'octavia' 'mii'\n",
      " 'rx_reihe' '6er' 'modus' 'fox' 'matiz' 'beetle' 'c1' 'rio' 'touareg'\n",
      " 'logan' 'spider' 'cuore' 's_max' 'a2' 'galaxy' 'c3' 'viano' 's_klasse'\n",
      " '1_reihe' 'avensis' 'roomster' 'sl' 'kaefer' 'santa' 'cooper' 'leon'\n",
      " '4_reihe' 'a5' '500' 'laguna' 'ptcruiser' 'clk' 'primera' 'x_reihe'\n",
      " 'exeo' '159' 'transit' 'juke' 'qashqai' 'carisma' 'accord' 'corolla'\n",
      " 'lanos' 'phaeton' 'verso' 'swift' 'rav' 'picanto' 'boxster' 'kalos'\n",
      " 'superb' 'stilo' 'alhambra' 'mx_reihe' 'roadster' 'ypsilon' 'cayenne'\n",
      " 'galant' 'justy' '90' 'sirion' 'crossfire' 'agila' 'duster' 'cr_reihe'\n",
      " 'v50' 'c_reihe' 'v_klasse' 'm_klasse' 'yaris' 'c5' 'aygo' 'cc' 'carnival'\n",
      " 'fusion' '911' 'bora' 'forfour' 'm_reihe' 'cl' 'tigra' '300c' 'spark'\n",
      " 'v70' 'kuga' 'x_type' 'ducato' 's_type' 'x_trail' 'toledo' 'altea'\n",
      " 'voyager' 'calibra' 'bravo' 'antara' 'tucson' 'citigo' 'jimny' 'wrangler'\n",
      " 'lybra' 'q7' 'lancer' 'captiva' 'c2' 'discovery' 'freelander' 'sandero'\n",
      " 'note' '900' 'cherokee' 'clubman' 'samara' 'defender' '601' 'cx_reihe'\n",
      " 'legacy' 'pajero' 'auris' 'niva' 's60' 'nubira' 'vivaro' 'g_klasse'\n",
      " 'lodgy' '850' 'range_rover' 'q3' 'serie_2' 'glk' 'charade' 'croma'\n",
      " 'outlander' 'doblo' 'musa' 'move' '9000' 'v60' '145' 'aveo' '200' 'b_max'\n",
      " 'range_rover_sport' 'terios' 'rangerover' 'q5' 'range_rover_evoque'\n",
      " 'materia' 'delta' 'gl' 'kalina' 'amarok' 'elefantino' 'i3' 'kappa'\n",
      " 'serie_3' 'serie_1'] \n",
      "\n",
      "\n",
      "fuel_type \n",
      " ['petrol' 'gasoline' nan 'lpg' 'other' 'hybrid' 'cng' 'electric'] \n",
      "\n",
      "\n",
      "repaired \n",
      " [nan 'yes' 'no'] \n",
      "\n",
      "\n"
     ]
    }
   ],
   "source": [
    "for column in df.columns:\n",
    "    if (df[column].dtype == object) and (column != 'brand'):\n",
    "        print(column, '\\n', df[column].unique(), '\\n\\n')"
   ]
  },
  {
   "cell_type": "markdown",
   "metadata": {},
   "source": [
    "**В столбцах `vehicle_type`, `model` и `fuel_type` присутствует значение `other`, им и заменим пропуски.**"
   ]
  },
  {
   "cell_type": "code",
   "execution_count": 16,
   "metadata": {},
   "outputs": [],
   "source": [
    "df.fillna('other', inplace=True)"
   ]
  },
  {
   "cell_type": "markdown",
   "metadata": {},
   "source": [
    "Проверим наличие пропусков."
   ]
  },
  {
   "cell_type": "code",
   "execution_count": 17,
   "metadata": {},
   "outputs": [
    {
     "name": "stdout",
     "output_type": "stream",
     "text": [
      "Пропусков нет.\n"
     ]
    }
   ],
   "source": [
    "find_nan()"
   ]
  },
  {
   "cell_type": "markdown",
   "metadata": {},
   "source": [
    "### 3.3 Устранение аномалий\n",
    "**Столбцы `price` и `registration_month`**\n",
    "\n",
    "Удалим сроки, содержащие нулевые значения."
   ]
  },
  {
   "cell_type": "code",
   "execution_count": 18,
   "metadata": {},
   "outputs": [],
   "source": [
    "df = df.loc[(df['price'] > 0) & (df['registration_month'] > 0)]"
   ]
  },
  {
   "cell_type": "markdown",
   "metadata": {},
   "source": [
    "**Столбец `price`**\n",
    "\n",
    "Построим увеличенную в масштабе диаграмму, чтобы посмотреть наличие около-нулевых значений."
   ]
  },
  {
   "cell_type": "code",
   "execution_count": 19,
   "metadata": {},
   "outputs": [
    {
     "data": {
      "image/png": "[encoded data removed]",
      "text/plain": [
       "<Figure size 500x400 with 1 Axes>"
      ]
     },
     "metadata": {},
     "output_type": "display_data"
    }
   ],
   "source": [
    "df.hist(column=['price'], range=(0, 10), figsize=(5, 4));"
   ]
  },
  {
   "cell_type": "markdown",
   "metadata": {},
   "source": [
    "Удалим сроки, содержащие значения до 10."
   ]
  },
  {
   "cell_type": "code",
   "execution_count": 20,
   "metadata": {},
   "outputs": [],
   "source": [
    "df = df.loc[df['price'] > 10]"
   ]
  },
  {
   "cell_type": "markdown",
   "metadata": {},
   "source": [
    "**Столбец `registration_year`**\n",
    "\n",
    "Удалим строки, содержащие года, превышающие максимальный год в столбце `last_seen` исходного датафрейма. Также, опираясь на [историю автомобиля](https://ru.wikipedia.org/wiki/%D0%98%D1%81%D1%82%D0%BE%D1%80%D0%B8%D1%8F_%D0%B0%D0%B2%D1%82%D0%BE%D0%BC%D0%BE%D0%B1%D0%B8%D0%BB%D1%8F), удалим строки, содержащие года до 1900 года."
   ]
  },
  {
   "cell_type": "code",
   "execution_count": 21,
   "metadata": {},
   "outputs": [],
   "source": [
    "df = df.loc[(df['registration_year'] <= int(max(list(old_df['last_seen']))[:4])) &\n",
    "           (df['registration_year'] >= 1900)]"
   ]
  },
  {
   "cell_type": "markdown",
   "metadata": {},
   "source": [
    "**Столбец `power`**\n",
    "\n",
    "Удалим строки, содержащие нулевые значения. Также, опираясь на [самые мощные автомобили в мире](https://www.arenda-auto.ru/news/samye-moshchnye-avtomobili-v-mire.html), удалим строки, в которых кол-во лошадиных сил превышает 1000."
   ]
  },
  {
   "cell_type": "code",
   "execution_count": 22,
   "metadata": {},
   "outputs": [],
   "source": [
    "df = df.loc[(df['power'] > 0) & (df['power'] <= 1000)]"
   ]
  },
  {
   "cell_type": "markdown",
   "metadata": {},
   "source": [
    "### 3.4 Обработка дубликатов\n",
    "**Проверим наличие явных дубликатов в данных.**"
   ]
  },
  {
   "cell_type": "code",
   "execution_count": 23,
   "metadata": {},
   "outputs": [],
   "source": [
    "def find_dup():\n",
    "    if df.duplicated().sum() > 0:\n",
    "        print('Процент явных дубликатов:', df.duplicated().mean() * 100)\n",
    "    else:\n",
    "        print('Явных дубликатов нет.')"
   ]
  },
  {
   "cell_type": "code",
   "execution_count": 24,
   "metadata": {},
   "outputs": [
    {
     "name": "stdout",
     "output_type": "stream",
     "text": [
      "Процент явных дубликатов: 8.070947537223008\n"
     ]
    }
   ],
   "source": [
    "find_dup()"
   ]
  },
  {
   "cell_type": "markdown",
   "metadata": {},
   "source": [
    "Удалим их."
   ]
  },
  {
   "cell_type": "code",
   "execution_count": 25,
   "metadata": {},
   "outputs": [],
   "source": [
    "df = df.drop_duplicates()"
   ]
  },
  {
   "cell_type": "markdown",
   "metadata": {},
   "source": [
    "Проверим наличие явных дубликатов."
   ]
  },
  {
   "cell_type": "code",
   "execution_count": 26,
   "metadata": {},
   "outputs": [
    {
     "name": "stdout",
     "output_type": "stream",
     "text": [
      "Явных дубликатов нет.\n"
     ]
    }
   ],
   "source": [
    "find_dup()"
   ]
  },
  {
   "cell_type": "markdown",
   "metadata": {},
   "source": [
    "**Проверим наличие неявных дубликатов.**\n",
    "\n",
    "Выведем уникальные значения столбцов типа `object`, сохраняя их в список для будущего кодирования."
   ]
  },
  {
   "cell_type": "code",
   "execution_count": 27,
   "metadata": {},
   "outputs": [
    {
     "name": "stdout",
     "output_type": "stream",
     "text": [
      "vehicle_type \n",
      " ['coupe' 'suv' 'small' 'sedan' 'convertible' 'bus' 'wagon' 'other'] \n",
      "\n",
      "\n",
      "gearbox \n",
      " ['manual' 'auto' 'other'] \n",
      "\n",
      "\n",
      "model \n",
      " ['other' 'grand' 'golf' 'fabia' '3er' '2_reihe' 'c_max' '3_reihe' 'passat'\n",
      " 'navara' 'twingo' 'a_klasse' 'scirocco' '5er' 'arosa' 'civic'\n",
      " 'transporter' 'punto' 'e_klasse' 'clio' 'one' 'fortwo' '1er' 'b_klasse'\n",
      " 'a8' 'jetta' 'fiesta' 'c_klasse' 'micra' 'vito' 'sprinter' 'astra'\n",
      " 'escort' 'forester' 'xc_reihe' 'scenic' 'a1' 'focus' 'a4' 'tt' 'a6'\n",
      " 'jazz' 'omega' 'polo' 'slk' '7er' 'combo' '80' '147' 'z_reihe' 'sorento'\n",
      " 'ibiza' 'mustang' 'eos' 'touran' 'getz' 'insignia' 'ka' 'almera' 'megane'\n",
      " 'a3' 'lupo' 'r19' 'mondeo' 'cordoba' 'colt' 'corsa' 'vectra' 'berlingo'\n",
      " 'tiguan' '6_reihe' 'c4' 'panda' 'up' 'i_reihe' 'ceed' 'kangoo' '5_reihe'\n",
      " 'yeti' 'octavia' 'zafira' 'mii' 'rx_reihe' '6er' 'fox' 'matiz' 'beetle'\n",
      " 'rio' 'touareg' 'logan' 'caddy' 'spider' 'cuore' 's_max' 'modus' 'a2'\n",
      " 'galaxy' 'c3' 'viano' 's_klasse' '1_reihe' 'sharan' 'avensis' 'roomster'\n",
      " 'sl' 'kaefer' 'santa' 'leon' 'cooper' '4_reihe' 'a5' 'sportage'\n",
      " 'ptcruiser' 'clk' 'primera' 'espace' 'exeo' '159' 'transit' 'juke'\n",
      " 'x_reihe' 'v40' 'carisma' 'accord' 'corolla' 'phaeton' 'verso' 'swift'\n",
      " 'rav' 'qashqai' 'picanto' 'boxster' 'superb' 'stilo' 'alhambra'\n",
      " 'roadster' 'ypsilon' 'galant' 'justy' '90' 'sirion' 'signum' 'crossfire'\n",
      " 'agila' 'duster' 'v50' 'mx_reihe' '500' 'meriva' 'c_reihe' 'v_klasse'\n",
      " 'm_klasse' 'yaris' 'c5' 'aygo' 'seicento' 'cc' 'carnival' 'fusion' 'bora'\n",
      " 'forfour' 'cl' 'tigra' '156' '300c' '100' 'cr_reihe' 'spark' 'kuga'\n",
      " 'impreza' 'x_type' 'ducato' 's_type' 'x_trail' 'toledo' 'altea' 'voyager'\n",
      " 'v70' 'bravo' 'tucson' 'c1' 'kadett' 'citigo' 'jimny' 'cayenne'\n",
      " 'wrangler' 'lybra' 'lancer' 'captiva' 'laguna' 'discovery' 'freelander'\n",
      " 'sandero' 'q7' 'note' 'antara' '900' 'clubman' 'defender' 'cx_reihe'\n",
      " 'legacy' 'pajero' 'auris' 'c2' 'niva' 's60' 'm_reihe' 'nubira' 'vivaro'\n",
      " 'lanos' 'g_klasse' 'cherokee' 'lodgy' 'range_rover' '601' '850' 'q3'\n",
      " 'serie_2' 'calibra' 'glk' 'charade' 'croma' '911' 'outlander' 'doblo'\n",
      " 'musa' '9000' 'kalos' 'v60' '200' '145' 'b_max' 'range_rover_sport'\n",
      " 'aveo' 'move' 'rangerover' 'q5' 'range_rover_evoque' 'materia' 'delta'\n",
      " 'terios' 'gl' 'kalina' 'elefantino' 'i3' 'samara' 'amarok' 'kappa'\n",
      " 'serie_3'] \n",
      "\n",
      "\n",
      "fuel_type \n",
      " ['gasoline' 'petrol' 'other' 'lpg' 'hybrid' 'cng' 'electric'] \n",
      "\n",
      "\n",
      "brand \n",
      " ['audi' 'jeep' 'volkswagen' 'skoda' 'bmw' 'peugeot' 'ford' 'mazda'\n",
      " 'nissan' 'renault' 'mercedes_benz' 'seat' 'honda' 'fiat' 'mini' 'smart'\n",
      " 'hyundai' 'opel' 'subaru' 'volvo' 'mitsubishi' 'alfa_romeo' 'kia'\n",
      " 'suzuki' 'lancia' 'citroen' 'toyota' 'chevrolet' 'dacia' 'sonstige_autos'\n",
      " 'daihatsu' 'chrysler' 'jaguar' 'rover' 'porsche' 'saab' 'daewoo'\n",
      " 'trabant' 'land_rover' 'lada'] \n",
      "\n",
      "\n",
      "repaired \n",
      " ['yes' 'other' 'no'] \n",
      "\n",
      "\n"
     ]
    }
   ],
   "source": [
    "obj_cols = []\n",
    "\n",
    "for column in df.columns:\n",
    "    if df[column].dtype == object:\n",
    "        obj_cols.append(column)\n",
    "        print(column, '\\n', df[column].unique(), '\\n\\n')"
   ]
  },
  {
   "cell_type": "markdown",
   "metadata": {},
   "source": [
    "В столбце `fuel_type` слова gasoline и petrol имеют [одинаковое значение](https://www.differencebetween.com/difference-between-gasoline-and-vs-petrol/), поэтому заменим petrol на gasoline."
   ]
  },
  {
   "cell_type": "code",
   "execution_count": 28,
   "metadata": {},
   "outputs": [],
   "source": [
    "df['fuel_type'] = df['fuel_type'].replace('petrol', 'gasoline')"
   ]
  },
  {
   "cell_type": "markdown",
   "metadata": {},
   "source": [
    "Проверим значения столбца."
   ]
  },
  {
   "cell_type": "code",
   "execution_count": 29,
   "metadata": {},
   "outputs": [
    {
     "data": {
      "text/plain": [
       "array(['gasoline', 'other', 'lpg', 'hybrid', 'cng', 'electric'],\n",
       "      dtype=object)"
      ]
     },
     "execution_count": 29,
     "metadata": {},
     "output_type": "execute_result"
    }
   ],
   "source": [
    "df['fuel_type'].unique()"
   ]
  },
  {
   "cell_type": "markdown",
   "metadata": {},
   "source": [
    "### 3.5 Разбивка\n",
    "Разобьём данные на признаки (`x`) и целевой признак (`y`)."
   ]
  },
  {
   "cell_type": "code",
   "execution_count": 30,
   "metadata": {},
   "outputs": [],
   "source": [
    "x = df.drop('price', axis=1)\n",
    "y = df['price']"
   ]
  },
  {
   "cell_type": "markdown",
   "metadata": {},
   "source": [
    "Разобьём данные на обучающую, валидационную и тестовую выборки."
   ]
  },
  {
   "cell_type": "code",
   "execution_count": 31,
   "metadata": {},
   "outputs": [],
   "source": [
    "RANDOM_STATE = 0\n",
    "\n",
    "x_train, x_valid, y_train, y_valid = train_test_split(x, y, test_size=0.25, random_state=RANDOM_STATE)\n",
    "x_valid, x_test, y_valid, y_test = train_test_split(x_valid, y_valid, test_size=0.4, random_state=RANDOM_STATE)"
   ]
  },
  {
   "cell_type": "markdown",
   "metadata": {},
   "source": [
    "Проверим размеры выборок."
   ]
  },
  {
   "cell_type": "code",
   "execution_count": 32,
   "metadata": {},
   "outputs": [
    {
     "name": "stdout",
     "output_type": "stream",
     "text": [
      "Размер обучающей выборки: (191755, 10)\n",
      "Размер валидационной выборки: (38351, 10)\n",
      "Размер тестовой выборки: (25568, 10)\n"
     ]
    }
   ],
   "source": [
    "print('Размер обучающей выборки:', x_train.shape)\n",
    "print('Размер валидационной выборки:', x_valid.shape)\n",
    "print('Размер тестовой выборки:', x_test.shape)"
   ]
  },
  {
   "cell_type": "markdown",
   "metadata": {},
   "source": [
    "### 3.6 Кодирование\n",
    "Закодируем столбцы типа `object` техникой прямого кодирования, так как она подходит для всех моделей."
   ]
  },
  {
   "cell_type": "code",
   "execution_count": 33,
   "metadata": {},
   "outputs": [],
   "source": [
    "int_cols = x.drop(columns=obj_cols).columns\n",
    "\n",
    "enc = ce.BinaryEncoder()\n",
    "enc.fit(x_train[obj_cols]);"
   ]
  },
  {
   "cell_type": "code",
   "execution_count": 34,
   "metadata": {},
   "outputs": [],
   "source": [
    "def encoding(x):\n",
    "    return pd.concat([pd.DataFrame(enc.transform(x[obj_cols]), index=x.index), \n",
    "                      x[int_cols]], axis=1)"
   ]
  },
  {
   "cell_type": "code",
   "execution_count": 35,
   "metadata": {},
   "outputs": [],
   "source": [
    "warnings.filterwarnings(\"ignore\")\n",
    "\n",
    "x_train = encoding(x_train)\n",
    "x_valid = encoding(x_valid)\n",
    "x_test = encoding(x_test)"
   ]
  },
  {
   "cell_type": "markdown",
   "metadata": {},
   "source": [
    "### 3.7 Масштабирование\n",
    "Проверим наличие выбросов на диаграммах размаха."
   ]
  },
  {
   "cell_type": "code",
   "execution_count": 36,
   "metadata": {
    "scrolled": false
   },
   "outputs": [
    {
     "data": {
      "image/png": "[encoded data removed]",
      "text/plain": [
       "<Figure size 640x480 with 1 Axes>"
      ]
     },
     "metadata": {},
     "output_type": "display_data"
    }
   ],
   "source": [
    "df.boxplot();"
   ]
  },
  {
   "cell_type": "markdown",
   "metadata": {},
   "source": [
    "В столбцах присутствуют выбросы, поэтому используем устойчивый к выбросам `RobustScaler` ([сравнение масштабаторов на данных с выбросами](https://scikit-learn.org/stable/auto_examples/preprocessing/plot_all_scaling.html)), чтобы признаки стали равными по значимости."
   ]
  },
  {
   "cell_type": "code",
   "execution_count": 37,
   "metadata": {},
   "outputs": [],
   "source": [
    "pd.options.mode.chained_assignment = None\n",
    "\n",
    "scaler = RobustScaler()\n",
    "scaler.fit(x_train[int_cols])\n",
    "x_train[int_cols] = scaler.transform(x_train[int_cols])\n",
    "x_valid[int_cols] = scaler.transform(x_valid[int_cols])\n",
    "x_test[int_cols] = scaler.transform(x_test[int_cols])"
   ]
  },
  {
   "cell_type": "markdown",
   "metadata": {},
   "source": [
    "### 3.8 Общий ущерб"
   ]
  },
  {
   "cell_type": "code",
   "execution_count": 38,
   "metadata": {
    "scrolled": false
   },
   "outputs": [
    {
     "name": "stdout",
     "output_type": "stream",
     "text": [
      "Процент удалённых значений: 27.850912466948294\n"
     ]
    }
   ],
   "source": [
    "print('Процент удалённых значений:', (old_df.shape[0] - df.shape[0]) * 100 / old_df.shape[0])"
   ]
  },
  {
   "cell_type": "markdown",
   "metadata": {},
   "source": [
    "<div style=\"border:solid steelblue 5px; padding: 30px\">\n",
    "   <p>\n",
    "        <b>Результаты подготовки данных:</b>\n",
    "        <ol>\n",
    "        <li>Проведена работа со столбцами.</li>\n",
    "        <li>Обработаны пропуски.</li>\n",
    "        <li>Устранены аномалии.</li>\n",
    "        <li>Данные разбиты на выборки.</li>\n",
    "        <li>Признаки закодированы и масштабированы.</li>\n",
    "        </ol><b>Процент удалённых значений: 27%.</b>\n",
    "   </p>  \n",
    "</div>"
   ]
  },
  {
   "cell_type": "markdown",
   "metadata": {},
   "source": [
    "## 4 Работа с моделями\n",
    "### 4.1 Обучение\n",
    "Обучим разные модели без гиперпараметров и выберем лучшую."
   ]
  },
  {
   "cell_type": "code",
   "execution_count": 39,
   "metadata": {},
   "outputs": [],
   "source": [
    "def rmse(y, pred):\n",
    "    return mean_squared_error(y, pred, squared=False)"
   ]
  },
  {
   "cell_type": "code",
   "execution_count": 50,
   "metadata": {},
   "outputs": [],
   "source": [
    "def quality(mdl, return_qual=0, print_qual=1):\n",
    "    scores = cross_val_score(mdl, x_train, y_train, cv=5, scoring=make_scorer(rmse, greater_is_better=False))\n",
    "    quality = -scores.mean()\n",
    "    print('Качество:', quality)\n",
    "    \n",
    "    if return_qual == 1:\n",
    "        return quality"
   ]
  },
  {
   "cell_type": "code",
   "execution_count": 51,
   "metadata": {},
   "outputs": [
    {
     "name": "stdout",
     "output_type": "stream",
     "text": [
      "Качество: 2966.2479450284973\n",
      "CPU times: total: 2.31 s\n",
      "Wall time: 1.59 s\n"
     ]
    }
   ],
   "source": [
    "%%time\n",
    "quality(LinearRegression())"
   ]
  },
  {
   "cell_type": "code",
   "execution_count": 52,
   "metadata": {},
   "outputs": [
    {
     "name": "stdout",
     "output_type": "stream",
     "text": [
      "Качество: 2967.9209403332547\n",
      "CPU times: total: 6.98 s\n",
      "Wall time: 7.12 s\n"
     ]
    }
   ],
   "source": [
    "%%time\n",
    "quality(SGDRegressor(random_state=RANDOM_STATE))"
   ]
  },
  {
   "cell_type": "code",
   "execution_count": 53,
   "metadata": {},
   "outputs": [
    {
     "name": "stdout",
     "output_type": "stream",
     "text": [
      "Качество: 2966.2478552680286\n",
      "CPU times: total: 3.19 s\n",
      "Wall time: 1.62 s\n"
     ]
    }
   ],
   "source": [
    "%%time\n",
    "quality(BayesianRidge())"
   ]
  },
  {
   "cell_type": "code",
   "execution_count": 54,
   "metadata": {},
   "outputs": [
    {
     "name": "stdout",
     "output_type": "stream",
     "text": [
      "Качество: 2240.5288016478626\n",
      "CPU times: total: 8.47 s\n",
      "Wall time: 8.51 s\n"
     ]
    }
   ],
   "source": [
    "%%time\n",
    "quality(DecisionTreeRegressor(random_state=RANDOM_STATE))"
   ]
  },
  {
   "cell_type": "code",
   "execution_count": 56,
   "metadata": {},
   "outputs": [
    {
     "name": "stdout",
     "output_type": "stream",
     "text": [
      "Качество: 1700.3564287744466\n",
      "CPU times: total: 9min 58s\n",
      "Wall time: 10min 5s\n"
     ]
    }
   ],
   "source": [
    "%%time\n",
    "quality(RandomForestRegressor(random_state=RANDOM_STATE))"
   ]
  },
  {
   "cell_type": "code",
   "execution_count": 57,
   "metadata": {},
   "outputs": [
    {
     "name": "stdout",
     "output_type": "stream",
     "text": [
      "Качество: 1708.3343985516804\n",
      "CPU times: total: 17.7 s\n",
      "Wall time: 4.84 s\n"
     ]
    }
   ],
   "source": [
    "%%time\n",
    "quality(lgb.LGBMRegressor(random_state=RANDOM_STATE, metric='rmse', verbose=-1))"
   ]
  },
  {
   "cell_type": "markdown",
   "metadata": {},
   "source": [
    "Можно выделить градиентный бустинг, подберём для него гиперпараметры."
   ]
  },
  {
   "cell_type": "markdown",
   "metadata": {},
   "source": [
    "### 4.2 Подбор гиперпараметров\n",
    "Для подбора будем использовать байесовскую оптимизацию."
   ]
  },
  {
   "cell_type": "code",
   "execution_count": 58,
   "metadata": {},
   "outputs": [],
   "source": [
    "state = np.random.default_rng(RANDOM_STATE)\n",
    "\n",
    "def hp_slctns(model, space):\n",
    "    def func(args):\n",
    "        mdl = model.set_params(**args)\n",
    "        scores = cross_val_score(mdl, x_valid, y_valid, cv=5, scoring=make_scorer(rmse, greater_is_better=False), \n",
    "                                 error_score='raise')\n",
    "        final_score = -sum(scores) / len(scores)\n",
    "        return {'loss': final_score, 'status': STATUS_OK, 'model':mdl}\n",
    "    \n",
    "    trials = Trials()\n",
    "    best = fmin(func,\n",
    "                space=space,\n",
    "                algo=tpe.suggest,\n",
    "                trials=trials,\n",
    "                max_evals=10, \n",
    "                show_progressbar=True, \n",
    "                rstate=state)\n",
    "    best_model = trials.best_trial['result']['model']\n",
    "    \n",
    "    print('Лучшие гиперпараметры:', best)\n",
    "    return best_model"
   ]
  },
  {
   "cell_type": "code",
   "execution_count": 59,
   "metadata": {},
   "outputs": [
    {
     "name": "stdout",
     "output_type": "stream",
     "text": [
      "100%|████████████████████████████████████████████████| 10/10 [02:50<00:00, 17.09s/trial, best loss: 1709.0403817468662]\n",
      "Лучшие гиперпараметры: {'learning_rate': 0.04712928409749913, 'max_depth': 468.0, 'num_iterations': 378.0, 'num_leaves': 424.0, 'reg_alpha': 0.05384002264136852, 'reg_lambda': 143.3628605961962}\n"
     ]
    }
   ],
   "source": [
    "lgb_space = {\n",
    "    'num_iterations': scope.int(hp.quniform('num_iterations', 100, 500, 2)),\n",
    "    'num_leaves': scope.int(hp.quniform('num_leaves', 100, 500, 2)), \n",
    "    'max_depth': scope.int(hp.quniform('max_depth', 100, 500, 2)),\n",
    "    'learning_rate': hp.loguniform('learning_rate', -5, 0), \n",
    "    'reg_alpha': hp.loguniform('reg_alpha', -16, 5), \n",
    "    'reg_lambda': hp.loguniform('reg_lambda', -16, 5)\n",
    "}\n",
    "\n",
    "best_lgb = hp_slctns(model=lgb.LGBMRegressor(random_state=RANDOM_STATE, metric='rmse', verbose=-1), \n",
    "                     space=lgb_space)"
   ]
  },
  {
   "cell_type": "markdown",
   "metadata": {},
   "source": [
    "### 4.3 Сравнение с константой моделью\n",
    "Получим RMSE константной модели."
   ]
  },
  {
   "cell_type": "code",
   "execution_count": 60,
   "metadata": {},
   "outputs": [
    {
     "name": "stdout",
     "output_type": "stream",
     "text": [
      "Качество: 4659.102405025495\n",
      "Качество: 4942.9820789261885\n"
     ]
    }
   ],
   "source": [
    "dummy_mean = quality(DummyRegressor(strategy='mean'), return_qual=1)\n",
    "dummy_median = quality(DummyRegressor(strategy='median'), return_qual=1)"
   ]
  },
  {
   "cell_type": "markdown",
   "metadata": {},
   "source": [
    "Сохраним результаты лучшей константной модели в таблицу."
   ]
  },
  {
   "cell_type": "code",
   "execution_count": 61,
   "metadata": {},
   "outputs": [],
   "source": [
    "results_df = pd.DataFrame(columns=['Качество', 'Время обучения', 'Скорость предсказания'])\n",
    "results_df.loc['Константная модель'] = [dummy_median, 0, 0]"
   ]
  },
  {
   "cell_type": "markdown",
   "metadata": {},
   "source": [
    "Получим строку с  градиентным бустингом."
   ]
  },
  {
   "cell_type": "code",
   "execution_count": 68,
   "metadata": {},
   "outputs": [],
   "source": [
    "def save_time(model, best_model, name):\n",
    "    mdl = model.set_params(**best_model.get_params())\n",
    "    \n",
    "    start_train_timer = time.time()\n",
    "    mdl.fit(x_train, y_train)\n",
    "    stop_train_timer = time.time() - start_train_timer\n",
    "    \n",
    "    start_pred_timer = time.time()\n",
    "    pred = mdl.predict(x_test)\n",
    "    score = rmse(y_test, pred)\n",
    "    stop_pred_timer = time.time() - start_pred_timer\n",
    "    \n",
    "    results_df.loc[name] = [score, stop_train_timer, stop_pred_timer]\n",
    "    \n",
    "    return mdl"
   ]
  },
  {
   "cell_type": "code",
   "execution_count": 69,
   "metadata": {},
   "outputs": [],
   "source": [
    "mdl = save_time(model=lgb.LGBMRegressor(), best_model=best_lgb, name='Градиентный бустинг')"
   ]
  },
  {
   "cell_type": "markdown",
   "metadata": {},
   "source": [
    "Рассмотрим получившеюся таблицу."
   ]
  },
  {
   "cell_type": "code",
   "execution_count": 70,
   "metadata": {
    "scrolled": true
   },
   "outputs": [
    {
     "data": {
      "text/html": [
       "<div>\n",
       "<style scoped>\n",
       "    .dataframe tbody tr th:only-of-type {\n",
       "        vertical-align: middle;\n",
       "    }\n",
       "\n",
       "    .dataframe tbody tr th {\n",
       "        vertical-align: top;\n",
       "    }\n",
       "\n",
       "    .dataframe thead th {\n",
       "        text-align: right;\n",
       "    }\n",
       "</style>\n",
       "<table border=\"1\" class=\"dataframe\">\n",
       "  <thead>\n",
       "    <tr style=\"text-align: right;\">\n",
       "      <th></th>\n",
       "      <th>Качество</th>\n",
       "      <th>Время обучения</th>\n",
       "      <th>Скорость предсказания</th>\n",
       "    </tr>\n",
       "  </thead>\n",
       "  <tbody>\n",
       "    <tr>\n",
       "      <th>Константная модель</th>\n",
       "      <td>4942.982079</td>\n",
       "      <td>0.00000</td>\n",
       "      <td>0.000000</td>\n",
       "    </tr>\n",
       "    <tr>\n",
       "      <th>Градиентный бустинг</th>\n",
       "      <td>1540.360004</td>\n",
       "      <td>4.34737</td>\n",
       "      <td>0.345078</td>\n",
       "    </tr>\n",
       "  </tbody>\n",
       "</table>\n",
       "</div>"
      ],
      "text/plain": [
       "                        Качество  Время обучения  Скорость предсказания\n",
       "Константная модель   4942.982079         0.00000               0.000000\n",
       "Градиентный бустинг  1540.360004         4.34737               0.345078"
      ]
     },
     "execution_count": 70,
     "metadata": {},
     "output_type": "execute_result"
    }
   ],
   "source": [
    "results_df"
   ]
  },
  {
   "cell_type": "markdown",
   "metadata": {
    "id": "6ac9720f"
   },
   "source": [
    "### 4.4 Анализ важности признаков"
   ]
  },
  {
   "cell_type": "code",
   "execution_count": 73,
   "metadata": {
    "id": "1d94f104"
   },
   "outputs": [],
   "source": [
    "def feature_importances():\n",
    "    importances = mdl.feature_importances_\n",
    "    sorted_idx = importances.argsort()\n",
    "    \n",
    "    plt.figure(figsize=(15, 10))\n",
    "    plt.barh(range(x_train.shape[1]), importances[sorted_idx])\n",
    "    plt.yticks(range(x_train.shape[1]), x_train.columns[sorted_idx])\n",
    "    plt.xlabel('Важность признаков', fontsize=16)\n",
    "    plt.title('График важности признаков' + '\\n', fontsize=20)\n",
    "    plt.grid(True)\n",
    "    plt.show()"
   ]
  },
  {
   "cell_type": "code",
   "execution_count": 74,
   "metadata": {},
   "outputs": [
    {
     "data": {
      "image/png": "[encoded data removed]",
      "text/plain": [
       "<Figure size 1500x1000 with 1 Axes>"
      ]
     },
     "metadata": {},
     "output_type": "display_data"
    }
   ],
   "source": [
    "feature_importances()"
   ]
  },
  {
   "cell_type": "markdown",
   "metadata": {
    "id": "8e97a3d2"
   },
   "source": [
    "<div style=\"border:solid steelblue 5px; padding: 30px\">\n",
    "   <p>\n",
    "        <b>Результаты работы с моделями:</b>\n",
    "        <ol>\n",
    "        <li>Разные модели обучены.</li>\n",
    "        <li>Лучшая модель найдена, сравнена с константной и проверена на тестовой выборке, её MAE соответствует заявленным требованиям.</li>\n",
    "        <li>Проведён анализ важности признаков.</li>\n",
    "        </ol>\n",
    "   </p>  \n",
    "</div>"
   ]
  },
  {
   "cell_type": "markdown",
   "metadata": {
    "id": "8fb46225"
   },
   "source": [
    "## 5 Отчёт"
   ]
  },
  {
   "cell_type": "markdown",
   "metadata": {
    "id": "d98c8159"
   },
   "source": [
    "<hr style=\"color: steelblue; background-color: steelblue; height: 5px; border: none;\">"
   ]
  },
  {
   "cell_type": "markdown",
   "metadata": {
    "id": "ca51b4da"
   },
   "source": [
    "### Описание ключевых шагов решения\n",
    "- При педобработке данных была проведена работа со столбцами, обработаны пропуски, устранены аномалии, данные разбиты на выборки и признаки закодированы и масштабированы.\n",
    "- Были обучены разные модели и выбрана лучшая.\n",
    "- Лучшая модель была сравнена с константной и протестирована на тестовой выборке.\n",
    "\n",
    "***\n",
    "\n",
    "### Описание модели\n",
    "Модель — `LGBMRegressor`.\n",
    "\n",
    "Гиперпараметры:\n",
    "- `random_state` = 0\n",
    "- `learning_rate` = 0.04531853140527542\n",
    "- `max_depth` = 380\n",
    "- `n_estimators` = 368\n",
    "- `num_leaves` = 476\n",
    "- `reg_alpha` = 2.2897674399185596e-07\n",
    "- `reg_lambda` = 3.2081956792213896e-06\n",
    "\n",
    "***\n",
    "\n",
    "### Итоговая метрика\n",
    "RMSE 6.722796\t"
   ]
  },
  {
   "cell_type": "markdown",
   "metadata": {
    "id": "d98c8159"
   },
   "source": [
    "<hr style=\"color: steelblue; background-color: steelblue; height: 5px; border: none;\">"
   ]
  }
 ],
 "metadata": {
  "kernelspec": {
   "display_name": "Python 3 (ipykernel)",
   "language": "python",
   "name": "python3"
  },
  "language_info": {
   "codemirror_mode": {
    "name": "ipython",
    "version": 3
   },
   "file_extension": ".py",
   "mimetype": "text/x-python",
   "name": "python",
   "nbconvert_exporter": "python",
   "pygments_lexer": "ipython3",
   "version": "3.11.3"
  },
  "toc": {
   "base_numbering": 1,
   "nav_menu": {},
   "number_sections": true,
   "sideBar": true,
   "skip_h1_title": true,
   "title_cell": "Table of Contents",
   "title_sidebar": "Contents",
   "toc_cell": false,
   "toc_position": {},
   "toc_section_display": true,
   "toc_window_display": false
  }
 },
 "nbformat": 4,
 "nbformat_minor": 2
}
