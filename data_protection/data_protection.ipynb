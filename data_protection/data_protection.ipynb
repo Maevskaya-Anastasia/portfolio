{
 "cells": [
  {
   "cell_type": "markdown",
   "metadata": {},
   "source": [
    "## 1 Импорт библиотек и модулей"
   ]
  },
  {
   "cell_type": "code",
   "execution_count": 1,
   "metadata": {},
   "outputs": [],
   "source": [
    "!pip install -q ydata_profiling"
   ]
  },
  {
   "cell_type": "code",
   "execution_count": 5,
   "metadata": {},
   "outputs": [],
   "source": [
    "%matplotlib inline"
   ]
  },
  {
   "cell_type": "code",
   "execution_count": 3,
   "metadata": {},
   "outputs": [],
   "source": [
    "# для работы с таблицами\n",
    "import pandas as pd\n",
    "\n",
    "# для EDA анализа\n",
    "import ydata_profiling\n",
    "\n",
    "# для математических вычислений\n",
    "import numpy as np\n",
    "\n",
    "# для разделения данных на выборки\n",
    "from sklearn.model_selection import train_test_split\n",
    "\n",
    "# модель машинного обучения\n",
    "from sklearn.linear_model import LinearRegression\n",
    "\n",
    "# расчёта качества модели\n",
    "from sklearn.metrics import r2_score"
   ]
  },
  {
   "cell_type": "markdown",
   "metadata": {},
   "source": [
    "## 2 Подготовка данных\n",
    "Считаем данные из csv-файла в датафрейм, сохраним в переменную `df` и проведём EDA анализ."
   ]
  },
  {
   "cell_type": "code",
   "execution_count": 10,
   "metadata": {},
   "outputs": [],
   "source": [
    "def read_eda(name):\n",
    "    try:\n",
    "        df = pd.read_csv('/datasets/' + name + '.csv')\n",
    "    except:\n",
    "        df = pd.read_csv('https://code.s3.yandex.net/datasets/' + name + '.csv')\n",
    "    ydata_profiling.ProfileReport(df, progress_bar=False).to_file(name + '.html')\n",
    "    return df"
   ]
  },
  {
   "cell_type": "code",
   "execution_count": 11,
   "metadata": {},
   "outputs": [],
   "source": [
    "df = read_eda('insurance')"
   ]
  },
  {
   "cell_type": "markdown",
   "metadata": {},
   "source": [
    "[Посмотреть анализ.](https://www.dropbox.com/s/sbru4dn9g3kez7b/insurance.html?dl=0)\n",
    "\n",
    "**Проблем не обнаружено.**\n",
    "\n",
    "Разобьём данные на признаки (`x`) и целевой признак (`y`)."
   ]
  },
  {
   "cell_type": "code",
   "execution_count": 7,
   "metadata": {},
   "outputs": [],
   "source": [
    "x = df.drop('Страховые выплаты', axis=1)\n",
    "y = df['Страховые выплаты']"
   ]
  },
  {
   "cell_type": "markdown",
   "metadata": {},
   "source": [
    "<div style=\"border:solid steelblue 5px; padding: 30px\">\n",
    "<p>\n",
    "        <b>После изучения данных, стала ясна их общая структура:</b> 5000 строк, 5 столбцов, 2 типа данных: float64, int64.\n",
    "    <br>\n",
    "        <b>Аномалий, подлежащих обработке, обнаружено не было.</b>\n",
    "    </p>  \n",
    "</div>"
   ]
  },
  {
   "cell_type": "markdown",
   "metadata": {},
   "source": [
    "## 3 Преобразование\n",
    "### 3.1 Признаки умножают на обратимую матрицу, изменится ли качество линейной регрессии, при том, что её можно обучить заново?\n",
    "\n",
    "***\n",
    "\n",
    "**Обозначения:**\n",
    "\n",
    "- $X$ — матрица признаков (нулевой столбец состоит из единиц)\n",
    "\n",
    "- $y$ — вектор целевого признака\n",
    "\n",
    "- $P$ — матрица, на которую умножаются признаки\n",
    "\n",
    "- $w$ — вектор весов линейной регрессии (нулевой элемент равен сдвигу)\n",
    "\n",
    "***\n",
    "\n",
    "**Формулы:**\n",
    "\n",
    "Предсказания:\n",
    "\n",
    "$$\n",
    "a = Xw\n",
    "$$\n",
    "\n",
    "Задача обучения:\n",
    "\n",
    "$$\n",
    "w = \\arg\\min_w MSE(Xw, y)\n",
    "$$\n",
    "\n",
    "Формула обучения:\n",
    "\n",
    "$$\n",
    "w = (X^T X)^{-1} X^T y\n",
    "$$\n",
    "\n",
    "***\n",
    "\n",
    "**Ответ:** b. Не изменится. \n",
    "\n",
    "***\n",
    "\n",
    "**Обоснование:** \n",
    "\n",
    "Установим тождество между a и a'.\n",
    "\n",
    "$$\n",
    "a = Xw\n",
    "$$\n",
    "\n",
    "$$\n",
    "a' = XPw'\n",
    "$$\n",
    "\n",
    "Укажем, как связаны параметры линейной регрессии в исходной задаче и в преобразованной.\n",
    "\n",
    "$$\n",
    "w = (X^T X)^{-1} X^T y\n",
    "$$\n",
    "    \n",
    "    \n",
    "$$\n",
    "w' = ((XP)^T XP)^{-1} (XP)^T y\n",
    "$$ \n",
    "\n",
    "Выразим w' через:\n",
    "\n",
    "$$\n",
    "w' = ((XP)^T XP)^{-1} (XP)^T y = (P^T (X^T X) P)^{-1} P^T X^T y = P^{-1} (X^T X)^{-1} (P^T)^{-1} P^T X^T y = P^{-1}(X^T X)^{-1} X^T y = P^{-1} w\n",
    "$$ \n",
    "\n",
    "Рассчитаем a'.\n",
    "\n",
    "$$\n",
    "a' = XPw' = XPP^{-1} w = Xw = a\n",
    "$$\n",
    "\n",
    "Следовательно, при умножении на обратимую матрицу качество линейной регрессии не изменится."
   ]
  },
  {
   "cell_type": "markdown",
   "metadata": {},
   "source": [
    "### 3.2 Алгоритм\n",
    "Для выполнения данного задания необходимо преобразовать данные клиента без потери качества машинного обучения.\n",
    "\n",
    "1. Сгенерировать случайную квадратную невырожденную матрицу-ключ.\n",
    "1. Домножить матрицу признаков на обратимую матрицу той же размерности, которая будет генерироваться случайно.\n",
    "\n",
    "**Обоснование**\n",
    "\n",
    "Выше мы доказали что если умножить матрицу объект признак на случайно сгенерированную признаки, то для линейной регрессии качество прогноза не изменится."
   ]
  },
  {
   "cell_type": "markdown",
   "metadata": {},
   "source": [
    "### 3.3 Проверка\n",
    "Выведем значение метрики R2 на исходной таблице."
   ]
  },
  {
   "cell_type": "code",
   "execution_count": 8,
   "metadata": {},
   "outputs": [],
   "source": [
    "results = pd.DataFrame(columns=[' '])\n",
    "\n",
    "def result(x, name):\n",
    "    x_train, x_test, y_train, y_test = train_test_split(x, y, test_size=0.25, random_state=0)\n",
    "\n",
    "    model = LinearRegression()\n",
    "    model.fit(x_train, y_train)\n",
    "    predictions = model.predict(x_test)\n",
    "    r2 = r2_score(y_test, predictions)\n",
    "    results.loc[name] = [r2]\n",
    "    print(name + ': ', r2)"
   ]
  },
  {
   "cell_type": "code",
   "execution_count": 9,
   "metadata": {},
   "outputs": [
    {
     "name": "stdout",
     "output_type": "stream",
     "text": [
      "Исходная таблица:  0.38787396350591696\n"
     ]
    }
   ],
   "source": [
    "result(x, 'Исходная таблица')"
   ]
  },
  {
   "cell_type": "markdown",
   "metadata": {},
   "source": [
    "Сгенерируем случайную квадратную невырожденную матрицу-ключ."
   ]
  },
  {
   "cell_type": "code",
   "execution_count": 10,
   "metadata": {},
   "outputs": [],
   "source": [
    "n = x.shape[1]\n",
    "key = np.random.rand(n, n)\n",
    "\n",
    "while np.linalg.det(key) == 0:\n",
    "    key = np.random.rand(n, n)"
   ]
  },
  {
   "cell_type": "markdown",
   "metadata": {},
   "source": [
    "Домножим матрицу признаков на матрицу-ключ."
   ]
  },
  {
   "cell_type": "code",
   "execution_count": 11,
   "metadata": {},
   "outputs": [],
   "source": [
    "x_key = x @ key"
   ]
  },
  {
   "cell_type": "markdown",
   "metadata": {},
   "source": [
    "Выведем значение метрики R2 на зашифрованной таблице."
   ]
  },
  {
   "cell_type": "code",
   "execution_count": 12,
   "metadata": {},
   "outputs": [
    {
     "name": "stdout",
     "output_type": "stream",
     "text": [
      "Зашифрованная таблица:  0.38787396350472925\n"
     ]
    }
   ],
   "source": [
    "result(x_key, 'Зашифрованная таблица')"
   ]
  },
  {
   "cell_type": "markdown",
   "metadata": {},
   "source": [
    "Посмотрим на все результаты в одной таблице."
   ]
  },
  {
   "cell_type": "code",
   "execution_count": 13,
   "metadata": {},
   "outputs": [
    {
     "data": {
      "text/html": [
       "<div>\n",
       "<style scoped>\n",
       "    .dataframe tbody tr th:only-of-type {\n",
       "        vertical-align: middle;\n",
       "    }\n",
       "\n",
       "    .dataframe tbody tr th {\n",
       "        vertical-align: top;\n",
       "    }\n",
       "\n",
       "    .dataframe thead th {\n",
       "        text-align: right;\n",
       "    }\n",
       "</style>\n",
       "<table border=\"1\" class=\"dataframe\">\n",
       "  <thead>\n",
       "    <tr style=\"text-align: right;\">\n",
       "      <th></th>\n",
       "      <th></th>\n",
       "    </tr>\n",
       "  </thead>\n",
       "  <tbody>\n",
       "    <tr>\n",
       "      <th>Исходная таблица</th>\n",
       "      <td>0.387874</td>\n",
       "    </tr>\n",
       "    <tr>\n",
       "      <th>Зашифрованная таблица</th>\n",
       "      <td>0.387874</td>\n",
       "    </tr>\n",
       "  </tbody>\n",
       "</table>\n",
       "</div>"
      ],
      "text/plain": [
       "                               \n",
       "Исходная таблица       0.387874\n",
       "Зашифрованная таблица  0.387874"
      ]
     },
     "execution_count": 13,
     "metadata": {},
     "output_type": "execute_result"
    }
   ],
   "source": [
    "results"
   ]
  },
  {
   "cell_type": "markdown",
   "metadata": {},
   "source": [
    "<div style=\"border:solid steelblue 5px; padding: 30px\">\n",
    "   <p>\n",
    "        <b>Качество линейной регрессии не отличается до и после преобразования.</b>\n",
    "   </p>  \n",
    "</div>"
   ]
  },
  {
   "cell_type": "markdown",
   "metadata": {},
   "source": [
    "## 4. Общий вывод"
   ]
  },
  {
   "cell_type": "markdown",
   "metadata": {},
   "source": [
    "<div style=\"border:solid steelblue 5px; padding: 30px\">\n",
    "   <p>\n",
    "        <b>Проделано:</b>\n",
    "        <ol><li>Данные подготовлены.</li>\n",
    "        <li>Предложен алгоритм преобразования данных.</li>\n",
    "        <li>Алгоритм проверен.</li>\n",
    "        </ol>\n",
    "        <b>Выявлено:</b>\n",
    "        <li>При умножении на обратимую матрицу качество линейной регрессии не изменится.</li>\n",
    "        <li>Качество линейной регрессии не отличается до и после преобразования.</li>\n",
    "   </p>  \n",
    "</div>"
   ]
  }
 ],
 "metadata": {
  "ExecuteTimeLog": [
   {
    "duration": 419,
    "start_time": "2023-03-23T11:26:23.690Z"
   },
   {
    "duration": 108,
    "start_time": "2023-03-23T11:30:34.884Z"
   },
   {
    "duration": 17,
    "start_time": "2023-03-23T11:30:37.962Z"
   },
   {
    "duration": 10,
    "start_time": "2023-03-23T11:30:41.344Z"
   },
   {
    "duration": 23,
    "start_time": "2023-03-23T11:32:26.662Z"
   },
   {
    "duration": 1248,
    "start_time": "2023-03-23T11:32:34.285Z"
   },
   {
    "duration": 647,
    "start_time": "2023-03-23T11:32:48.141Z"
   },
   {
    "duration": 409,
    "start_time": "2023-03-23T11:33:05.459Z"
   },
   {
    "duration": 542,
    "start_time": "2023-03-23T11:33:12.749Z"
   },
   {
    "duration": 53,
    "start_time": "2023-03-24T07:51:08.172Z"
   },
   {
    "duration": 385,
    "start_time": "2023-03-24T07:51:11.811Z"
   },
   {
    "duration": 115,
    "start_time": "2023-03-24T07:51:12.198Z"
   },
   {
    "duration": 17,
    "start_time": "2023-03-24T07:51:12.314Z"
   },
   {
    "duration": 22,
    "start_time": "2023-03-24T07:51:12.333Z"
   },
   {
    "duration": 25,
    "start_time": "2023-03-24T07:51:12.357Z"
   },
   {
    "duration": 1037,
    "start_time": "2023-03-24T07:51:12.384Z"
   },
   {
    "duration": 6,
    "start_time": "2023-03-24T07:51:13.423Z"
   },
   {
    "duration": 40,
    "start_time": "2023-03-24T07:54:17.523Z"
   },
   {
    "duration": 722,
    "start_time": "2023-03-24T07:54:41.426Z"
   },
   {
    "duration": 59,
    "start_time": "2023-03-24T07:54:46.490Z"
   },
   {
    "duration": 6,
    "start_time": "2023-03-24T07:55:56.168Z"
   },
   {
    "duration": 4,
    "start_time": "2023-03-24T07:56:03.039Z"
   },
   {
    "duration": 5,
    "start_time": "2023-03-24T09:51:27.796Z"
   },
   {
    "duration": 25,
    "start_time": "2023-03-24T09:58:30.642Z"
   },
   {
    "duration": 3,
    "start_time": "2023-03-24T09:58:53.379Z"
   },
   {
    "duration": 3,
    "start_time": "2023-03-24T10:04:38.285Z"
   },
   {
    "duration": 4,
    "start_time": "2023-03-24T10:05:09.023Z"
   },
   {
    "duration": 14,
    "start_time": "2023-03-24T10:06:52.940Z"
   },
   {
    "duration": 4,
    "start_time": "2023-03-24T10:08:44.917Z"
   },
   {
    "duration": 24,
    "start_time": "2023-03-24T10:09:15.883Z"
   },
   {
    "duration": 5,
    "start_time": "2023-03-24T10:09:34.731Z"
   },
   {
    "duration": 28,
    "start_time": "2023-03-24T10:09:35.638Z"
   },
   {
    "duration": 4,
    "start_time": "2023-03-24T10:09:46.046Z"
   },
   {
    "duration": 10,
    "start_time": "2023-03-24T10:09:46.928Z"
   },
   {
    "duration": 6,
    "start_time": "2023-03-24T10:09:57.471Z"
   },
   {
    "duration": 5,
    "start_time": "2023-03-24T10:10:06.435Z"
   },
   {
    "duration": 51,
    "start_time": "2023-03-24T10:12:15.813Z"
   },
   {
    "duration": 5,
    "start_time": "2023-03-24T10:12:26.470Z"
   },
   {
    "duration": 23,
    "start_time": "2023-03-24T10:12:27.976Z"
   },
   {
    "duration": 5,
    "start_time": "2023-03-24T10:12:58.421Z"
   },
   {
    "duration": 24,
    "start_time": "2023-03-24T10:12:59.423Z"
   },
   {
    "duration": 7,
    "start_time": "2023-03-24T10:13:27.537Z"
   },
   {
    "duration": 11,
    "start_time": "2023-03-24T10:13:28.391Z"
   },
   {
    "duration": 7,
    "start_time": "2023-03-24T10:13:30.727Z"
   },
   {
    "duration": 7,
    "start_time": "2023-03-24T10:14:03.603Z"
   },
   {
    "duration": 14,
    "start_time": "2023-03-24T10:14:05.131Z"
   },
   {
    "duration": 7,
    "start_time": "2023-03-24T10:14:13.822Z"
   },
   {
    "duration": 11,
    "start_time": "2023-03-24T10:14:14.604Z"
   },
   {
    "duration": 3,
    "start_time": "2023-03-24T10:15:17.824Z"
   },
   {
    "duration": 4,
    "start_time": "2023-03-24T10:19:01.461Z"
   },
   {
    "duration": 3,
    "start_time": "2023-03-24T10:19:08.409Z"
   },
   {
    "duration": 6,
    "start_time": "2023-03-24T10:19:09.042Z"
   },
   {
    "duration": 3,
    "start_time": "2023-03-24T10:19:16.421Z"
   },
   {
    "duration": 5,
    "start_time": "2023-03-24T10:19:17.045Z"
   },
   {
    "duration": 7,
    "start_time": "2023-03-24T10:24:50.876Z"
   },
   {
    "duration": 13,
    "start_time": "2023-03-24T10:24:52.281Z"
   },
   {
    "duration": 12,
    "start_time": "2023-03-24T10:24:54.338Z"
   },
   {
    "duration": 11,
    "start_time": "2023-03-24T10:24:54.884Z"
   },
   {
    "duration": 12,
    "start_time": "2023-03-24T10:24:55.379Z"
   },
   {
    "duration": 7,
    "start_time": "2023-03-24T10:24:58.403Z"
   },
   {
    "duration": 14,
    "start_time": "2023-03-24T10:24:59.471Z"
   },
   {
    "duration": 8,
    "start_time": "2023-03-24T10:25:08.763Z"
   },
   {
    "duration": 4,
    "start_time": "2023-03-24T10:27:47.687Z"
   },
   {
    "duration": 6,
    "start_time": "2023-03-24T10:28:14.608Z"
   },
   {
    "duration": 12,
    "start_time": "2023-03-24T10:28:20.811Z"
   },
   {
    "duration": 4,
    "start_time": "2023-03-24T10:31:33.678Z"
   },
   {
    "duration": 3,
    "start_time": "2023-03-24T10:31:51.921Z"
   },
   {
    "duration": 5,
    "start_time": "2023-03-24T10:31:52.748Z"
   },
   {
    "duration": 12,
    "start_time": "2023-03-24T10:34:03.964Z"
   },
   {
    "duration": 2,
    "start_time": "2023-03-24T10:34:20.451Z"
   },
   {
    "duration": 4,
    "start_time": "2023-03-24T10:34:21.380Z"
   },
   {
    "duration": 13,
    "start_time": "2023-03-24T10:35:29.198Z"
   },
   {
    "duration": 6,
    "start_time": "2023-03-24T10:36:27.338Z"
   },
   {
    "duration": 2793,
    "start_time": "2023-03-25T05:44:32.297Z"
   },
   {
    "duration": 32,
    "start_time": "2023-03-25T05:44:35.093Z"
   },
   {
    "duration": 23,
    "start_time": "2023-03-25T05:44:35.127Z"
   },
   {
    "duration": 68,
    "start_time": "2023-03-25T05:44:35.153Z"
   },
   {
    "duration": 71,
    "start_time": "2023-03-25T05:44:35.223Z"
   },
   {
    "duration": 1133,
    "start_time": "2023-03-25T05:44:35.296Z"
   },
   {
    "duration": 4,
    "start_time": "2023-03-25T05:44:36.431Z"
   },
   {
    "duration": 31,
    "start_time": "2023-03-25T05:44:36.442Z"
   },
   {
    "duration": 19,
    "start_time": "2023-03-25T05:44:36.475Z"
   },
   {
    "duration": 3,
    "start_time": "2023-03-25T05:44:36.496Z"
   },
   {
    "duration": 8,
    "start_time": "2023-03-25T05:44:36.501Z"
   },
   {
    "duration": 16,
    "start_time": "2023-03-25T05:44:36.511Z"
   },
   {
    "duration": 7,
    "start_time": "2023-03-25T05:44:36.529Z"
   },
   {
    "duration": 73,
    "start_time": "2023-03-25T11:26:31.142Z"
   },
   {
    "duration": 43,
    "start_time": "2023-03-25T11:26:40.021Z"
   },
   {
    "duration": 51,
    "start_time": "2023-03-25T11:26:47.796Z"
   },
   {
    "duration": 3,
    "start_time": "2023-03-25T11:26:55.043Z"
   },
   {
    "duration": 5,
    "start_time": "2023-03-25T11:27:26.487Z"
   },
   {
    "duration": 64,
    "start_time": "2023-03-25T11:34:16.633Z"
   },
   {
    "duration": 1265,
    "start_time": "2023-03-25T11:34:31.543Z"
   },
   {
    "duration": 115,
    "start_time": "2023-03-25T11:34:32.812Z"
   },
   {
    "duration": 23,
    "start_time": "2023-03-25T11:34:32.929Z"
   },
   {
    "duration": 12,
    "start_time": "2023-03-25T11:34:32.954Z"
   },
   {
    "duration": 32,
    "start_time": "2023-03-25T11:34:32.968Z"
   },
   {
    "duration": 1180,
    "start_time": "2023-03-25T11:34:33.002Z"
   },
   {
    "duration": 7,
    "start_time": "2023-03-25T11:34:34.185Z"
   },
   {
    "duration": 12,
    "start_time": "2023-03-25T11:34:34.194Z"
   },
   {
    "duration": 22,
    "start_time": "2023-03-25T11:34:34.209Z"
   },
   {
    "duration": 8,
    "start_time": "2023-03-25T11:34:37.570Z"
   },
   {
    "duration": 5,
    "start_time": "2023-03-25T11:34:38.605Z"
   },
   {
    "duration": 6,
    "start_time": "2023-03-25T11:34:39.231Z"
   },
   {
    "duration": 7,
    "start_time": "2023-03-25T11:34:39.900Z"
   },
   {
    "duration": 8,
    "start_time": "2023-03-25T11:34:40.512Z"
   },
   {
    "duration": 6,
    "start_time": "2023-03-25T11:34:40.923Z"
   },
   {
    "duration": 6,
    "start_time": "2023-03-25T11:34:41.454Z"
   },
   {
    "duration": 5,
    "start_time": "2023-03-25T11:34:41.923Z"
   },
   {
    "duration": 6,
    "start_time": "2023-03-25T11:34:42.361Z"
   },
   {
    "duration": 6,
    "start_time": "2023-03-25T11:34:42.796Z"
   },
   {
    "duration": 5,
    "start_time": "2023-03-25T11:34:43.151Z"
   },
   {
    "duration": 6,
    "start_time": "2023-03-25T11:34:43.563Z"
   },
   {
    "duration": 22,
    "start_time": "2023-03-25T11:34:44.076Z"
   },
   {
    "duration": 15,
    "start_time": "2023-03-25T11:34:44.614Z"
   },
   {
    "duration": 6,
    "start_time": "2023-03-25T11:34:45.097Z"
   },
   {
    "duration": 6,
    "start_time": "2023-03-25T11:34:45.560Z"
   },
   {
    "duration": 6,
    "start_time": "2023-03-25T11:34:45.999Z"
   },
   {
    "duration": 5,
    "start_time": "2023-03-25T11:34:46.469Z"
   },
   {
    "duration": 6,
    "start_time": "2023-03-25T11:34:46.901Z"
   },
   {
    "duration": 6,
    "start_time": "2023-03-25T11:34:47.329Z"
   },
   {
    "duration": 9,
    "start_time": "2023-03-25T11:34:47.748Z"
   },
   {
    "duration": 8,
    "start_time": "2023-03-25T11:34:48.261Z"
   },
   {
    "duration": 6,
    "start_time": "2023-03-25T11:34:48.800Z"
   },
   {
    "duration": 6,
    "start_time": "2023-03-25T11:34:49.296Z"
   },
   {
    "duration": 6,
    "start_time": "2023-03-25T11:34:49.757Z"
   },
   {
    "duration": 6,
    "start_time": "2023-03-25T11:34:50.264Z"
   },
   {
    "duration": 5,
    "start_time": "2023-03-25T11:34:50.733Z"
   },
   {
    "duration": 5,
    "start_time": "2023-03-25T11:34:51.230Z"
   },
   {
    "duration": 6,
    "start_time": "2023-03-25T11:34:51.706Z"
   },
   {
    "duration": 6,
    "start_time": "2023-03-25T11:34:52.135Z"
   },
   {
    "duration": 7,
    "start_time": "2023-03-25T11:34:52.625Z"
   },
   {
    "duration": 7,
    "start_time": "2023-03-25T11:34:53.092Z"
   },
   {
    "duration": 9,
    "start_time": "2023-03-25T11:34:53.529Z"
   },
   {
    "duration": 10,
    "start_time": "2023-03-25T11:34:54.010Z"
   },
   {
    "duration": 8,
    "start_time": "2023-03-25T11:34:54.498Z"
   },
   {
    "duration": 5,
    "start_time": "2023-03-25T11:34:54.924Z"
   },
   {
    "duration": 6,
    "start_time": "2023-03-25T11:34:55.454Z"
   },
   {
    "duration": 7,
    "start_time": "2023-03-25T11:34:55.933Z"
   },
   {
    "duration": 8,
    "start_time": "2023-03-25T11:34:56.401Z"
   },
   {
    "duration": 6,
    "start_time": "2023-03-25T11:34:56.889Z"
   },
   {
    "duration": 8,
    "start_time": "2023-03-25T11:34:57.357Z"
   },
   {
    "duration": 6,
    "start_time": "2023-03-25T11:34:57.849Z"
   },
   {
    "duration": 6,
    "start_time": "2023-03-25T11:34:58.325Z"
   },
   {
    "duration": 6,
    "start_time": "2023-03-25T11:34:58.763Z"
   },
   {
    "duration": 5,
    "start_time": "2023-03-25T11:34:59.258Z"
   },
   {
    "duration": 5,
    "start_time": "2023-03-25T11:34:59.728Z"
   },
   {
    "duration": 10,
    "start_time": "2023-03-25T11:35:00.192Z"
   },
   {
    "duration": 11,
    "start_time": "2023-03-25T11:35:00.673Z"
   },
   {
    "duration": 5,
    "start_time": "2023-03-25T11:35:01.161Z"
   },
   {
    "duration": 6,
    "start_time": "2023-03-25T11:35:01.549Z"
   },
   {
    "duration": 5,
    "start_time": "2023-03-25T11:35:02.020Z"
   },
   {
    "duration": 5,
    "start_time": "2023-03-25T11:35:02.497Z"
   },
   {
    "duration": 6,
    "start_time": "2023-03-25T11:35:02.937Z"
   },
   {
    "duration": 8,
    "start_time": "2023-03-25T11:35:03.374Z"
   },
   {
    "duration": 6,
    "start_time": "2023-03-25T11:35:03.797Z"
   },
   {
    "duration": 6,
    "start_time": "2023-03-25T11:35:04.267Z"
   },
   {
    "duration": 6,
    "start_time": "2023-03-25T11:35:04.728Z"
   },
   {
    "duration": 6,
    "start_time": "2023-03-25T11:35:05.213Z"
   },
   {
    "duration": 6,
    "start_time": "2023-03-25T11:35:05.611Z"
   },
   {
    "duration": 6,
    "start_time": "2023-03-25T11:35:06.052Z"
   },
   {
    "duration": 14,
    "start_time": "2023-03-25T11:35:06.496Z"
   },
   {
    "duration": 6,
    "start_time": "2023-03-25T11:35:06.928Z"
   },
   {
    "duration": 10,
    "start_time": "2023-03-25T11:35:07.325Z"
   },
   {
    "duration": 6,
    "start_time": "2023-03-25T11:35:07.800Z"
   },
   {
    "duration": 7,
    "start_time": "2023-03-25T11:35:08.212Z"
   },
   {
    "duration": 6,
    "start_time": "2023-03-25T11:35:08.701Z"
   },
   {
    "duration": 6,
    "start_time": "2023-03-25T11:35:09.201Z"
   },
   {
    "duration": 6,
    "start_time": "2023-03-25T11:35:09.645Z"
   },
   {
    "duration": 6,
    "start_time": "2023-03-25T11:35:10.098Z"
   },
   {
    "duration": 12,
    "start_time": "2023-03-25T11:35:10.560Z"
   },
   {
    "duration": 12,
    "start_time": "2023-03-25T11:35:11.006Z"
   },
   {
    "duration": 6,
    "start_time": "2023-03-25T11:35:11.405Z"
   },
   {
    "duration": 6,
    "start_time": "2023-03-25T11:35:11.851Z"
   },
   {
    "duration": 10,
    "start_time": "2023-03-25T11:35:12.267Z"
   },
   {
    "duration": 10,
    "start_time": "2023-03-25T11:35:12.697Z"
   },
   {
    "duration": 6,
    "start_time": "2023-03-25T11:35:13.120Z"
   },
   {
    "duration": 19,
    "start_time": "2023-03-25T11:35:13.596Z"
   },
   {
    "duration": 7,
    "start_time": "2023-03-25T11:35:14.019Z"
   },
   {
    "duration": 10,
    "start_time": "2023-03-25T11:35:14.426Z"
   },
   {
    "duration": 17,
    "start_time": "2023-03-25T11:35:14.926Z"
   },
   {
    "duration": 6,
    "start_time": "2023-03-25T11:35:15.401Z"
   },
   {
    "duration": 6,
    "start_time": "2023-03-25T11:35:15.858Z"
   },
   {
    "duration": 7,
    "start_time": "2023-03-25T11:35:16.352Z"
   },
   {
    "duration": 10,
    "start_time": "2023-03-25T11:35:16.750Z"
   },
   {
    "duration": 6,
    "start_time": "2023-03-25T11:35:17.250Z"
   },
   {
    "duration": 11,
    "start_time": "2023-03-25T11:35:19.834Z"
   },
   {
    "duration": 6,
    "start_time": "2023-03-25T11:35:20.625Z"
   },
   {
    "duration": 6,
    "start_time": "2023-03-25T11:35:21.157Z"
   },
   {
    "duration": 15,
    "start_time": "2023-03-25T11:35:21.673Z"
   },
   {
    "duration": 5,
    "start_time": "2023-03-25T11:35:22.166Z"
   },
   {
    "duration": 6,
    "start_time": "2023-03-25T11:35:22.634Z"
   },
   {
    "duration": 7,
    "start_time": "2023-03-25T11:35:23.160Z"
   },
   {
    "duration": 3,
    "start_time": "2023-03-25T11:45:07.070Z"
   },
   {
    "duration": 4,
    "start_time": "2023-03-25T11:45:11.770Z"
   },
   {
    "duration": 3,
    "start_time": "2023-03-25T11:45:46.932Z"
   },
   {
    "duration": 4,
    "start_time": "2023-03-25T11:46:07.756Z"
   },
   {
    "duration": 5,
    "start_time": "2023-03-25T11:46:09.371Z"
   },
   {
    "duration": 4,
    "start_time": "2023-03-25T11:46:10.350Z"
   },
   {
    "duration": 4,
    "start_time": "2023-03-25T11:46:11.500Z"
   },
   {
    "duration": 1132,
    "start_time": "2023-03-25T11:58:57.973Z"
   },
   {
    "duration": 28,
    "start_time": "2023-03-25T11:58:59.108Z"
   },
   {
    "duration": 18,
    "start_time": "2023-03-25T11:58:59.137Z"
   },
   {
    "duration": 11,
    "start_time": "2023-03-25T11:58:59.157Z"
   },
   {
    "duration": 31,
    "start_time": "2023-03-25T11:58:59.174Z"
   },
   {
    "duration": 921,
    "start_time": "2023-03-25T11:58:59.206Z"
   },
   {
    "duration": 5,
    "start_time": "2023-03-25T11:59:00.129Z"
   },
   {
    "duration": 23,
    "start_time": "2023-03-25T11:59:00.136Z"
   },
   {
    "duration": 39,
    "start_time": "2023-03-25T11:59:00.161Z"
   },
   {
    "duration": 8,
    "start_time": "2023-03-25T11:59:00.202Z"
   },
   {
    "duration": 28,
    "start_time": "2023-03-25T11:59:00.212Z"
   },
   {
    "duration": 28,
    "start_time": "2023-03-25T11:59:00.242Z"
   },
   {
    "duration": 26,
    "start_time": "2023-03-25T11:59:00.272Z"
   }
  ],
  "kernelspec": {
   "display_name": "Python 3 (ipykernel)",
   "language": "python",
   "name": "python3"
  },
  "language_info": {
   "codemirror_mode": {
    "name": "ipython",
    "version": 3
   },
   "file_extension": ".py",
   "mimetype": "text/x-python",
   "name": "python",
   "nbconvert_exporter": "python",
   "pygments_lexer": "ipython3",
   "version": "3.11.3"
  },
  "toc": {
   "base_numbering": 1,
   "nav_menu": {},
   "number_sections": true,
   "sideBar": true,
   "skip_h1_title": true,
   "title_cell": "Содержание",
   "title_sidebar": "Contents",
   "toc_cell": true,
   "toc_position": {
    "height": "calc(100% - 180px)",
    "left": "10px",
    "top": "150px",
    "width": "392.1px"
   },
   "toc_section_display": true,
   "toc_window_display": false
  }
 },
 "nbformat": 4,
 "nbformat_minor": 2
}
