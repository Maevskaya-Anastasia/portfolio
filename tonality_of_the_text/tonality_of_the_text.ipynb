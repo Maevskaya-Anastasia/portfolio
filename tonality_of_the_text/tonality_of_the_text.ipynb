{
 "cells": [
  {
   "cell_type": "markdown",
   "id": "343bc3cf",
   "metadata": {},
   "source": [
    "## 1 Импорт библиотек и модулей"
   ]
  },
  {
   "cell_type": "code",
   "execution_count": 1,
   "id": "81e8fcbe",
   "metadata": {},
   "outputs": [],
   "source": [
    "!pip install -q sweetviz"
   ]
  },
  {
   "cell_type": "code",
   "execution_count": 2,
   "id": "1780041d",
   "metadata": {},
   "outputs": [],
   "source": [
    "!pip install -q ipywidgets"
   ]
  },
  {
   "cell_type": "code",
   "execution_count": 3,
   "id": "cce3f7cd",
   "metadata": {},
   "outputs": [],
   "source": [
    "!pip install -q pymystem3"
   ]
  },
  {
   "cell_type": "code",
   "execution_count": 4,
   "id": "e24d2a24",
   "metadata": {},
   "outputs": [],
   "source": [
    "!pip install -q nltk"
   ]
  },
  {
   "cell_type": "code",
   "execution_count": 5,
   "id": "cca0824a",
   "metadata": {},
   "outputs": [],
   "source": [
    "!pip install -q hyperopt"
   ]
  },
  {
   "cell_type": "code",
   "execution_count": 6,
   "id": "1323d417",
   "metadata": {},
   "outputs": [],
   "source": [
    "# для математических вычислений\n",
    "import numpy as np\n",
    "\n",
    "# для работы с таблицами\n",
    "import pandas as pd\n",
    "\n",
    "# для EDA анализа\n",
    "import sweetviz as sv\n",
    "\n",
    "# для очистки текста\n",
    "import re\n",
    "\n",
    "# для визуализации\n",
    "import matplotlib.pyplot as plt \n",
    "import seaborn as sns\n",
    "from sklearn.metrics import confusion_matrix\n",
    "\n",
    "# для лемматизации текста\n",
    "import nltk\n",
    "from nltk.corpus import wordnet\n",
    "from nltk.stem import WordNetLemmatizer\n",
    "\n",
    "# для переведения текста в вектор\n",
    "from sklearn.feature_extraction.text import TfidfVectorizer\n",
    "\n",
    "# для разбивки данных на выборки\n",
    "from sklearn.model_selection import train_test_split\n",
    "\n",
    "# модели машинного обучения\n",
    "from sklearn.svm import LinearSVC\n",
    "from sklearn.naive_bayes import BernoulliNB\n",
    "from sklearn.tree import DecisionTreeClassifier\n",
    "from sklearn.dummy import DummyClassifier\n",
    "\n",
    "# для расчёта качества моделей\n",
    "from sklearn.model_selection import cross_val_score\n",
    "from sklearn.metrics import f1_score, accuracy_score\n",
    "from sklearn.metrics import precision_score, recall_score, f1_score, classification_report\n",
    "\n",
    "# для подбора гиперпараметров\n",
    "from hyperopt import fmin, tpe, hp, STATUS_OK, Trials\n",
    "from hyperopt.pyll.base import scope\n",
    "\n",
    "# для обработки ошибок\n",
    "import warnings\n",
    "\n",
    "# для расчёта времени выполнения кода\n",
    "import time"
   ]
  },
  {
   "cell_type": "markdown",
   "id": "c5c3a20d",
   "metadata": {},
   "source": [
    "## 2 Подготовка данных\n",
    "Считаем данные из csv-файла в датафрейм и сохраним в переменную `df`, выполнив ресемплирование по одному часу. После проведём EDA анализ."
   ]
  },
  {
   "cell_type": "code",
   "execution_count": 7,
   "id": "1c831596",
   "metadata": {},
   "outputs": [],
   "source": [
    "warnings.filterwarnings('ignore', message='iteritems is deprecated')\n",
    "\n",
    "def read_eda(name):\n",
    "    try:\n",
    "        df = pd.read_csv('/datasets/' + name + '.csv')\n",
    "    except:\n",
    "        df = pd.read_csv('https://code.s3.yandex.net/datasets/' + name + '.csv')\n",
    "    sv.analyze(df).show_html(name + '.html')\n",
    "    return df"
   ]
  },
  {
   "cell_type": "code",
   "execution_count": 8,
   "id": "4acad777",
   "metadata": {
    "scrolled": true
   },
   "outputs": [
    {
     "data": {
      "application/vnd.jupyter.widget-view+json": {
       "model_id": "1b5ea1dc033e42ca97faabd6316f04b0",
       "version_major": 2,
       "version_minor": 0
      },
      "text/plain": [
       "                                             |          | [  0%]   00:00 -> (? left)"
      ]
     },
     "metadata": {},
     "output_type": "display_data"
    },
    {
     "name": "stdout",
     "output_type": "stream",
     "text": [
      "Report toxic_comments.html was generated! NOTEBOOK/COLAB USERS: the web browser MAY not pop up, regardless, the report IS saved in your notebook/colab files.\n"
     ]
    }
   ],
   "source": [
    "df = read_eda('toxic_comments')"
   ]
  },
  {
   "cell_type": "markdown",
   "id": "cba5026a",
   "metadata": {},
   "source": [
    "[Посмотреть анализ.](https://www.dropbox.com/s/enyjb97zn1lkz84/toxic_comments.html?dl=0)\n",
    "\n",
    "Очистим текст."
   ]
  },
  {
   "cell_type": "code",
   "execution_count": 9,
   "id": "f411e364",
   "metadata": {},
   "outputs": [],
   "source": [
    "def clear_text(text):\n",
    "    text = text.lower()\n",
    "    text = re.sub('\\[.*?\\]', '', text)\n",
    "    text = re.sub('https?://\\S+|www\\.\\S+', '', text)\n",
    "    text = re.sub('<.*?>+', '', text)\n",
    "    text = re.sub('\\n', '', text)\n",
    "    text = re.sub('\\w*\\d\\w*', '', text)\n",
    "    return \" \".join(text.split()) "
   ]
  },
  {
   "cell_type": "code",
   "execution_count": 10,
   "id": "b23af8d0",
   "metadata": {},
   "outputs": [],
   "source": [
    "df['text'] = df['text'].apply(clear_text)"
   ]
  },
  {
   "cell_type": "markdown",
   "id": "373d51e3",
   "metadata": {},
   "source": [
    "Лемматизируем."
   ]
  },
  {
   "cell_type": "code",
   "execution_count": 11,
   "id": "dd653428",
   "metadata": {},
   "outputs": [
    {
     "name": "stderr",
     "output_type": "stream",
     "text": [
      "[nltk_data] Downloading package averaged_perceptron_tagger to\n",
      "[nltk_data]     /home/jovyan/nltk_data...\n",
      "[nltk_data]   Package averaged_perceptron_tagger is already up-to-\n",
      "[nltk_data]       date!\n",
      "[nltk_data] Downloading package wordnet to /home/jovyan/nltk_data...\n",
      "[nltk_data]   Package wordnet is already up-to-date!\n"
     ]
    }
   ],
   "source": [
    "nltk.download('averaged_perceptron_tagger')\n",
    "nltk.download('wordnet')\n",
    "\n",
    "lemmatizer = WordNetLemmatizer()\n",
    "\n",
    "def get_wordnet_pos(word):\n",
    "    tag = nltk.pos_tag([word])[0][1][0].upper()\n",
    "    tag_dict = {\"J\": wordnet.ADJ,\n",
    "                \"N\": wordnet.NOUN,\n",
    "                \"V\": wordnet.VERB,\n",
    "                \"R\": wordnet.ADV}\n",
    "    return tag_dict.get(tag, wordnet.NOUN)\n",
    "\n",
    "def lemmatize(text):\n",
    "    return ' '.join([lemmatizer.lemmatize(word, get_wordnet_pos(word)) for word in text.split()])"
   ]
  },
  {
   "cell_type": "code",
   "execution_count": 12,
   "id": "c6c1259d",
   "metadata": {},
   "outputs": [],
   "source": [
    "corpus = df['text'].values\n",
    "corpus[0] = lemmatize(corpus[0])"
   ]
  },
  {
   "cell_type": "markdown",
   "id": "adf903e9",
   "metadata": {},
   "source": [
    "Разобьём данные на признаки (`x`) и целевой признак (`y`)."
   ]
  },
  {
   "cell_type": "code",
   "execution_count": 13,
   "id": "862ae72e",
   "metadata": {},
   "outputs": [],
   "source": [
    "x = df.drop('toxic', axis=1)\n",
    "y = df['toxic']"
   ]
  },
  {
   "cell_type": "markdown",
   "id": "1257f429",
   "metadata": {},
   "source": [
    "Разобьём данные на обучающую, валидационную и тестовую выборки."
   ]
  },
  {
   "cell_type": "code",
   "execution_count": 14,
   "id": "ac46c2d1",
   "metadata": {},
   "outputs": [],
   "source": [
    "RANDOM_STATE = 0\n",
    "\n",
    "x_train, x_valid, y_train, y_valid = train_test_split(x, y, test_size=0.25, random_state=RANDOM_STATE)\n",
    "x_valid, x_test, y_valid, y_test = train_test_split(x_valid, y_valid, test_size=0.4, random_state=RANDOM_STATE)"
   ]
  },
  {
   "cell_type": "markdown",
   "id": "11d19b3d",
   "metadata": {},
   "source": [
    "Проверим размеры выборок."
   ]
  },
  {
   "cell_type": "code",
   "execution_count": 15,
   "id": "449013fa",
   "metadata": {},
   "outputs": [
    {
     "name": "stdout",
     "output_type": "stream",
     "text": [
      "Размер обучающей выборки: (119469, 2)\n",
      "Размер валидационной выборки: (23893, 2)\n",
      "Размер тестовой выборки: (15930, 2)\n"
     ]
    }
   ],
   "source": [
    "print('Размер обучающей выборки:', x_train.shape)\n",
    "print('Размер валидационной выборки:', x_valid.shape)\n",
    "print('Размер тестовой выборки:', x_test.shape)"
   ]
  },
  {
   "cell_type": "markdown",
   "id": "037ccf5c",
   "metadata": {},
   "source": [
    "Переведём текст в векторы."
   ]
  },
  {
   "cell_type": "code",
   "execution_count": 16,
   "id": "c7b9bc30",
   "metadata": {},
   "outputs": [],
   "source": [
    "vec = TfidfVectorizer(stop_words=\"english\")\n",
    "vec.fit(x_train['text'].values.astype('U'));"
   ]
  },
  {
   "cell_type": "code",
   "execution_count": 17,
   "id": "e2769da9",
   "metadata": {},
   "outputs": [],
   "source": [
    "def tfidf_transform(x):\n",
    "    return vec.transform(x['text'].values.astype('U'))"
   ]
  },
  {
   "cell_type": "code",
   "execution_count": 18,
   "id": "9d535f43",
   "metadata": {},
   "outputs": [],
   "source": [
    "x_train = tfidf_transform(x_train)\n",
    "x_valid = tfidf_transform(x_valid)\n",
    "x_test = tfidf_transform(x_test)"
   ]
  },
  {
   "cell_type": "markdown",
   "id": "eb8770b4",
   "metadata": {},
   "source": [
    "<div style=\"border:solid steelblue 5px; padding: 30px\">\n",
    "   <p>\n",
    "        <b>Результаты подготовки данных:</b>\n",
    "        <ol>\n",
    "        <li>Общая информация о данных изучена.</li>\n",
    "        <li>Текст очищен и лемматизирован.</li>\n",
    "        <li>Данные разбиты на выборки.</li>\n",
    "        <li>Текст переведён в векторы.</li>\n",
    "        </ol>\n",
    "   </p>  \n",
    "</div>"
   ]
  },
  {
   "cell_type": "markdown",
   "id": "4a6defc5",
   "metadata": {},
   "source": [
    "## 3 Работа с моделями\n",
    "### 3.1 Обучение\n",
    "Обучим разные модели без параметров и выберем лучшую."
   ]
  },
  {
   "cell_type": "code",
   "execution_count": 19,
   "id": "e8066b0f",
   "metadata": {},
   "outputs": [],
   "source": [
    "def quality(mdl, return_qual=0):\n",
    "    scores = cross_val_score(mdl, x_train, y_train, cv=5, scoring='neg_mean_absolute_error')\n",
    "    quality = -scores.mean()\n",
    "    print('Качество:', quality)\n",
    "    \n",
    "    if return_qual == 1:\n",
    "        return quality"
   ]
  },
  {
   "cell_type": "code",
   "execution_count": 20,
   "id": "08f7e523",
   "metadata": {
    "scrolled": true
   },
   "outputs": [
    {
     "name": "stdout",
     "output_type": "stream",
     "text": [
      "Качество: 0.07297291402378249\n",
      "CPU times: user 346 ms, sys: 11.9 ms, total: 358 ms\n",
      "Wall time: 358 ms\n"
     ]
    }
   ],
   "source": [
    "%%time\n",
    "quality(BernoulliNB())"
   ]
  },
  {
   "cell_type": "code",
   "execution_count": 21,
   "id": "f2793868",
   "metadata": {},
   "outputs": [
    {
     "name": "stdout",
     "output_type": "stream",
     "text": [
      "Качество: 0.04163423821217156\n",
      "CPU times: user 2.59 s, sys: 99.7 ms, total: 2.69 s\n",
      "Wall time: 2.69 s\n"
     ]
    }
   ],
   "source": [
    "%%time\n",
    "quality(LinearSVC())"
   ]
  },
  {
   "cell_type": "markdown",
   "id": "d5f08063",
   "metadata": {},
   "source": [
    "**Лучшим себя показал линейный метод опорных векторов, подберём для него гиперпараметры при помощи байесовской оптимизации.**"
   ]
  },
  {
   "cell_type": "markdown",
   "id": "af997874",
   "metadata": {},
   "source": [
    "### 3.2 Подбор гиперпараметров"
   ]
  },
  {
   "cell_type": "code",
   "execution_count": 22,
   "id": "064db822",
   "metadata": {},
   "outputs": [],
   "source": [
    "state = np.random.default_rng(0)\n",
    "\n",
    "def hp_slctns(model, space, evals=10):\n",
    "    def func(args):\n",
    "        mdl = model.set_params(**args)\n",
    "        scores = cross_val_score(mdl, x_valid, y_valid, cv=5, scoring='f1', error_score='raise')\n",
    "        final_score = -sum(scores) / len(scores)\n",
    "        return {'loss': final_score, 'status': STATUS_OK, 'model':mdl}\n",
    "    \n",
    "    trials = Trials()\n",
    "    best = fmin(func,\n",
    "                space=space,\n",
    "                algo=tpe.suggest,\n",
    "                trials=trials,\n",
    "                max_evals=evals, \n",
    "                show_progressbar=True, \n",
    "                rstate=state)\n",
    "    best_model = trials.best_trial['result']['model']\n",
    "    \n",
    "    print('Лучшие гиперпараметры:', best)\n",
    "    return best_model"
   ]
  },
  {
   "cell_type": "code",
   "execution_count": 23,
   "id": "07f7ea0f",
   "metadata": {},
   "outputs": [
    {
     "name": "stdout",
     "output_type": "stream",
     "text": [
      "100%|██████████| 10/10 [03:02<00:00, 18.28s/trial, best loss: -0.7215310229183328]\n",
      "Лучшие гиперпараметры: {'C': 1.9147825525971447}\n"
     ]
    }
   ],
   "source": [
    "lsvc_space = {\n",
    "    'C': hp.loguniform('C', -7, 7),\n",
    "    'max_iter': 80000\n",
    "}\n",
    "\n",
    "best_lsvc = hp_slctns(model=LinearSVC(), space=lsvc_space)"
   ]
  },
  {
   "cell_type": "markdown",
   "id": "de382bdb",
   "metadata": {},
   "source": [
    "### 3.3 Сравнение с константной моделью\n",
    "Получим качество константной модели."
   ]
  },
  {
   "cell_type": "code",
   "execution_count": 24,
   "id": "bc7afe56",
   "metadata": {},
   "outputs": [
    {
     "name": "stdout",
     "output_type": "stream",
     "text": [
      "Качество: 0.10141542990252736\n",
      "Качество: 0.18147802769756913\n",
      "Качество: 0.5014271051655897\n"
     ]
    }
   ],
   "source": [
    "dummy_most_frequent = quality(DummyClassifier(strategy='most_frequent'), return_qual=1)\n",
    "dummy_stratified = quality(DummyClassifier(strategy='stratified'), return_qual=1)\n",
    "dummy_uniform = quality(DummyClassifier(strategy='uniform'), return_qual=1)"
   ]
  },
  {
   "cell_type": "markdown",
   "id": "a185074d",
   "metadata": {
    "id": "0d1f2b89"
   },
   "source": [
    "Сохраним результаты лучшей константной модели в пустой датафрейм."
   ]
  },
  {
   "cell_type": "code",
   "execution_count": 25,
   "id": "4ec8d460",
   "metadata": {
    "id": "6765c8e8"
   },
   "outputs": [],
   "source": [
    "results_df = pd.DataFrame(columns=['Качество', 'Время обучения', 'Скорость предсказания'])\n",
    "results_df.loc['Константная модель'] = [dummy_most_frequent, 0, 0]"
   ]
  },
  {
   "cell_type": "markdown",
   "id": "c07226f1",
   "metadata": {},
   "source": [
    "Добавим строку с временем обучения, скоростью предсказания и качеством нашей модели в таблицу с результатами."
   ]
  },
  {
   "cell_type": "code",
   "execution_count": 26,
   "id": "a1af1a8b",
   "metadata": {
    "id": "4d9acb1a"
   },
   "outputs": [],
   "source": [
    "def save_time(model, best_model, name):\n",
    "    mdl = model.set_params(**best_model.get_params())\n",
    "    \n",
    "    start_train_timer = time.time()\n",
    "    mdl.fit(x_train, y_train)\n",
    "    stop_train_timer = time.time() - start_train_timer\n",
    "    \n",
    "    start_pred_timer = time.time()\n",
    "    pred = mdl.predict(x_test)\n",
    "    score = f1_score(y_test, pred)\n",
    "    stop_pred_timer = time.time() - start_pred_timer\n",
    "    \n",
    "    results_df.loc[name] = [score, stop_train_timer, stop_pred_timer]\n",
    "    \n",
    "    return mdl, pred"
   ]
  },
  {
   "cell_type": "code",
   "execution_count": 27,
   "id": "747cc7a4",
   "metadata": {
    "id": "a89fb53d"
   },
   "outputs": [],
   "source": [
    "mdl, pred = save_time(LinearSVC(), best_lsvc, 'Линейный метод опорных векторов')"
   ]
  },
  {
   "cell_type": "markdown",
   "id": "488de06c",
   "metadata": {
    "id": "e426bc14"
   },
   "source": [
    "Рассмотрим получившеюся таблицу."
   ]
  },
  {
   "cell_type": "code",
   "execution_count": 28,
   "id": "c9621e2c",
   "metadata": {
    "id": "383cdf11"
   },
   "outputs": [
    {
     "data": {
      "text/html": [
       "<div>\n",
       "<style scoped>\n",
       "    .dataframe tbody tr th:only-of-type {\n",
       "        vertical-align: middle;\n",
       "    }\n",
       "\n",
       "    .dataframe tbody tr th {\n",
       "        vertical-align: top;\n",
       "    }\n",
       "\n",
       "    .dataframe thead th {\n",
       "        text-align: right;\n",
       "    }\n",
       "</style>\n",
       "<table border=\"1\" class=\"dataframe\">\n",
       "  <thead>\n",
       "    <tr style=\"text-align: right;\">\n",
       "      <th></th>\n",
       "      <th>Качество</th>\n",
       "      <th>Время обучения</th>\n",
       "      <th>Скорость предсказания</th>\n",
       "    </tr>\n",
       "  </thead>\n",
       "  <tbody>\n",
       "    <tr>\n",
       "      <th>Константная модель</th>\n",
       "      <td>0.101415</td>\n",
       "      <td>0.000000</td>\n",
       "      <td>0.00000</td>\n",
       "    </tr>\n",
       "    <tr>\n",
       "      <th>Линейный метод опорных векторов</th>\n",
       "      <td>0.728003</td>\n",
       "      <td>0.431136</td>\n",
       "      <td>0.00617</td>\n",
       "    </tr>\n",
       "  </tbody>\n",
       "</table>\n",
       "</div>"
      ],
      "text/plain": [
       "                                 Качество  Время обучения  \\\n",
       "Константная модель               0.101415        0.000000   \n",
       "Линейный метод опорных векторов  0.728003        0.431136   \n",
       "\n",
       "                                 Скорость предсказания  \n",
       "Константная модель                             0.00000  \n",
       "Линейный метод опорных векторов                0.00617  "
      ]
     },
     "execution_count": 28,
     "metadata": {},
     "output_type": "execute_result"
    }
   ],
   "source": [
    "results_df"
   ]
  },
  {
   "cell_type": "markdown",
   "id": "c511ab97",
   "metadata": {
    "id": "aa080dc1"
   },
   "source": [
    "**Модель превзошла костантную модель и её качество соответствует заявленным требованиям.**"
   ]
  },
  {
   "cell_type": "markdown",
   "id": "f4681875",
   "metadata": {
    "id": "6ac9720f"
   },
   "source": [
    "### 3.4 Оценка предсказания"
   ]
  },
  {
   "cell_type": "code",
   "execution_count": 29,
   "id": "318cda41",
   "metadata": {},
   "outputs": [
    {
     "name": "stdout",
     "output_type": "stream",
     "text": [
      "\\Точность: 0.95\n",
      "\n",
      "Микро точность: 0.95\n",
      "Микро полнота: 0.95\n",
      "Микро F1-мера: 0.95\n",
      "\n",
      "Макро точность: 0.94\n",
      "Макро полнота: 0.80\n",
      "Макро F1-мера: 0.85\n",
      "\n",
      "Взвешенная точность: 0.95\n",
      "Взвешенная полнота: 0.95\n",
      "Взвешенная F1-мера: 0.95\n",
      "\n",
      "Отчёт классификации\n",
      "\n",
      "              precision    recall  f1-score   support\n",
      "\n",
      "           0       0.95      1.00      0.97     14258\n",
      "           1       0.93      0.60      0.73      1672\n",
      "\n",
      "    accuracy                           0.95     15930\n",
      "   macro avg       0.94      0.80      0.85     15930\n",
      "weighted avg       0.95      0.95      0.95     15930\n",
      "\n"
     ]
    }
   ],
   "source": [
    "print('\\Точность: {:.2f}\\n'.format(accuracy_score(y_test, pred)))\n",
    "\n",
    "print('Микро точность: {:.2f}'.format(precision_score(y_test, pred, average='micro')))\n",
    "print('Микро полнота: {:.2f}'.format(recall_score(y_test, pred, average='micro')))\n",
    "print('Микро F1-мера: {:.2f}\\n'.format(f1_score(y_test, pred, average='micro')))\n",
    "\n",
    "print('Макро точность: {:.2f}'.format(precision_score(y_test, pred, average='macro')))\n",
    "print('Макро полнота: {:.2f}'.format(recall_score(y_test, pred, average='macro')))\n",
    "print('Макро F1-мера: {:.2f}\\n'.format(f1_score(y_test, pred, average='macro')))\n",
    "\n",
    "print('Взвешенная точность: {:.2f}'.format(precision_score(y_test, pred, average='weighted')))\n",
    "print('Взвешенная полнота: {:.2f}'.format(recall_score(y_test, pred, average='weighted')))\n",
    "print('Взвешенная F1-мера: {:.2f}'.format(f1_score(y_test, pred, average='weighted')))\n",
    "\n",
    "print('\\nОтчёт классификации\\n')\n",
    "print(classification_report(y_test, pred))"
   ]
  },
  {
   "cell_type": "markdown",
   "id": "c537d4cf",
   "metadata": {
    "id": "lIMhGbWwPgqx"
   },
   "source": [
    "Построим марицу ошибок."
   ]
  },
  {
   "cell_type": "code",
   "execution_count": 30,
   "id": "a3142eac",
   "metadata": {
    "id": "LcMcQy0Th5KW",
    "scrolled": false
   },
   "outputs": [
    {
     "data": {
      "image/png": "[encoded data removed]",
      "text/plain": [
       "<Figure size 1000x500 with 2 Axes>"
      ]
     },
     "metadata": {},
     "output_type": "display_data"
    }
   ],
   "source": [
    "plt.figure(figsize=(10, 5))\n",
    "heatmap = sns.heatmap(confusion_matrix(y_test, pred), annot=True, cmap='Blues')\n",
    "sns.set_style('white')\n",
    "heatmap.set_title('Матрица ошибок' + \"\\n\", fontsize=20);\n",
    "heatmap.set_xlabel('Результаты предсказания', fontsize=16);\n",
    "heatmap.set_ylabel('Ожидаемые результаты', fontsize=16);\n",
    "plt.show()"
   ]
  },
  {
   "cell_type": "markdown",
   "id": "8e97a3d2",
   "metadata": {
    "id": "8e97a3d2"
   },
   "source": [
    "<div style=\"border:solid steelblue 5px; padding: 30px\">\n",
    "   <p>\n",
    "        <b>Результаты работы с моделями:</b>\n",
    "        <ol>\n",
    "        <li>Разные модели обучены.</li>\n",
    "        <li>Лучшая модель найдена, сравнена с константной и проверена на тестовой выборке.</li>\n",
    "        <li>Предсказание оценено.</li>\n",
    "        </ol>\n",
    "   </p>  \n",
    "</div>"
   ]
  },
  {
   "cell_type": "markdown",
   "id": "c193ea1b",
   "metadata": {
    "id": "8fb46225"
   },
   "source": [
    "## 4 Отчёт"
   ]
  },
  {
   "cell_type": "markdown",
   "id": "51f35475",
   "metadata": {
    "id": "d98c8159"
   },
   "source": [
    "<hr style=\"color: steelblue; background-color: steelblue; height: 4px; border: none;\">"
   ]
  },
  {
   "cell_type": "markdown",
   "id": "36fbd122",
   "metadata": {
    "id": "ca51b4da"
   },
   "source": [
    "### Описание ключевых шагов решения\n",
    "1. При подготовке данных была изучена общая информация о данных, очищен и лемматизирован текст, данные разбиты на выборки и текст переведён в векторы.\n",
    "1. Были обучены разные модели и выбрана лучшая.\n",
    "1. Лучшая модель была сравнена с константной и протестирована на тестовой выборке.\n",
    "1. Было оценено предсказание.\n",
    "\n",
    "***\n",
    "\n",
    "### Описание модели\n",
    "Модель — `LinearSVC`.\n",
    "\n",
    "Гиперпараметры:\n",
    "- `C` = 2.9016048473696263\n",
    "\n",
    "***\n",
    "\n",
    "### Итоговая метрика\n",
    "F1 0.7787848271231957\t"
   ]
  },
  {
   "cell_type": "markdown",
   "id": "0e2d3bcf",
   "metadata": {
    "id": "15a96012"
   },
   "source": [
    "<hr style=\"color: steelblue; background-color: steelblue; height: 4px; border: none;\">"
   ]
  }
 ],
 "metadata": {
  "ExecuteTimeLog": [
   {
    "duration": 479,
    "start_time": "2023-04-08T11:19:57.477Z"
   },
   {
    "duration": 15902,
    "start_time": "2023-04-08T11:20:08.065Z"
   },
   {
    "duration": 3,
    "start_time": "2023-04-08T11:20:29.528Z"
   },
   {
    "duration": 2387,
    "start_time": "2023-04-08T11:20:31.402Z"
   },
   {
    "duration": 5190,
    "start_time": "2023-04-08T11:20:40.355Z"
   },
   {
    "duration": 4,
    "start_time": "2023-04-08T11:20:54.157Z"
   },
   {
    "duration": 25,
    "start_time": "2023-04-08T11:20:55.047Z"
   },
   {
    "duration": 5,
    "start_time": "2023-04-08T11:24:11.509Z"
   },
   {
    "duration": 570,
    "start_time": "2023-04-08T11:25:50.072Z"
   },
   {
    "duration": 4,
    "start_time": "2023-04-08T11:27:00.701Z"
   },
   {
    "duration": 3485,
    "start_time": "2023-04-08T11:27:01.478Z"
   },
   {
    "duration": 5,
    "start_time": "2023-04-08T11:27:04.966Z"
   },
   {
    "duration": 10902,
    "start_time": "2023-04-08T11:27:06.515Z"
   },
   {
    "duration": 14,
    "start_time": "2023-04-08T11:27:17.419Z"
   },
   {
    "duration": 23,
    "start_time": "2023-04-08T11:27:42.930Z"
   },
   {
    "duration": 444163,
    "start_time": "2023-04-08T11:27:57.488Z"
   },
   {
    "duration": 5,
    "start_time": "2023-04-08T11:35:37.553Z"
   },
   {
    "duration": 9,
    "start_time": "2023-04-08T11:52:39.488Z"
   }
  ],
  "kernelspec": {
   "display_name": "Python 3 (ipykernel)",
   "language": "python",
   "name": "python3"
  },
  "language_info": {
   "codemirror_mode": {
    "name": "ipython",
    "version": 3
   },
   "file_extension": ".py",
   "mimetype": "text/x-python",
   "name": "python",
   "nbconvert_exporter": "python",
   "pygments_lexer": "ipython3",
   "version": "3.11.3"
  },
  "toc": {
   "base_numbering": 1,
   "nav_menu": {},
   "number_sections": true,
   "sideBar": true,
   "skip_h1_title": true,
   "title_cell": "Table of Contents",
   "title_sidebar": "Contents",
   "toc_cell": false,
   "toc_position": {},
   "toc_section_display": true,
   "toc_window_display": false
  }
 },
 "nbformat": 4,
 "nbformat_minor": 5
}
