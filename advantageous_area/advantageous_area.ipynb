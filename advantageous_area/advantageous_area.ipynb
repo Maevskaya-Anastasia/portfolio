{
 "cells": [
  {
   "cell_type": "markdown",
   "metadata": {},
   "source": [
    "## 1 Импорт библиотек и модулей"
   ]
  },
  {
   "cell_type": "code",
   "execution_count": 1,
   "metadata": {},
   "outputs": [],
   "source": [
    "!pip install -q ydata_profiling"
   ]
  },
  {
   "cell_type": "code",
   "execution_count": 2,
   "metadata": {},
   "outputs": [],
   "source": [
    "%matplotlib inline"
   ]
  },
  {
   "cell_type": "code",
   "execution_count": 3,
   "metadata": {},
   "outputs": [],
   "source": [
    "# для работы с данными\n",
    "import pandas as pd\n",
    "\n",
    "# для EDA анализа\n",
    "import ydata_profiling\n",
    "\n",
    "# для математических вычислений\n",
    "import numpy as np\n",
    "\n",
    "# для разделения данных на выборки\n",
    "from sklearn.model_selection import train_test_split\n",
    "\n",
    "# для визуализации\n",
    "import seaborn as sns\n",
    "import matplotlib.pyplot as plt\n",
    "\n",
    "# для масштабирования признаков\n",
    "from sklearn.preprocessing import RobustScaler\n",
    "\n",
    "# модель машинного обучения\n",
    "from sklearn.linear_model import LinearRegression\n",
    "\n",
    "# для расчёта качества моделей\n",
    "from sklearn.metrics import mean_squared_error"
   ]
  },
  {
   "cell_type": "markdown",
   "metadata": {},
   "source": [
    "## 2 Открытие файлов с данными и изучение общей информации\n",
    "### 2.1 Первый регион\n",
    "Считаем данные из csv-файла в датафрейм, сохраним в переменную `df_0` и проведём EDA анализ."
   ]
  },
  {
   "cell_type": "code",
   "execution_count": 6,
   "metadata": {},
   "outputs": [],
   "source": [
    "def read_eda(name):\n",
    "    try:\n",
    "        df = pd.read_csv('/datasets/' + name + '.csv')\n",
    "    except:\n",
    "        df = pd.read_csv('https://code.s3.yandex.net/datasets/' + name + '.csv')\n",
    "    ydata_profiling.ProfileReport(df, progress_bar=False).to_file(name + '.html')\n",
    "    return df"
   ]
  },
  {
   "cell_type": "code",
   "execution_count": 7,
   "metadata": {},
   "outputs": [],
   "source": [
    "df_0 = read_eda('geo_data_0')"
   ]
  },
  {
   "cell_type": "markdown",
   "metadata": {},
   "source": [
    "[Посмотреть анализ.](https://www.dropbox.com/s/4hwqj11wxtd19qe/geo_data_0.html?dl=0)\n",
    "\n",
    "- **В данных 100000 строк, 5 столбцов, 2 типа данных: float64, object.**\n",
    "- **Проблемы отсутствуют.**"
   ]
  },
  {
   "cell_type": "markdown",
   "metadata": {},
   "source": [
    "### 2.2 Второй регион\n",
    "Считаем данные из csv-файла в датафрейм, сохраним в переменную `df_1` и проведём EDA анализ."
   ]
  },
  {
   "cell_type": "code",
   "execution_count": 10,
   "metadata": {},
   "outputs": [],
   "source": [
    "df_1 = read_eda('geo_data_1')"
   ]
  },
  {
   "cell_type": "markdown",
   "metadata": {},
   "source": [
    "[Посмотреть анализ.](https://www.dropbox.com/s/tezguk46aolnlae/geo_data_1.html?dl=0)\n",
    "\n",
    "- **В данных 100000 строк, 5 столбцов, 2 типа данных: float64, object.**\n",
    "- **Проблемы отсутствуют.**"
   ]
  },
  {
   "cell_type": "markdown",
   "metadata": {},
   "source": [
    "### 2.3 Третий регион\n",
    "Считаем данные из csv-файла в датафрейм, сохраним в переменную `df_2` и проведём EDA анализ."
   ]
  },
  {
   "cell_type": "code",
   "execution_count": 11,
   "metadata": {},
   "outputs": [],
   "source": [
    "df_2 = read_eda('geo_data_2')"
   ]
  },
  {
   "cell_type": "markdown",
   "metadata": {},
   "source": [
    "[Посмотреть анализ.](https://www.dropbox.com/s/4a91jawtttztvys/geo_data_2.html?dl=0)\n",
    "\n",
    "- **В данных 100000 строк, 5 столбцов, 2 типа данных: float64, object.**\n",
    "- **Проблемы отсутствуют.**"
   ]
  },
  {
   "cell_type": "markdown",
   "metadata": {},
   "source": [
    "<div style=\"border:solid steelblue 5px; padding: 30px\">\n",
    "<p>\n",
    "        <b>После изучения данных, стала ясна их общая структура:</b> 100000 строк, 5 столбцов, 2 типа данных: float64, object.<br> <b>Также выяснилось, что данные не нуждаются в обработке.</b>\n",
    "    </p>  \n",
    "</div>"
   ]
  },
  {
   "cell_type": "markdown",
   "metadata": {},
   "source": [
    "## 3 Подготовка данных\n",
    "### 3.1 Удаление столбцов\n",
    "Столбцы `id` содержат идентификационные переменные, которые не помогут модели в нахождении общих закономерностей, поэтому удалим их."
   ]
  },
  {
   "cell_type": "code",
   "execution_count": 17,
   "metadata": {},
   "outputs": [],
   "source": [
    "df_0 = df_0.drop('id', axis=1)\n",
    "df_1 = df_1.drop('id', axis=1)\n",
    "df_2 = df_2.drop('id', axis=1)"
   ]
  },
  {
   "cell_type": "markdown",
   "metadata": {},
   "source": [
    "### 3.2 Разбивка\n",
    "Разобьём данные на обучающую и валидационную выборки."
   ]
  },
  {
   "cell_type": "code",
   "execution_count": 18,
   "metadata": {},
   "outputs": [],
   "source": [
    "RANDOM_STATE = 0\n",
    "\n",
    "def split(df):\n",
    "    x = df.drop('product', axis=1)\n",
    "    y = df['product']\n",
    "    \n",
    "    x_train, x_valid, y_train, y_valid = train_test_split(x, y, test_size=0.25, random_state=RANDOM_STATE)\n",
    "    return x_train, x_valid, y_train, y_valid"
   ]
  },
  {
   "cell_type": "code",
   "execution_count": 19,
   "metadata": {},
   "outputs": [],
   "source": [
    "df_0_x_train, df_0_x_valid, df_0_y_train, df_0_y_valid = split(df_0)\n",
    "df_1_x_train, df_1_x_valid, df_1_y_train, df_1_y_valid = split(df_1)\n",
    "df_2_x_train, df_2_x_valid, df_2_y_train, df_2_y_valid = split(df_2)"
   ]
  },
  {
   "cell_type": "markdown",
   "metadata": {},
   "source": [
    "Проверим размеры выборок."
   ]
  },
  {
   "cell_type": "code",
   "execution_count": 20,
   "metadata": {},
   "outputs": [
    {
     "name": "stdout",
     "output_type": "stream",
     "text": [
      "Размер обучающей выборки: (75000, 3)\n",
      "Размер валидационной выборки: (25000, 3)\n"
     ]
    }
   ],
   "source": [
    "print('Размер обучающей выборки:', df_0_x_train.shape)\n",
    "print('Размер валидационной выборки:', df_0_x_valid.shape)"
   ]
  },
  {
   "cell_type": "markdown",
   "metadata": {},
   "source": [
    "### 3.3 Масштабирование признаков\n",
    "Проверим наличие выбросов в датафрейме `df_0` на диаграммах размаха."
   ]
  },
  {
   "cell_type": "code",
   "execution_count": 21,
   "metadata": {},
   "outputs": [],
   "source": [
    "def boxplots(df):\n",
    "    for column in df.columns:\n",
    "        (\n",
    "            df\n",
    "            .boxplot(column=column, figsize=(15, 3), vert=False)\n",
    "            .set_title('Диаграмма размаха по столбцу ' + column + \"\\n\", size=20)\n",
    "        )\n",
    "        plt.show()"
   ]
  },
  {
   "cell_type": "code",
   "execution_count": 22,
   "metadata": {},
   "outputs": [
    {
     "data": {
      "image/png": "[encoded data removed]",
      "text/plain": [
       "<Figure size 1080x216 with 1 Axes>"
      ]
     },
     "metadata": {
      "needs_background": "light"
     },
     "output_type": "display_data"
    },
    {
     "data": {
      "image/png": "[encoded data removed]",
      "text/plain": [
       "<Figure size 1080x216 with 1 Axes>"
      ]
     },
     "metadata": {
      "needs_background": "light"
     },
     "output_type": "display_data"
    },
    {
     "data": {
      "image/png": "[encoded data removed]",
      "text/plain": [
       "<Figure size 1080x216 with 1 Axes>"
      ]
     },
     "metadata": {
      "needs_background": "light"
     },
     "output_type": "display_data"
    },
    {
     "data": {
      "image/png": "[encoded data removed]",
      "text/plain": [
       "<Figure size 1080x216 with 1 Axes>"
      ]
     },
     "metadata": {
      "needs_background": "light"
     },
     "output_type": "display_data"
    }
   ],
   "source": [
    "boxplots(df_0)"
   ]
  },
  {
   "cell_type": "markdown",
   "metadata": {},
   "source": [
    "В столбце `f2` присутствуют выбросы, поэтому используем устойчивый к выбросам `RobustScaler` ([сравнение масштабаторов на данных с выбросами](https://scikit-learn.org/stable/auto_examples/preprocessing/plot_all_scaling.html)), чтобы признаки стали равными по значимости."
   ]
  },
  {
   "cell_type": "code",
   "execution_count": 23,
   "metadata": {},
   "outputs": [],
   "source": [
    "pd.options.mode.chained_assignment = None\n",
    "\n",
    "scaler = RobustScaler()\n",
    "\n",
    "def scaling(x_train, x_valid):\n",
    "    scaler.fit(x_train)\n",
    "    x_train = scaler.transform(x_train)\n",
    "    x_valid = scaler.transform(x_valid)\n",
    "    return x_train, x_valid"
   ]
  },
  {
   "cell_type": "code",
   "execution_count": 24,
   "metadata": {},
   "outputs": [],
   "source": [
    "df_0_x_train, df_0_x_valid = scaling(df_0_x_train, df_0_x_valid)\n",
    "df_1_x_train, df_1_x_valid = scaling(df_1_x_train, df_1_x_valid)\n",
    "df_2_x_train, df_2_x_valid = scaling(df_2_x_train, df_2_x_valid)"
   ]
  },
  {
   "cell_type": "markdown",
   "metadata": {},
   "source": [
    "<div style=\"border:solid steelblue 5px; padding: 30px\">\n",
    "   <p>\n",
    "        <b>Результаты подготовки данных:</b>\n",
    "        <ol>\n",
    "        <li>Удалены ненужные столбцы.</li>\n",
    "        <li>Данные разбиты на выборки.</li>\n",
    "        <li>Численные признаки масштабированы.</li>\n",
    "        </ol>\n",
    "   </p>  \n",
    "</div>"
   ]
  },
  {
   "cell_type": "markdown",
   "metadata": {},
   "source": [
    "## 4 Обучение и проверка модели\n",
    "\n",
    "Обучим модели, сделаем предсказания на валидационной выборке, а также выведем средний запас предсказанного сырья и RMSE моделей."
   ]
  },
  {
   "cell_type": "code",
   "execution_count": 25,
   "metadata": {},
   "outputs": [],
   "source": [
    "models_results = pd.DataFrame()"
   ]
  },
  {
   "cell_type": "code",
   "execution_count": 26,
   "metadata": {},
   "outputs": [],
   "source": [
    "def train_predict(x_train, y_train, x_valid, y_valid, region):\n",
    "    model = LinearRegression()\n",
    "    \n",
    "    model.fit(x_train, y_train)\n",
    "    prediction = model.predict(x_valid)\n",
    "    prediction = pd.Series(prediction)\n",
    "    \n",
    "    mean_prediction = prediction.mean()\n",
    "    rmse = mean_squared_error(y_valid, prediction) ** 0.5\n",
    "    \n",
    "    region = region + ' регион'\n",
    "    models_results.loc['Средний запас предсказанного сырья', region] = mean_prediction\n",
    "    models_results.loc['RMSE модели', region] = rmse\n",
    "    return prediction"
   ]
  },
  {
   "cell_type": "code",
   "execution_count": 27,
   "metadata": {},
   "outputs": [
    {
     "data": {
      "text/html": [
       "<div>\n",
       "<style scoped>\n",
       "    .dataframe tbody tr th:only-of-type {\n",
       "        vertical-align: middle;\n",
       "    }\n",
       "\n",
       "    .dataframe tbody tr th {\n",
       "        vertical-align: top;\n",
       "    }\n",
       "\n",
       "    .dataframe thead th {\n",
       "        text-align: right;\n",
       "    }\n",
       "</style>\n",
       "<table border=\"1\" class=\"dataframe\">\n",
       "  <thead>\n",
       "    <tr style=\"text-align: right;\">\n",
       "      <th></th>\n",
       "      <th>Первый регион</th>\n",
       "      <th>Второй регион</th>\n",
       "      <th>Третий регион</th>\n",
       "    </tr>\n",
       "  </thead>\n",
       "  <tbody>\n",
       "    <tr>\n",
       "      <th>Средний запас предсказанного сырья</th>\n",
       "      <td>92.271449</td>\n",
       "      <td>69.151624</td>\n",
       "      <td>94.707531</td>\n",
       "    </tr>\n",
       "    <tr>\n",
       "      <th>RMSE модели</th>\n",
       "      <td>37.481009</td>\n",
       "      <td>0.887257</td>\n",
       "      <td>40.312907</td>\n",
       "    </tr>\n",
       "  </tbody>\n",
       "</table>\n",
       "</div>"
      ],
      "text/plain": [
       "                                    Первый регион  Второй регион  \\\n",
       "Средний запас предсказанного сырья      92.271449      69.151624   \n",
       "RMSE модели                             37.481009       0.887257   \n",
       "\n",
       "                                    Третий регион  \n",
       "Средний запас предсказанного сырья      94.707531  \n",
       "RMSE модели                             40.312907  "
      ]
     },
     "execution_count": 27,
     "metadata": {},
     "output_type": "execute_result"
    }
   ],
   "source": [
    "prediction_0 = train_predict(df_0_x_train, df_0_y_train, df_0_x_valid, df_0_y_valid, 'Первый')\n",
    "prediction_1 = train_predict(df_1_x_train, df_1_y_train, df_1_x_valid, df_1_y_valid, 'Второй')\n",
    "prediction_2 = train_predict(df_2_x_train, df_2_y_train, df_2_x_valid, df_2_y_valid, 'Третий')\n",
    "\n",
    "models_results"
   ]
  },
  {
   "cell_type": "markdown",
   "metadata": {},
   "source": [
    "<div style=\"border:solid steelblue 5px; padding: 30px\">\n",
    "   <p>\n",
    "        <b>Результаты работы с моделью:</b>\n",
    "        <li>В третьем регионе самый лучший запас сырья, при этом худшая ошибка.</li>\n",
    "        <li>Показатели первого региона чуть меньше показателей третьего.</li>\n",
    "        <li>Во втором регионе лучшая ошибка, при этом худший запас сырья.</li>\n",
    "   </p>  \n",
    "</div>"
   ]
  },
  {
   "cell_type": "markdown",
   "metadata": {},
   "source": [
    "## 5 Подготовка к расчёту прибыли\n",
    "Сохраним все ключевые значения для расчётов в отдельных переменных."
   ]
  },
  {
   "cell_type": "code",
   "execution_count": 28,
   "metadata": {},
   "outputs": [],
   "source": [
    "BUDGET = 10**10\n",
    "PRICE = 450 * 1000\n",
    "NUMBER_OF_WELLS = 200"
   ]
  },
  {
   "cell_type": "markdown",
   "metadata": {},
   "source": [
    "Рассчитаем достаточный объём сырья для безубыточной разработки новой скважины."
   ]
  },
  {
   "cell_type": "code",
   "execution_count": 29,
   "metadata": {},
   "outputs": [
    {
     "name": "stdout",
     "output_type": "stream",
     "text": [
      "Достаточный объём сырья для безубыточной разработки: 111.11111111111111\n"
     ]
    }
   ],
   "source": [
    "print('Достаточный объём сырья для безубыточной разработки:', (BUDGET / PRICE / NUMBER_OF_WELLS))"
   ]
  },
  {
   "cell_type": "markdown",
   "metadata": {},
   "source": [
    "Сравним полученный объём сырья со средним запасом в каждом регионе. "
   ]
  },
  {
   "cell_type": "code",
   "execution_count": 30,
   "metadata": {},
   "outputs": [
    {
     "data": {
      "text/html": [
       "<div>\n",
       "<style scoped>\n",
       "    .dataframe tbody tr th:only-of-type {\n",
       "        vertical-align: middle;\n",
       "    }\n",
       "\n",
       "    .dataframe tbody tr th {\n",
       "        vertical-align: top;\n",
       "    }\n",
       "\n",
       "    .dataframe thead th {\n",
       "        text-align: right;\n",
       "    }\n",
       "</style>\n",
       "<table border=\"1\" class=\"dataframe\">\n",
       "  <thead>\n",
       "    <tr style=\"text-align: right;\">\n",
       "      <th></th>\n",
       "      <th>Средний запас предсказанного сырья</th>\n",
       "    </tr>\n",
       "  </thead>\n",
       "  <tbody>\n",
       "    <tr>\n",
       "      <th>Первый регион</th>\n",
       "      <td>92.271449</td>\n",
       "    </tr>\n",
       "    <tr>\n",
       "      <th>Второй регион</th>\n",
       "      <td>69.151624</td>\n",
       "    </tr>\n",
       "    <tr>\n",
       "      <th>Третий регион</th>\n",
       "      <td>94.707531</td>\n",
       "    </tr>\n",
       "  </tbody>\n",
       "</table>\n",
       "</div>"
      ],
      "text/plain": [
       "               Средний запас предсказанного сырья\n",
       "Первый регион                           92.271449\n",
       "Второй регион                           69.151624\n",
       "Третий регион                           94.707531"
      ]
     },
     "execution_count": 30,
     "metadata": {},
     "output_type": "execute_result"
    }
   ],
   "source": [
    "models_results.iloc[0].to_frame()"
   ]
  },
  {
   "cell_type": "markdown",
   "metadata": {},
   "source": [
    "<div style=\"border:solid steelblue 5px; padding: 30px\">\n",
    "   <p>\n",
    "        <b>По среднему запасу предсказанного сырья не подходит ни один регион.</b>\n",
    "   </p>  \n",
    "</div>"
   ]
  },
  {
   "cell_type": "markdown",
   "metadata": {},
   "source": [
    "## 6 Расчёт прибыли и рисков \n",
    "Рассчитаем прибыль по 200 лучшим скважинам и предсказаниям моделей."
   ]
  },
  {
   "cell_type": "code",
   "execution_count": 31,
   "metadata": {},
   "outputs": [],
   "source": [
    "def profit(y_valid, prediction, region='', message=True):\n",
    "    prediction_sorted = prediction.reset_index(drop=True).sort_values(ascending=False)\n",
    "    y_valid_sorted = y_valid.reset_index(drop=True)[prediction_sorted.index][:200]\n",
    "\n",
    "    profit = sum(y_valid_sorted) * PRICE - BUDGET\n",
    "    \n",
    "    if message == True:\n",
    "        print('Прибыль в ' + region + ' регионе: ', profit)\n",
    "    else:\n",
    "        return profit"
   ]
  },
  {
   "cell_type": "code",
   "execution_count": 32,
   "metadata": {},
   "outputs": [
    {
     "name": "stdout",
     "output_type": "stream",
     "text": [
      "Прибыль в 1 регионе:  3363408079.60795\n",
      "Прибыль в 2 регионе:  2415086696.681551\n",
      "Прибыль в 3 регионе:  2623878683.516424\n"
     ]
    }
   ],
   "source": [
    "profit(df_0_y_valid, prediction_0, '1')\n",
    "profit(df_1_y_valid, prediction_1, '2')\n",
    "profit(df_2_y_valid, prediction_2, '3')"
   ]
  },
  {
   "cell_type": "markdown",
   "metadata": {},
   "source": [
    "Применим технику Bootstrap с 1000 выборок, чтобы найти распределение прибыли."
   ]
  },
  {
   "cell_type": "code",
   "execution_count": 33,
   "metadata": {},
   "outputs": [],
   "source": [
    "results = pd.DataFrame()\n",
    "\n",
    "state = np.random.RandomState(RANDOM_STATE)\n",
    "\n",
    "def bootstrap(y_valid, prediction, region):\n",
    "    profits = []\n",
    "    riscs = []\n",
    "    for i in range(1000):\n",
    "        y_valid_subsample = y_valid.reset_index(drop=True).sample(n=500, replace=True, random_state=state)\n",
    "        prediction_subsample = prediction[y_valid_subsample.index]\n",
    "        \n",
    "        temporary_profit = profit(y_valid_subsample, prediction_subsample, message=False)\n",
    "        profits.append(temporary_profit)\n",
    "        riscs.append(temporary_profit < 0)\n",
    "\n",
    "    profits = pd.Series(profits)\n",
    "\n",
    "    lower = profits.quantile(0.025)\n",
    "    upper = profits.quantile(0.975)\n",
    "    \n",
    "    mean_profit = profits.mean()\n",
    "    \n",
    "    riscs = pd.Series(riscs)\n",
    "    risc_percent = riscs.mean() * 100\n",
    "    \n",
    "    region = region + ' регион'\n",
    "    results.loc[region, 'Средняя прибыль'] = mean_profit\n",
    "    results.loc[region, '95% доверительный интервал'] = ('(' + str(lower) + ', ' + str(upper) + ')')\n",
    "    results.loc[region, 'Риск убытков'] = risc_percent"
   ]
  },
  {
   "cell_type": "code",
   "execution_count": 34,
   "metadata": {},
   "outputs": [],
   "source": [
    "bootstrap(df_0_y_valid, prediction_0, 'Первый')\n",
    "bootstrap(df_1_y_valid, prediction_1, 'Второй')\n",
    "bootstrap(df_2_y_valid, prediction_2, 'Третий')"
   ]
  },
  {
   "cell_type": "code",
   "execution_count": 35,
   "metadata": {},
   "outputs": [
    {
     "data": {
      "text/html": [
       "<div>\n",
       "<style scoped>\n",
       "    .dataframe tbody tr th:only-of-type {\n",
       "        vertical-align: middle;\n",
       "    }\n",
       "\n",
       "    .dataframe tbody tr th {\n",
       "        vertical-align: top;\n",
       "    }\n",
       "\n",
       "    .dataframe thead th {\n",
       "        text-align: right;\n",
       "    }\n",
       "</style>\n",
       "<table border=\"1\" class=\"dataframe\">\n",
       "  <thead>\n",
       "    <tr style=\"text-align: right;\">\n",
       "      <th></th>\n",
       "      <th>Средняя прибыль</th>\n",
       "      <th>95% доверительный интервал</th>\n",
       "      <th>Риск убытков</th>\n",
       "    </tr>\n",
       "  </thead>\n",
       "  <tbody>\n",
       "    <tr>\n",
       "      <th>Первый регион</th>\n",
       "      <td>4.428718e+08</td>\n",
       "      <td>(-49234991.8510545, 921134683.9825737)</td>\n",
       "      <td>3.9</td>\n",
       "    </tr>\n",
       "    <tr>\n",
       "      <th>Второй регион</th>\n",
       "      <td>4.695379e+08</td>\n",
       "      <td>(85178911.6307098, 850894622.6076844)</td>\n",
       "      <td>0.8</td>\n",
       "    </tr>\n",
       "    <tr>\n",
       "      <th>Третий регион</th>\n",
       "      <td>3.844244e+08</td>\n",
       "      <td>(-151024558.44024011, 916797872.0545604)</td>\n",
       "      <td>6.9</td>\n",
       "    </tr>\n",
       "  </tbody>\n",
       "</table>\n",
       "</div>"
      ],
      "text/plain": [
       "               Средняя прибыль                95% доверительный интервал  \\\n",
       "Первый регион     4.428718e+08    (-49234991.8510545, 921134683.9825737)   \n",
       "Второй регион     4.695379e+08     (85178911.6307098, 850894622.6076844)   \n",
       "Третий регион     3.844244e+08  (-151024558.44024011, 916797872.0545604)   \n",
       "\n",
       "               Риск убытков  \n",
       "Первый регион           3.9  \n",
       "Второй регион           0.8  \n",
       "Третий регион           6.9  "
      ]
     },
     "execution_count": 35,
     "metadata": {},
     "output_type": "execute_result"
    }
   ],
   "source": [
    "results"
   ]
  },
  {
   "cell_type": "markdown",
   "metadata": {},
   "source": [
    "<div style=\"border:solid steelblue 5px; padding: 30px\">\n",
    "   <p>\n",
    "        <b>Результаты расчётов:</b>\n",
    "        <li>В третьем регионе худшие показатели.</li>\n",
    "        <li>Первый регион лучше третьего, но риск убытков превышает 2.5%.</li>\n",
    "        <li>Во втором регионе лучшие показатели.</li>\n",
    "   </p>  \n",
    "</div>"
   ]
  },
  {
   "cell_type": "markdown",
   "metadata": {},
   "source": [
    "## 7 Общий вывод"
   ]
  },
  {
   "cell_type": "markdown",
   "metadata": {},
   "source": [
    "<div style=\"border:solid steelblue 5px; padding: 30px\">\n",
    "   <p>\n",
    "        <b>Проделано:</b>\n",
    "        <ol><li>Изучена общая информацию о данных.</li>\n",
    "        <li>Проведена подготовка данных: удалены ненужные столбцы, данные разбиты на выборки, численные признаки масштабированы.</li>\n",
    "        <li>Модель обучена и проверена.</li>\n",
    "        <li>Проведна подготовка к расчёту прибыли.</li>\n",
    "        <li>Прибыль и риски рассчитаны.</li>\n",
    "        </ol>\n",
    "        <b>Выявлено:</b>\n",
    "        <li>В третьем регионе самый лучший запас сырья, при этом худшая ошибка.</li>\n",
    "        <li>Показатели первого региона чуть меньше показателей третьего.</li>\n",
    "        <li>Во втором регионе лучшая ошибка, при этом худший запас сырья.</li>\n",
    "        <li>По среднему запасу предсказанного сырья не подходит ни один регион.</li>\n",
    "        <li>В третьем регионе худшие показатели.</li>\n",
    "        <li>Первый регион лучше третьего, но риск убытков превышает 2.5%.</li>\n",
    "        <li>Во втором регионе лучшие показатели.</li><br>\n",
    "        <b>Рекомендация: второй регион — лучший.</b>\n",
    "   </p>  \n",
    "</div>"
   ]
  }
 ],
 "metadata": {
  "ExecuteTimeLog": [
   {
    "duration": 468,
    "start_time": "2022-12-24T12:06:46.254Z"
   },
   {
    "duration": 371,
    "start_time": "2022-12-24T12:08:23.430Z"
   },
   {
    "duration": 24,
    "start_time": "2022-12-24T12:08:48.032Z"
   },
   {
    "duration": 27,
    "start_time": "2022-12-24T12:11:02.349Z"
   },
   {
    "duration": 38,
    "start_time": "2022-12-24T12:12:52.406Z"
   },
   {
    "duration": 67,
    "start_time": "2022-12-24T12:13:19.792Z"
   },
   {
    "duration": 1145,
    "start_time": "2022-12-24T12:13:24.024Z"
   },
   {
    "duration": 562,
    "start_time": "2022-12-24T12:13:33.687Z"
   },
   {
    "duration": 577,
    "start_time": "2022-12-24T12:13:42.335Z"
   },
   {
    "duration": 511,
    "start_time": "2022-12-24T12:13:49.811Z"
   },
   {
    "duration": 490,
    "start_time": "2022-12-24T12:14:03.130Z"
   },
   {
    "duration": 204,
    "start_time": "2022-12-24T12:16:48.733Z"
   },
   {
    "duration": 10,
    "start_time": "2022-12-24T12:16:50.308Z"
   },
   {
    "duration": 17,
    "start_time": "2022-12-24T12:16:58.437Z"
   },
   {
    "duration": 35,
    "start_time": "2022-12-24T12:16:59.805Z"
   },
   {
    "duration": 560,
    "start_time": "2022-12-24T12:17:02.205Z"
   },
   {
    "duration": 235,
    "start_time": "2022-12-24T12:19:45.848Z"
   },
   {
    "duration": 137,
    "start_time": "2022-12-24T12:20:02.499Z"
   },
   {
    "duration": 11,
    "start_time": "2022-12-24T12:20:03.404Z"
   },
   {
    "duration": 17,
    "start_time": "2022-12-24T12:20:06.147Z"
   },
   {
    "duration": 41,
    "start_time": "2022-12-24T12:20:08.341Z"
   },
   {
    "duration": 495,
    "start_time": "2022-12-24T12:20:09.963Z"
   },
   {
    "duration": 7,
    "start_time": "2022-12-24T12:44:24.834Z"
   },
   {
    "duration": 26,
    "start_time": "2022-12-24T12:44:41.864Z"
   },
   {
    "duration": 3,
    "start_time": "2022-12-24T12:44:44.699Z"
   },
   {
    "duration": 165,
    "start_time": "2022-12-24T12:44:44.705Z"
   },
   {
    "duration": 13,
    "start_time": "2022-12-24T12:44:44.872Z"
   },
   {
    "duration": 32,
    "start_time": "2022-12-24T12:44:44.888Z"
   },
   {
    "duration": 49,
    "start_time": "2022-12-24T12:44:44.922Z"
   },
   {
    "duration": 516,
    "start_time": "2022-12-24T12:44:44.973Z"
   },
   {
    "duration": 134,
    "start_time": "2022-12-24T12:44:45.492Z"
   },
   {
    "duration": 10,
    "start_time": "2022-12-24T12:44:45.628Z"
   },
   {
    "duration": 16,
    "start_time": "2022-12-24T12:44:45.640Z"
   },
   {
    "duration": 36,
    "start_time": "2022-12-24T12:44:45.658Z"
   },
   {
    "duration": 548,
    "start_time": "2022-12-24T12:44:45.695Z"
   },
   {
    "duration": 151,
    "start_time": "2022-12-24T12:44:46.244Z"
   },
   {
    "duration": 12,
    "start_time": "2022-12-24T12:44:46.397Z"
   },
   {
    "duration": 38,
    "start_time": "2022-12-24T12:44:46.411Z"
   },
   {
    "duration": 46,
    "start_time": "2022-12-24T12:44:46.451Z"
   },
   {
    "duration": 675,
    "start_time": "2022-12-24T12:44:46.499Z"
   },
   {
    "duration": 9,
    "start_time": "2022-12-24T12:44:47.176Z"
   },
   {
    "duration": 6,
    "start_time": "2022-12-24T12:54:58.538Z"
   },
   {
    "duration": 4,
    "start_time": "2022-12-24T15:34:36.766Z"
   },
   {
    "duration": 12,
    "start_time": "2022-12-24T15:34:40.144Z"
   },
   {
    "duration": 862,
    "start_time": "2022-12-24T15:35:06.039Z"
   },
   {
    "duration": 59,
    "start_time": "2022-12-24T15:35:21.435Z"
   },
   {
    "duration": 4,
    "start_time": "2022-12-24T15:35:22.941Z"
   },
   {
    "duration": 32,
    "start_time": "2022-12-24T15:35:23.663Z"
   },
   {
    "duration": 5,
    "start_time": "2022-12-24T15:35:46.202Z"
   },
   {
    "duration": 14,
    "start_time": "2022-12-24T15:35:47.140Z"
   },
   {
    "duration": 4,
    "start_time": "2022-12-24T15:42:02.572Z"
   },
   {
    "duration": 7,
    "start_time": "2022-12-24T15:42:39.688Z"
   },
   {
    "duration": 4,
    "start_time": "2022-12-24T15:43:13.291Z"
   },
   {
    "duration": 4,
    "start_time": "2022-12-24T15:43:20.768Z"
   },
   {
    "duration": 4,
    "start_time": "2022-12-24T15:47:54.227Z"
   },
   {
    "duration": 213,
    "start_time": "2022-12-24T15:48:19.282Z"
   },
   {
    "duration": 56,
    "start_time": "2022-12-24T15:48:38.709Z"
   },
   {
    "duration": 660,
    "start_time": "2022-12-24T15:48:43.096Z"
   },
   {
    "duration": 20,
    "start_time": "2022-12-24T16:01:08.623Z"
   },
   {
    "duration": 5,
    "start_time": "2022-12-24T16:01:28.969Z"
   },
   {
    "duration": 6,
    "start_time": "2022-12-24T16:01:34.746Z"
   },
   {
    "duration": 24,
    "start_time": "2022-12-24T16:02:51.501Z"
   },
   {
    "duration": 22,
    "start_time": "2022-12-24T16:03:31.658Z"
   },
   {
    "duration": 31,
    "start_time": "2022-12-24T16:03:39.102Z"
   },
   {
    "duration": 46,
    "start_time": "2022-12-24T16:03:42.060Z"
   },
   {
    "duration": 5,
    "start_time": "2022-12-24T16:04:07.166Z"
   },
   {
    "duration": 9,
    "start_time": "2022-12-29T13:41:05.309Z"
   },
   {
    "duration": 1505,
    "start_time": "2022-12-29T13:41:11.492Z"
   },
   {
    "duration": 572,
    "start_time": "2022-12-29T13:41:13.000Z"
   },
   {
    "duration": 12,
    "start_time": "2022-12-29T13:41:13.573Z"
   },
   {
    "duration": 45,
    "start_time": "2022-12-29T13:41:13.587Z"
   },
   {
    "duration": 52,
    "start_time": "2022-12-29T13:41:13.634Z"
   },
   {
    "duration": 526,
    "start_time": "2022-12-29T13:41:13.688Z"
   },
   {
    "duration": 573,
    "start_time": "2022-12-29T13:41:14.216Z"
   },
   {
    "duration": 10,
    "start_time": "2022-12-29T13:41:14.791Z"
   },
   {
    "duration": 19,
    "start_time": "2022-12-29T13:41:14.803Z"
   },
   {
    "duration": 37,
    "start_time": "2022-12-29T13:41:14.824Z"
   },
   {
    "duration": 534,
    "start_time": "2022-12-29T13:41:14.864Z"
   },
   {
    "duration": 532,
    "start_time": "2022-12-29T13:41:15.399Z"
   },
   {
    "duration": 10,
    "start_time": "2022-12-29T13:41:15.932Z"
   },
   {
    "duration": 30,
    "start_time": "2022-12-29T13:41:15.944Z"
   },
   {
    "duration": 48,
    "start_time": "2022-12-29T13:41:15.976Z"
   },
   {
    "duration": 459,
    "start_time": "2022-12-29T13:41:16.026Z"
   },
   {
    "duration": 11,
    "start_time": "2022-12-29T13:41:16.487Z"
   },
   {
    "duration": 11,
    "start_time": "2022-12-29T13:41:16.499Z"
   },
   {
    "duration": 48,
    "start_time": "2022-12-29T13:41:16.511Z"
   },
   {
    "duration": 3,
    "start_time": "2022-12-29T13:41:16.561Z"
   },
   {
    "duration": 13,
    "start_time": "2022-12-29T13:41:16.566Z"
   },
   {
    "duration": 668,
    "start_time": "2022-12-29T13:41:16.581Z"
   },
   {
    "duration": 3,
    "start_time": "2022-12-29T13:41:17.250Z"
   },
   {
    "duration": 55,
    "start_time": "2022-12-29T13:41:17.255Z"
   },
   {
    "duration": 5,
    "start_time": "2022-12-29T13:41:24.646Z"
   },
   {
    "duration": 107,
    "start_time": "2022-12-29T13:41:53.429Z"
   },
   {
    "duration": 10,
    "start_time": "2022-12-29T13:42:33.723Z"
   },
   {
    "duration": 6156,
    "start_time": "2022-12-29T13:42:47.246Z"
   },
   {
    "duration": 228,
    "start_time": "2022-12-29T13:42:53.404Z"
   },
   {
    "duration": 3,
    "start_time": "2022-12-29T13:43:09.792Z"
   },
   {
    "duration": 36,
    "start_time": "2022-12-29T13:43:16.925Z"
   },
   {
    "duration": 4,
    "start_time": "2022-12-29T13:43:33.962Z"
   },
   {
    "duration": 4,
    "start_time": "2022-12-29T13:43:39.774Z"
   },
   {
    "duration": 4,
    "start_time": "2022-12-29T13:54:54.519Z"
   },
   {
    "duration": 12,
    "start_time": "2022-12-29T13:54:55.815Z"
   },
   {
    "duration": 5,
    "start_time": "2022-12-29T13:55:02.056Z"
   },
   {
    "duration": 48,
    "start_time": "2022-12-29T13:55:04.031Z"
   },
   {
    "duration": 5,
    "start_time": "2022-12-29T13:55:36.588Z"
   },
   {
    "duration": 5,
    "start_time": "2022-12-29T13:55:37.587Z"
   },
   {
    "duration": 33,
    "start_time": "2022-12-29T13:55:38.979Z"
   },
   {
    "duration": 28,
    "start_time": "2022-12-29T13:56:59.990Z"
   },
   {
    "duration": 41,
    "start_time": "2022-12-29T13:57:19.568Z"
   },
   {
    "duration": 4,
    "start_time": "2022-12-29T14:01:01.355Z"
   },
   {
    "duration": 5,
    "start_time": "2022-12-29T14:01:53.196Z"
   },
   {
    "duration": 4,
    "start_time": "2022-12-29T14:01:58.873Z"
   },
   {
    "duration": 4,
    "start_time": "2022-12-29T14:02:25.989Z"
   },
   {
    "duration": 3,
    "start_time": "2022-12-29T14:02:32.295Z"
   },
   {
    "duration": 2446,
    "start_time": "2022-12-29T14:02:33.233Z"
   },
   {
    "duration": 4,
    "start_time": "2022-12-29T14:03:36.363Z"
   },
   {
    "duration": 3,
    "start_time": "2022-12-29T14:03:37.690Z"
   },
   {
    "duration": 2245,
    "start_time": "2022-12-29T14:03:38.441Z"
   },
   {
    "duration": 4,
    "start_time": "2022-12-29T14:04:32.748Z"
   },
   {
    "duration": 4,
    "start_time": "2022-12-29T14:04:34.051Z"
   },
   {
    "duration": 2217,
    "start_time": "2022-12-29T14:04:35.264Z"
   },
   {
    "duration": 75,
    "start_time": "2022-12-29T14:05:17.051Z"
   },
   {
    "duration": 6,
    "start_time": "2022-12-29T14:05:33.929Z"
   },
   {
    "duration": 2146,
    "start_time": "2022-12-29T14:05:35.335Z"
   },
   {
    "duration": 4,
    "start_time": "2022-12-29T14:05:39.019Z"
   },
   {
    "duration": 3,
    "start_time": "2022-12-29T14:05:40.221Z"
   },
   {
    "duration": 2177,
    "start_time": "2022-12-29T14:05:40.901Z"
   },
   {
    "duration": 5,
    "start_time": "2022-12-29T14:05:52.001Z"
   },
   {
    "duration": 3,
    "start_time": "2022-12-29T14:05:53.225Z"
   },
   {
    "duration": 2045,
    "start_time": "2022-12-29T14:05:54.841Z"
   },
   {
    "duration": 9,
    "start_time": "2023-01-06T10:00:56.072Z"
   },
   {
    "duration": 4,
    "start_time": "2023-01-06T10:02:22.350Z"
   },
   {
    "duration": 1475,
    "start_time": "2023-01-06T10:03:02.515Z"
   },
   {
    "duration": 106,
    "start_time": "2023-01-06T10:10:04.107Z"
   },
   {
    "duration": 3,
    "start_time": "2023-01-06T10:10:18.853Z"
   },
   {
    "duration": 14,
    "start_time": "2023-01-06T10:10:18.859Z"
   },
   {
    "duration": 380,
    "start_time": "2023-01-06T10:10:18.874Z"
   },
   {
    "duration": 15,
    "start_time": "2023-01-06T10:10:19.256Z"
   },
   {
    "duration": 25,
    "start_time": "2023-01-06T10:10:19.272Z"
   },
   {
    "duration": 34,
    "start_time": "2023-01-06T10:10:19.299Z"
   },
   {
    "duration": 445,
    "start_time": "2023-01-06T10:10:19.335Z"
   },
   {
    "duration": 212,
    "start_time": "2023-01-06T10:10:19.782Z"
   },
   {
    "duration": 10,
    "start_time": "2023-01-06T10:10:19.996Z"
   },
   {
    "duration": 59,
    "start_time": "2023-01-06T10:10:20.009Z"
   },
   {
    "duration": 47,
    "start_time": "2023-01-06T10:10:20.070Z"
   },
   {
    "duration": 560,
    "start_time": "2023-01-06T10:10:20.119Z"
   },
   {
    "duration": 212,
    "start_time": "2023-01-06T10:10:20.681Z"
   },
   {
    "duration": 10,
    "start_time": "2023-01-06T10:10:20.895Z"
   },
   {
    "duration": 27,
    "start_time": "2023-01-06T10:10:20.906Z"
   },
   {
    "duration": 37,
    "start_time": "2023-01-06T10:10:20.935Z"
   },
   {
    "duration": 467,
    "start_time": "2023-01-06T10:10:20.975Z"
   },
   {
    "duration": 11,
    "start_time": "2023-01-06T10:10:21.444Z"
   },
   {
    "duration": 12,
    "start_time": "2023-01-06T10:10:21.457Z"
   },
   {
    "duration": 48,
    "start_time": "2023-01-06T10:10:21.471Z"
   },
   {
    "duration": 4,
    "start_time": "2023-01-06T10:10:21.521Z"
   },
   {
    "duration": 13,
    "start_time": "2023-01-06T10:10:21.526Z"
   },
   {
    "duration": 702,
    "start_time": "2023-01-06T10:10:21.541Z"
   },
   {
    "duration": 3,
    "start_time": "2023-01-06T10:10:22.245Z"
   },
   {
    "duration": 58,
    "start_time": "2023-01-06T10:10:22.249Z"
   },
   {
    "duration": 4,
    "start_time": "2023-01-06T10:10:22.309Z"
   },
   {
    "duration": 12,
    "start_time": "2023-01-06T10:10:22.316Z"
   },
   {
    "duration": 11,
    "start_time": "2023-01-06T10:10:23.022Z"
   },
   {
    "duration": 8,
    "start_time": "2023-01-06T10:10:57.379Z"
   },
   {
    "duration": 11,
    "start_time": "2023-01-06T10:11:27.375Z"
   },
   {
    "duration": 10,
    "start_time": "2023-01-06T10:18:54.312Z"
   },
   {
    "duration": 4,
    "start_time": "2023-01-06T10:20:47.074Z"
   },
   {
    "duration": 13,
    "start_time": "2023-01-06T10:21:05.343Z"
   },
   {
    "duration": 4,
    "start_time": "2023-01-06T10:21:34.701Z"
   },
   {
    "duration": 18,
    "start_time": "2023-01-06T10:21:35.663Z"
   },
   {
    "duration": 4,
    "start_time": "2023-01-06T10:21:46.535Z"
   },
   {
    "duration": 99,
    "start_time": "2023-01-06T10:22:31.106Z"
   },
   {
    "duration": 3,
    "start_time": "2023-01-06T10:22:32.577Z"
   },
   {
    "duration": 3,
    "start_time": "2023-01-06T10:28:57.446Z"
   },
   {
    "duration": 4,
    "start_time": "2023-01-06T10:29:41.357Z"
   },
   {
    "duration": 66,
    "start_time": "2023-01-06T10:29:55.538Z"
   },
   {
    "duration": 8,
    "start_time": "2023-01-06T10:29:58.891Z"
   },
   {
    "duration": 4,
    "start_time": "2023-01-06T10:31:19.044Z"
   },
   {
    "duration": 45,
    "start_time": "2023-01-06T10:31:19.857Z"
   },
   {
    "duration": 8,
    "start_time": "2023-01-06T10:31:21.311Z"
   },
   {
    "duration": 3,
    "start_time": "2023-01-06T10:33:25.853Z"
   },
   {
    "duration": 3,
    "start_time": "2023-01-06T10:33:26.407Z"
   },
   {
    "duration": 234,
    "start_time": "2023-01-06T10:33:27.364Z"
   },
   {
    "duration": 8,
    "start_time": "2023-01-06T10:33:29.738Z"
   },
   {
    "duration": 38,
    "start_time": "2023-01-06T10:34:25.174Z"
   },
   {
    "duration": 4,
    "start_time": "2023-01-06T10:37:17.921Z"
   },
   {
    "duration": 137,
    "start_time": "2023-01-06T10:37:19.263Z"
   },
   {
    "duration": 87,
    "start_time": "2023-01-06T10:37:20.433Z"
   },
   {
    "duration": 123,
    "start_time": "2023-01-06T10:37:22.279Z"
   },
   {
    "duration": 119,
    "start_time": "2023-01-06T10:37:56.187Z"
   },
   {
    "duration": 94,
    "start_time": "2023-01-06T10:37:57.616Z"
   },
   {
    "duration": 4,
    "start_time": "2023-01-06T10:44:30.286Z"
   },
   {
    "duration": 3,
    "start_time": "2023-01-06T10:44:51.655Z"
   },
   {
    "duration": 141,
    "start_time": "2023-01-06T10:47:06.458Z"
   },
   {
    "duration": 284,
    "start_time": "2023-01-06T12:14:55.425Z"
   },
   {
    "duration": 4,
    "start_time": "2023-01-06T12:15:17.974Z"
   },
   {
    "duration": 5,
    "start_time": "2023-01-06T12:15:20.404Z"
   },
   {
    "duration": 172,
    "start_time": "2023-01-06T12:15:21.827Z"
   },
   {
    "duration": 3,
    "start_time": "2023-01-06T13:15:40.180Z"
   },
   {
    "duration": 9,
    "start_time": "2023-01-06T13:22:21.493Z"
   },
   {
    "duration": 5,
    "start_time": "2023-01-06T13:22:24.291Z"
   },
   {
    "duration": 3,
    "start_time": "2023-01-06T13:22:25.081Z"
   },
   {
    "duration": 4,
    "start_time": "2023-01-06T13:22:34.537Z"
   },
   {
    "duration": 770,
    "start_time": "2023-01-06T13:24:14.742Z"
   },
   {
    "duration": 823,
    "start_time": "2023-01-06T13:24:33.320Z"
   },
   {
    "duration": 6,
    "start_time": "2023-01-06T13:24:53.174Z"
   },
   {
    "duration": 9,
    "start_time": "2023-01-06T13:25:50.160Z"
   },
   {
    "duration": 8,
    "start_time": "2023-01-06T13:26:03.870Z"
   },
   {
    "duration": 4,
    "start_time": "2023-01-06T13:37:13.721Z"
   },
   {
    "duration": 8,
    "start_time": "2023-01-06T13:37:24.751Z"
   },
   {
    "duration": 8,
    "start_time": "2023-01-06T13:37:56.138Z"
   },
   {
    "duration": 38,
    "start_time": "2023-01-06T13:43:35.774Z"
   },
   {
    "duration": 6,
    "start_time": "2023-01-06T13:43:39.322Z"
   },
   {
    "duration": 7,
    "start_time": "2023-01-06T13:43:54.184Z"
   },
   {
    "duration": 7,
    "start_time": "2023-01-06T13:44:17.792Z"
   },
   {
    "duration": 7,
    "start_time": "2023-01-06T13:44:38.601Z"
   },
   {
    "duration": 3,
    "start_time": "2023-01-06T14:04:35.577Z"
   },
   {
    "duration": 3,
    "start_time": "2023-01-06T14:04:52.202Z"
   },
   {
    "duration": 3,
    "start_time": "2023-01-06T14:10:18.415Z"
   },
   {
    "duration": 3,
    "start_time": "2023-01-06T14:13:00.521Z"
   },
   {
    "duration": 15,
    "start_time": "2023-01-06T14:13:53.136Z"
   },
   {
    "duration": 3,
    "start_time": "2023-01-06T14:16:14.023Z"
   },
   {
    "duration": 22,
    "start_time": "2023-01-06T14:16:15.095Z"
   },
   {
    "duration": 4,
    "start_time": "2023-01-06T14:17:28.413Z"
   },
   {
    "duration": 203,
    "start_time": "2023-01-06T14:17:29.896Z"
   },
   {
    "duration": 4,
    "start_time": "2023-01-06T14:17:44.697Z"
   },
   {
    "duration": 24,
    "start_time": "2023-01-06T14:17:45.468Z"
   },
   {
    "duration": 4,
    "start_time": "2023-01-06T14:19:53.575Z"
   },
   {
    "duration": 20,
    "start_time": "2023-01-06T14:19:54.319Z"
   },
   {
    "duration": 3,
    "start_time": "2023-01-06T14:26:04.252Z"
   },
   {
    "duration": 15,
    "start_time": "2023-01-06T14:26:04.945Z"
   },
   {
    "duration": 8,
    "start_time": "2023-01-06T14:26:17.156Z"
   },
   {
    "duration": 3,
    "start_time": "2023-01-06T14:26:56.163Z"
   },
   {
    "duration": 7,
    "start_time": "2023-01-06T14:26:56.896Z"
   },
   {
    "duration": 14,
    "start_time": "2023-01-06T14:28:16.948Z"
   },
   {
    "duration": 13,
    "start_time": "2023-01-06T14:28:37.355Z"
   },
   {
    "duration": 25,
    "start_time": "2023-01-06T14:34:00.024Z"
   },
   {
    "duration": 4,
    "start_time": "2023-01-06T14:34:06.374Z"
   },
   {
    "duration": 29,
    "start_time": "2023-01-06T14:34:07.071Z"
   },
   {
    "duration": 4,
    "start_time": "2023-01-06T14:34:33.521Z"
   },
   {
    "duration": 14,
    "start_time": "2023-01-06T14:34:48.441Z"
   },
   {
    "duration": 4,
    "start_time": "2023-01-06T14:35:13.334Z"
   },
   {
    "duration": 12,
    "start_time": "2023-01-06T14:35:14.284Z"
   },
   {
    "duration": 2,
    "start_time": "2023-01-06T14:40:22.643Z"
   },
   {
    "duration": 4,
    "start_time": "2023-01-06T14:41:03.887Z"
   },
   {
    "duration": 14,
    "start_time": "2023-01-06T14:41:04.785Z"
   },
   {
    "duration": 12,
    "start_time": "2023-01-06T15:11:07.994Z"
   },
   {
    "duration": 3,
    "start_time": "2023-01-06T15:11:09.293Z"
   },
   {
    "duration": 15,
    "start_time": "2023-01-06T15:11:09.894Z"
   },
   {
    "duration": 10,
    "start_time": "2023-01-06T15:14:26.941Z"
   },
   {
    "duration": 24,
    "start_time": "2023-01-06T15:18:43.976Z"
   },
   {
    "duration": 4,
    "start_time": "2023-01-06T15:18:45.124Z"
   },
   {
    "duration": 4,
    "start_time": "2023-01-06T15:20:51.495Z"
   },
   {
    "duration": 15,
    "start_time": "2023-01-06T15:21:12.404Z"
   },
   {
    "duration": 4,
    "start_time": "2023-01-06T15:23:25.240Z"
   },
   {
    "duration": 16,
    "start_time": "2023-01-06T15:23:26.391Z"
   },
   {
    "duration": 3,
    "start_time": "2023-01-06T15:23:38.567Z"
   },
   {
    "duration": 15,
    "start_time": "2023-01-06T15:23:39.445Z"
   },
   {
    "duration": 3,
    "start_time": "2023-01-06T15:23:59.920Z"
   },
   {
    "duration": 3,
    "start_time": "2023-01-06T15:27:19.234Z"
   },
   {
    "duration": 13,
    "start_time": "2023-01-06T15:27:20.976Z"
   },
   {
    "duration": 4,
    "start_time": "2023-01-06T15:27:29.900Z"
   },
   {
    "duration": 15,
    "start_time": "2023-01-06T15:27:31.024Z"
   },
   {
    "duration": 3,
    "start_time": "2023-01-06T15:28:31.828Z"
   },
   {
    "duration": 11,
    "start_time": "2023-01-06T15:28:34.680Z"
   },
   {
    "duration": 15,
    "start_time": "2023-01-06T15:28:50.973Z"
   },
   {
    "duration": 3,
    "start_time": "2023-01-06T15:29:11.993Z"
   },
   {
    "duration": 17,
    "start_time": "2023-01-06T15:29:13.861Z"
   },
   {
    "duration": 4,
    "start_time": "2023-01-06T15:31:51.723Z"
   },
   {
    "duration": 1410,
    "start_time": "2023-01-06T15:31:51.729Z"
   },
   {
    "duration": 287,
    "start_time": "2023-01-06T15:31:53.141Z"
   },
   {
    "duration": 14,
    "start_time": "2023-01-06T15:31:53.430Z"
   },
   {
    "duration": 15,
    "start_time": "2023-01-06T15:31:53.446Z"
   },
   {
    "duration": 44,
    "start_time": "2023-01-06T15:31:53.463Z"
   },
   {
    "duration": 483,
    "start_time": "2023-01-06T15:31:53.509Z"
   },
   {
    "duration": 128,
    "start_time": "2023-01-06T15:31:53.997Z"
   },
   {
    "duration": 9,
    "start_time": "2023-01-06T15:31:54.126Z"
   },
   {
    "duration": 20,
    "start_time": "2023-01-06T15:31:54.137Z"
   },
   {
    "duration": 40,
    "start_time": "2023-01-06T15:31:54.158Z"
   },
   {
    "duration": 636,
    "start_time": "2023-01-06T15:31:54.200Z"
   },
   {
    "duration": 144,
    "start_time": "2023-01-06T15:31:54.838Z"
   },
   {
    "duration": 9,
    "start_time": "2023-01-06T15:31:54.983Z"
   },
   {
    "duration": 23,
    "start_time": "2023-01-06T15:31:54.998Z"
   },
   {
    "duration": 33,
    "start_time": "2023-01-06T15:31:55.023Z"
   },
   {
    "duration": 506,
    "start_time": "2023-01-06T15:31:55.058Z"
   },
   {
    "duration": 10,
    "start_time": "2023-01-06T15:31:55.565Z"
   },
   {
    "duration": 21,
    "start_time": "2023-01-06T15:31:55.577Z"
   },
   {
    "duration": 42,
    "start_time": "2023-01-06T15:31:55.600Z"
   },
   {
    "duration": 5,
    "start_time": "2023-01-06T15:31:55.643Z"
   },
   {
    "duration": 6,
    "start_time": "2023-01-06T15:31:55.650Z"
   },
   {
    "duration": 769,
    "start_time": "2023-01-06T15:31:55.658Z"
   },
   {
    "duration": 4,
    "start_time": "2023-01-06T15:31:56.429Z"
   },
   {
    "duration": 47,
    "start_time": "2023-01-06T15:31:56.434Z"
   },
   {
    "duration": 3,
    "start_time": "2023-01-06T15:31:56.482Z"
   },
   {
    "duration": 10,
    "start_time": "2023-01-06T15:31:56.496Z"
   },
   {
    "duration": 191,
    "start_time": "2023-01-06T15:31:56.511Z"
   },
   {
    "duration": 14,
    "start_time": "2023-01-06T15:31:56.704Z"
   },
   {
    "duration": 7,
    "start_time": "2023-01-06T15:31:56.799Z"
   },
   {
    "duration": 15,
    "start_time": "2023-01-06T15:31:56.808Z"
   },
   {
    "duration": 5,
    "start_time": "2023-01-06T15:32:05.238Z"
   },
   {
    "duration": 136,
    "start_time": "2023-01-06T15:32:09.109Z"
   },
   {
    "duration": 9,
    "start_time": "2023-01-06T15:32:14.959Z"
   },
   {
    "duration": 19,
    "start_time": "2023-01-06T15:32:49.597Z"
   },
   {
    "duration": 14,
    "start_time": "2023-01-06T15:34:03.390Z"
   },
   {
    "duration": 61,
    "start_time": "2023-01-06T15:53:33.631Z"
   },
   {
    "duration": 45,
    "start_time": "2023-01-06T15:53:35.700Z"
   },
   {
    "duration": 4,
    "start_time": "2023-01-06T15:57:30.627Z"
   },
   {
    "duration": 4,
    "start_time": "2023-01-06T16:03:03.887Z"
   },
   {
    "duration": 5,
    "start_time": "2023-01-06T16:13:00.683Z"
   },
   {
    "duration": 6,
    "start_time": "2023-01-06T16:20:03.444Z"
   },
   {
    "duration": 19,
    "start_time": "2023-01-06T16:20:36.734Z"
   },
   {
    "duration": 6,
    "start_time": "2023-01-06T16:23:33.649Z"
   },
   {
    "duration": 31,
    "start_time": "2023-01-06T16:23:34.884Z"
   },
   {
    "duration": 5,
    "start_time": "2023-01-06T16:26:06.612Z"
   },
   {
    "duration": 29,
    "start_time": "2023-01-06T16:26:09.081Z"
   },
   {
    "duration": 1312,
    "start_time": "2023-01-06T16:46:19.027Z"
   },
   {
    "duration": 135,
    "start_time": "2023-01-06T16:46:20.342Z"
   },
   {
    "duration": 30,
    "start_time": "2023-01-06T16:46:20.481Z"
   },
   {
    "duration": 13,
    "start_time": "2023-01-06T16:46:20.513Z"
   },
   {
    "duration": 38,
    "start_time": "2023-01-06T16:46:20.527Z"
   },
   {
    "duration": 463,
    "start_time": "2023-01-06T16:46:20.567Z"
   },
   {
    "duration": 117,
    "start_time": "2023-01-06T16:46:21.032Z"
   },
   {
    "duration": 10,
    "start_time": "2023-01-06T16:46:21.150Z"
   },
   {
    "duration": 27,
    "start_time": "2023-01-06T16:46:21.161Z"
   },
   {
    "duration": 38,
    "start_time": "2023-01-06T16:46:21.190Z"
   },
   {
    "duration": 531,
    "start_time": "2023-01-06T16:46:21.230Z"
   },
   {
    "duration": 129,
    "start_time": "2023-01-06T16:46:21.763Z"
   },
   {
    "duration": 13,
    "start_time": "2023-01-06T16:46:21.898Z"
   },
   {
    "duration": 21,
    "start_time": "2023-01-06T16:46:21.912Z"
   },
   {
    "duration": 37,
    "start_time": "2023-01-06T16:46:21.935Z"
   },
   {
    "duration": 433,
    "start_time": "2023-01-06T16:46:21.973Z"
   },
   {
    "duration": 11,
    "start_time": "2023-01-06T16:46:22.408Z"
   },
   {
    "duration": 6,
    "start_time": "2023-01-06T16:46:22.421Z"
   },
   {
    "duration": 33,
    "start_time": "2023-01-06T16:46:22.428Z"
   },
   {
    "duration": 4,
    "start_time": "2023-01-06T16:46:22.463Z"
   },
   {
    "duration": 6,
    "start_time": "2023-01-06T16:46:22.468Z"
   },
   {
    "duration": 660,
    "start_time": "2023-01-06T16:46:22.501Z"
   },
   {
    "duration": 3,
    "start_time": "2023-01-06T16:46:23.163Z"
   },
   {
    "duration": 54,
    "start_time": "2023-01-06T16:46:23.167Z"
   },
   {
    "duration": 3,
    "start_time": "2023-01-06T16:46:23.223Z"
   },
   {
    "duration": 6,
    "start_time": "2023-01-06T16:46:23.227Z"
   },
   {
    "duration": 172,
    "start_time": "2023-01-06T16:46:23.234Z"
   },
   {
    "duration": 3,
    "start_time": "2023-01-06T16:46:23.408Z"
   },
   {
    "duration": 104,
    "start_time": "2023-01-06T16:46:23.412Z"
   },
   {
    "duration": 8,
    "start_time": "2023-01-06T16:46:23.518Z"
   },
   {
    "duration": 5,
    "start_time": "2023-01-06T16:46:23.527Z"
   },
   {
    "duration": 16,
    "start_time": "2023-01-06T16:46:23.533Z"
   },
   {
    "duration": 4,
    "start_time": "2023-01-06T16:46:23.551Z"
   },
   {
    "duration": 123,
    "start_time": "2023-01-06T16:46:23.556Z"
   },
   {
    "duration": 5059,
    "start_time": "2023-01-07T06:56:31.921Z"
   },
   {
    "duration": 159,
    "start_time": "2023-01-07T06:56:36.982Z"
   },
   {
    "duration": 22,
    "start_time": "2023-01-07T06:56:37.144Z"
   },
   {
    "duration": 18,
    "start_time": "2023-01-07T06:56:37.169Z"
   },
   {
    "duration": 66,
    "start_time": "2023-01-07T06:56:37.188Z"
   },
   {
    "duration": 500,
    "start_time": "2023-01-07T06:56:37.256Z"
   },
   {
    "duration": 124,
    "start_time": "2023-01-07T06:56:37.758Z"
   },
   {
    "duration": 10,
    "start_time": "2023-01-07T06:56:37.885Z"
   },
   {
    "duration": 25,
    "start_time": "2023-01-07T06:56:37.897Z"
   },
   {
    "duration": 53,
    "start_time": "2023-01-07T06:56:37.925Z"
   },
   {
    "duration": 590,
    "start_time": "2023-01-07T06:56:37.980Z"
   },
   {
    "duration": 142,
    "start_time": "2023-01-07T06:56:38.572Z"
   },
   {
    "duration": 9,
    "start_time": "2023-01-07T06:56:38.716Z"
   },
   {
    "duration": 25,
    "start_time": "2023-01-07T06:56:38.727Z"
   },
   {
    "duration": 39,
    "start_time": "2023-01-07T06:56:38.753Z"
   },
   {
    "duration": 528,
    "start_time": "2023-01-07T06:56:38.794Z"
   },
   {
    "duration": 12,
    "start_time": "2023-01-07T06:56:39.324Z"
   },
   {
    "duration": 13,
    "start_time": "2023-01-07T06:56:39.338Z"
   },
   {
    "duration": 39,
    "start_time": "2023-01-07T06:56:39.352Z"
   },
   {
    "duration": 4,
    "start_time": "2023-01-07T06:56:39.393Z"
   },
   {
    "duration": 13,
    "start_time": "2023-01-07T06:56:39.399Z"
   },
   {
    "duration": 862,
    "start_time": "2023-01-07T06:56:39.414Z"
   },
   {
    "duration": 4,
    "start_time": "2023-01-07T06:56:40.277Z"
   },
   {
    "duration": 50,
    "start_time": "2023-01-07T06:56:40.282Z"
   },
   {
    "duration": 3,
    "start_time": "2023-01-07T06:56:40.333Z"
   },
   {
    "duration": 4,
    "start_time": "2023-01-07T06:56:40.351Z"
   },
   {
    "duration": 295,
    "start_time": "2023-01-07T06:56:40.357Z"
   },
   {
    "duration": 3,
    "start_time": "2023-01-07T06:56:40.656Z"
   },
   {
    "duration": 14,
    "start_time": "2023-01-07T06:56:40.661Z"
   },
   {
    "duration": 9,
    "start_time": "2023-01-07T06:56:40.679Z"
   },
   {
    "duration": 5,
    "start_time": "2023-01-07T06:56:40.690Z"
   },
   {
    "duration": 74,
    "start_time": "2023-01-07T06:56:40.697Z"
   },
   {
    "duration": 7,
    "start_time": "2023-01-07T06:56:40.773Z"
   },
   {
    "duration": 135,
    "start_time": "2023-01-07T06:56:40.782Z"
   },
   {
    "duration": 10,
    "start_time": "2023-01-07T07:01:24.489Z"
   },
   {
    "duration": 6,
    "start_time": "2023-01-07T07:01:33.206Z"
   },
   {
    "duration": 8,
    "start_time": "2023-01-07T07:01:42.944Z"
   },
   {
    "duration": 49,
    "start_time": "2023-01-07T14:03:29.032Z"
   },
   {
    "duration": 3,
    "start_time": "2023-01-07T14:03:32.565Z"
   },
   {
    "duration": 3,
    "start_time": "2023-01-07T14:03:33.505Z"
   },
   {
    "duration": 10,
    "start_time": "2023-01-07T14:08:45.197Z"
   },
   {
    "duration": 1618,
    "start_time": "2023-01-07T14:08:56.552Z"
   },
   {
    "duration": 556,
    "start_time": "2023-01-07T14:08:58.172Z"
   },
   {
    "duration": 15,
    "start_time": "2023-01-07T14:08:58.730Z"
   },
   {
    "duration": 40,
    "start_time": "2023-01-07T14:08:58.747Z"
   },
   {
    "duration": 51,
    "start_time": "2023-01-07T14:08:58.789Z"
   },
   {
    "duration": 503,
    "start_time": "2023-01-07T14:08:58.843Z"
   },
   {
    "duration": 214,
    "start_time": "2023-01-07T14:08:59.348Z"
   },
   {
    "duration": 10,
    "start_time": "2023-01-07T14:08:59.564Z"
   },
   {
    "duration": 26,
    "start_time": "2023-01-07T14:08:59.576Z"
   },
   {
    "duration": 50,
    "start_time": "2023-01-07T14:08:59.604Z"
   },
   {
    "duration": 576,
    "start_time": "2023-01-07T14:08:59.656Z"
   },
   {
    "duration": 199,
    "start_time": "2023-01-07T14:09:00.233Z"
   },
   {
    "duration": 10,
    "start_time": "2023-01-07T14:09:00.434Z"
   },
   {
    "duration": 114,
    "start_time": "2023-01-07T14:09:00.446Z"
   },
   {
    "duration": 149,
    "start_time": "2023-01-07T14:09:00.561Z"
   },
   {
    "duration": 546,
    "start_time": "2023-01-07T14:09:00.712Z"
   },
   {
    "duration": 18,
    "start_time": "2023-01-07T14:09:01.260Z"
   },
   {
    "duration": 80,
    "start_time": "2023-01-07T14:09:01.280Z"
   },
   {
    "duration": 98,
    "start_time": "2023-01-07T14:09:01.363Z"
   },
   {
    "duration": 89,
    "start_time": "2023-01-07T14:09:01.463Z"
   },
   {
    "duration": 63,
    "start_time": "2023-01-07T14:09:01.554Z"
   },
   {
    "duration": 798,
    "start_time": "2023-01-07T14:09:01.619Z"
   },
   {
    "duration": 4,
    "start_time": "2023-01-07T14:09:02.418Z"
   },
   {
    "duration": 74,
    "start_time": "2023-01-07T14:09:02.424Z"
   },
   {
    "duration": 65,
    "start_time": "2023-01-07T14:09:02.499Z"
   },
   {
    "duration": 31,
    "start_time": "2023-01-07T14:09:02.566Z"
   },
   {
    "duration": 479,
    "start_time": "2023-01-07T14:09:02.599Z"
   },
   {
    "duration": 4,
    "start_time": "2023-01-07T14:09:03.082Z"
   },
   {
    "duration": 89,
    "start_time": "2023-01-07T14:09:03.089Z"
   },
   {
    "duration": 45,
    "start_time": "2023-01-07T14:09:03.180Z"
   },
   {
    "duration": 30,
    "start_time": "2023-01-07T14:09:03.227Z"
   },
   {
    "duration": 41,
    "start_time": "2023-01-07T14:09:03.259Z"
   },
   {
    "duration": 22,
    "start_time": "2023-01-07T14:09:03.302Z"
   },
   {
    "duration": 96,
    "start_time": "2023-01-07T14:09:06.119Z"
   },
   {
    "duration": 6,
    "start_time": "2023-01-07T14:11:15.101Z"
   },
   {
    "duration": 19,
    "start_time": "2023-01-07T14:11:16.376Z"
   },
   {
    "duration": 4,
    "start_time": "2023-01-07T14:30:09.321Z"
   },
   {
    "duration": 12,
    "start_time": "2023-01-07T14:30:20.143Z"
   },
   {
    "duration": 4,
    "start_time": "2023-01-07T14:30:33.794Z"
   },
   {
    "duration": 25,
    "start_time": "2023-01-07T14:34:23.404Z"
   },
   {
    "duration": 4,
    "start_time": "2023-01-07T14:35:49.294Z"
   },
   {
    "duration": 4,
    "start_time": "2023-01-07T14:35:55.265Z"
   },
   {
    "duration": 22,
    "start_time": "2023-01-07T14:37:07.676Z"
   },
   {
    "duration": 3,
    "start_time": "2023-01-07T14:39:10.875Z"
   },
   {
    "duration": 18,
    "start_time": "2023-01-07T14:39:11.953Z"
   },
   {
    "duration": 4,
    "start_time": "2023-01-07T14:39:32.689Z"
   },
   {
    "duration": 18,
    "start_time": "2023-01-07T14:39:34.069Z"
   },
   {
    "duration": 4,
    "start_time": "2023-01-07T14:39:47.399Z"
   },
   {
    "duration": 21,
    "start_time": "2023-01-07T14:39:48.324Z"
   },
   {
    "duration": 24,
    "start_time": "2023-01-07T14:40:02.804Z"
   },
   {
    "duration": 3,
    "start_time": "2023-01-07T14:40:07.492Z"
   },
   {
    "duration": 37,
    "start_time": "2023-01-07T14:40:08.220Z"
   },
   {
    "duration": 6,
    "start_time": "2023-01-07T14:40:55.283Z"
   },
   {
    "duration": 20,
    "start_time": "2023-01-07T14:40:56.837Z"
   },
   {
    "duration": 20,
    "start_time": "2023-01-07T14:41:08.117Z"
   },
   {
    "duration": 6,
    "start_time": "2023-01-07T14:42:51.548Z"
   },
   {
    "duration": 19,
    "start_time": "2023-01-07T14:42:52.660Z"
   },
   {
    "duration": 1430,
    "start_time": "2023-01-07T14:43:00.375Z"
   },
   {
    "duration": 152,
    "start_time": "2023-01-07T14:43:01.807Z"
   },
   {
    "duration": 18,
    "start_time": "2023-01-07T14:43:01.961Z"
   },
   {
    "duration": 15,
    "start_time": "2023-01-07T14:43:01.981Z"
   },
   {
    "duration": 41,
    "start_time": "2023-01-07T14:43:01.998Z"
   },
   {
    "duration": 498,
    "start_time": "2023-01-07T14:43:02.041Z"
   },
   {
    "duration": 126,
    "start_time": "2023-01-07T14:43:02.540Z"
   },
   {
    "duration": 13,
    "start_time": "2023-01-07T14:43:02.668Z"
   },
   {
    "duration": 34,
    "start_time": "2023-01-07T14:43:02.682Z"
   },
   {
    "duration": 35,
    "start_time": "2023-01-07T14:43:02.718Z"
   },
   {
    "duration": 559,
    "start_time": "2023-01-07T14:43:02.755Z"
   },
   {
    "duration": 136,
    "start_time": "2023-01-07T14:43:03.316Z"
   },
   {
    "duration": 10,
    "start_time": "2023-01-07T14:43:03.454Z"
   },
   {
    "duration": 24,
    "start_time": "2023-01-07T14:43:03.466Z"
   },
   {
    "duration": 37,
    "start_time": "2023-01-07T14:43:03.491Z"
   },
   {
    "duration": 513,
    "start_time": "2023-01-07T14:43:03.530Z"
   },
   {
    "duration": 14,
    "start_time": "2023-01-07T14:43:04.045Z"
   },
   {
    "duration": 17,
    "start_time": "2023-01-07T14:43:04.061Z"
   },
   {
    "duration": 41,
    "start_time": "2023-01-07T14:43:04.080Z"
   },
   {
    "duration": 4,
    "start_time": "2023-01-07T14:43:04.123Z"
   },
   {
    "duration": 14,
    "start_time": "2023-01-07T14:43:04.128Z"
   },
   {
    "duration": 688,
    "start_time": "2023-01-07T14:43:04.144Z"
   },
   {
    "duration": 3,
    "start_time": "2023-01-07T14:43:04.834Z"
   },
   {
    "duration": 53,
    "start_time": "2023-01-07T14:43:04.838Z"
   },
   {
    "duration": 4,
    "start_time": "2023-01-07T14:43:04.892Z"
   },
   {
    "duration": 35,
    "start_time": "2023-01-07T14:43:04.897Z"
   },
   {
    "duration": 149,
    "start_time": "2023-01-07T14:43:04.934Z"
   },
   {
    "duration": 94,
    "start_time": "2023-01-07T14:43:05.084Z"
   },
   {
    "duration": 3,
    "start_time": "2023-01-07T14:43:05.180Z"
   },
   {
    "duration": 27,
    "start_time": "2023-01-07T14:43:05.185Z"
   },
   {
    "duration": 27,
    "start_time": "2023-01-07T14:43:05.214Z"
   },
   {
    "duration": 32,
    "start_time": "2023-01-07T14:43:05.242Z"
   },
   {
    "duration": 14,
    "start_time": "2023-01-07T14:43:05.275Z"
   },
   {
    "duration": 159,
    "start_time": "2023-01-07T14:43:05.290Z"
   },
   {
    "duration": 27,
    "start_time": "2023-01-07T14:43:13.839Z"
   },
   {
    "duration": 6,
    "start_time": "2023-01-07T14:44:08.123Z"
   },
   {
    "duration": 21,
    "start_time": "2023-01-07T14:44:09.155Z"
   },
   {
    "duration": 7,
    "start_time": "2023-01-07T14:44:33.665Z"
   },
   {
    "duration": 17,
    "start_time": "2023-01-07T14:44:34.901Z"
   },
   {
    "duration": 6,
    "start_time": "2023-01-07T14:48:37.597Z"
   },
   {
    "duration": 16,
    "start_time": "2023-01-07T14:48:39.166Z"
   },
   {
    "duration": 4,
    "start_time": "2023-01-07T14:49:47.300Z"
   },
   {
    "duration": 18,
    "start_time": "2023-01-07T14:49:48.604Z"
   },
   {
    "duration": 5,
    "start_time": "2023-01-07T14:51:48.681Z"
   },
   {
    "duration": 20,
    "start_time": "2023-01-07T14:51:50.731Z"
   },
   {
    "duration": 7,
    "start_time": "2023-01-07T14:51:51.823Z"
   },
   {
    "duration": 25,
    "start_time": "2023-01-07T14:51:53.153Z"
   },
   {
    "duration": 7,
    "start_time": "2023-01-07T14:56:01.154Z"
   },
   {
    "duration": 23,
    "start_time": "2023-01-07T14:56:02.726Z"
   },
   {
    "duration": 25,
    "start_time": "2023-01-07T14:57:59.414Z"
   },
   {
    "duration": 4,
    "start_time": "2023-01-07T14:58:02.524Z"
   },
   {
    "duration": 19,
    "start_time": "2023-01-07T14:58:03.266Z"
   },
   {
    "duration": 7,
    "start_time": "2023-01-07T14:58:07.551Z"
   },
   {
    "duration": 23,
    "start_time": "2023-01-07T14:58:08.623Z"
   },
   {
    "duration": 7,
    "start_time": "2023-01-07T14:58:48.197Z"
   },
   {
    "duration": 25,
    "start_time": "2023-01-07T14:58:49.702Z"
   },
   {
    "duration": 9,
    "start_time": "2023-01-07T15:09:06.658Z"
   },
   {
    "duration": 27,
    "start_time": "2023-01-07T15:09:07.810Z"
   },
   {
    "duration": 8,
    "start_time": "2023-01-07T15:09:55.070Z"
   },
   {
    "duration": 20,
    "start_time": "2023-01-07T15:09:56.132Z"
   },
   {
    "duration": 7,
    "start_time": "2023-01-07T15:10:17.681Z"
   },
   {
    "duration": 25,
    "start_time": "2023-01-07T15:10:19.572Z"
   },
   {
    "duration": 6,
    "start_time": "2023-01-07T15:11:43.823Z"
   },
   {
    "duration": 1972,
    "start_time": "2023-01-07T15:11:45.650Z"
   },
   {
    "duration": 7,
    "start_time": "2023-01-07T15:12:13.877Z"
   },
   {
    "duration": 10,
    "start_time": "2023-01-07T15:12:14.969Z"
   },
   {
    "duration": 1883,
    "start_time": "2023-01-07T15:12:23.130Z"
   },
   {
    "duration": 4,
    "start_time": "2023-01-07T15:12:49.625Z"
   },
   {
    "duration": 20,
    "start_time": "2023-01-07T15:12:51.157Z"
   },
   {
    "duration": 7,
    "start_time": "2023-01-07T15:12:52.674Z"
   },
   {
    "duration": 1299,
    "start_time": "2023-01-07T15:12:54.907Z"
   },
   {
    "duration": 6,
    "start_time": "2023-01-07T15:13:24.708Z"
   },
   {
    "duration": 1258,
    "start_time": "2023-01-07T15:13:26.322Z"
   },
   {
    "duration": 6,
    "start_time": "2023-01-07T15:14:10.572Z"
   },
   {
    "duration": 1385,
    "start_time": "2023-01-07T15:14:12.017Z"
   },
   {
    "duration": 6,
    "start_time": "2023-01-07T15:16:14.626Z"
   },
   {
    "duration": 1318,
    "start_time": "2023-01-07T15:16:15.608Z"
   },
   {
    "duration": 7,
    "start_time": "2023-01-07T15:16:27.948Z"
   },
   {
    "duration": 1276,
    "start_time": "2023-01-07T15:16:29.074Z"
   },
   {
    "duration": 8,
    "start_time": "2023-01-07T15:18:27.628Z"
   },
   {
    "duration": 1301,
    "start_time": "2023-01-07T15:18:28.909Z"
   },
   {
    "duration": 6,
    "start_time": "2023-01-07T15:18:46.963Z"
   },
   {
    "duration": 1323,
    "start_time": "2023-01-07T15:18:49.059Z"
   },
   {
    "duration": 7,
    "start_time": "2023-01-07T15:23:47.125Z"
   },
   {
    "duration": 3849,
    "start_time": "2023-01-07T15:24:39.061Z"
   },
   {
    "duration": 8,
    "start_time": "2023-01-07T15:24:50.849Z"
   },
   {
    "duration": 7,
    "start_time": "2023-01-07T15:26:01.111Z"
   },
   {
    "duration": 7,
    "start_time": "2023-01-07T15:26:27.424Z"
   },
   {
    "duration": 3917,
    "start_time": "2023-01-07T15:26:28.863Z"
   },
   {
    "duration": 9,
    "start_time": "2023-01-07T15:26:32.781Z"
   },
   {
    "duration": 4,
    "start_time": "2023-01-07T15:36:54.075Z"
   },
   {
    "duration": 6,
    "start_time": "2023-01-07T15:36:55.162Z"
   },
   {
    "duration": 3713,
    "start_time": "2023-01-07T15:36:56.381Z"
   },
   {
    "duration": 8,
    "start_time": "2023-01-07T15:37:00.097Z"
   },
   {
    "duration": 1325,
    "start_time": "2023-01-07T16:03:24.624Z"
   },
   {
    "duration": 141,
    "start_time": "2023-01-07T16:03:25.951Z"
   },
   {
    "duration": 16,
    "start_time": "2023-01-07T16:03:26.094Z"
   },
   {
    "duration": 17,
    "start_time": "2023-01-07T16:03:26.112Z"
   },
   {
    "duration": 61,
    "start_time": "2023-01-07T16:03:26.131Z"
   },
   {
    "duration": 469,
    "start_time": "2023-01-07T16:03:26.194Z"
   },
   {
    "duration": 128,
    "start_time": "2023-01-07T16:03:26.665Z"
   },
   {
    "duration": 10,
    "start_time": "2023-01-07T16:03:26.795Z"
   },
   {
    "duration": 16,
    "start_time": "2023-01-07T16:03:26.806Z"
   },
   {
    "duration": 34,
    "start_time": "2023-01-07T16:03:26.823Z"
   },
   {
    "duration": 610,
    "start_time": "2023-01-07T16:03:26.878Z"
   },
   {
    "duration": 132,
    "start_time": "2023-01-07T16:03:27.490Z"
   },
   {
    "duration": 9,
    "start_time": "2023-01-07T16:03:27.624Z"
   },
   {
    "duration": 14,
    "start_time": "2023-01-07T16:03:27.637Z"
   },
   {
    "duration": 54,
    "start_time": "2023-01-07T16:03:27.653Z"
   },
   {
    "duration": 501,
    "start_time": "2023-01-07T16:03:27.709Z"
   },
   {
    "duration": 14,
    "start_time": "2023-01-07T16:03:28.212Z"
   },
   {
    "duration": 29,
    "start_time": "2023-01-07T16:03:28.229Z"
   },
   {
    "duration": 50,
    "start_time": "2023-01-07T16:03:28.261Z"
   },
   {
    "duration": 5,
    "start_time": "2023-01-07T16:03:28.313Z"
   },
   {
    "duration": 11,
    "start_time": "2023-01-07T16:03:28.319Z"
   },
   {
    "duration": 751,
    "start_time": "2023-01-07T16:03:28.332Z"
   },
   {
    "duration": 4,
    "start_time": "2023-01-07T16:03:29.085Z"
   },
   {
    "duration": 64,
    "start_time": "2023-01-07T16:03:29.090Z"
   },
   {
    "duration": 3,
    "start_time": "2023-01-07T16:03:29.156Z"
   },
   {
    "duration": 19,
    "start_time": "2023-01-07T16:03:29.161Z"
   },
   {
    "duration": 197,
    "start_time": "2023-01-07T16:03:29.182Z"
   },
   {
    "duration": 6,
    "start_time": "2023-01-07T16:03:29.381Z"
   },
   {
    "duration": 22,
    "start_time": "2023-01-07T16:03:29.477Z"
   },
   {
    "duration": 24,
    "start_time": "2023-01-07T16:03:29.501Z"
   },
   {
    "duration": 26,
    "start_time": "2023-01-07T16:03:29.527Z"
   },
   {
    "duration": 26,
    "start_time": "2023-01-07T16:03:29.554Z"
   },
   {
    "duration": 14,
    "start_time": "2023-01-07T16:03:29.582Z"
   },
   {
    "duration": 3751,
    "start_time": "2023-01-07T16:03:29.598Z"
   },
   {
    "duration": 8,
    "start_time": "2023-01-07T16:03:33.351Z"
   },
   {
    "duration": 4,
    "start_time": "2023-01-08T10:03:46.706Z"
   },
   {
    "duration": 140,
    "start_time": "2023-01-08T10:03:46.712Z"
   },
   {
    "duration": 10,
    "start_time": "2023-01-08T10:03:46.854Z"
   },
   {
    "duration": 23,
    "start_time": "2023-01-08T10:03:46.865Z"
   },
   {
    "duration": 35,
    "start_time": "2023-01-08T10:03:46.890Z"
   },
   {
    "duration": 484,
    "start_time": "2023-01-08T10:03:46.927Z"
   },
   {
    "duration": 124,
    "start_time": "2023-01-08T10:03:47.412Z"
   },
   {
    "duration": 10,
    "start_time": "2023-01-08T10:03:47.538Z"
   },
   {
    "duration": 19,
    "start_time": "2023-01-08T10:03:47.549Z"
   },
   {
    "duration": 36,
    "start_time": "2023-01-08T10:03:47.578Z"
   },
   {
    "duration": 641,
    "start_time": "2023-01-08T10:03:47.617Z"
   },
   {
    "duration": 153,
    "start_time": "2023-01-08T10:03:48.260Z"
   },
   {
    "duration": 15,
    "start_time": "2023-01-08T10:03:48.417Z"
   },
   {
    "duration": 23,
    "start_time": "2023-01-08T10:03:48.436Z"
   },
   {
    "duration": 45,
    "start_time": "2023-01-08T10:03:48.460Z"
   },
   {
    "duration": 462,
    "start_time": "2023-01-08T10:03:48.507Z"
   },
   {
    "duration": 14,
    "start_time": "2023-01-08T10:03:48.970Z"
   },
   {
    "duration": 6,
    "start_time": "2023-01-08T10:03:48.986Z"
   },
   {
    "duration": 35,
    "start_time": "2023-01-08T10:03:48.993Z"
   },
   {
    "duration": 4,
    "start_time": "2023-01-08T10:03:49.030Z"
   },
   {
    "duration": 7,
    "start_time": "2023-01-08T10:03:49.035Z"
   },
   {
    "duration": 707,
    "start_time": "2023-01-08T10:03:49.043Z"
   },
   {
    "duration": 3,
    "start_time": "2023-01-08T10:03:49.752Z"
   },
   {
    "duration": 55,
    "start_time": "2023-01-08T10:03:49.757Z"
   },
   {
    "duration": 4,
    "start_time": "2023-01-08T10:03:49.814Z"
   },
   {
    "duration": 6,
    "start_time": "2023-01-08T10:03:49.820Z"
   },
   {
    "duration": 257,
    "start_time": "2023-01-08T10:03:49.827Z"
   },
   {
    "duration": 3,
    "start_time": "2023-01-08T10:03:50.177Z"
   },
   {
    "duration": 8,
    "start_time": "2023-01-08T10:03:50.182Z"
   },
   {
    "duration": 11,
    "start_time": "2023-01-08T10:03:50.192Z"
   },
   {
    "duration": 8,
    "start_time": "2023-01-08T10:03:50.205Z"
   },
   {
    "duration": 22,
    "start_time": "2023-01-08T10:03:50.215Z"
   },
   {
    "duration": 9,
    "start_time": "2023-01-08T10:03:50.238Z"
   },
   {
    "duration": 3704,
    "start_time": "2023-01-08T10:03:50.940Z"
   },
   {
    "duration": 9,
    "start_time": "2023-01-08T10:03:54.646Z"
   },
   {
    "duration": 1406,
    "start_time": "2023-01-08T10:05:23.458Z"
   },
   {
    "duration": 141,
    "start_time": "2023-01-08T10:05:24.866Z"
   },
   {
    "duration": 16,
    "start_time": "2023-01-08T10:05:25.008Z"
   },
   {
    "duration": 22,
    "start_time": "2023-01-08T10:05:25.026Z"
   },
   {
    "duration": 58,
    "start_time": "2023-01-08T10:05:25.051Z"
   },
   {
    "duration": 481,
    "start_time": "2023-01-08T10:05:25.111Z"
   },
   {
    "duration": 122,
    "start_time": "2023-01-08T10:05:25.593Z"
   },
   {
    "duration": 10,
    "start_time": "2023-01-08T10:05:25.716Z"
   },
   {
    "duration": 18,
    "start_time": "2023-01-08T10:05:25.727Z"
   },
   {
    "duration": 55,
    "start_time": "2023-01-08T10:05:25.746Z"
   },
   {
    "duration": 600,
    "start_time": "2023-01-08T10:05:25.802Z"
   },
   {
    "duration": 135,
    "start_time": "2023-01-08T10:05:26.404Z"
   },
   {
    "duration": 9,
    "start_time": "2023-01-08T10:05:26.540Z"
   },
   {
    "duration": 27,
    "start_time": "2023-01-08T10:05:26.552Z"
   },
   {
    "duration": 34,
    "start_time": "2023-01-08T10:05:26.581Z"
   },
   {
    "duration": 482,
    "start_time": "2023-01-08T10:05:26.616Z"
   },
   {
    "duration": 14,
    "start_time": "2023-01-08T10:05:27.099Z"
   },
   {
    "duration": 18,
    "start_time": "2023-01-08T10:05:27.114Z"
   },
   {
    "duration": 43,
    "start_time": "2023-01-08T10:05:27.134Z"
   },
   {
    "duration": 4,
    "start_time": "2023-01-08T10:05:27.179Z"
   },
   {
    "duration": 8,
    "start_time": "2023-01-08T10:05:27.185Z"
   },
   {
    "duration": 715,
    "start_time": "2023-01-08T10:05:27.195Z"
   },
   {
    "duration": 4,
    "start_time": "2023-01-08T10:05:27.911Z"
   },
   {
    "duration": 48,
    "start_time": "2023-01-08T10:05:27.916Z"
   },
   {
    "duration": 12,
    "start_time": "2023-01-08T10:05:27.966Z"
   },
   {
    "duration": 9,
    "start_time": "2023-01-08T10:05:27.979Z"
   },
   {
    "duration": 193,
    "start_time": "2023-01-08T10:05:27.989Z"
   },
   {
    "duration": 4,
    "start_time": "2023-01-08T10:05:28.183Z"
   },
   {
    "duration": 105,
    "start_time": "2023-01-08T10:05:28.189Z"
   },
   {
    "duration": 19,
    "start_time": "2023-01-08T10:05:28.296Z"
   },
   {
    "duration": 13,
    "start_time": "2023-01-08T10:05:28.317Z"
   },
   {
    "duration": 32,
    "start_time": "2023-01-08T10:05:28.332Z"
   },
   {
    "duration": 8,
    "start_time": "2023-01-08T10:05:28.366Z"
   },
   {
    "duration": 3680,
    "start_time": "2023-01-08T10:05:28.377Z"
   },
   {
    "duration": 7,
    "start_time": "2023-01-08T10:05:32.059Z"
   }
  ],
  "kernelspec": {
   "display_name": "Python 3 (ipykernel)",
   "language": "python",
   "name": "python3"
  },
  "language_info": {
   "codemirror_mode": {
    "name": "ipython",
    "version": 3
   },
   "file_extension": ".py",
   "mimetype": "text/x-python",
   "name": "python",
   "nbconvert_exporter": "python",
   "pygments_lexer": "ipython3",
   "version": "3.11.3"
  },
  "toc": {
   "base_numbering": 1,
   "nav_menu": {},
   "number_sections": true,
   "sideBar": true,
   "skip_h1_title": true,
   "title_cell": "Table of Contents",
   "title_sidebar": "Contents",
   "toc_cell": false,
   "toc_position": {},
   "toc_section_display": true,
   "toc_window_display": false
  }
 },
 "nbformat": 4,
 "nbformat_minor": 2
}
