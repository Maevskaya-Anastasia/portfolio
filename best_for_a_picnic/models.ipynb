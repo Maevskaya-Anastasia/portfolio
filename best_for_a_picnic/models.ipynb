{
 "cells": [
  {
   "cell_type": "markdown",
   "metadata": {
    "id": "155526c5"
   },
   "source": [
    "## 1 Импорт библиотек и модулей"
   ]
  },
  {
   "cell_type": "code",
   "execution_count": 1,
   "metadata": {
    "id": "dbb462da",
    "scrolled": true
   },
   "outputs": [],
   "source": [
    "!pip install -q ydata_profiling"
   ]
  },
  {
   "cell_type": "code",
   "execution_count": 2,
   "metadata": {
    "id": "dbb462da",
    "scrolled": true
   },
   "outputs": [],
   "source": [
    "!pip install -q fake_useragent"
   ]
  },
  {
   "cell_type": "code",
   "execution_count": 3,
   "metadata": {
    "id": "dbb462da",
    "scrolled": true
   },
   "outputs": [],
   "source": [
    "!pip install -q openpyxl"
   ]
  },
  {
   "cell_type": "code",
   "execution_count": 4,
   "metadata": {
    "id": "78223a18"
   },
   "outputs": [],
   "source": [
    "#!pip install -q hyperopt"
   ]
  },
  {
   "cell_type": "code",
   "execution_count": 5,
   "metadata": {
    "id": "b7f7de47"
   },
   "outputs": [],
   "source": [
    "%matplotlib inline "
   ]
  },
  {
   "cell_type": "code",
   "execution_count": 6,
   "metadata": {
    "id": "MGk3tQ4lYMnc"
   },
   "outputs": [],
   "source": [
    "# для работы с данными\n",
    "import pandas as pd\n",
    "\n",
    "# для EDA анализа\n",
    "import ydata_profiling\n",
    "\n",
    "# для математических вычислений\n",
    "import numpy as np\n",
    "\n",
    "# модели машинного обучения\n",
    "from sklearn.tree import DecisionTreeClassifier\n",
    "from sklearn.ensemble import RandomForestClassifier\n",
    "from sklearn.neural_network import MLPClassifier\n",
    "from sklearn.linear_model import LogisticRegression, LinearRegression\n",
    "\n",
    "# константные модели\n",
    "from sklearn.dummy import DummyRegressor, DummyClassifier\n",
    "\n",
    "# для подбора гиперпараметров\n",
    "from hyperopt import fmin, tpe, hp, STATUS_OK, Trials\n",
    "from hyperopt.pyll.base import scope\n",
    "\n",
    "# для визуализации\n",
    "import seaborn as sns\n",
    "import matplotlib.pyplot as plt\n",
    "from sklearn.metrics import confusion_matrix\n",
    "\n",
    "# для проверки качества моделей\n",
    "from sklearn import metrics\n",
    "from sklearn.metrics import accuracy_score, precision_score, recall_score, f1_score, classification_report\n",
    "from sklearn.metrics import r2_score, mean_squared_log_error\n",
    "from sklearn.model_selection import cross_val_score\n",
    "\n",
    "# для сохранения моделей\n",
    "import joblib\n",
    "\n",
    "# для парсинга\n",
    "import requests\n",
    "from io import BytesIO\n",
    "from bs4 import BeautifulSoup\n",
    "from fake_useragent import UserAgent\n",
    "\n",
    "# для расчёта времени выполнения кода\n",
    "import time"
   ]
  },
  {
   "cell_type": "markdown",
   "metadata": {
    "id": "ev4hKjd1c6DE"
   },
   "source": [
    "## 2 Подготовка данных\n",
    "### 2.1 Динамические\n",
    "**Обучающие**\n",
    "\n",
    "Считаем данные из csv-файла в датафрейм и сохраним в переменную `dynamic_train`, выполнив ресемплирование по одному часу. После проведём EDA анализ."
   ]
  },
  {
   "cell_type": "code",
   "execution_count": 7,
   "metadata": {},
   "outputs": [],
   "source": [
    "def read_eda(name):\n",
    "    file_name = 'https://docs.google.com/spreadsheets/d/{}/export?format=xlsx'.format(name)\n",
    "    r = requests.get(file_name)\n",
    "    df = pd.read_excel(BytesIO(r.content))\n",
    "    ydata_profiling.ProfileReport(df, progress_bar=False).to_file(name + '.html')\n",
    "    return df"
   ]
  },
  {
   "cell_type": "code",
   "execution_count": 8,
   "metadata": {},
   "outputs": [],
   "source": [
    "dynamic_train = read_eda('1QPZFrABXW4MYWsb5k9uGXeilHxUqmjOk')"
   ]
  },
  {
   "cell_type": "markdown",
   "metadata": {},
   "source": [
    "[Посмотреть анализ.](https://www.dropbox.com/s/5ouisjeisingq83/1QPZFrABXW4MYWsb5k9uGXeilHxUqmjOk.html?dl=0)\n",
    "\n",
    "Проблемы отсутсвуют."
   ]
  },
  {
   "cell_type": "markdown",
   "metadata": {},
   "source": [
    "**Тестовые**\n",
    "\n",
    "Считаем данные из csv-файла в датафрейм и сохраним в переменную `dynamic_test`, выполнив ресемплирование по одному часу. После проведём EDA анализ."
   ]
  },
  {
   "cell_type": "code",
   "execution_count": 9,
   "metadata": {},
   "outputs": [],
   "source": [
    "dynamic_test = read_eda('1jx_s5GUYqVCVBf6XbIBQrhRn-ha5MeJF')"
   ]
  },
  {
   "cell_type": "markdown",
   "metadata": {},
   "source": [
    "[Посмотреть анализ.](https://www.dropbox.com/s/5ouisjeisingq83/1QPZFrABXW4MYWsb5k9uGXeilHxUqmjOk.html?dl=0)\n",
    "\n",
    "Проблемы отсутсвуют."
   ]
  },
  {
   "cell_type": "markdown",
   "metadata": {},
   "source": [
    "**Разобьём данные**"
   ]
  },
  {
   "cell_type": "code",
   "execution_count": 10,
   "metadata": {},
   "outputs": [],
   "source": [
    "def split_data(train, test):\n",
    "    def xy(data):\n",
    "        x = data.drop('result', axis=1)\n",
    "        y = data['result']\n",
    "        return x, y\n",
    "\n",
    "    x_train, y_train = xy(train)\n",
    "    x_test, y_test = xy(test)\n",
    "    return x_train, y_train, x_test, y_test"
   ]
  },
  {
   "cell_type": "code",
   "execution_count": 11,
   "metadata": {},
   "outputs": [],
   "source": [
    "x_dynamic_train, y_dynamic_train, x_dynamic_test, y_dynamic_test = split_data(dynamic_train, dynamic_test)"
   ]
  },
  {
   "cell_type": "markdown",
   "metadata": {},
   "source": [
    "### 2.2 Конечные\n",
    "**Обучающие**\n",
    "\n",
    "Считаем данные из csv-файла в датафрейм и сохраним в переменную `final_train`, выполнив ресемплирование по одному часу. После проведём EDA анализ."
   ]
  },
  {
   "cell_type": "code",
   "execution_count": 12,
   "metadata": {},
   "outputs": [],
   "source": [
    "final_train = read_eda('1Na-7CwE1EEfglojX4TncAcvb1jtOpA1R')"
   ]
  },
  {
   "cell_type": "markdown",
   "metadata": {},
   "source": [
    "[Посмотреть анализ.](https://www.dropbox.com/s/z462qi7czr2jm15/1Na-7CwE1EEfglojX4TncAcvb1jtOpA1R.html?dl=0)\n",
    "\n",
    "Проблемы отсутсвуют."
   ]
  },
  {
   "cell_type": "markdown",
   "metadata": {},
   "source": [
    "**Тестовые**\n",
    "\n",
    "Считаем данные из csv-файла в датафрейм и сохраним в переменную `final_test`, выполнив ресемплирование по одному часу. После проведём EDA анализ."
   ]
  },
  {
   "cell_type": "code",
   "execution_count": 13,
   "metadata": {},
   "outputs": [],
   "source": [
    "final_test = read_eda('1IA8yUlFUXqMmp_t_lIXujBRPNa4jaFLc')"
   ]
  },
  {
   "cell_type": "markdown",
   "metadata": {},
   "source": [
    "[Посмотреть анализ.](https://www.dropbox.com/s/aevg8do428qckf4/1IA8yUlFUXqMmp_t_lIXujBRPNa4jaFLc.html?dl=0)\n",
    "\n",
    "Проблемы отсутсвуют."
   ]
  },
  {
   "cell_type": "markdown",
   "metadata": {},
   "source": [
    "**Разобьём данные**"
   ]
  },
  {
   "cell_type": "code",
   "execution_count": 14,
   "metadata": {},
   "outputs": [],
   "source": [
    "x_final_train, y_final_train, x_final_test, y_final_test = split_data(final_train, final_test)"
   ]
  },
  {
   "cell_type": "markdown",
   "metadata": {
    "id": "030a4a7b"
   },
   "source": [
    "<div style=\"border:solid steelblue 5px; padding: 30px\">\n",
    "   <p>\n",
    "        <b>Данные изучены и разбиты на выборки.</b>\n",
    "   </p>  \n",
    "</div>"
   ]
  },
  {
   "cell_type": "markdown",
   "metadata": {
    "id": "ev4hKjd1c6DE"
   },
   "source": [
    "## 3 Работа с моделями\n",
    "### 3.1 Дианамические данные\n",
    "Обучим разные модели без параметров и выберем лучшую."
   ]
  },
  {
   "cell_type": "code",
   "execution_count": 15,
   "metadata": {},
   "outputs": [],
   "source": [
    "RANDOM_STATE = 0\n",
    "\n",
    "def quality(mdl, x_train=x_dynamic_train, y_train=y_dynamic_train, scoring='accuracy', return_qual=0):\n",
    "    scores = cross_val_score(mdl, x_train, y_train, cv=5, scoring=scoring)\n",
    "    quality = -scores.mean()\n",
    "    print('Качество:', quality)\n",
    "    \n",
    "    if return_qual == 1:\n",
    "        return quality"
   ]
  },
  {
   "cell_type": "code",
   "execution_count": 16,
   "metadata": {},
   "outputs": [
    {
     "name": "stdout",
     "output_type": "stream",
     "text": [
      "Качество: -0.8337169312169312\n",
      "CPU times: total: 2.11 s\n",
      "Wall time: 2.15 s\n"
     ]
    }
   ],
   "source": [
    "%%time\n",
    "quality(DecisionTreeClassifier(random_state=RANDOM_STATE))"
   ]
  },
  {
   "cell_type": "code",
   "execution_count": 17,
   "metadata": {},
   "outputs": [
    {
     "name": "stdout",
     "output_type": "stream",
     "text": [
      "Качество: -0.8601984126984126\n",
      "CPU times: total: 1min 6s\n",
      "Wall time: 1min 8s\n"
     ]
    }
   ],
   "source": [
    "%%time\n",
    "quality(RandomForestClassifier(random_state=RANDOM_STATE))"
   ]
  },
  {
   "cell_type": "code",
   "execution_count": 18,
   "metadata": {},
   "outputs": [
    {
     "name": "stderr",
     "output_type": "stream",
     "text": [
      "C:\\Users\\Anastasia\\AppData\\Local\\Programs\\Python\\Python311\\Lib\\site-packages\\sklearn\\neural_network\\_multilayer_perceptron.py:686: ConvergenceWarning: Stochastic Optimizer: Maximum iterations (200) reached and the optimization hasn't converged yet.\n",
      "  warnings.warn(\n",
      "C:\\Users\\Anastasia\\AppData\\Local\\Programs\\Python\\Python311\\Lib\\site-packages\\sklearn\\neural_network\\_multilayer_perceptron.py:686: ConvergenceWarning: Stochastic Optimizer: Maximum iterations (200) reached and the optimization hasn't converged yet.\n",
      "  warnings.warn(\n",
      "C:\\Users\\Anastasia\\AppData\\Local\\Programs\\Python\\Python311\\Lib\\site-packages\\sklearn\\neural_network\\_multilayer_perceptron.py:686: ConvergenceWarning: Stochastic Optimizer: Maximum iterations (200) reached and the optimization hasn't converged yet.\n",
      "  warnings.warn(\n",
      "C:\\Users\\Anastasia\\AppData\\Local\\Programs\\Python\\Python311\\Lib\\site-packages\\sklearn\\neural_network\\_multilayer_perceptron.py:686: ConvergenceWarning: Stochastic Optimizer: Maximum iterations (200) reached and the optimization hasn't converged yet.\n",
      "  warnings.warn(\n"
     ]
    },
    {
     "name": "stdout",
     "output_type": "stream",
     "text": [
      "Качество: -0.97239417989418\n",
      "CPU times: total: 11min 12s\n",
      "Wall time: 8min 16s\n"
     ]
    },
    {
     "name": "stderr",
     "output_type": "stream",
     "text": [
      "C:\\Users\\Anastasia\\AppData\\Local\\Programs\\Python\\Python311\\Lib\\site-packages\\sklearn\\neural_network\\_multilayer_perceptron.py:686: ConvergenceWarning: Stochastic Optimizer: Maximum iterations (200) reached and the optimization hasn't converged yet.\n",
      "  warnings.warn(\n"
     ]
    }
   ],
   "source": [
    "%%time\n",
    "quality(MLPClassifier(random_state=RANDOM_STATE))"
   ]
  },
  {
   "cell_type": "markdown",
   "metadata": {},
   "source": [
    "Лучшим себя показал многослойный перцептрон, подберём для него гиперпараметры при помощи байесовской оптимизации."
   ]
  },
  {
   "cell_type": "code",
   "execution_count": 19,
   "metadata": {},
   "outputs": [],
   "source": [
    "state = np.random.default_rng(RANDOM_STATE)\n",
    "\n",
    "def hp_slctns(model, space, x_train=x_dynamic_train, y_train=y_dynamic_train, scoring='accuracy', max_evals=10):\n",
    "    def func(args):\n",
    "        mdl = model.set_params(**args)\n",
    "        scores = cross_val_score(mdl, x_train, y_train, cv=5, scoring=scoring, \n",
    "                                 error_score='raise')\n",
    "        final_score = -sum(scores) / len(scores)\n",
    "        return {'loss': final_score, 'status': STATUS_OK, 'model':mdl}\n",
    "    \n",
    "    trials = Trials()\n",
    "    best = fmin(func,\n",
    "                space=space,\n",
    "                algo=tpe.suggest,\n",
    "                trials=trials,\n",
    "                max_evals=max_evals, \n",
    "                show_progressbar=True, \n",
    "                rstate=state)\n",
    "    best_model = trials.best_trial['result']['model']\n",
    "    \n",
    "    print('Лучшие гиперпараметры:', best)\n",
    "    return best_model"
   ]
  },
  {
   "cell_type": "code",
   "execution_count": 20,
   "metadata": {},
   "outputs": [
    {
     "name": "stdout",
     "output_type": "stream",
     "text": [
      "100%|████████████████████████████████████████████████| 3/3 [07:35<00:00, 151.97s/trial, best loss: -0.9786507936507937]\n",
      "Лучшие гиперпараметры: {'alpha': 0.00014329105000623527, 'hidden_layer_sizes': 97.0, 'learning_rate_init': 0.005869715743303664}\n"
     ]
    }
   ],
   "source": [
    "mlp_space = {\n",
    "    'hidden_layer_sizes':scope.int(hp.quniform('hidden_layer_sizes', 90, 100, 1)),\n",
    "    'alpha':hp.lognormal('alpha', mu=np.log(1e-4), sigma=1),\n",
    "    'learning_rate_init':hp.loguniform('learning_rate_init', low=np.log(1e-4), high=np.log(1.)),\n",
    "}\n",
    "\n",
    "best_mlp = hp_slctns(model=MLPClassifier(random_state=RANDOM_STATE), space=mlp_space, max_evals=3)"
   ]
  },
  {
   "cell_type": "markdown",
   "metadata": {},
   "source": [
    "Получим качество константной модели."
   ]
  },
  {
   "cell_type": "code",
   "execution_count": 21,
   "metadata": {},
   "outputs": [
    {
     "name": "stdout",
     "output_type": "stream",
     "text": [
      "Качество: -0.08833333333333335\n"
     ]
    }
   ],
   "source": [
    "dummy_clf = quality(DummyClassifier(), return_qual=1)"
   ]
  },
  {
   "cell_type": "markdown",
   "metadata": {},
   "source": [
    "Сохраним результаты константной модели в пустой датафрейм."
   ]
  },
  {
   "cell_type": "code",
   "execution_count": 22,
   "metadata": {},
   "outputs": [],
   "source": [
    "results_clf_df = pd.DataFrame(columns=['Качество', 'Время обучения', 'Скорость предсказания'])\n",
    "results_clf_df.loc['Константная модель'] = [dummy_clf, 0, 0]"
   ]
  },
  {
   "cell_type": "markdown",
   "metadata": {},
   "source": [
    "Добавим строку с временем обучения, скоростью предсказания и качеством многослойного перцептрона в таблицу с результатами."
   ]
  },
  {
   "cell_type": "code",
   "execution_count": 23,
   "metadata": {},
   "outputs": [],
   "source": [
    "mlp = MLPClassifier(random_state=RANDOM_STATE).set_params(**best_mlp.get_params())\n",
    "    \n",
    "start_train_timer = time.time()\n",
    "mlp.fit(x_dynamic_train, y_dynamic_train)\n",
    "stop_train_timer = time.time() - start_train_timer\n",
    "    \n",
    "start_pred_timer = time.time()\n",
    "mlp_prediction = mlp.predict(x_dynamic_test)\n",
    "score = accuracy_score(y_dynamic_test, mlp_prediction)\n",
    "stop_pred_timer = time.time() - start_pred_timer\n",
    "    \n",
    "results_clf_df.loc['Многослойный перцептрон'] = [score, stop_train_timer, stop_pred_timer]"
   ]
  },
  {
   "cell_type": "markdown",
   "metadata": {
    "id": "e426bc14"
   },
   "source": [
    "Рассмотрим получившеюся таблицу."
   ]
  },
  {
   "cell_type": "code",
   "execution_count": 24,
   "metadata": {
    "scrolled": true
   },
   "outputs": [
    {
     "data": {
      "text/html": [
       "<div>\n",
       "<style scoped>\n",
       "    .dataframe tbody tr th:only-of-type {\n",
       "        vertical-align: middle;\n",
       "    }\n",
       "\n",
       "    .dataframe tbody tr th {\n",
       "        vertical-align: top;\n",
       "    }\n",
       "\n",
       "    .dataframe thead th {\n",
       "        text-align: right;\n",
       "    }\n",
       "</style>\n",
       "<table border=\"1\" class=\"dataframe\">\n",
       "  <thead>\n",
       "    <tr style=\"text-align: right;\">\n",
       "      <th></th>\n",
       "      <th>Качество</th>\n",
       "      <th>Время обучения</th>\n",
       "      <th>Скорость предсказания</th>\n",
       "    </tr>\n",
       "  </thead>\n",
       "  <tbody>\n",
       "    <tr>\n",
       "      <th>Константная модель</th>\n",
       "      <td>-0.088333</td>\n",
       "      <td>0.000000</td>\n",
       "      <td>0.000000</td>\n",
       "    </tr>\n",
       "    <tr>\n",
       "      <th>Многослойный перцептрон</th>\n",
       "      <td>0.977778</td>\n",
       "      <td>55.013927</td>\n",
       "      <td>0.003989</td>\n",
       "    </tr>\n",
       "  </tbody>\n",
       "</table>\n",
       "</div>"
      ],
      "text/plain": [
       "                         Качество  Время обучения  Скорость предсказания\n",
       "Константная модель      -0.088333        0.000000               0.000000\n",
       "Многослойный перцептрон  0.977778       55.013927               0.003989"
      ]
     },
     "execution_count": 24,
     "metadata": {},
     "output_type": "execute_result"
    }
   ],
   "source": [
    "results_clf_df"
   ]
  },
  {
   "cell_type": "markdown",
   "metadata": {},
   "source": [
    "Оценим предсказание."
   ]
  },
  {
   "cell_type": "code",
   "execution_count": 25,
   "metadata": {},
   "outputs": [
    {
     "name": "stdout",
     "output_type": "stream",
     "text": [
      "\\Точность: 0.98\n",
      "\n",
      "Микро точность: 0.98\n",
      "Микро полнота: 0.98\n",
      "Микро F1-мера: 0.98\n",
      "\n",
      "Макро точность: 0.98\n",
      "Макро полнота: 0.98\n",
      "Макро F1-мера: 0.98\n",
      "\n",
      "Взвешенная точность: 0.98\n",
      "Взвешенная полнота: 0.98\n",
      "Взвешенная F1-мера: 0.98\n",
      "\n",
      "Отчёт классификации\n",
      "\n",
      "              precision    recall  f1-score   support\n",
      "\n",
      "           0       0.97      0.89      0.93        36\n",
      "           1       1.00      1.00      1.00        28\n",
      "           2       1.00      1.00      1.00        19\n",
      "           3       1.00      1.00      1.00        14\n",
      "           4       1.00      1.00      1.00        14\n",
      "           5       0.95      1.00      0.97        19\n",
      "           6       1.00      1.00      1.00        18\n",
      "           7       1.00      1.00      1.00        13\n",
      "           8       1.00      1.00      1.00        14\n",
      "           9       1.00      1.00      1.00        12\n",
      "          10       1.00      1.00      1.00        11\n",
      "          11       1.00      1.00      1.00        10\n",
      "          12       1.00      1.00      1.00         8\n",
      "          13       0.89      1.00      0.94         8\n",
      "          14       1.00      1.00      1.00        12\n",
      "          15       1.00      0.80      0.89        10\n",
      "          16       1.00      0.91      0.95        11\n",
      "          17       1.00      1.00      1.00         5\n",
      "          18       0.92      1.00      0.96        11\n",
      "          19       0.88      1.00      0.93         7\n",
      "          20       1.00      1.00      1.00         5\n",
      "          21       1.00      1.00      1.00        11\n",
      "          22       0.78      1.00      0.88         7\n",
      "          23       0.86      1.00      0.92         6\n",
      "          24       1.00      1.00      1.00        11\n",
      "          25       1.00      1.00      1.00         8\n",
      "          26       1.00      0.83      0.91         6\n",
      "          27       1.00      1.00      1.00         5\n",
      "          28       1.00      1.00      1.00         6\n",
      "          29       1.00      1.00      1.00         5\n",
      "          30       1.00      1.00      1.00         5\n",
      "          31       1.00      1.00      1.00         5\n",
      "\n",
      "    accuracy                           0.98       360\n",
      "   macro avg       0.98      0.98      0.98       360\n",
      "weighted avg       0.98      0.98      0.98       360\n",
      "\n"
     ]
    }
   ],
   "source": [
    "print('\\Точность: {:.2f}\\n'.format(accuracy_score(y_dynamic_test, mlp_prediction)))\n",
    "\n",
    "print('Микро точность: {:.2f}'.format(precision_score(y_dynamic_test, mlp_prediction, average='micro')))\n",
    "print('Микро полнота: {:.2f}'.format(recall_score(y_dynamic_test, mlp_prediction, average='micro')))\n",
    "print('Микро F1-мера: {:.2f}\\n'.format(f1_score(y_dynamic_test, mlp_prediction, average='micro')))\n",
    "\n",
    "print('Макро точность: {:.2f}'.format(precision_score(y_dynamic_test, mlp_prediction, average='macro')))\n",
    "print('Макро полнота: {:.2f}'.format(recall_score(y_dynamic_test, mlp_prediction, average='macro')))\n",
    "print('Макро F1-мера: {:.2f}\\n'.format(f1_score(y_dynamic_test, mlp_prediction, average='macro')))\n",
    "\n",
    "print('Взвешенная точность: {:.2f}'.format(precision_score(y_dynamic_test, mlp_prediction, average='weighted')))\n",
    "print('Взвешенная полнота: {:.2f}'.format(recall_score(y_dynamic_test, mlp_prediction, average='weighted')))\n",
    "print('Взвешенная F1-мера: {:.2f}'.format(f1_score(y_dynamic_test, mlp_prediction, average='weighted')))\n",
    "\n",
    "print('\\nОтчёт классификации\\n')\n",
    "print(classification_report(y_dynamic_test, mlp_prediction))"
   ]
  },
  {
   "cell_type": "markdown",
   "metadata": {
    "id": "lIMhGbWwPgqx"
   },
   "source": [
    "Построим марицу ошибок."
   ]
  },
  {
   "cell_type": "code",
   "execution_count": 26,
   "metadata": {
    "id": "LcMcQy0Th5KW",
    "scrolled": false
   },
   "outputs": [
    {
     "data": {
      "image/png": "[encoded data removed]",
      "text/plain": [
       "<Figure size 1500x1000 with 2 Axes>"
      ]
     },
     "metadata": {},
     "output_type": "display_data"
    }
   ],
   "source": [
    "plt.figure(figsize=(15, 10))\n",
    "heatmap = sns.heatmap(confusion_matrix(y_dynamic_test, mlp_prediction), annot=True, cmap='Blues')\n",
    "sns.set_style('white')\n",
    "heatmap.set_title('Матрица ошибок' + \"\\n\", fontsize=20);\n",
    "heatmap.set_xlabel('Результаты предсказания', fontsize=16);\n",
    "heatmap.set_ylabel('Ожидаемые результаты', fontsize=16);\n",
    "plt.show()"
   ]
  },
  {
   "cell_type": "markdown",
   "metadata": {},
   "source": [
    "### 3.2 Конечные данные\n",
    "Подберём гиперпараметры для линейной регрессии."
   ]
  },
  {
   "cell_type": "code",
   "execution_count": 27,
   "metadata": {},
   "outputs": [
    {
     "name": "stdout",
     "output_type": "stream",
     "text": [
      "100%|█████████████████████████████████████████████| 10/10 [00:00<00:00, 30.02trial/s, best loss: 3.745973694280855e-15]\n",
      "Лучшие гиперпараметры: {'copy_X': 0, 'fit_intercept': 0, 'positive': 1}\n"
     ]
    }
   ],
   "source": [
    "lr_space = {\n",
    "    'fit_intercept': hp.choice('fit_intercept', [True, False]),\n",
    "    'copy_X': hp.choice('copy_X', [True, False]), \n",
    "    'positive': hp.choice('positive', [True, False])\n",
    "}\n",
    "\n",
    "best_lr = hp_slctns(model=LinearRegression(), x_train=x_final_train, y_train=y_final_train, \n",
    "                    scoring='neg_mean_absolute_error', space=lr_space)"
   ]
  },
  {
   "cell_type": "markdown",
   "metadata": {},
   "source": [
    "Получим качество константной модели."
   ]
  },
  {
   "cell_type": "code",
   "execution_count": 28,
   "metadata": {},
   "outputs": [
    {
     "name": "stdout",
     "output_type": "stream",
     "text": [
      "Качество: 2.7692470238268463\n"
     ]
    }
   ],
   "source": [
    "dummy_reg = quality(DummyRegressor(), return_qual=1, x_train=x_final_train, y_train=y_final_train, \n",
    "                    scoring='neg_mean_absolute_error')"
   ]
  },
  {
   "cell_type": "markdown",
   "metadata": {},
   "source": [
    "Сохраним результаты константной модели в пустой датафрейм."
   ]
  },
  {
   "cell_type": "code",
   "execution_count": 29,
   "metadata": {},
   "outputs": [],
   "source": [
    "results_reg_df = pd.DataFrame(columns=['Качество', 'Время обучения', 'Скорость предсказания'])\n",
    "results_reg_df.loc['Константная модель'] = [dummy_clf, 0, 0]"
   ]
  },
  {
   "cell_type": "markdown",
   "metadata": {},
   "source": [
    "Добавим строку с временем обучения, скоростью предсказания и качеством многослойного перцептрона в таблицу с результатами."
   ]
  },
  {
   "cell_type": "code",
   "execution_count": 30,
   "metadata": {},
   "outputs": [],
   "source": [
    "lr = LinearRegression().set_params(**best_lr.get_params())\n",
    "    \n",
    "start_train_timer = time.time()\n",
    "lr.fit(x_final_train, y_final_train)\n",
    "stop_train_timer = time.time() - start_train_timer\n",
    "    \n",
    "start_pred_timer = time.time()\n",
    "mlp_prediction = lr.predict(x_final_test)\n",
    "score = mean_squared_log_error(y_final_test, mlp_prediction)\n",
    "stop_pred_timer = time.time() - start_pred_timer\n",
    "    \n",
    "results_reg_df.loc['Линейная регрессия'] = [score, stop_train_timer, stop_pred_timer]"
   ]
  },
  {
   "cell_type": "markdown",
   "metadata": {
    "id": "e426bc14"
   },
   "source": [
    "Рассмотрим получившеюся таблицу."
   ]
  },
  {
   "cell_type": "code",
   "execution_count": 31,
   "metadata": {
    "scrolled": true
   },
   "outputs": [
    {
     "data": {
      "text/html": [
       "<div>\n",
       "<style scoped>\n",
       "    .dataframe tbody tr th:only-of-type {\n",
       "        vertical-align: middle;\n",
       "    }\n",
       "\n",
       "    .dataframe tbody tr th {\n",
       "        vertical-align: top;\n",
       "    }\n",
       "\n",
       "    .dataframe thead th {\n",
       "        text-align: right;\n",
       "    }\n",
       "</style>\n",
       "<table border=\"1\" class=\"dataframe\">\n",
       "  <thead>\n",
       "    <tr style=\"text-align: right;\">\n",
       "      <th></th>\n",
       "      <th>Качество</th>\n",
       "      <th>Время обучения</th>\n",
       "      <th>Скорость предсказания</th>\n",
       "    </tr>\n",
       "  </thead>\n",
       "  <tbody>\n",
       "    <tr>\n",
       "      <th>Константная модель</th>\n",
       "      <td>-8.833333e-02</td>\n",
       "      <td>0.00000</td>\n",
       "      <td>0.000000</td>\n",
       "    </tr>\n",
       "    <tr>\n",
       "      <th>Линейная регрессия</th>\n",
       "      <td>2.541761e-31</td>\n",
       "      <td>0.00299</td>\n",
       "      <td>0.002994</td>\n",
       "    </tr>\n",
       "  </tbody>\n",
       "</table>\n",
       "</div>"
      ],
      "text/plain": [
       "                        Качество  Время обучения  Скорость предсказания\n",
       "Константная модель -8.833333e-02         0.00000               0.000000\n",
       "Линейная регрессия  2.541761e-31         0.00299               0.002994"
      ]
     },
     "execution_count": 31,
     "metadata": {},
     "output_type": "execute_result"
    }
   ],
   "source": [
    "results_reg_df"
   ]
  },
  {
   "cell_type": "markdown",
   "metadata": {
    "id": "JeI-X5V46QUo"
   },
   "source": [
    "### 3.3 Сохранение моделей\n",
    "\n",
    "Запишем обученные модели в формат Pickle для возможности использования их в приложении."
   ]
  },
  {
   "cell_type": "code",
   "execution_count": 32,
   "metadata": {
    "colab": {
     "base_uri": "https://localhost:8080/"
    },
    "executionInfo": {
     "elapsed": 310,
     "status": "ok",
     "timestamp": 1665059473840,
     "user": {
      "displayName": "Anastasia Maevskaia",
      "userId": "12249435522568185983"
     },
     "user_tz": -180
    },
    "id": "Y7m9ttPJR0DR",
    "outputId": "089cd27b-dfcc-4862-a418-d0d66b1f6047"
   },
   "outputs": [
    {
     "data": {
      "text/plain": [
       "['dynamic_mlp_clf.pkl']"
      ]
     },
     "execution_count": 32,
     "metadata": {},
     "output_type": "execute_result"
    }
   ],
   "source": [
    "joblib.dump(mlp, 'dynamic_mlp_clf.pkl')"
   ]
  },
  {
   "cell_type": "code",
   "execution_count": 34,
   "metadata": {
    "scrolled": true
   },
   "outputs": [
    {
     "data": {
      "text/plain": [
       "['final_lnr.pkl']"
      ]
     },
     "execution_count": 34,
     "metadata": {},
     "output_type": "execute_result"
    }
   ],
   "source": [
    "joblib.dump(lr, 'final_lnr.pkl')"
   ]
  },
  {
   "cell_type": "markdown",
   "metadata": {
    "id": "8e97a3d2"
   },
   "source": [
    "<div style=\"border:solid steelblue 5px; padding: 30px\">\n",
    "   <p>\n",
    "        <b>Результаты работы с моделями:</b>\n",
    "        <ol>\n",
    "        <li>Разные модели обучены.</li>\n",
    "        <li>Лучшие модели найдена, сравнены с константной и проверены на тестовой выборке.</li>\n",
    "        <li>Проведён анализ предсказания.</li>\n",
    "        <li>Модели сохранены.</li>\n",
    "        </ol>\n",
    "   </p>  \n",
    "</div>"
   ]
  },
  {
   "cell_type": "markdown",
   "metadata": {
    "id": "8fb46225"
   },
   "source": [
    "## 4 Отчёт"
   ]
  },
  {
   "cell_type": "markdown",
   "metadata": {
    "id": "d98c8159"
   },
   "source": [
    "<hr style=\"color: steelblue; background-color: steelblue; height: 5px; border: none;\">"
   ]
  },
  {
   "cell_type": "markdown",
   "metadata": {
    "id": "ca51b4da"
   },
   "source": [
    "### Описание ключевых шагов решения\n",
    "1. При подготовке данных данные были изучены и разбиты на выборки.\n",
    "1. Были обучены разные модели и выбрана лучшая.\n",
    "1. Лучшая модель была сравнена с константной и протестирована на тестовой выборке.\n",
    "1. Был проведён анализ предсказания.\n",
    "1. Модели были сохранены.\n",
    "\n",
    "***\n",
    "\n",
    "### Описание моделей\n",
    "**Динамические данные**\n",
    "\n",
    "Модель — `MLPClassifier`.\n",
    "\n",
    "Гиперпараметры:\n",
    "- `random_state` = 0\n",
    "- `alpha` = 0.00013077486554396252\n",
    "- `hidden_layer_sizes` = 99\n",
    "- `learning_rate_init` = 0.015332083009120187\n",
    "\n",
    "**Конечные данные**\n",
    "\n",
    "Модель — `LinearRegression`.\n",
    "\n",
    "Гиперпараметры:\n",
    "- `copy_X` = 0\n",
    "- `fit_intercept` = 0\n",
    "- `positive` = 1\n",
    "\n",
    "***\n",
    "\n",
    "### Итоговые метрики\n",
    "**Динамические данные**\n",
    "\n",
    "accuracy 0.747222\n",
    "\n",
    "**Конечные данные**\n",
    "\n",
    "mean_squared_log_error 1.567357e-31"
   ]
  },
  {
   "cell_type": "markdown",
   "metadata": {
    "id": "d98c8159"
   },
   "source": [
    "<hr style=\"color: steelblue; background-color: steelblue; height: 5px; border: none;\">"
   ]
  }
 ],
 "metadata": {
  "colab": {
   "authorship_tag": "ABX9TyNqApZ2H0f4jX67Ei0N2Zs0",
   "collapsed_sections": [
    "ev4hKjd1c6DE",
    "4SOmeeJRJr37",
    "h-Cjqnb1dV5S",
    "aWs6HQdzzwlu",
    "J8zThaSrzzQb",
    "QnmSbn103m-e",
    "CAoQR7t2yWK1",
    "khAAnUpEuBrK",
    "HSZ6HyjezsE4",
    "MPuzHLOrWE-U",
    "9IDlhsBlX0KX",
    "d_1l-wp-4snM"
   ],
   "mount_file_id": "1peV4rY-iykL9CqaVR--4EwavwS3Wjyus",
   "provenance": [
    {
     "file_id": "1peV4rY-iykL9CqaVR--4EwavwS3Wjyus",
     "timestamp": 1665059585451
    }
   ]
  },
  "kernelspec": {
   "display_name": "Python 3 (ipykernel)",
   "language": "python",
   "name": "python3"
  },
  "language_info": {
   "codemirror_mode": {
    "name": "ipython",
    "version": 3
   },
   "file_extension": ".py",
   "mimetype": "text/x-python",
   "name": "python",
   "nbconvert_exporter": "python",
   "pygments_lexer": "ipython3",
   "version": "3.11.3"
  }
 },
 "nbformat": 4,
 "nbformat_minor": 1
}
