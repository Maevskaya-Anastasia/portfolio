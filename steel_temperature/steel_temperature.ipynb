{
 "cells": [
  {
   "cell_type": "markdown",
   "id": "155526c5",
   "metadata": {
    "id": "155526c5"
   },
   "source": [
    "## 1 Импорт библиотек и модулей"
   ]
  },
  {
   "cell_type": "code",
   "execution_count": 1,
   "id": "dbb462da",
   "metadata": {
    "id": "dbb462da",
    "scrolled": true
   },
   "outputs": [],
   "source": [
    "!pip install -q ydata_profiling"
   ]
  },
  {
   "cell_type": "code",
   "execution_count": 2,
   "id": "78223a18",
   "metadata": {
    "id": "78223a18"
   },
   "outputs": [],
   "source": [
    "#!pip install -q hyperopt"
   ]
  },
  {
   "cell_type": "code",
   "execution_count": 3,
   "id": "b7f7de47",
   "metadata": {
    "id": "b7f7de47"
   },
   "outputs": [],
   "source": [
    "%matplotlib inline "
   ]
  },
  {
   "cell_type": "code",
   "execution_count": 4,
   "id": "51aca185",
   "metadata": {
    "id": "51aca185"
   },
   "outputs": [],
   "source": [
    "# для математических вычислений\n",
    "import numpy as np\n",
    "\n",
    "# для работы с таблицами\n",
    "import pandas as pd\n",
    "\n",
    "# для EDA анализа\n",
    "import ydata_profiling\n",
    "\n",
    "# для визуализации\n",
    "import matplotlib.pyplot as plt\n",
    "import seaborn as sns\n",
    "\n",
    "# для разбивки данных на выборки\n",
    "from sklearn.model_selection import train_test_split\n",
    "\n",
    "# для масштабирования признаков\n",
    "from sklearn.preprocessing import RobustScaler\n",
    "\n",
    "# константная модель\n",
    "from sklearn.dummy import DummyRegressor\n",
    "\n",
    "# для расчёта качества моделей\n",
    "from sklearn.metrics import mean_absolute_error\n",
    "from sklearn.model_selection import cross_val_score\n",
    "\n",
    "# модели машинного обучения\n",
    "from sklearn.tree import DecisionTreeRegressor\n",
    "from sklearn.ensemble import RandomForestRegressor, AdaBoostRegressor, GradientBoostingRegressor\n",
    "from sklearn.svm import SVR\n",
    "\n",
    "# для подбора гиперпараметров\n",
    "from hyperopt import fmin, tpe, hp, STATUS_OK, Trials\n",
    "from hyperopt.pyll.base import scope\n",
    "\n",
    "# для расчёта времени выполнения кода\n",
    "import time"
   ]
  },
  {
   "cell_type": "markdown",
   "id": "75d4bc88",
   "metadata": {
    "id": "75d4bc88"
   },
   "source": [
    "## 2 Исследовательский анализ данных\n",
    "Напишем функцию, которая будет считывать данные из csv-файла в датафрейм и выводить его профилирование."
   ]
  },
  {
   "cell_type": "code",
   "execution_count": 89,
   "id": "fcaec195",
   "metadata": {
    "id": "fcaec195"
   },
   "outputs": [],
   "source": [
    "def read_eda(name):\n",
    "    try:\n",
    "        df = pd.read_csv('/datasets/' + name + '.csv')\n",
    "    except:\n",
    "        df = pd.read_csv('https://code.s3.yandex.net/datasets/' + name + '.csv')\n",
    "    ydata_profiling.ProfileReport(df, progress_bar=False).to_file(name + '.html')\n",
    "    return df"
   ]
  },
  {
   "cell_type": "markdown",
   "id": "e4dfb293",
   "metadata": {
    "id": "e4dfb293"
   },
   "source": [
    "### 2.1 Электроды\n",
    "Проведём EDA анализ."
   ]
  },
  {
   "cell_type": "code",
   "execution_count": 90,
   "id": "72c72a31",
   "metadata": {
    "id": "72c72a31",
    "outputId": "e90a74f0-1b85-4de7-f2c5-298fa3917657",
    "scrolled": true
   },
   "outputs": [],
   "source": [
    "arc_df = read_eda('data_arc_new')"
   ]
  },
  {
   "cell_type": "markdown",
   "id": "b1d83ca6",
   "metadata": {
    "id": "b1d83ca6"
   },
   "source": [
    "[Посмотреть анализ.](https://www.dropbox.com/s/m0us8i9uzujx0ox/data_arc_new.html?dl=0)\n",
    "\n",
    "- **Обнаружены некорректные названия столбцов.**\n",
    "- **Присутствует отрицательная реактивная мощность.**"
   ]
  },
  {
   "cell_type": "markdown",
   "id": "02e43d48",
   "metadata": {
    "id": "02e43d48"
   },
   "source": [
    "### 2.2 Подача сыпучих материалов\n",
    "Проведём EDA анализ."
   ]
  },
  {
   "cell_type": "code",
   "execution_count": 91,
   "id": "bcc6cdb9",
   "metadata": {
    "id": "bcc6cdb9",
    "outputId": "00aed95d-5120-4e6a-a657-3ceba94d2a79",
    "scrolled": false
   },
   "outputs": [],
   "source": [
    "bulk_df = read_eda('data_bulk_new')"
   ]
  },
  {
   "cell_type": "markdown",
   "id": "dac76e2b",
   "metadata": {},
   "source": [
    "[Посмотреть анализ.](https://www.dropbox.com/s/pm21dawquqboq50/data_bulk_new.html?dl=0)"
   ]
  },
  {
   "cell_type": "code",
   "execution_count": 92,
   "id": "948c9d86",
   "metadata": {
    "id": "948c9d86",
    "outputId": "22807e52-20fd-4b69-a5b4-63e09dffa7a1",
    "scrolled": false
   },
   "outputs": [],
   "source": [
    "bulk_time_df = read_eda('data_bulk_time_new')"
   ]
  },
  {
   "cell_type": "markdown",
   "id": "1c4e429c",
   "metadata": {
    "id": "1c4e429c"
   },
   "source": [
    "[Посмотреть анализ.](https://www.dropbox.com/s/g6ridsttu7we275/data_bulk_time_new.html?dl=0)\n",
    "\n",
    "- **Обнаружены некорректные названия столбцов.**\n",
    "- **Присутсвуют пропуски.**"
   ]
  },
  {
   "cell_type": "markdown",
   "id": "c71c7622",
   "metadata": {
    "id": "c71c7622"
   },
   "source": [
    "### 2.3 Продувка сплава газом\n",
    "Проведём EDA анализ."
   ]
  },
  {
   "cell_type": "code",
   "execution_count": 93,
   "id": "b0681a2c",
   "metadata": {
    "id": "b0681a2c",
    "outputId": "801ca2d6-d5ee-4543-9dc9-71ef65a14ca0",
    "scrolled": false
   },
   "outputs": [],
   "source": [
    "gas_df = read_eda('data_gas_new')"
   ]
  },
  {
   "cell_type": "markdown",
   "id": "0276a245",
   "metadata": {
    "id": "0276a245"
   },
   "source": [
    "[Посмотреть анализ.](https://www.dropbox.com/s/vns23uftwq6ft2z/data_gas_new.html?dl=0)\n",
    "\n",
    "**Обнаружено некорректное название столбца.**"
   ]
  },
  {
   "cell_type": "markdown",
   "id": "3fdf69c0",
   "metadata": {
    "id": "3fdf69c0"
   },
   "source": [
    "### 2.4 Результаты измерения температуры\n",
    "Проведём EDA анализ."
   ]
  },
  {
   "cell_type": "code",
   "execution_count": 94,
   "id": "425f195e",
   "metadata": {
    "id": "425f195e",
    "outputId": "5f1b2739-bbd0-43e5-fc37-5518fa3852ff",
    "scrolled": false
   },
   "outputs": [],
   "source": [
    "temp_df = read_eda('data_temp_new')"
   ]
  },
  {
   "cell_type": "markdown",
   "id": "2af6a5a6",
   "metadata": {
    "id": "2af6a5a6"
   },
   "source": [
    "[Посмотреть анализ.](https://www.dropbox.com/s/ret8rr5e8u5fo38/data_temp_new.html?dl=0)\n",
    "\n",
    "- **Обнаружены некорректные названия столбцов.**\n",
    "- **Присутсвуют пропуски.**\n",
    "\n",
    "Темература плавления стали - 1450 градусов. Проверим, есть ли выбросы с температурой ниже."
   ]
  },
  {
   "cell_type": "code",
   "execution_count": 11,
   "id": "b5d6cb94",
   "metadata": {
    "id": "b5d6cb94"
   },
   "outputs": [],
   "source": [
    "def boxplot(df, col, ylabel):\n",
    "    plt.figure(figsize=(7, 5))\n",
    "    df.boxplot(col)\n",
    "    plt.ylabel(ylabel, fontsize=12)\n",
    "    plt.title('Диаграмма размаха по столбцу ' + col + '\\n', fontsize=15)\n",
    "    plt.show()"
   ]
  },
  {
   "cell_type": "code",
   "execution_count": 12,
   "id": "f1b2847c",
   "metadata": {
    "id": "f1b2847c",
    "outputId": "be2c02b7-5238-47bf-8b46-5e2ced8925b9"
   },
   "outputs": [
    {
     "data": {
      "image/png": "[encoded data removed]",
      "text/plain": [
       "<Figure size 700x500 with 1 Axes>"
      ]
     },
     "metadata": {},
     "output_type": "display_data"
    }
   ],
   "source": [
    "boxplot(temp_df, 'Температура', 'Температура')"
   ]
  },
  {
   "cell_type": "markdown",
   "id": "6cadbe2f",
   "metadata": {
    "id": "6cadbe2f"
   },
   "source": [
    "**Выбросы есть, их также нужно будет обработать.**\n",
    "\n",
    "Проверим наличие партий с одним замером."
   ]
  },
  {
   "cell_type": "code",
   "execution_count": 13,
   "id": "de7eb182",
   "metadata": {
    "id": "de7eb182",
    "outputId": "bb0ffac7-73ce-4392-f435-fbef09868c6c"
   },
   "outputs": [
    {
     "name": "stdout",
     "output_type": "stream",
     "text": [
      "Количество партий с одним замером: 2\n"
     ]
    }
   ],
   "source": [
    "print('Количество партий с одним замером:', (temp_df['key'].value_counts() == 1).sum())"
   ]
  },
  {
   "cell_type": "markdown",
   "id": "858d20a0",
   "metadata": {
    "id": "858d20a0"
   },
   "source": [
    "**Такие партии тоже подлежат обработке.**"
   ]
  },
  {
   "cell_type": "markdown",
   "id": "e0317485",
   "metadata": {
    "id": "e0317485"
   },
   "source": [
    "### 2.5 Проволочные материалы\n",
    "Проведём EDA анализ."
   ]
  },
  {
   "cell_type": "code",
   "execution_count": 95,
   "id": "1f0f5676",
   "metadata": {
    "id": "1f0f5676",
    "outputId": "5f14854c-b7c8-4913-80e4-2506785fb941",
    "scrolled": false
   },
   "outputs": [],
   "source": [
    "wire_df = read_eda('data_wire_new')"
   ]
  },
  {
   "cell_type": "markdown",
   "id": "fa467e5c",
   "metadata": {},
   "source": [
    "[Посмотреть анализ.](https://www.dropbox.com/s/2rhx5xr2y9hfk68/data_wire_new.html?dl=0)"
   ]
  },
  {
   "cell_type": "code",
   "execution_count": 96,
   "id": "ad60cc2c",
   "metadata": {
    "id": "ad60cc2c",
    "outputId": "d98da6c0-0d1d-4417-82ee-caa800118cd6",
    "scrolled": false
   },
   "outputs": [],
   "source": [
    "wire_time_df = read_eda('data_wire_time_new')"
   ]
  },
  {
   "cell_type": "markdown",
   "id": "c254bf9f",
   "metadata": {
    "id": "c254bf9f"
   },
   "source": [
    "[Посмотреть анализ.](https://www.dropbox.com/s/fqwj3wnx1bwzhwm/data_wire_time_new.html?dl=0)\n",
    "\n",
    "- **Обнаружены некорректные названия столбцов.**\n",
    "- **Присутсвуют пропуски.**"
   ]
  },
  {
   "cell_type": "markdown",
   "id": "e4719a07",
   "metadata": {
    "id": "e4719a07"
   },
   "source": [
    "<div style=\"border:solid steelblue 5px; padding: 30px\">\n",
    "   <p>\n",
    "        <b>Нужно обработать в данных</b>\n",
    "       <br><br>\n",
    "       <i>об электродах:</i>\n",
    "        <li>названия столбцов;</li>\n",
    "        <li>отрицательную реактивную мощность;</li>\n",
    "       <li>партии с одним замером.</li>\n",
    "        <br>\n",
    "       <i>о подаче сыпучих материалов и о проволочных материалах:</i>\n",
    "        <li>названия столбцов;</li>\n",
    "        <li>пропуски.</li>\n",
    "        <br>\n",
    "       <i>о продувке сплава газом название столбца.</i>\n",
    "       <br><br>\n",
    "       <i>c результатами измерения температуры:</i>\n",
    "        <li>названия столбцов;</li>\n",
    "        <li>пропуски;</li>\n",
    "       <li>выбросы температуры ниже 1450.</li>\n",
    "   </p>  \n",
    "</div>"
   ]
  },
  {
   "cell_type": "markdown",
   "id": "00e95279",
   "metadata": {
    "id": "00e95279"
   },
   "source": [
    "## 3 Подготовка данных\n",
    "### 3.1 Электроды\n",
    "Создадим копию старого датафрейма."
   ]
  },
  {
   "cell_type": "code",
   "execution_count": 16,
   "id": "4fe08fad",
   "metadata": {
    "id": "4fe08fad"
   },
   "outputs": [],
   "source": [
    "arc_prev_df = arc_df.copy()"
   ]
  },
  {
   "cell_type": "markdown",
   "id": "92c9dd96",
   "metadata": {
    "id": "92c9dd96"
   },
   "source": [
    "Изменим язык и регистр названий столбцов."
   ]
  },
  {
   "cell_type": "code",
   "execution_count": 17,
   "id": "b39b342d",
   "metadata": {
    "id": "b39b342d",
    "outputId": "3e23490d-a5ca-4f69-b464-1bd3bc2039c8"
   },
   "outputs": [
    {
     "data": {
      "text/plain": [
       "Index(['key', 'Начало нагрева дугой', 'Конец нагрева дугой',\n",
       "       'Активная мощность', 'Реактивная мощность'],\n",
       "      dtype='object')"
      ]
     },
     "execution_count": 17,
     "metadata": {},
     "output_type": "execute_result"
    }
   ],
   "source": [
    "arc_df.columns"
   ]
  },
  {
   "cell_type": "code",
   "execution_count": 18,
   "id": "71398b46",
   "metadata": {
    "id": "71398b46"
   },
   "outputs": [],
   "source": [
    "arc_df = arc_df.rename(columns={\n",
    "    'Начало нагрева дугой': 'start_arc_heating', \n",
    "    'Конец нагрева дугой': 'end_arc_heating',\n",
    "    'Активная мощность': 'active_power',\n",
    "    'Реактивная мощность': 'reactive_power'\n",
    "})"
   ]
  },
  {
   "cell_type": "markdown",
   "id": "8b289db0",
   "metadata": {
    "id": "8b289db0"
   },
   "source": [
    "Уберём партии с отрицательной реактивной мощностью."
   ]
  },
  {
   "cell_type": "code",
   "execution_count": 19,
   "id": "f91363ff",
   "metadata": {
    "id": "f91363ff"
   },
   "outputs": [],
   "source": [
    "arc_df = arc_df[~arc_df['key'].isin(arc_df.query('reactive_power <= 0')['key'].unique())]"
   ]
  },
  {
   "cell_type": "markdown",
   "id": "40687e78",
   "metadata": {
    "id": "40687e78"
   },
   "source": [
    "Проверим изменения."
   ]
  },
  {
   "cell_type": "code",
   "execution_count": 20,
   "id": "a2b9b2f6",
   "metadata": {
    "id": "a2b9b2f6",
    "outputId": "04e59a43-9de5-42dc-cb89-34f0bbeb544e"
   },
   "outputs": [
    {
     "data": {
      "text/html": [
       "<div>\n",
       "<style scoped>\n",
       "    .dataframe tbody tr th:only-of-type {\n",
       "        vertical-align: middle;\n",
       "    }\n",
       "\n",
       "    .dataframe tbody tr th {\n",
       "        vertical-align: top;\n",
       "    }\n",
       "\n",
       "    .dataframe thead th {\n",
       "        text-align: right;\n",
       "    }\n",
       "</style>\n",
       "<table border=\"1\" class=\"dataframe\">\n",
       "  <thead>\n",
       "    <tr style=\"text-align: right;\">\n",
       "      <th></th>\n",
       "      <th>key</th>\n",
       "      <th>start_arc_heating</th>\n",
       "      <th>end_arc_heating</th>\n",
       "      <th>active_power</th>\n",
       "      <th>reactive_power</th>\n",
       "    </tr>\n",
       "  </thead>\n",
       "  <tbody>\n",
       "    <tr>\n",
       "      <th>0</th>\n",
       "      <td>1</td>\n",
       "      <td>2019-05-03 11:02:14</td>\n",
       "      <td>2019-05-03 11:06:02</td>\n",
       "      <td>0.305130</td>\n",
       "      <td>0.211253</td>\n",
       "    </tr>\n",
       "    <tr>\n",
       "      <th>1</th>\n",
       "      <td>1</td>\n",
       "      <td>2019-05-03 11:07:28</td>\n",
       "      <td>2019-05-03 11:10:33</td>\n",
       "      <td>0.765658</td>\n",
       "      <td>0.477438</td>\n",
       "    </tr>\n",
       "    <tr>\n",
       "      <th>2</th>\n",
       "      <td>1</td>\n",
       "      <td>2019-05-03 11:11:44</td>\n",
       "      <td>2019-05-03 11:14:36</td>\n",
       "      <td>0.580313</td>\n",
       "      <td>0.430460</td>\n",
       "    </tr>\n",
       "    <tr>\n",
       "      <th>3</th>\n",
       "      <td>1</td>\n",
       "      <td>2019-05-03 11:18:14</td>\n",
       "      <td>2019-05-03 11:24:19</td>\n",
       "      <td>0.518496</td>\n",
       "      <td>0.379979</td>\n",
       "    </tr>\n",
       "    <tr>\n",
       "      <th>4</th>\n",
       "      <td>1</td>\n",
       "      <td>2019-05-03 11:26:09</td>\n",
       "      <td>2019-05-03 11:28:37</td>\n",
       "      <td>0.867133</td>\n",
       "      <td>0.643691</td>\n",
       "    </tr>\n",
       "  </tbody>\n",
       "</table>\n",
       "</div>"
      ],
      "text/plain": [
       "   key    start_arc_heating      end_arc_heating  active_power  reactive_power\n",
       "0    1  2019-05-03 11:02:14  2019-05-03 11:06:02      0.305130        0.211253\n",
       "1    1  2019-05-03 11:07:28  2019-05-03 11:10:33      0.765658        0.477438\n",
       "2    1  2019-05-03 11:11:44  2019-05-03 11:14:36      0.580313        0.430460\n",
       "3    1  2019-05-03 11:18:14  2019-05-03 11:24:19      0.518496        0.379979\n",
       "4    1  2019-05-03 11:26:09  2019-05-03 11:28:37      0.867133        0.643691"
      ]
     },
     "execution_count": 20,
     "metadata": {},
     "output_type": "execute_result"
    }
   ],
   "source": [
    "arc_df.head()"
   ]
  },
  {
   "cell_type": "code",
   "execution_count": 21,
   "id": "dcd04a89",
   "metadata": {
    "id": "dcd04a89",
    "outputId": "d032e35f-b325-4ed6-c3d7-7a3a3d3fc080",
    "scrolled": true
   },
   "outputs": [
    {
     "name": "stdout",
     "output_type": "stream",
     "text": [
      "<class 'pandas.core.frame.DataFrame'>\n",
      "Int64Index: 14872 entries, 0 to 14875\n",
      "Data columns (total 5 columns):\n",
      " #   Column             Non-Null Count  Dtype  \n",
      "---  ------             --------------  -----  \n",
      " 0   key                14872 non-null  int64  \n",
      " 1   start_arc_heating  14872 non-null  object \n",
      " 2   end_arc_heating    14872 non-null  object \n",
      " 3   active_power       14872 non-null  float64\n",
      " 4   reactive_power     14872 non-null  float64\n",
      "dtypes: float64(2), int64(1), object(2)\n",
      "memory usage: 697.1+ KB\n"
     ]
    }
   ],
   "source": [
    "arc_df.info()"
   ]
  },
  {
   "cell_type": "code",
   "execution_count": 22,
   "id": "4fef5063",
   "metadata": {
    "id": "4fef5063",
    "outputId": "dcaab2b5-7a8a-4528-fa47-e9981f870349"
   },
   "outputs": [
    {
     "data": {
      "image/png": "[encoded data removed]",
      "text/plain": [
       "<Figure size 700x500 with 1 Axes>"
      ]
     },
     "metadata": {},
     "output_type": "display_data"
    }
   ],
   "source": [
    "boxplot(arc_df, 'reactive_power', 'Реактивная мощность')"
   ]
  },
  {
   "cell_type": "markdown",
   "id": "6aa92684",
   "metadata": {
    "id": "6aa92684"
   },
   "source": [
    "Посмотрим на общий ущерб."
   ]
  },
  {
   "cell_type": "code",
   "execution_count": 23,
   "id": "3be31311",
   "metadata": {
    "id": "3be31311"
   },
   "outputs": [],
   "source": [
    "def missing_values(df, prev_df):\n",
    "    print('Процент удалённых значений:', (prev_df.shape[0] - df.shape[0]) * 100 / prev_df.shape[0])"
   ]
  },
  {
   "cell_type": "code",
   "execution_count": 24,
   "id": "47280a71",
   "metadata": {
    "id": "47280a71",
    "outputId": "0344acc3-2d67-4003-c4e4-0193613f83e9",
    "scrolled": true
   },
   "outputs": [
    {
     "name": "stdout",
     "output_type": "stream",
     "text": [
      "Процент удалённых значений: 0.026888948642108095\n"
     ]
    }
   ],
   "source": [
    "missing_values(arc_df, arc_prev_df)"
   ]
  },
  {
   "cell_type": "markdown",
   "id": "ca1036f5",
   "metadata": {
    "id": "ca1036f5"
   },
   "source": [
    "### 3.2 Подача сыпучих материалов\n",
    "Создадим копии старых датафреймов."
   ]
  },
  {
   "cell_type": "code",
   "execution_count": 25,
   "id": "25449d4e",
   "metadata": {
    "id": "25449d4e"
   },
   "outputs": [],
   "source": [
    "bulk_prev_df = bulk_df.copy()\n",
    "bulk_time_prev_df = bulk_time_df.copy()"
   ]
  },
  {
   "cell_type": "markdown",
   "id": "37373ce7",
   "metadata": {
    "id": "37373ce7"
   },
   "source": [
    "Изменим регистр названий столбцов."
   ]
  },
  {
   "cell_type": "code",
   "execution_count": 26,
   "id": "63f94ea9",
   "metadata": {
    "id": "63f94ea9"
   },
   "outputs": [],
   "source": [
    "def change_case(df):\n",
    "    new_cols = []\n",
    "    for col in df.columns:\n",
    "        new_cols.append(col.replace(\" \", \"_\").lower())\n",
    "    return new_cols"
   ]
  },
  {
   "cell_type": "code",
   "execution_count": 27,
   "id": "8a60f323",
   "metadata": {
    "id": "8a60f323"
   },
   "outputs": [],
   "source": [
    "bulk_df.columns = change_case(bulk_df)\n",
    "bulk_time_df.columns = bulk_df.columns"
   ]
  },
  {
   "cell_type": "markdown",
   "id": "41467e62",
   "metadata": {
    "id": "41467e62"
   },
   "source": [
    "Так как пропусков много, заменим их нулями."
   ]
  },
  {
   "cell_type": "code",
   "execution_count": 28,
   "id": "e3843336",
   "metadata": {
    "id": "e3843336"
   },
   "outputs": [],
   "source": [
    "bulk_df = bulk_df.fillna(0)\n",
    "bulk_time_df = bulk_time_df.fillna(0)"
   ]
  },
  {
   "cell_type": "markdown",
   "id": "cba1299c",
   "metadata": {
    "id": "cba1299c"
   },
   "source": [
    "Проверим изменения."
   ]
  },
  {
   "cell_type": "code",
   "execution_count": 29,
   "id": "36a8b365",
   "metadata": {
    "id": "36a8b365",
    "outputId": "9c82d5a9-93a5-48fd-bda4-a50834bf4b6c"
   },
   "outputs": [
    {
     "data": {
      "text/html": [
       "<div>\n",
       "<style scoped>\n",
       "    .dataframe tbody tr th:only-of-type {\n",
       "        vertical-align: middle;\n",
       "    }\n",
       "\n",
       "    .dataframe tbody tr th {\n",
       "        vertical-align: top;\n",
       "    }\n",
       "\n",
       "    .dataframe thead th {\n",
       "        text-align: right;\n",
       "    }\n",
       "</style>\n",
       "<table border=\"1\" class=\"dataframe\">\n",
       "  <thead>\n",
       "    <tr style=\"text-align: right;\">\n",
       "      <th></th>\n",
       "      <th>key</th>\n",
       "      <th>bulk_1</th>\n",
       "      <th>bulk_2</th>\n",
       "      <th>bulk_3</th>\n",
       "      <th>bulk_4</th>\n",
       "      <th>bulk_5</th>\n",
       "      <th>bulk_6</th>\n",
       "      <th>bulk_7</th>\n",
       "      <th>bulk_8</th>\n",
       "      <th>bulk_9</th>\n",
       "      <th>bulk_10</th>\n",
       "      <th>bulk_11</th>\n",
       "      <th>bulk_12</th>\n",
       "      <th>bulk_13</th>\n",
       "      <th>bulk_14</th>\n",
       "      <th>bulk_15</th>\n",
       "    </tr>\n",
       "  </thead>\n",
       "  <tbody>\n",
       "    <tr>\n",
       "      <th>0</th>\n",
       "      <td>1</td>\n",
       "      <td>0.0</td>\n",
       "      <td>0.0</td>\n",
       "      <td>0.0</td>\n",
       "      <td>43.0</td>\n",
       "      <td>0.0</td>\n",
       "      <td>0.0</td>\n",
       "      <td>0.0</td>\n",
       "      <td>0.0</td>\n",
       "      <td>0.0</td>\n",
       "      <td>0.0</td>\n",
       "      <td>0.0</td>\n",
       "      <td>206.0</td>\n",
       "      <td>0.0</td>\n",
       "      <td>150.0</td>\n",
       "      <td>154.0</td>\n",
       "    </tr>\n",
       "    <tr>\n",
       "      <th>1</th>\n",
       "      <td>2</td>\n",
       "      <td>0.0</td>\n",
       "      <td>0.0</td>\n",
       "      <td>0.0</td>\n",
       "      <td>73.0</td>\n",
       "      <td>0.0</td>\n",
       "      <td>0.0</td>\n",
       "      <td>0.0</td>\n",
       "      <td>0.0</td>\n",
       "      <td>0.0</td>\n",
       "      <td>0.0</td>\n",
       "      <td>0.0</td>\n",
       "      <td>206.0</td>\n",
       "      <td>0.0</td>\n",
       "      <td>149.0</td>\n",
       "      <td>154.0</td>\n",
       "    </tr>\n",
       "    <tr>\n",
       "      <th>2</th>\n",
       "      <td>3</td>\n",
       "      <td>0.0</td>\n",
       "      <td>0.0</td>\n",
       "      <td>0.0</td>\n",
       "      <td>34.0</td>\n",
       "      <td>0.0</td>\n",
       "      <td>0.0</td>\n",
       "      <td>0.0</td>\n",
       "      <td>0.0</td>\n",
       "      <td>0.0</td>\n",
       "      <td>0.0</td>\n",
       "      <td>0.0</td>\n",
       "      <td>205.0</td>\n",
       "      <td>0.0</td>\n",
       "      <td>152.0</td>\n",
       "      <td>153.0</td>\n",
       "    </tr>\n",
       "    <tr>\n",
       "      <th>3</th>\n",
       "      <td>4</td>\n",
       "      <td>0.0</td>\n",
       "      <td>0.0</td>\n",
       "      <td>0.0</td>\n",
       "      <td>81.0</td>\n",
       "      <td>0.0</td>\n",
       "      <td>0.0</td>\n",
       "      <td>0.0</td>\n",
       "      <td>0.0</td>\n",
       "      <td>0.0</td>\n",
       "      <td>0.0</td>\n",
       "      <td>0.0</td>\n",
       "      <td>207.0</td>\n",
       "      <td>0.0</td>\n",
       "      <td>153.0</td>\n",
       "      <td>154.0</td>\n",
       "    </tr>\n",
       "    <tr>\n",
       "      <th>4</th>\n",
       "      <td>5</td>\n",
       "      <td>0.0</td>\n",
       "      <td>0.0</td>\n",
       "      <td>0.0</td>\n",
       "      <td>78.0</td>\n",
       "      <td>0.0</td>\n",
       "      <td>0.0</td>\n",
       "      <td>0.0</td>\n",
       "      <td>0.0</td>\n",
       "      <td>0.0</td>\n",
       "      <td>0.0</td>\n",
       "      <td>0.0</td>\n",
       "      <td>203.0</td>\n",
       "      <td>0.0</td>\n",
       "      <td>151.0</td>\n",
       "      <td>152.0</td>\n",
       "    </tr>\n",
       "  </tbody>\n",
       "</table>\n",
       "</div>"
      ],
      "text/plain": [
       "   key  bulk_1  bulk_2  bulk_3  bulk_4  bulk_5  bulk_6  bulk_7  bulk_8  \\\n",
       "0    1     0.0     0.0     0.0    43.0     0.0     0.0     0.0     0.0   \n",
       "1    2     0.0     0.0     0.0    73.0     0.0     0.0     0.0     0.0   \n",
       "2    3     0.0     0.0     0.0    34.0     0.0     0.0     0.0     0.0   \n",
       "3    4     0.0     0.0     0.0    81.0     0.0     0.0     0.0     0.0   \n",
       "4    5     0.0     0.0     0.0    78.0     0.0     0.0     0.0     0.0   \n",
       "\n",
       "   bulk_9  bulk_10  bulk_11  bulk_12  bulk_13  bulk_14  bulk_15  \n",
       "0     0.0      0.0      0.0    206.0      0.0    150.0    154.0  \n",
       "1     0.0      0.0      0.0    206.0      0.0    149.0    154.0  \n",
       "2     0.0      0.0      0.0    205.0      0.0    152.0    153.0  \n",
       "3     0.0      0.0      0.0    207.0      0.0    153.0    154.0  \n",
       "4     0.0      0.0      0.0    203.0      0.0    151.0    152.0  "
      ]
     },
     "execution_count": 29,
     "metadata": {},
     "output_type": "execute_result"
    }
   ],
   "source": [
    "bulk_df.head()"
   ]
  },
  {
   "cell_type": "code",
   "execution_count": 30,
   "id": "d03b2961",
   "metadata": {
    "id": "d03b2961",
    "outputId": "13ca56f2-4bd3-4d44-e3a0-4851441713c1"
   },
   "outputs": [
    {
     "data": {
      "text/html": [
       "<div>\n",
       "<style scoped>\n",
       "    .dataframe tbody tr th:only-of-type {\n",
       "        vertical-align: middle;\n",
       "    }\n",
       "\n",
       "    .dataframe tbody tr th {\n",
       "        vertical-align: top;\n",
       "    }\n",
       "\n",
       "    .dataframe thead th {\n",
       "        text-align: right;\n",
       "    }\n",
       "</style>\n",
       "<table border=\"1\" class=\"dataframe\">\n",
       "  <thead>\n",
       "    <tr style=\"text-align: right;\">\n",
       "      <th></th>\n",
       "      <th>key</th>\n",
       "      <th>bulk_1</th>\n",
       "      <th>bulk_2</th>\n",
       "      <th>bulk_3</th>\n",
       "      <th>bulk_4</th>\n",
       "      <th>bulk_5</th>\n",
       "      <th>bulk_6</th>\n",
       "      <th>bulk_7</th>\n",
       "      <th>bulk_8</th>\n",
       "      <th>bulk_9</th>\n",
       "      <th>bulk_10</th>\n",
       "      <th>bulk_11</th>\n",
       "      <th>bulk_12</th>\n",
       "      <th>bulk_13</th>\n",
       "      <th>bulk_14</th>\n",
       "      <th>bulk_15</th>\n",
       "    </tr>\n",
       "  </thead>\n",
       "  <tbody>\n",
       "    <tr>\n",
       "      <th>0</th>\n",
       "      <td>1</td>\n",
       "      <td>0</td>\n",
       "      <td>0</td>\n",
       "      <td>0</td>\n",
       "      <td>2019-05-03 11:28:48</td>\n",
       "      <td>0</td>\n",
       "      <td>0</td>\n",
       "      <td>0</td>\n",
       "      <td>0</td>\n",
       "      <td>0</td>\n",
       "      <td>0</td>\n",
       "      <td>0</td>\n",
       "      <td>2019-05-03 11:24:31</td>\n",
       "      <td>0</td>\n",
       "      <td>2019-05-03 11:14:50</td>\n",
       "      <td>2019-05-03 11:10:43</td>\n",
       "    </tr>\n",
       "    <tr>\n",
       "      <th>1</th>\n",
       "      <td>2</td>\n",
       "      <td>0</td>\n",
       "      <td>0</td>\n",
       "      <td>0</td>\n",
       "      <td>2019-05-03 11:36:50</td>\n",
       "      <td>0</td>\n",
       "      <td>0</td>\n",
       "      <td>0</td>\n",
       "      <td>0</td>\n",
       "      <td>0</td>\n",
       "      <td>0</td>\n",
       "      <td>0</td>\n",
       "      <td>2019-05-03 11:53:30</td>\n",
       "      <td>0</td>\n",
       "      <td>2019-05-03 11:48:37</td>\n",
       "      <td>2019-05-03 11:44:39</td>\n",
       "    </tr>\n",
       "    <tr>\n",
       "      <th>2</th>\n",
       "      <td>3</td>\n",
       "      <td>0</td>\n",
       "      <td>0</td>\n",
       "      <td>0</td>\n",
       "      <td>2019-05-03 12:32:39</td>\n",
       "      <td>0</td>\n",
       "      <td>0</td>\n",
       "      <td>0</td>\n",
       "      <td>0</td>\n",
       "      <td>0</td>\n",
       "      <td>0</td>\n",
       "      <td>0</td>\n",
       "      <td>2019-05-03 12:27:13</td>\n",
       "      <td>0</td>\n",
       "      <td>2019-05-03 12:21:01</td>\n",
       "      <td>2019-05-03 12:16:16</td>\n",
       "    </tr>\n",
       "    <tr>\n",
       "      <th>3</th>\n",
       "      <td>4</td>\n",
       "      <td>0</td>\n",
       "      <td>0</td>\n",
       "      <td>0</td>\n",
       "      <td>2019-05-03 12:43:22</td>\n",
       "      <td>0</td>\n",
       "      <td>0</td>\n",
       "      <td>0</td>\n",
       "      <td>0</td>\n",
       "      <td>0</td>\n",
       "      <td>0</td>\n",
       "      <td>0</td>\n",
       "      <td>2019-05-03 12:58:00</td>\n",
       "      <td>0</td>\n",
       "      <td>2019-05-03 12:51:11</td>\n",
       "      <td>2019-05-03 12:46:36</td>\n",
       "    </tr>\n",
       "    <tr>\n",
       "      <th>4</th>\n",
       "      <td>5</td>\n",
       "      <td>0</td>\n",
       "      <td>0</td>\n",
       "      <td>0</td>\n",
       "      <td>2019-05-03 13:30:47</td>\n",
       "      <td>0</td>\n",
       "      <td>0</td>\n",
       "      <td>0</td>\n",
       "      <td>0</td>\n",
       "      <td>0</td>\n",
       "      <td>0</td>\n",
       "      <td>0</td>\n",
       "      <td>2019-05-03 13:30:47</td>\n",
       "      <td>0</td>\n",
       "      <td>2019-05-03 13:34:12</td>\n",
       "      <td>2019-05-03 13:30:47</td>\n",
       "    </tr>\n",
       "  </tbody>\n",
       "</table>\n",
       "</div>"
      ],
      "text/plain": [
       "   key bulk_1 bulk_2 bulk_3               bulk_4 bulk_5 bulk_6 bulk_7 bulk_8  \\\n",
       "0    1      0      0      0  2019-05-03 11:28:48      0      0      0      0   \n",
       "1    2      0      0      0  2019-05-03 11:36:50      0      0      0      0   \n",
       "2    3      0      0      0  2019-05-03 12:32:39      0      0      0      0   \n",
       "3    4      0      0      0  2019-05-03 12:43:22      0      0      0      0   \n",
       "4    5      0      0      0  2019-05-03 13:30:47      0      0      0      0   \n",
       "\n",
       "  bulk_9 bulk_10 bulk_11              bulk_12 bulk_13              bulk_14  \\\n",
       "0      0       0       0  2019-05-03 11:24:31       0  2019-05-03 11:14:50   \n",
       "1      0       0       0  2019-05-03 11:53:30       0  2019-05-03 11:48:37   \n",
       "2      0       0       0  2019-05-03 12:27:13       0  2019-05-03 12:21:01   \n",
       "3      0       0       0  2019-05-03 12:58:00       0  2019-05-03 12:51:11   \n",
       "4      0       0       0  2019-05-03 13:30:47       0  2019-05-03 13:34:12   \n",
       "\n",
       "               bulk_15  \n",
       "0  2019-05-03 11:10:43  \n",
       "1  2019-05-03 11:44:39  \n",
       "2  2019-05-03 12:16:16  \n",
       "3  2019-05-03 12:46:36  \n",
       "4  2019-05-03 13:30:47  "
      ]
     },
     "execution_count": 30,
     "metadata": {},
     "output_type": "execute_result"
    }
   ],
   "source": [
    "bulk_time_df.head()"
   ]
  },
  {
   "cell_type": "code",
   "execution_count": 31,
   "id": "5e1b7790",
   "metadata": {
    "id": "5e1b7790",
    "outputId": "463e60ff-0059-41ab-a2be-6a8479f6a828",
    "scrolled": false
   },
   "outputs": [
    {
     "name": "stdout",
     "output_type": "stream",
     "text": [
      "<class 'pandas.core.frame.DataFrame'>\n",
      "RangeIndex: 3129 entries, 0 to 3128\n",
      "Data columns (total 16 columns):\n",
      " #   Column   Non-Null Count  Dtype  \n",
      "---  ------   --------------  -----  \n",
      " 0   key      3129 non-null   int64  \n",
      " 1   bulk_1   3129 non-null   float64\n",
      " 2   bulk_2   3129 non-null   float64\n",
      " 3   bulk_3   3129 non-null   float64\n",
      " 4   bulk_4   3129 non-null   float64\n",
      " 5   bulk_5   3129 non-null   float64\n",
      " 6   bulk_6   3129 non-null   float64\n",
      " 7   bulk_7   3129 non-null   float64\n",
      " 8   bulk_8   3129 non-null   float64\n",
      " 9   bulk_9   3129 non-null   float64\n",
      " 10  bulk_10  3129 non-null   float64\n",
      " 11  bulk_11  3129 non-null   float64\n",
      " 12  bulk_12  3129 non-null   float64\n",
      " 13  bulk_13  3129 non-null   float64\n",
      " 14  bulk_14  3129 non-null   float64\n",
      " 15  bulk_15  3129 non-null   float64\n",
      "dtypes: float64(15), int64(1)\n",
      "memory usage: 391.3 KB\n"
     ]
    }
   ],
   "source": [
    "bulk_df.info()"
   ]
  },
  {
   "cell_type": "code",
   "execution_count": 32,
   "id": "437ebfb1",
   "metadata": {
    "id": "437ebfb1",
    "outputId": "aa26af04-d140-41be-8f82-019197212f9f",
    "scrolled": false
   },
   "outputs": [
    {
     "name": "stdout",
     "output_type": "stream",
     "text": [
      "<class 'pandas.core.frame.DataFrame'>\n",
      "RangeIndex: 3129 entries, 0 to 3128\n",
      "Data columns (total 16 columns):\n",
      " #   Column   Non-Null Count  Dtype \n",
      "---  ------   --------------  ----- \n",
      " 0   key      3129 non-null   int64 \n",
      " 1   bulk_1   3129 non-null   object\n",
      " 2   bulk_2   3129 non-null   object\n",
      " 3   bulk_3   3129 non-null   object\n",
      " 4   bulk_4   3129 non-null   object\n",
      " 5   bulk_5   3129 non-null   object\n",
      " 6   bulk_6   3129 non-null   object\n",
      " 7   bulk_7   3129 non-null   object\n",
      " 8   bulk_8   3129 non-null   object\n",
      " 9   bulk_9   3129 non-null   object\n",
      " 10  bulk_10  3129 non-null   object\n",
      " 11  bulk_11  3129 non-null   object\n",
      " 12  bulk_12  3129 non-null   object\n",
      " 13  bulk_13  3129 non-null   object\n",
      " 14  bulk_14  3129 non-null   object\n",
      " 15  bulk_15  3129 non-null   object\n",
      "dtypes: int64(1), object(15)\n",
      "memory usage: 391.3+ KB\n"
     ]
    }
   ],
   "source": [
    "bulk_time_df.info()"
   ]
  },
  {
   "cell_type": "markdown",
   "id": "f96758c4",
   "metadata": {
    "id": "f96758c4"
   },
   "source": [
    "### 3.3 Продувка сплава газом\n",
    "Создадим копию старого датафрейма."
   ]
  },
  {
   "cell_type": "code",
   "execution_count": 33,
   "id": "b4e7789f",
   "metadata": {
    "id": "b4e7789f"
   },
   "outputs": [],
   "source": [
    "gas_prev_df = gas_df.copy()"
   ]
  },
  {
   "cell_type": "markdown",
   "id": "3e8971e4",
   "metadata": {
    "id": "3e8971e4"
   },
   "source": [
    "Изменим язык и регистр названий столбцов."
   ]
  },
  {
   "cell_type": "code",
   "execution_count": 34,
   "id": "b2d37471",
   "metadata": {
    "id": "b2d37471",
    "outputId": "1585922a-ebae-4435-ca35-480792cb0d90",
    "scrolled": true
   },
   "outputs": [
    {
     "data": {
      "text/plain": [
       "Index(['key', 'Газ 1'], dtype='object')"
      ]
     },
     "execution_count": 34,
     "metadata": {},
     "output_type": "execute_result"
    }
   ],
   "source": [
    "gas_df.columns"
   ]
  },
  {
   "cell_type": "code",
   "execution_count": 35,
   "id": "1b35e322",
   "metadata": {
    "id": "1b35e322"
   },
   "outputs": [],
   "source": [
    "gas_df = gas_df.rename(columns={'Газ 1': 'gas_1'})"
   ]
  },
  {
   "cell_type": "markdown",
   "id": "babb1309",
   "metadata": {
    "id": "babb1309"
   },
   "source": [
    "Проверим изменения."
   ]
  },
  {
   "cell_type": "code",
   "execution_count": 36,
   "id": "87e80314",
   "metadata": {
    "id": "87e80314",
    "outputId": "5540f71e-d0ad-4ebb-8413-a51810daf6c8"
   },
   "outputs": [
    {
     "data": {
      "text/html": [
       "<div>\n",
       "<style scoped>\n",
       "    .dataframe tbody tr th:only-of-type {\n",
       "        vertical-align: middle;\n",
       "    }\n",
       "\n",
       "    .dataframe tbody tr th {\n",
       "        vertical-align: top;\n",
       "    }\n",
       "\n",
       "    .dataframe thead th {\n",
       "        text-align: right;\n",
       "    }\n",
       "</style>\n",
       "<table border=\"1\" class=\"dataframe\">\n",
       "  <thead>\n",
       "    <tr style=\"text-align: right;\">\n",
       "      <th></th>\n",
       "      <th>key</th>\n",
       "      <th>gas_1</th>\n",
       "    </tr>\n",
       "  </thead>\n",
       "  <tbody>\n",
       "    <tr>\n",
       "      <th>0</th>\n",
       "      <td>1</td>\n",
       "      <td>29.749986</td>\n",
       "    </tr>\n",
       "    <tr>\n",
       "      <th>1</th>\n",
       "      <td>2</td>\n",
       "      <td>12.555561</td>\n",
       "    </tr>\n",
       "    <tr>\n",
       "      <th>2</th>\n",
       "      <td>3</td>\n",
       "      <td>28.554793</td>\n",
       "    </tr>\n",
       "    <tr>\n",
       "      <th>3</th>\n",
       "      <td>4</td>\n",
       "      <td>18.841219</td>\n",
       "    </tr>\n",
       "    <tr>\n",
       "      <th>4</th>\n",
       "      <td>5</td>\n",
       "      <td>5.413692</td>\n",
       "    </tr>\n",
       "  </tbody>\n",
       "</table>\n",
       "</div>"
      ],
      "text/plain": [
       "   key      gas_1\n",
       "0    1  29.749986\n",
       "1    2  12.555561\n",
       "2    3  28.554793\n",
       "3    4  18.841219\n",
       "4    5   5.413692"
      ]
     },
     "execution_count": 36,
     "metadata": {},
     "output_type": "execute_result"
    }
   ],
   "source": [
    "gas_df.head()"
   ]
  },
  {
   "cell_type": "code",
   "execution_count": 37,
   "id": "af60a77a",
   "metadata": {
    "id": "af60a77a",
    "outputId": "cd5ac4ce-bcb1-4119-84ab-8e2e2707fbd9",
    "scrolled": false
   },
   "outputs": [
    {
     "name": "stdout",
     "output_type": "stream",
     "text": [
      "<class 'pandas.core.frame.DataFrame'>\n",
      "RangeIndex: 3239 entries, 0 to 3238\n",
      "Data columns (total 2 columns):\n",
      " #   Column  Non-Null Count  Dtype  \n",
      "---  ------  --------------  -----  \n",
      " 0   key     3239 non-null   int64  \n",
      " 1   gas_1   3239 non-null   float64\n",
      "dtypes: float64(1), int64(1)\n",
      "memory usage: 50.7 KB\n"
     ]
    }
   ],
   "source": [
    "gas_df.info()"
   ]
  },
  {
   "cell_type": "markdown",
   "id": "70c5034d",
   "metadata": {
    "id": "70c5034d"
   },
   "source": [
    "### 3.4 Результаты измерения температуры\n",
    "Создадим копию старого датафрейма."
   ]
  },
  {
   "cell_type": "code",
   "execution_count": 38,
   "id": "3042510f",
   "metadata": {
    "id": "3042510f"
   },
   "outputs": [],
   "source": [
    "temp_prev_df = temp_df.copy()"
   ]
  },
  {
   "cell_type": "markdown",
   "id": "726b1e55",
   "metadata": {
    "id": "726b1e55"
   },
   "source": [
    "Изменим язык и регистр названий столбцов."
   ]
  },
  {
   "cell_type": "code",
   "execution_count": 39,
   "id": "cd85ca5d",
   "metadata": {
    "id": "cd85ca5d",
    "outputId": "811f9d38-c6a0-495c-8111-8b211dfd8759",
    "scrolled": false
   },
   "outputs": [
    {
     "data": {
      "text/plain": [
       "Index(['key', 'Время замера', 'Температура'], dtype='object')"
      ]
     },
     "execution_count": 39,
     "metadata": {},
     "output_type": "execute_result"
    }
   ],
   "source": [
    "temp_df.columns"
   ]
  },
  {
   "cell_type": "code",
   "execution_count": 40,
   "id": "8f91ac93",
   "metadata": {
    "id": "8f91ac93"
   },
   "outputs": [],
   "source": [
    "temp_df = temp_df.rename(columns={\n",
    "    'Время замера': 'measurement_time', \n",
    "    'Температура': 'temperature'\n",
    "})"
   ]
  },
  {
   "cell_type": "markdown",
   "id": "6b2c07a0",
   "metadata": {
    "id": "6b2c07a0"
   },
   "source": [
    "Уберём партии с пропусками."
   ]
  },
  {
   "cell_type": "code",
   "execution_count": 41,
   "id": "b8d1aba4",
   "metadata": {
    "id": "b8d1aba4"
   },
   "outputs": [],
   "source": [
    "isna_rows = temp_df.isna().any(axis=1)\n",
    "keys_with_nan = temp_df[isna_rows]['key'].unique()\n",
    "temp_df = temp_df[~temp_df['key'].isin(keys_with_nan)]"
   ]
  },
  {
   "cell_type": "markdown",
   "id": "185abe14",
   "metadata": {
    "id": "185abe14"
   },
   "source": [
    "Удалим партии с выбросами температуры ниже 1450."
   ]
  },
  {
   "cell_type": "code",
   "execution_count": 42,
   "id": "161942ef",
   "metadata": {
    "id": "161942ef"
   },
   "outputs": [],
   "source": [
    "temp_df = temp_df[~temp_df['key'].isin(temp_df.query('temperature <= 1450')['key'].unique())]"
   ]
  },
  {
   "cell_type": "markdown",
   "id": "d8a360f9",
   "metadata": {
    "id": "d8a360f9"
   },
   "source": [
    "Уберём партии с одним замером"
   ]
  },
  {
   "cell_type": "code",
   "execution_count": 43,
   "id": "e55d8a00",
   "metadata": {
    "id": "e55d8a00"
   },
   "outputs": [],
   "source": [
    "temp_df = temp_df[temp_df.groupby('key')['key'].transform('size') != 1]"
   ]
  },
  {
   "cell_type": "markdown",
   "id": "bdf49c6c",
   "metadata": {
    "id": "bdf49c6c"
   },
   "source": [
    "Проверим изменения."
   ]
  },
  {
   "cell_type": "code",
   "execution_count": 44,
   "id": "ef4faa96",
   "metadata": {
    "id": "ef4faa96",
    "outputId": "e7e0ab16-f772-4b9a-d9ae-7689a4a51902"
   },
   "outputs": [
    {
     "data": {
      "text/html": [
       "<div>\n",
       "<style scoped>\n",
       "    .dataframe tbody tr th:only-of-type {\n",
       "        vertical-align: middle;\n",
       "    }\n",
       "\n",
       "    .dataframe tbody tr th {\n",
       "        vertical-align: top;\n",
       "    }\n",
       "\n",
       "    .dataframe thead th {\n",
       "        text-align: right;\n",
       "    }\n",
       "</style>\n",
       "<table border=\"1\" class=\"dataframe\">\n",
       "  <thead>\n",
       "    <tr style=\"text-align: right;\">\n",
       "      <th></th>\n",
       "      <th>key</th>\n",
       "      <th>measurement_time</th>\n",
       "      <th>temperature</th>\n",
       "    </tr>\n",
       "  </thead>\n",
       "  <tbody>\n",
       "    <tr>\n",
       "      <th>0</th>\n",
       "      <td>1</td>\n",
       "      <td>2019-05-03 11:02:04</td>\n",
       "      <td>1571.0</td>\n",
       "    </tr>\n",
       "    <tr>\n",
       "      <th>1</th>\n",
       "      <td>1</td>\n",
       "      <td>2019-05-03 11:07:18</td>\n",
       "      <td>1604.0</td>\n",
       "    </tr>\n",
       "    <tr>\n",
       "      <th>2</th>\n",
       "      <td>1</td>\n",
       "      <td>2019-05-03 11:11:34</td>\n",
       "      <td>1618.0</td>\n",
       "    </tr>\n",
       "    <tr>\n",
       "      <th>3</th>\n",
       "      <td>1</td>\n",
       "      <td>2019-05-03 11:18:04</td>\n",
       "      <td>1601.0</td>\n",
       "    </tr>\n",
       "    <tr>\n",
       "      <th>4</th>\n",
       "      <td>1</td>\n",
       "      <td>2019-05-03 11:25:59</td>\n",
       "      <td>1606.0</td>\n",
       "    </tr>\n",
       "  </tbody>\n",
       "</table>\n",
       "</div>"
      ],
      "text/plain": [
       "   key     measurement_time  temperature\n",
       "0    1  2019-05-03 11:02:04       1571.0\n",
       "1    1  2019-05-03 11:07:18       1604.0\n",
       "2    1  2019-05-03 11:11:34       1618.0\n",
       "3    1  2019-05-03 11:18:04       1601.0\n",
       "4    1  2019-05-03 11:25:59       1606.0"
      ]
     },
     "execution_count": 44,
     "metadata": {},
     "output_type": "execute_result"
    }
   ],
   "source": [
    "temp_df.head()"
   ]
  },
  {
   "cell_type": "code",
   "execution_count": 45,
   "id": "be9950c9",
   "metadata": {
    "id": "be9950c9",
    "outputId": "bd12333f-e63f-4ca4-c7ae-fcf46583b16a",
    "scrolled": false
   },
   "outputs": [
    {
     "name": "stdout",
     "output_type": "stream",
     "text": [
      "<class 'pandas.core.frame.DataFrame'>\n",
      "Int64Index: 13903 entries, 0 to 13925\n",
      "Data columns (total 3 columns):\n",
      " #   Column            Non-Null Count  Dtype  \n",
      "---  ------            --------------  -----  \n",
      " 0   key               13903 non-null  int64  \n",
      " 1   measurement_time  13903 non-null  object \n",
      " 2   temperature       13903 non-null  float64\n",
      "dtypes: float64(1), int64(1), object(1)\n",
      "memory usage: 434.5+ KB\n"
     ]
    }
   ],
   "source": [
    "temp_df.info()"
   ]
  },
  {
   "cell_type": "code",
   "execution_count": 46,
   "id": "38ce3db3",
   "metadata": {
    "id": "38ce3db3",
    "outputId": "130ccfd7-10f2-4da4-ef41-d81c00c55f55"
   },
   "outputs": [
    {
     "data": {
      "image/png": "[encoded data removed]",
      "text/plain": [
       "<Figure size 700x500 with 1 Axes>"
      ]
     },
     "metadata": {},
     "output_type": "display_data"
    }
   ],
   "source": [
    "boxplot(temp_df, 'temperature', 'Температура')"
   ]
  },
  {
   "cell_type": "markdown",
   "id": "2731b083",
   "metadata": {
    "id": "2731b083"
   },
   "source": [
    "Посмотрим на общий ущерб."
   ]
  },
  {
   "cell_type": "code",
   "execution_count": 47,
   "id": "7c0e0704",
   "metadata": {
    "id": "7c0e0704",
    "outputId": "55081ed4-8d0a-45ba-99d4-72dc7cc09540",
    "scrolled": true
   },
   "outputs": [
    {
     "name": "stdout",
     "output_type": "stream",
     "text": [
      "Процент удалённых значений: 23.153880168030067\n"
     ]
    }
   ],
   "source": [
    "missing_values(temp_df, temp_prev_df)"
   ]
  },
  {
   "cell_type": "markdown",
   "id": "7d03e42e",
   "metadata": {
    "id": "7d03e42e"
   },
   "source": [
    "### 3.5 Проволочные материалы\n",
    "Создадим копии старых датафреймов."
   ]
  },
  {
   "cell_type": "code",
   "execution_count": 48,
   "id": "95893fab",
   "metadata": {
    "id": "95893fab"
   },
   "outputs": [],
   "source": [
    "wire_prev_df = wire_df.copy()\n",
    "wire_time_prev_df = wire_time_df.copy()"
   ]
  },
  {
   "cell_type": "markdown",
   "id": "53682592",
   "metadata": {
    "id": "53682592"
   },
   "source": [
    "Изменим регистр названий столбцов."
   ]
  },
  {
   "cell_type": "code",
   "execution_count": 49,
   "id": "c2d327bf",
   "metadata": {
    "id": "c2d327bf"
   },
   "outputs": [],
   "source": [
    "wire_df.columns = change_case(wire_df)\n",
    "wire_time_df.columns = wire_df.columns"
   ]
  },
  {
   "cell_type": "markdown",
   "id": "ba041c48",
   "metadata": {
    "id": "ba041c48"
   },
   "source": [
    "Так как пропусков много, заменим их нулями."
   ]
  },
  {
   "cell_type": "code",
   "execution_count": 50,
   "id": "1693cd1e",
   "metadata": {
    "id": "1693cd1e"
   },
   "outputs": [],
   "source": [
    "wire_df = wire_df.fillna(0)\n",
    "wire_time_df = wire_time_df.fillna(0)"
   ]
  },
  {
   "cell_type": "markdown",
   "id": "62060bda",
   "metadata": {
    "id": "62060bda"
   },
   "source": [
    "Проверим изменения."
   ]
  },
  {
   "cell_type": "code",
   "execution_count": 51,
   "id": "4fa3b108",
   "metadata": {
    "id": "4fa3b108",
    "outputId": "5209650b-5292-4aab-e06d-4c35abfa93d5",
    "scrolled": true
   },
   "outputs": [
    {
     "data": {
      "text/html": [
       "<div>\n",
       "<style scoped>\n",
       "    .dataframe tbody tr th:only-of-type {\n",
       "        vertical-align: middle;\n",
       "    }\n",
       "\n",
       "    .dataframe tbody tr th {\n",
       "        vertical-align: top;\n",
       "    }\n",
       "\n",
       "    .dataframe thead th {\n",
       "        text-align: right;\n",
       "    }\n",
       "</style>\n",
       "<table border=\"1\" class=\"dataframe\">\n",
       "  <thead>\n",
       "    <tr style=\"text-align: right;\">\n",
       "      <th></th>\n",
       "      <th>key</th>\n",
       "      <th>wire_1</th>\n",
       "      <th>wire_2</th>\n",
       "      <th>wire_3</th>\n",
       "      <th>wire_4</th>\n",
       "      <th>wire_5</th>\n",
       "      <th>wire_6</th>\n",
       "      <th>wire_7</th>\n",
       "      <th>wire_8</th>\n",
       "      <th>wire_9</th>\n",
       "    </tr>\n",
       "  </thead>\n",
       "  <tbody>\n",
       "    <tr>\n",
       "      <th>0</th>\n",
       "      <td>1</td>\n",
       "      <td>60.059998</td>\n",
       "      <td>0.00000</td>\n",
       "      <td>0.0</td>\n",
       "      <td>0.0</td>\n",
       "      <td>0.0</td>\n",
       "      <td>0.0</td>\n",
       "      <td>0.0</td>\n",
       "      <td>0.0</td>\n",
       "      <td>0.0</td>\n",
       "    </tr>\n",
       "    <tr>\n",
       "      <th>1</th>\n",
       "      <td>2</td>\n",
       "      <td>96.052315</td>\n",
       "      <td>0.00000</td>\n",
       "      <td>0.0</td>\n",
       "      <td>0.0</td>\n",
       "      <td>0.0</td>\n",
       "      <td>0.0</td>\n",
       "      <td>0.0</td>\n",
       "      <td>0.0</td>\n",
       "      <td>0.0</td>\n",
       "    </tr>\n",
       "    <tr>\n",
       "      <th>2</th>\n",
       "      <td>3</td>\n",
       "      <td>91.160157</td>\n",
       "      <td>0.00000</td>\n",
       "      <td>0.0</td>\n",
       "      <td>0.0</td>\n",
       "      <td>0.0</td>\n",
       "      <td>0.0</td>\n",
       "      <td>0.0</td>\n",
       "      <td>0.0</td>\n",
       "      <td>0.0</td>\n",
       "    </tr>\n",
       "    <tr>\n",
       "      <th>3</th>\n",
       "      <td>4</td>\n",
       "      <td>89.063515</td>\n",
       "      <td>0.00000</td>\n",
       "      <td>0.0</td>\n",
       "      <td>0.0</td>\n",
       "      <td>0.0</td>\n",
       "      <td>0.0</td>\n",
       "      <td>0.0</td>\n",
       "      <td>0.0</td>\n",
       "      <td>0.0</td>\n",
       "    </tr>\n",
       "    <tr>\n",
       "      <th>4</th>\n",
       "      <td>5</td>\n",
       "      <td>89.238236</td>\n",
       "      <td>9.11456</td>\n",
       "      <td>0.0</td>\n",
       "      <td>0.0</td>\n",
       "      <td>0.0</td>\n",
       "      <td>0.0</td>\n",
       "      <td>0.0</td>\n",
       "      <td>0.0</td>\n",
       "      <td>0.0</td>\n",
       "    </tr>\n",
       "  </tbody>\n",
       "</table>\n",
       "</div>"
      ],
      "text/plain": [
       "   key     wire_1   wire_2  wire_3  wire_4  wire_5  wire_6  wire_7  wire_8  \\\n",
       "0    1  60.059998  0.00000     0.0     0.0     0.0     0.0     0.0     0.0   \n",
       "1    2  96.052315  0.00000     0.0     0.0     0.0     0.0     0.0     0.0   \n",
       "2    3  91.160157  0.00000     0.0     0.0     0.0     0.0     0.0     0.0   \n",
       "3    4  89.063515  0.00000     0.0     0.0     0.0     0.0     0.0     0.0   \n",
       "4    5  89.238236  9.11456     0.0     0.0     0.0     0.0     0.0     0.0   \n",
       "\n",
       "   wire_9  \n",
       "0     0.0  \n",
       "1     0.0  \n",
       "2     0.0  \n",
       "3     0.0  \n",
       "4     0.0  "
      ]
     },
     "execution_count": 51,
     "metadata": {},
     "output_type": "execute_result"
    }
   ],
   "source": [
    "wire_df.head()"
   ]
  },
  {
   "cell_type": "code",
   "execution_count": 52,
   "id": "55603a45",
   "metadata": {
    "id": "55603a45",
    "outputId": "6fcfb703-dd08-4ece-fe17-c9d6af2a6be6"
   },
   "outputs": [
    {
     "data": {
      "text/html": [
       "<div>\n",
       "<style scoped>\n",
       "    .dataframe tbody tr th:only-of-type {\n",
       "        vertical-align: middle;\n",
       "    }\n",
       "\n",
       "    .dataframe tbody tr th {\n",
       "        vertical-align: top;\n",
       "    }\n",
       "\n",
       "    .dataframe thead th {\n",
       "        text-align: right;\n",
       "    }\n",
       "</style>\n",
       "<table border=\"1\" class=\"dataframe\">\n",
       "  <thead>\n",
       "    <tr style=\"text-align: right;\">\n",
       "      <th></th>\n",
       "      <th>key</th>\n",
       "      <th>wire_1</th>\n",
       "      <th>wire_2</th>\n",
       "      <th>wire_3</th>\n",
       "      <th>wire_4</th>\n",
       "      <th>wire_5</th>\n",
       "      <th>wire_6</th>\n",
       "      <th>wire_7</th>\n",
       "      <th>wire_8</th>\n",
       "      <th>wire_9</th>\n",
       "    </tr>\n",
       "  </thead>\n",
       "  <tbody>\n",
       "    <tr>\n",
       "      <th>0</th>\n",
       "      <td>1</td>\n",
       "      <td>2019-05-03 11:06:19</td>\n",
       "      <td>0</td>\n",
       "      <td>0</td>\n",
       "      <td>0</td>\n",
       "      <td>0</td>\n",
       "      <td>0</td>\n",
       "      <td>0</td>\n",
       "      <td>0</td>\n",
       "      <td>0</td>\n",
       "    </tr>\n",
       "    <tr>\n",
       "      <th>1</th>\n",
       "      <td>2</td>\n",
       "      <td>2019-05-03 11:36:50</td>\n",
       "      <td>0</td>\n",
       "      <td>0</td>\n",
       "      <td>0</td>\n",
       "      <td>0</td>\n",
       "      <td>0</td>\n",
       "      <td>0</td>\n",
       "      <td>0</td>\n",
       "      <td>0</td>\n",
       "    </tr>\n",
       "    <tr>\n",
       "      <th>2</th>\n",
       "      <td>3</td>\n",
       "      <td>2019-05-03 12:11:46</td>\n",
       "      <td>0</td>\n",
       "      <td>0</td>\n",
       "      <td>0</td>\n",
       "      <td>0</td>\n",
       "      <td>0</td>\n",
       "      <td>0</td>\n",
       "      <td>0</td>\n",
       "      <td>0</td>\n",
       "    </tr>\n",
       "    <tr>\n",
       "      <th>3</th>\n",
       "      <td>4</td>\n",
       "      <td>2019-05-03 12:43:22</td>\n",
       "      <td>0</td>\n",
       "      <td>0</td>\n",
       "      <td>0</td>\n",
       "      <td>0</td>\n",
       "      <td>0</td>\n",
       "      <td>0</td>\n",
       "      <td>0</td>\n",
       "      <td>0</td>\n",
       "    </tr>\n",
       "    <tr>\n",
       "      <th>4</th>\n",
       "      <td>5</td>\n",
       "      <td>2019-05-03 13:20:44</td>\n",
       "      <td>2019-05-03 13:15:34</td>\n",
       "      <td>0</td>\n",
       "      <td>0</td>\n",
       "      <td>0</td>\n",
       "      <td>0</td>\n",
       "      <td>0</td>\n",
       "      <td>0</td>\n",
       "      <td>0</td>\n",
       "    </tr>\n",
       "  </tbody>\n",
       "</table>\n",
       "</div>"
      ],
      "text/plain": [
       "   key               wire_1               wire_2 wire_3 wire_4 wire_5 wire_6  \\\n",
       "0    1  2019-05-03 11:06:19                    0      0      0      0      0   \n",
       "1    2  2019-05-03 11:36:50                    0      0      0      0      0   \n",
       "2    3  2019-05-03 12:11:46                    0      0      0      0      0   \n",
       "3    4  2019-05-03 12:43:22                    0      0      0      0      0   \n",
       "4    5  2019-05-03 13:20:44  2019-05-03 13:15:34      0      0      0      0   \n",
       "\n",
       "  wire_7 wire_8 wire_9  \n",
       "0      0      0      0  \n",
       "1      0      0      0  \n",
       "2      0      0      0  \n",
       "3      0      0      0  \n",
       "4      0      0      0  "
      ]
     },
     "execution_count": 52,
     "metadata": {},
     "output_type": "execute_result"
    }
   ],
   "source": [
    "wire_time_df.head()"
   ]
  },
  {
   "cell_type": "code",
   "execution_count": 53,
   "id": "d96cec38",
   "metadata": {
    "id": "d96cec38",
    "outputId": "a568a3da-90b7-4ae3-daa6-6d807b0e5a31",
    "scrolled": false
   },
   "outputs": [
    {
     "name": "stdout",
     "output_type": "stream",
     "text": [
      "<class 'pandas.core.frame.DataFrame'>\n",
      "RangeIndex: 3081 entries, 0 to 3080\n",
      "Data columns (total 10 columns):\n",
      " #   Column  Non-Null Count  Dtype  \n",
      "---  ------  --------------  -----  \n",
      " 0   key     3081 non-null   int64  \n",
      " 1   wire_1  3081 non-null   float64\n",
      " 2   wire_2  3081 non-null   float64\n",
      " 3   wire_3  3081 non-null   float64\n",
      " 4   wire_4  3081 non-null   float64\n",
      " 5   wire_5  3081 non-null   float64\n",
      " 6   wire_6  3081 non-null   float64\n",
      " 7   wire_7  3081 non-null   float64\n",
      " 8   wire_8  3081 non-null   float64\n",
      " 9   wire_9  3081 non-null   float64\n",
      "dtypes: float64(9), int64(1)\n",
      "memory usage: 240.8 KB\n"
     ]
    }
   ],
   "source": [
    "wire_df.info()"
   ]
  },
  {
   "cell_type": "code",
   "execution_count": 54,
   "id": "0b7a8085",
   "metadata": {
    "id": "0b7a8085",
    "outputId": "55c0bf81-96d1-4369-988a-ea8af88be67a",
    "scrolled": false
   },
   "outputs": [
    {
     "name": "stdout",
     "output_type": "stream",
     "text": [
      "<class 'pandas.core.frame.DataFrame'>\n",
      "RangeIndex: 3081 entries, 0 to 3080\n",
      "Data columns (total 10 columns):\n",
      " #   Column  Non-Null Count  Dtype \n",
      "---  ------  --------------  ----- \n",
      " 0   key     3081 non-null   int64 \n",
      " 1   wire_1  3081 non-null   object\n",
      " 2   wire_2  3081 non-null   object\n",
      " 3   wire_3  3081 non-null   object\n",
      " 4   wire_4  3081 non-null   object\n",
      " 5   wire_5  3081 non-null   object\n",
      " 6   wire_6  3081 non-null   object\n",
      " 7   wire_7  3081 non-null   object\n",
      " 8   wire_8  3081 non-null   object\n",
      " 9   wire_9  3081 non-null   object\n",
      "dtypes: int64(1), object(9)\n",
      "memory usage: 240.8+ KB\n"
     ]
    }
   ],
   "source": [
    "wire_time_df.info()"
   ]
  },
  {
   "cell_type": "markdown",
   "id": "eaaa9c35",
   "metadata": {
    "id": "eaaa9c35"
   },
   "source": [
    "### 3.6 Объединение признаков\n",
    "Чтобы рассчитать суммарную затраченную энергию, рассчитаем полную мощность по формуле:\n",
    "\n",
    "$\\sqrt (P^2+Q^2)$, где\n",
    "\n",
    "P - активная мощность,\n",
    "\n",
    "Q - реактивная мощность."
   ]
  },
  {
   "cell_type": "code",
   "execution_count": 55,
   "id": "8cae17c1",
   "metadata": {
    "id": "8cae17c1"
   },
   "outputs": [],
   "source": [
    "arc_df['full_power'] = (arc_df['active_power'] ** 2 + arc_df['reactive_power'] ** 2) ** 0.5"
   ]
  },
  {
   "cell_type": "markdown",
   "id": "5bc9ae0b",
   "metadata": {
    "id": "5bc9ae0b"
   },
   "source": [
    "Просуммируем полную мощность по каждой итерации и добавим такой столбец в пустой датафрейм."
   ]
  },
  {
   "cell_type": "code",
   "execution_count": 56,
   "id": "15e2a70a",
   "metadata": {
    "id": "15e2a70a"
   },
   "outputs": [],
   "source": [
    "df = pd.DataFrame()\n",
    "df['full_power'] = arc_df.groupby('key')['full_power'].sum()"
   ]
  },
  {
   "cell_type": "markdown",
   "id": "c9c5d31b",
   "metadata": {
    "id": "c9c5d31b"
   },
   "source": [
    "Получим первую и последнюю температуру по каждой партии и соединим с датафреймом."
   ]
  },
  {
   "cell_type": "code",
   "execution_count": 57,
   "id": "95207f8b",
   "metadata": {
    "id": "95207f8b"
   },
   "outputs": [],
   "source": [
    "temp_df['measurement_time'] = pd.to_datetime(temp_df['measurement_time'])\n",
    "temp_df = temp_df.sort_values('measurement_time')\n",
    "df = df.join(temp_df.groupby('key').agg(['first', 'last'])['temperature'], how='inner')\n",
    "df.rename(columns={'first':'first_temp', 'last':'last_temp'}, inplace=True)"
   ]
  },
  {
   "cell_type": "markdown",
   "id": "9f67d1e9",
   "metadata": {
    "id": "9f67d1e9"
   },
   "source": [
    "Добавим в датафрейм остальные данные."
   ]
  },
  {
   "cell_type": "code",
   "execution_count": 58,
   "id": "0e38f422",
   "metadata": {
    "id": "0e38f422"
   },
   "outputs": [],
   "source": [
    "df = pd.merge(df, bulk_df, on='key', how='inner')\\\n",
    "       .merge(gas_df, on='key', how='inner')\\\n",
    "       .merge(wire_df, on='key', how='inner')"
   ]
  },
  {
   "cell_type": "markdown",
   "id": "ac88770a",
   "metadata": {
    "id": "ac88770a"
   },
   "source": [
    "Удалим столбец `key`, он не понадобится для модели."
   ]
  },
  {
   "cell_type": "code",
   "execution_count": 59,
   "id": "4bd3c3f0",
   "metadata": {
    "id": "4bd3c3f0"
   },
   "outputs": [],
   "source": [
    "df = df.drop('key', axis=1)"
   ]
  },
  {
   "cell_type": "markdown",
   "id": "030a4a7b",
   "metadata": {
    "id": "030a4a7b"
   },
   "source": [
    "<div style=\"border:solid steelblue 5px; padding: 30px\">\n",
    "   <p>\n",
    "        <b>Результаты подготовки данных:</b>\n",
    "        <ol>\n",
    "        <li>Столбцы переименованы;</li>\n",
    "        <li>Пропуски обработаны;</li>\n",
    "        <li>Аномалии устранены;</li>\n",
    "        <li>Признаки объединены.</li>\n",
    "        </ol>\n",
    "    <b>Процент удалённых значений в данных </b>\n",
    "    <li>об электродах: 0.027%.</li>\n",
    "    <li>c результатами измерения температуры: 23.15%.</li>\n",
    "   </p>  \n",
    "</div>"
   ]
  },
  {
   "cell_type": "markdown",
   "id": "073b1184",
   "metadata": {
    "id": "073b1184"
   },
   "source": [
    "## 4 Работа с итоговыми данными\n",
    "### 4.1 Исследовательский анализ\n",
    "Проведём EDA анализ."
   ]
  },
  {
   "cell_type": "code",
   "execution_count": 97,
   "id": "c7a7e8e8",
   "metadata": {
    "id": "c7a7e8e8",
    "outputId": "a7e86c32-8b79-4e1f-979d-ab2f710d1af9"
   },
   "outputs": [],
   "source": [
    "ydata_profiling.ProfileReport(df, progress_bar=False).to_file('df.html')"
   ]
  },
  {
   "cell_type": "markdown",
   "id": "6e2d3753",
   "metadata": {
    "id": "6e2d3753"
   },
   "source": [
    "[Посмотреть анализ.](https://www.dropbox.com/s/ebepb0emahe2une/df.html?dl=0)\n",
    "\n",
    "- **В основном у столбцов низкая корреляция.**\n",
    "- **Высокая корреляция у столбцов wire_8 и bulk_9, будем использовать модели, устойчивые к мультиколлинеарности.**"
   ]
  },
  {
   "cell_type": "markdown",
   "id": "eb9e522d",
   "metadata": {
    "id": "eb9e522d"
   },
   "source": [
    "### 4.2 Разбивка\n",
    "Разобьём данные на признаки (`x`) и целевой признак (`y`)."
   ]
  },
  {
   "cell_type": "code",
   "execution_count": 61,
   "id": "d3d8acd5",
   "metadata": {
    "id": "d3d8acd5"
   },
   "outputs": [],
   "source": [
    "x = df.drop('last_temp', axis=1)\n",
    "y = df['last_temp']"
   ]
  },
  {
   "cell_type": "markdown",
   "id": "2d4af137",
   "metadata": {
    "id": "2d4af137"
   },
   "source": [
    "Разобьём данные на обучающую и тестовую выборки."
   ]
  },
  {
   "cell_type": "code",
   "execution_count": 62,
   "id": "fea8f676",
   "metadata": {
    "id": "fea8f676"
   },
   "outputs": [],
   "source": [
    "RANDOM_STATE = 220523\n",
    "\n",
    "x_train, x_test, y_train, y_test = train_test_split(x, y, test_size=0.25, random_state=RANDOM_STATE)"
   ]
  },
  {
   "cell_type": "markdown",
   "id": "7c686393",
   "metadata": {
    "id": "7c686393"
   },
   "source": [
    "Проверим размеры выборок."
   ]
  },
  {
   "cell_type": "code",
   "execution_count": 63,
   "id": "dadc362f",
   "metadata": {
    "id": "dadc362f"
   },
   "outputs": [
    {
     "name": "stdout",
     "output_type": "stream",
     "text": [
      "Размер обучающей выборки: (1743, 27)\n",
      "Размер тестовой выборки: (581, 27)\n"
     ]
    }
   ],
   "source": [
    "print('Размер обучающей выборки:', x_train.shape)\n",
    "print('Размер тестовой выборки:', x_test.shape)"
   ]
  },
  {
   "cell_type": "markdown",
   "id": "72b81b85",
   "metadata": {
    "id": "72b81b85"
   },
   "source": [
    "### 4.3 Масштабирование\n",
    "Так как в данных присутствуют выбросы, используем устойчивый к выбросам `RobustScaler`."
   ]
  },
  {
   "cell_type": "code",
   "execution_count": 64,
   "id": "ffc40996",
   "metadata": {
    "id": "ffc40996"
   },
   "outputs": [],
   "source": [
    "pd.options.mode.chained_assignment = None\n",
    "\n",
    "scaler = RobustScaler()\n",
    "scaler.fit(x_train)\n",
    "x_train = scaler.transform(x_train)\n",
    "x_test = scaler.transform(x_test)"
   ]
  },
  {
   "cell_type": "markdown",
   "id": "eb5aa3c7",
   "metadata": {
    "id": "eb5aa3c7"
   },
   "source": [
    "<div style=\"border:solid steelblue 5px; padding: 30px\">\n",
    "   <p>\n",
    "        <b>Данные происследованы, разбиты на выборки и масштабированы.</b>\n",
    "   </p>  \n",
    "</div>"
   ]
  },
  {
   "cell_type": "markdown",
   "id": "504a6925",
   "metadata": {
    "id": "504a6925"
   },
   "source": [
    "## 5 Работа с моделями\n",
    "### 5.1 Обучение\n",
    "Обучим разные модели без параметров и выберем лучшую."
   ]
  },
  {
   "cell_type": "code",
   "execution_count": 65,
   "id": "8f814be8",
   "metadata": {
    "id": "8f814be8"
   },
   "outputs": [],
   "source": [
    "def quality(mdl, return_qual=0):\n",
    "    scores = cross_val_score(mdl, x_train, y_train, cv=5, scoring='neg_mean_absolute_error')\n",
    "    quality = -scores.mean()\n",
    "    print('Качество:', quality)\n",
    "    \n",
    "    if return_qual == 1:\n",
    "        return quality"
   ]
  },
  {
   "cell_type": "code",
   "execution_count": 68,
   "id": "d018b707",
   "metadata": {
    "id": "d018b707"
   },
   "outputs": [
    {
     "name": "stdout",
     "output_type": "stream",
     "text": [
      "Качество: 9.906848796232257\n",
      "CPU times: total: 93.8 ms\n",
      "Wall time: 104 ms\n"
     ]
    }
   ],
   "source": [
    "%%time\n",
    "quality(DecisionTreeRegressor(random_state=RANDOM_STATE))"
   ]
  },
  {
   "cell_type": "code",
   "execution_count": 69,
   "id": "73f2cf77",
   "metadata": {
    "id": "73f2cf77",
    "scrolled": true
   },
   "outputs": [
    {
     "name": "stdout",
     "output_type": "stream",
     "text": [
      "Качество: 7.039622698679312\n",
      "CPU times: total: 10.2 s\n",
      "Wall time: 10.7 s\n"
     ]
    }
   ],
   "source": [
    "%%time\n",
    "quality(RandomForestRegressor(random_state=RANDOM_STATE))"
   ]
  },
  {
   "cell_type": "code",
   "execution_count": 70,
   "id": "04ca72dd",
   "metadata": {
    "id": "04ca72dd"
   },
   "outputs": [
    {
     "name": "stdout",
     "output_type": "stream",
     "text": [
      "Качество: 7.738213545293805\n",
      "CPU times: total: 1.14 s\n",
      "Wall time: 1.15 s\n"
     ]
    }
   ],
   "source": [
    "%%time\n",
    "quality(SVR())"
   ]
  },
  {
   "cell_type": "code",
   "execution_count": 71,
   "id": "1f674c50",
   "metadata": {
    "id": "1f674c50"
   },
   "outputs": [
    {
     "name": "stdout",
     "output_type": "stream",
     "text": [
      "Качество: 8.787605455488839\n",
      "CPU times: total: 1.14 s\n",
      "Wall time: 1.15 s\n"
     ]
    }
   ],
   "source": [
    "%%time\n",
    "quality(AdaBoostRegressor(random_state=RANDOM_STATE))"
   ]
  },
  {
   "cell_type": "code",
   "execution_count": 72,
   "id": "a314f3ba",
   "metadata": {
    "id": "a314f3ba"
   },
   "outputs": [
    {
     "name": "stdout",
     "output_type": "stream",
     "text": [
      "Качество: 6.990520079222881\n",
      "CPU times: total: 3.09 s\n",
      "Wall time: 3.12 s\n"
     ]
    }
   ],
   "source": [
    "%%time\n",
    "quality(GradientBoostingRegressor(random_state=RANDOM_STATE))"
   ]
  },
  {
   "cell_type": "markdown",
   "id": "d3f7bf09",
   "metadata": {
    "id": "d3f7bf09"
   },
   "source": [
    "**Лучшим себя показал градиентный бустинг, подберём для него гиперпараметры при помощи байесовской оптимизации.**"
   ]
  },
  {
   "cell_type": "markdown",
   "id": "a6eea584",
   "metadata": {},
   "source": [
    "### 5.2 Подбор гиперпараметров"
   ]
  },
  {
   "cell_type": "code",
   "execution_count": 73,
   "id": "706dceb3",
   "metadata": {
    "id": "706dceb3"
   },
   "outputs": [],
   "source": [
    "state = np.random.default_rng(RANDOM_STATE)\n",
    "\n",
    "def hp_slctns(model, space):\n",
    "    def func(args):\n",
    "        mdl = model.set_params(**args)\n",
    "        scores = cross_val_score(mdl, x_train, y_train, cv=5, scoring='neg_mean_absolute_error', \n",
    "                                 error_score='raise')\n",
    "        final_score = -sum(scores) / len(scores)\n",
    "        return {'loss': final_score, 'status': STATUS_OK, 'model':mdl}\n",
    "    \n",
    "    trials = Trials()\n",
    "    best = fmin(func,\n",
    "                space=space,\n",
    "                algo=tpe.suggest,\n",
    "                trials=trials,\n",
    "                max_evals=200, \n",
    "                show_progressbar=True, \n",
    "                rstate=state)\n",
    "    best_model = trials.best_trial['result']['model']\n",
    "    \n",
    "    print('Лучшие гиперпараметры:', best)\n",
    "    return best_model"
   ]
  },
  {
   "cell_type": "code",
   "execution_count": 74,
   "id": "0953d83c",
   "metadata": {
    "id": "0953d83c"
   },
   "outputs": [
    {
     "name": "stdout",
     "output_type": "stream",
     "text": [
      "100%|██████████████████████████████████████████████| 200/200 [06:57<00:00,  2.09s/trial, best loss: 6.8359530430364615]\n",
      "Лучшие гиперпараметры: {'max_depth': 3.0, 'min_samples_leaf': 2.0, 'min_samples_split': 10.0, 'n_estimators': 83.0, 'subsample': 0.7211366976093703}\n"
     ]
    }
   ],
   "source": [
    "gb_space = {\n",
    "    'n_estimators': scope.int(hp.quniform('n_estimators', 70, 100, 1)),\n",
    "    'max_depth': scope.int(hp.quniform('max_depth', 2, 5, 1)),\n",
    "    'min_samples_leaf': scope.int(hp.quniform('min_samples_leaf', 1, 10, 1)),\n",
    "    'min_samples_split': scope.int(hp.quniform('min_samples_split', 2, 10, 1)),\n",
    "    'subsample': hp.uniform('subsample', 0.5, 1),\n",
    "}\n",
    "\n",
    "best_gb = hp_slctns(model=GradientBoostingRegressor(random_state=RANDOM_STATE), space=gb_space)"
   ]
  },
  {
   "cell_type": "markdown",
   "id": "4864b046",
   "metadata": {
    "id": "4864b046"
   },
   "source": [
    "### 5.3 Сравнение с константной моделью\n",
    "Получим качество константной модели."
   ]
  },
  {
   "cell_type": "code",
   "execution_count": 66,
   "id": "6b363637",
   "metadata": {
    "id": "6b363637"
   },
   "outputs": [
    {
     "name": "stdout",
     "output_type": "stream",
     "text": [
      "Качество: 8.151518385392997\n",
      "Качество: 8.133633040213416\n"
     ]
    }
   ],
   "source": [
    "dummy_mean = quality(DummyRegressor(strategy='mean'), return_qual=1)\n",
    "dummy_median = quality(DummyRegressor(strategy='median'), return_qual=1)"
   ]
  },
  {
   "cell_type": "markdown",
   "id": "0d1f2b89",
   "metadata": {
    "id": "0d1f2b89"
   },
   "source": [
    "Сохраним результаты лучшей константной модели в пустой датафрейм."
   ]
  },
  {
   "cell_type": "code",
   "execution_count": 67,
   "id": "6765c8e8",
   "metadata": {
    "id": "6765c8e8"
   },
   "outputs": [],
   "source": [
    "results_df = pd.DataFrame(columns=['Качество', 'Время обучения', 'Скорость предсказания'])\n",
    "results_df.loc['Константная модель'] = [dummy_median, 0, 0]"
   ]
  },
  {
   "cell_type": "markdown",
   "id": "b1f9cc43",
   "metadata": {},
   "source": [
    "Добавим строку с временем обучения, скоростью предсказания и качеством градиентного бустинга в таблицу с результатами."
   ]
  },
  {
   "cell_type": "code",
   "execution_count": 75,
   "id": "4d9acb1a",
   "metadata": {
    "id": "4d9acb1a"
   },
   "outputs": [],
   "source": [
    "def save_time(model, best_model, name):\n",
    "    mdl = model.set_params(**best_model.get_params())\n",
    "    \n",
    "    start_train_timer = time.time()\n",
    "    mdl.fit(x_train, y_train)\n",
    "    stop_train_timer = time.time() - start_train_timer\n",
    "    \n",
    "    start_pred_timer = time.time()\n",
    "    score = mean_absolute_error(y_test, mdl.predict(x_test))\n",
    "    stop_pred_timer = time.time() - start_pred_timer\n",
    "    \n",
    "    results_df.loc[name] = [score, stop_train_timer, stop_pred_timer]\n",
    "    \n",
    "    return mdl"
   ]
  },
  {
   "cell_type": "code",
   "execution_count": 76,
   "id": "a89fb53d",
   "metadata": {
    "id": "a89fb53d"
   },
   "outputs": [],
   "source": [
    "mdl = save_time(GradientBoostingRegressor(), best_gb, 'Градиентный бустинг')"
   ]
  },
  {
   "cell_type": "markdown",
   "id": "e426bc14",
   "metadata": {
    "id": "e426bc14"
   },
   "source": [
    "Рассмотрим получившеюся таблицу."
   ]
  },
  {
   "cell_type": "code",
   "execution_count": 77,
   "id": "383cdf11",
   "metadata": {
    "id": "383cdf11"
   },
   "outputs": [
    {
     "data": {
      "text/html": [
       "<div>\n",
       "<style scoped>\n",
       "    .dataframe tbody tr th:only-of-type {\n",
       "        vertical-align: middle;\n",
       "    }\n",
       "\n",
       "    .dataframe tbody tr th {\n",
       "        vertical-align: top;\n",
       "    }\n",
       "\n",
       "    .dataframe thead th {\n",
       "        text-align: right;\n",
       "    }\n",
       "</style>\n",
       "<table border=\"1\" class=\"dataframe\">\n",
       "  <thead>\n",
       "    <tr style=\"text-align: right;\">\n",
       "      <th></th>\n",
       "      <th>Качество</th>\n",
       "      <th>Время обучения</th>\n",
       "      <th>Скорость предсказания</th>\n",
       "    </tr>\n",
       "  </thead>\n",
       "  <tbody>\n",
       "    <tr>\n",
       "      <th>Константная модель</th>\n",
       "      <td>8.133633</td>\n",
       "      <td>0.000000</td>\n",
       "      <td>0.000000</td>\n",
       "    </tr>\n",
       "    <tr>\n",
       "      <th>Градиентный бустинг</th>\n",
       "      <td>6.722796</td>\n",
       "      <td>0.602388</td>\n",
       "      <td>0.001995</td>\n",
       "    </tr>\n",
       "  </tbody>\n",
       "</table>\n",
       "</div>"
      ],
      "text/plain": [
       "                     Качество  Время обучения  Скорость предсказания\n",
       "Константная модель   8.133633        0.000000               0.000000\n",
       "Градиентный бустинг  6.722796        0.602388               0.001995"
      ]
     },
     "execution_count": 77,
     "metadata": {},
     "output_type": "execute_result"
    }
   ],
   "source": [
    "results_df"
   ]
  },
  {
   "cell_type": "markdown",
   "id": "aa080dc1",
   "metadata": {
    "id": "aa080dc1"
   },
   "source": [
    "**Модель превзошла костантную модель и её MAE соответствует заявленным требованиям.**"
   ]
  },
  {
   "cell_type": "markdown",
   "id": "6ac9720f",
   "metadata": {
    "id": "6ac9720f"
   },
   "source": [
    "### 5.4 Анализ важности признаков"
   ]
  },
  {
   "cell_type": "code",
   "execution_count": 78,
   "id": "1d94f104",
   "metadata": {
    "id": "1d94f104"
   },
   "outputs": [],
   "source": [
    "def feature_importances():\n",
    "    importances = mdl.feature_importances_\n",
    "    sorted_idx = importances.argsort()\n",
    "    \n",
    "    plt.figure(figsize=(15, 10))\n",
    "    plt.barh(range(x_train.shape[1]), importances[sorted_idx])\n",
    "    plt.yticks(range(x_train.shape[1]), x.columns[sorted_idx])\n",
    "    plt.xlabel('Важность признаков', fontsize=16)\n",
    "    plt.title('График важности признаков' + '\\n', fontsize=20)\n",
    "    plt.grid(True)\n",
    "    plt.show()"
   ]
  },
  {
   "cell_type": "code",
   "execution_count": 79,
   "id": "da340424",
   "metadata": {
    "scrolled": false
   },
   "outputs": [
    {
     "data": {
      "image/png": "[encoded data removed]",
      "text/plain": [
       "<Figure size 1500x1000 with 1 Axes>"
      ]
     },
     "metadata": {},
     "output_type": "display_data"
    }
   ],
   "source": [
    "feature_importances()"
   ]
  },
  {
   "cell_type": "markdown",
   "id": "8e97a3d2",
   "metadata": {
    "id": "8e97a3d2"
   },
   "source": [
    "<div style=\"border:solid steelblue 5px; padding: 30px\">\n",
    "   <p>\n",
    "        <b>Результаты работы с моделями:</b>\n",
    "        <ol>\n",
    "        <li>Разные модели обучены.</li>\n",
    "        <li>Лучшая модель найдена, сравнена с константной и проверена на тестовой выборке, её MAE соответствует заявленным требованиям.</li>\n",
    "        <li>Проведён анализ важности признаков.</li>\n",
    "        </ol>\n",
    "   </p>  \n",
    "</div>"
   ]
  },
  {
   "cell_type": "markdown",
   "id": "8fb46225",
   "metadata": {
    "id": "8fb46225"
   },
   "source": [
    "## 6 Отчёт"
   ]
  },
  {
   "cell_type": "markdown",
   "id": "d98c8159",
   "metadata": {
    "id": "d98c8159"
   },
   "source": [
    "<hr style=\"color: steelblue; background-color: steelblue; height: 4px; border: none;\">"
   ]
  },
  {
   "cell_type": "markdown",
   "id": "ca51b4da",
   "metadata": {
    "id": "ca51b4da"
   },
   "source": [
    "### Описание ключевых шагов решения\n",
    "1. При педобработке данных были переименованы столбцы, обработаны пропуски, устранены аномалии и объединены признаки.\n",
    "1. Были обучены разные модели и выбрана лучшая.\n",
    "1. Лучшая модель была сравнена с константной и протестирована на тестовой выборке.\n",
    "\n",
    "***\n",
    "\n",
    "### Признаки, которые были использованы для обучения и их предобработка\n",
    "Были использованы такие признаки:\n",
    "- `first_temp` и `last_temp` — первая и последняя температура по каждой партии. Были удалены партии с пропусками или одним замером, а также со значениями температуры до 1450.\n",
    "- `full_power` — суммарная затраченная энергия. Была посчитана по формуле с использованием активной и реактивной мощности. Были удалены партии с отрицательными значениями в столбце с реактивной мощностью.\n",
    "- `bulk_1` - `bulk_15` и `wire_1` - `wire_9` — данные о подаче сыпучих материалов и о проволочных материалах. Пропуски были заменены на 0. \n",
    "- `gas_1` —  данные о продувке сплава газом. Предобработка не потребовалась.\n",
    "\n",
    "Также, все признаки были масштабированы.\n",
    "\n",
    "***\n",
    "\n",
    "### Описание модели\n",
    "Модель — `GradientBoostingRegressor`.\n",
    "\n",
    "Гиперпараметры:\n",
    "- `random_state` = 220523\n",
    "- `max_depth` = 3\n",
    "- `min_samples_leaf` = 2\n",
    "- `min_samples_split` = 10\n",
    "- `n_estimators` = 83\n",
    "- `subsample` = 0.7211366976093703\n",
    "\n",
    "***\n",
    "\n",
    "### Итоговая метрика\n",
    "MAE 6.722796\t"
   ]
  },
  {
   "cell_type": "markdown",
   "id": "15a96012",
   "metadata": {
    "id": "15a96012"
   },
   "source": [
    "<hr style=\"color: steelblue; background-color: steelblue; height: 4px; border: none;\">"
   ]
  }
 ],
 "metadata": {
  "ExecuteTimeLog": [
   {
    "duration": 3,
    "start_time": "2023-05-24T22:01:13.296Z"
   },
   {
    "duration": 447,
    "start_time": "2023-05-24T22:01:13.305Z"
   },
   {
    "duration": 0,
    "start_time": "2023-05-24T22:01:13.754Z"
   },
   {
    "duration": 0,
    "start_time": "2023-05-24T22:01:13.754Z"
   },
   {
    "duration": 0,
    "start_time": "2023-05-24T22:01:13.755Z"
   },
   {
    "duration": 0,
    "start_time": "2023-05-24T22:01:13.757Z"
   },
   {
    "duration": 0,
    "start_time": "2023-05-24T22:01:13.759Z"
   },
   {
    "duration": 0,
    "start_time": "2023-05-24T22:01:13.761Z"
   },
   {
    "duration": 0,
    "start_time": "2023-05-24T22:01:13.762Z"
   },
   {
    "duration": 0,
    "start_time": "2023-05-24T22:01:13.763Z"
   },
   {
    "duration": 14612,
    "start_time": "2023-05-24T22:01:30.970Z"
   },
   {
    "duration": 1752,
    "start_time": "2023-05-24T22:01:45.585Z"
   },
   {
    "duration": 3,
    "start_time": "2023-05-24T22:01:47.339Z"
   },
   {
    "duration": 5482,
    "start_time": "2023-05-24T22:01:47.344Z"
   },
   {
    "duration": 34998,
    "start_time": "2023-05-24T22:01:52.828Z"
   },
   {
    "duration": 10642,
    "start_time": "2023-05-24T22:02:27.827Z"
   },
   {
    "duration": 2250,
    "start_time": "2023-05-24T22:02:38.471Z"
   },
   {
    "duration": 4965,
    "start_time": "2023-05-24T22:02:40.722Z"
   },
   {
    "duration": 14162,
    "start_time": "2023-05-24T22:02:45.688Z"
   },
   {
    "duration": 5924,
    "start_time": "2023-05-24T22:02:59.852Z"
   },
   {
    "duration": 2055,
    "start_time": "2023-05-24T22:28:39.672Z"
   },
   {
    "duration": 14205,
    "start_time": "2023-05-29T22:21:32.919Z"
   },
   {
    "duration": 3816,
    "start_time": "2023-05-29T22:21:47.127Z"
   },
   {
    "duration": 7335,
    "start_time": "2023-05-29T22:21:50.945Z"
   },
   {
    "duration": 413,
    "start_time": "2023-05-29T22:21:58.283Z"
   },
   {
    "duration": 2523,
    "start_time": "2023-05-29T22:21:58.698Z"
   },
   {
    "duration": 3,
    "start_time": "2023-05-29T22:22:01.223Z"
   },
   {
    "duration": 168,
    "start_time": "2023-05-29T22:22:01.227Z"
   },
   {
    "duration": 11,
    "start_time": "2023-05-29T22:22:01.397Z"
   },
   {
    "duration": 65,
    "start_time": "2023-05-29T22:22:01.409Z"
   },
   {
    "duration": 48,
    "start_time": "2023-05-29T22:22:01.476Z"
   },
   {
    "duration": 522,
    "start_time": "2023-05-29T22:22:01.526Z"
   },
   {
    "duration": 93,
    "start_time": "2023-05-29T22:22:02.050Z"
   },
   {
    "duration": 96,
    "start_time": "2023-05-29T22:22:02.145Z"
   },
   {
    "duration": 12,
    "start_time": "2023-05-29T22:22:02.243Z"
   },
   {
    "duration": 31,
    "start_time": "2023-05-29T22:22:02.256Z"
   },
   {
    "duration": 23,
    "start_time": "2023-05-29T22:22:02.289Z"
   },
   {
    "duration": 78,
    "start_time": "2023-05-29T22:22:02.313Z"
   },
   {
    "duration": 86,
    "start_time": "2023-05-29T22:22:02.393Z"
   },
   {
    "duration": 9,
    "start_time": "2023-05-29T22:22:02.481Z"
   },
   {
    "duration": 1656,
    "start_time": "2023-05-29T22:22:02.492Z"
   },
   {
    "duration": 101,
    "start_time": "2023-05-29T22:22:04.150Z"
   },
   {
    "duration": 6,
    "start_time": "2023-05-29T22:22:04.253Z"
   },
   {
    "duration": 12,
    "start_time": "2023-05-29T22:22:04.260Z"
   },
   {
    "duration": 12,
    "start_time": "2023-05-29T22:22:04.273Z"
   },
   {
    "duration": 245,
    "start_time": "2023-05-29T22:22:04.286Z"
   },
   {
    "duration": 154,
    "start_time": "2023-05-29T22:22:04.533Z"
   },
   {
    "duration": 7,
    "start_time": "2023-05-29T22:22:04.689Z"
   },
   {
    "duration": 16,
    "start_time": "2023-05-29T22:22:04.700Z"
   },
   {
    "duration": 14,
    "start_time": "2023-05-29T22:22:04.717Z"
   },
   {
    "duration": 242,
    "start_time": "2023-05-29T22:22:04.733Z"
   },
   {
    "duration": 105,
    "start_time": "2023-05-29T22:22:04.977Z"
   },
   {
    "duration": 7,
    "start_time": "2023-05-29T22:22:05.083Z"
   },
   {
    "duration": 64,
    "start_time": "2023-05-29T22:22:05.091Z"
   },
   {
    "duration": 79,
    "start_time": "2023-05-29T22:22:05.157Z"
   },
   {
    "duration": 15,
    "start_time": "2023-05-29T22:22:05.238Z"
   },
   {
    "duration": 46,
    "start_time": "2023-05-29T22:22:05.255Z"
   },
   {
    "duration": 44,
    "start_time": "2023-05-29T22:22:05.303Z"
   },
   {
    "duration": 38,
    "start_time": "2023-05-29T22:22:05.350Z"
   },
   {
    "duration": 52,
    "start_time": "2023-05-29T22:22:05.390Z"
   },
   {
    "duration": 10,
    "start_time": "2023-05-29T22:22:05.443Z"
   },
   {
    "duration": 1026,
    "start_time": "2023-05-29T22:22:05.455Z"
   },
   {
    "duration": 6,
    "start_time": "2023-05-29T22:22:06.482Z"
   },
   {
    "duration": 13,
    "start_time": "2023-05-29T22:22:06.489Z"
   },
   {
    "duration": 13,
    "start_time": "2023-05-29T22:22:06.503Z"
   },
   {
    "duration": 18,
    "start_time": "2023-05-29T22:22:06.518Z"
   },
   {
    "duration": 10,
    "start_time": "2023-05-29T22:22:06.538Z"
   },
   {
    "duration": 8,
    "start_time": "2023-05-29T22:22:06.549Z"
   },
   {
    "duration": 6,
    "start_time": "2023-05-29T22:22:06.558Z"
   },
   {
    "duration": 20,
    "start_time": "2023-05-29T22:22:06.565Z"
   },
   {
    "duration": 26,
    "start_time": "2023-05-29T22:22:06.586Z"
   },
   {
    "duration": 17,
    "start_time": "2023-05-29T22:22:06.613Z"
   },
   {
    "duration": 36,
    "start_time": "2023-05-29T22:22:06.631Z"
   },
   {
    "duration": 8,
    "start_time": "2023-05-29T22:22:06.669Z"
   },
   {
    "duration": 4,
    "start_time": "2023-05-29T22:22:06.679Z"
   },
   {
    "duration": 176,
    "start_time": "2023-05-29T22:22:06.685Z"
   },
   {
    "duration": 8,
    "start_time": "2023-05-29T22:22:06.863Z"
   },
   {
    "duration": 27,
    "start_time": "2023-05-29T22:22:06.872Z"
   },
   {
    "duration": 8,
    "start_time": "2023-05-29T22:22:06.901Z"
   },
   {
    "duration": 94,
    "start_time": "2023-05-29T22:22:06.911Z"
   },
   {
    "duration": 114,
    "start_time": "2023-05-29T22:22:07.006Z"
   },
   {
    "duration": 6,
    "start_time": "2023-05-29T22:22:07.121Z"
   },
   {
    "duration": 6018,
    "start_time": "2023-05-29T22:22:07.129Z"
   },
   {
    "duration": 12,
    "start_time": "2023-05-29T22:22:13.148Z"
   },
   {
    "duration": 6,
    "start_time": "2023-05-29T22:22:13.162Z"
   },
   {
    "duration": 6,
    "start_time": "2023-05-29T22:22:13.170Z"
   },
   {
    "duration": 11,
    "start_time": "2023-05-29T22:22:13.179Z"
   },
   {
    "duration": 11,
    "start_time": "2023-05-29T22:22:13.191Z"
   },
   {
    "duration": 22,
    "start_time": "2023-05-29T22:22:13.215Z"
   },
   {
    "duration": 13,
    "start_time": "2023-05-29T22:22:13.239Z"
   },
   {
    "duration": 83,
    "start_time": "2023-05-29T22:22:13.254Z"
   },
   {
    "duration": 2778,
    "start_time": "2023-05-29T22:22:13.338Z"
   },
   {
    "duration": 383,
    "start_time": "2023-05-29T22:22:16.118Z"
   },
   {
    "duration": 4,
    "start_time": "2023-05-29T22:22:16.502Z"
   },
   {
    "duration": 6,
    "start_time": "2023-05-29T22:22:16.515Z"
   },
   {
    "duration": 4,
    "start_time": "2023-05-29T22:22:16.523Z"
   },
   {
    "duration": 15,
    "start_time": "2023-05-29T22:22:16.528Z"
   },
   {
    "duration": 3,
    "start_time": "2023-05-29T22:22:16.545Z"
   },
   {
    "duration": 6,
    "start_time": "2023-05-29T22:22:16.549Z"
   },
   {
    "duration": 8,
    "start_time": "2023-05-29T22:22:16.556Z"
   },
   {
    "duration": 152,
    "start_time": "2023-05-29T22:22:16.566Z"
   },
   {
    "duration": 111,
    "start_time": "2023-05-29T22:22:16.721Z"
   },
   {
    "duration": 104,
    "start_time": "2023-05-29T22:22:16.921Z"
   },
   {
    "duration": 1000,
    "start_time": "2023-05-29T22:22:17.027Z"
   },
   {
    "duration": 832894,
    "start_time": "2023-05-29T22:22:18.028Z"
   },
   {
    "duration": 417,
    "start_time": "2023-05-29T22:36:10.924Z"
   },
   {
    "duration": 409,
    "start_time": "2023-05-29T22:36:11.342Z"
   },
   {
    "duration": 467,
    "start_time": "2023-05-29T22:36:11.752Z"
   },
   {
    "duration": 111,
    "start_time": "2023-05-29T22:36:12.220Z"
   },
   {
    "duration": 5,
    "start_time": "2023-05-29T22:36:12.334Z"
   },
   {
    "duration": 111,
    "start_time": "2023-05-29T22:36:12.340Z"
   },
   {
    "duration": 0,
    "start_time": "2023-05-29T22:36:12.453Z"
   },
   {
    "duration": 0,
    "start_time": "2023-05-29T22:36:12.454Z"
   },
   {
    "duration": 0,
    "start_time": "2023-05-29T22:36:12.455Z"
   },
   {
    "duration": 0,
    "start_time": "2023-05-29T22:36:12.456Z"
   },
   {
    "duration": 48,
    "start_time": "2023-05-30T04:16:19.622Z"
   },
   {
    "duration": 14791,
    "start_time": "2023-05-30T04:16:31.214Z"
   },
   {
    "duration": 2096,
    "start_time": "2023-05-30T04:16:46.009Z"
   },
   {
    "duration": 4599,
    "start_time": "2023-05-30T04:16:48.107Z"
   },
   {
    "duration": 564,
    "start_time": "2023-05-30T04:16:52.709Z"
   },
   {
    "duration": 2068,
    "start_time": "2023-05-30T04:16:53.275Z"
   },
   {
    "duration": 3,
    "start_time": "2023-05-30T04:16:55.345Z"
   },
   {
    "duration": 104,
    "start_time": "2023-05-30T04:16:55.349Z"
   },
   {
    "duration": 12,
    "start_time": "2023-05-30T04:16:55.455Z"
   },
   {
    "duration": 10,
    "start_time": "2023-05-30T04:16:55.468Z"
   },
   {
    "duration": 21,
    "start_time": "2023-05-30T04:16:55.480Z"
   },
   {
    "duration": 455,
    "start_time": "2023-05-30T04:16:55.502Z"
   },
   {
    "duration": 154,
    "start_time": "2023-05-30T04:16:55.959Z"
   },
   {
    "duration": 99,
    "start_time": "2023-05-30T04:16:56.115Z"
   },
   {
    "duration": 13,
    "start_time": "2023-05-30T04:16:56.218Z"
   },
   {
    "duration": 15,
    "start_time": "2023-05-30T04:16:56.233Z"
   },
   {
    "duration": 12,
    "start_time": "2023-05-30T04:16:56.249Z"
   },
   {
    "duration": 12,
    "start_time": "2023-05-30T04:16:56.262Z"
   },
   {
    "duration": 44,
    "start_time": "2023-05-30T04:16:56.275Z"
   },
   {
    "duration": 9,
    "start_time": "2023-05-30T04:16:56.320Z"
   },
   {
    "duration": 1621,
    "start_time": "2023-05-30T04:16:56.331Z"
   },
   {
    "duration": 127,
    "start_time": "2023-05-30T04:16:57.954Z"
   },
   {
    "duration": 15,
    "start_time": "2023-05-30T04:16:58.083Z"
   },
   {
    "duration": 17,
    "start_time": "2023-05-30T04:16:58.100Z"
   },
   {
    "duration": 53,
    "start_time": "2023-05-30T04:16:58.119Z"
   },
   {
    "duration": 264,
    "start_time": "2023-05-30T04:16:58.174Z"
   },
   {
    "duration": 258,
    "start_time": "2023-05-30T04:16:58.440Z"
   },
   {
    "duration": 7,
    "start_time": "2023-05-30T04:16:58.700Z"
   },
   {
    "duration": 12,
    "start_time": "2023-05-30T04:16:58.709Z"
   },
   {
    "duration": 16,
    "start_time": "2023-05-30T04:16:58.722Z"
   },
   {
    "duration": 260,
    "start_time": "2023-05-30T04:16:58.740Z"
   },
   {
    "duration": 107,
    "start_time": "2023-05-30T04:16:59.001Z"
   },
   {
    "duration": 5,
    "start_time": "2023-05-30T04:16:59.110Z"
   },
   {
    "duration": 60,
    "start_time": "2023-05-30T04:16:59.117Z"
   },
   {
    "duration": 95,
    "start_time": "2023-05-30T04:16:59.178Z"
   },
   {
    "duration": 10,
    "start_time": "2023-05-30T04:16:59.275Z"
   },
   {
    "duration": 22,
    "start_time": "2023-05-30T04:16:59.286Z"
   },
   {
    "duration": 14,
    "start_time": "2023-05-30T04:16:59.310Z"
   },
   {
    "duration": 12,
    "start_time": "2023-05-30T04:16:59.326Z"
   },
   {
    "duration": 35,
    "start_time": "2023-05-30T04:16:59.339Z"
   },
   {
    "duration": 24,
    "start_time": "2023-05-30T04:16:59.375Z"
   },
   {
    "duration": 1103,
    "start_time": "2023-05-30T04:16:59.404Z"
   },
   {
    "duration": 3,
    "start_time": "2023-05-30T04:17:00.509Z"
   },
   {
    "duration": 25,
    "start_time": "2023-05-30T04:17:00.513Z"
   },
   {
    "duration": 30,
    "start_time": "2023-05-30T04:17:00.539Z"
   },
   {
    "duration": 177,
    "start_time": "2023-05-30T04:17:00.570Z"
   },
   {
    "duration": 43,
    "start_time": "2023-05-30T04:17:00.749Z"
   },
   {
    "duration": 20,
    "start_time": "2023-05-30T04:18:02.279Z"
   },
   {
    "duration": 3,
    "start_time": "2023-05-30T04:19:06.632Z"
   },
   {
    "duration": 3,
    "start_time": "2023-05-30T04:19:13.218Z"
   },
   {
    "duration": 3,
    "start_time": "2023-05-30T04:21:48.993Z"
   },
   {
    "duration": 137,
    "start_time": "2023-05-30T04:22:04.504Z"
   },
   {
    "duration": 4,
    "start_time": "2023-05-30T04:22:12.577Z"
   },
   {
    "duration": 4,
    "start_time": "2023-05-30T04:22:13.510Z"
   },
   {
    "duration": 3,
    "start_time": "2023-05-30T04:22:21.465Z"
   },
   {
    "duration": 4,
    "start_time": "2023-05-30T04:22:22.208Z"
   },
   {
    "duration": 4,
    "start_time": "2023-05-30T04:24:14.333Z"
   },
   {
    "duration": 15,
    "start_time": "2023-05-30T04:25:35.211Z"
   },
   {
    "duration": 4,
    "start_time": "2023-05-30T04:25:36.647Z"
   },
   {
    "duration": 3,
    "start_time": "2023-05-30T04:25:37.531Z"
   },
   {
    "duration": 11,
    "start_time": "2023-05-30T04:26:35.048Z"
   },
   {
    "duration": 16,
    "start_time": "2023-05-30T04:28:02.212Z"
   },
   {
    "duration": 14,
    "start_time": "2023-05-30T04:28:08.166Z"
   },
   {
    "duration": 13,
    "start_time": "2023-05-30T04:28:20.925Z"
   },
   {
    "duration": 13,
    "start_time": "2023-05-30T04:28:24.842Z"
   },
   {
    "duration": 4,
    "start_time": "2023-05-30T04:29:26.434Z"
   },
   {
    "duration": 3,
    "start_time": "2023-05-30T04:30:57.924Z"
   },
   {
    "duration": 3,
    "start_time": "2023-05-30T04:30:59.048Z"
   },
   {
    "duration": 7,
    "start_time": "2023-05-30T04:32:00.343Z"
   },
   {
    "duration": 12,
    "start_time": "2023-05-30T04:32:01.629Z"
   },
   {
    "duration": 3,
    "start_time": "2023-05-30T04:32:51.803Z"
   },
   {
    "duration": 4,
    "start_time": "2023-05-30T04:33:38.752Z"
   },
   {
    "duration": 5,
    "start_time": "2023-05-30T04:33:39.684Z"
   },
   {
    "duration": 11,
    "start_time": "2023-05-30T04:38:29.756Z"
   },
   {
    "duration": 11,
    "start_time": "2023-05-30T04:38:31.082Z"
   },
   {
    "duration": 5,
    "start_time": "2023-05-30T04:38:31.720Z"
   },
   {
    "duration": 7,
    "start_time": "2023-05-30T04:38:33.246Z"
   },
   {
    "duration": 10,
    "start_time": "2023-05-30T04:38:35.008Z"
   },
   {
    "duration": 4,
    "start_time": "2023-05-30T04:40:44.113Z"
   },
   {
    "duration": 4,
    "start_time": "2023-05-30T04:41:07.759Z"
   },
   {
    "duration": 7,
    "start_time": "2023-05-30T04:41:46.433Z"
   },
   {
    "duration": 12,
    "start_time": "2023-05-30T04:42:05.832Z"
   },
   {
    "duration": 14,
    "start_time": "2023-05-30T04:42:06.748Z"
   },
   {
    "duration": 15,
    "start_time": "2023-05-30T04:42:19.681Z"
   },
   {
    "duration": 13,
    "start_time": "2023-05-30T04:42:20.891Z"
   },
   {
    "duration": 16,
    "start_time": "2023-05-30T04:42:22.046Z"
   },
   {
    "duration": 3,
    "start_time": "2023-05-30T04:46:10.971Z"
   },
   {
    "duration": 2111,
    "start_time": "2023-05-30T04:50:51.520Z"
   },
   {
    "duration": 1970,
    "start_time": "2023-05-30T04:50:53.633Z"
   },
   {
    "duration": 2008,
    "start_time": "2023-05-30T04:50:55.605Z"
   },
   {
    "duration": 5,
    "start_time": "2023-05-30T04:50:57.615Z"
   },
   {
    "duration": 18,
    "start_time": "2023-05-30T04:50:57.621Z"
   },
   {
    "duration": 6,
    "start_time": "2023-05-30T04:50:57.641Z"
   },
   {
    "duration": 56,
    "start_time": "2023-05-30T04:50:57.648Z"
   },
   {
    "duration": 9,
    "start_time": "2023-05-30T04:50:57.705Z"
   },
   {
    "duration": 22,
    "start_time": "2023-05-30T04:50:57.715Z"
   },
   {
    "duration": 18,
    "start_time": "2023-05-30T04:50:57.741Z"
   },
   {
    "duration": 449,
    "start_time": "2023-05-30T04:50:57.761Z"
   },
   {
    "duration": 17,
    "start_time": "2023-05-30T04:50:58.211Z"
   },
   {
    "duration": 24,
    "start_time": "2023-05-30T04:50:58.229Z"
   },
   {
    "duration": 13,
    "start_time": "2023-05-30T04:50:58.254Z"
   },
   {
    "duration": 20,
    "start_time": "2023-05-30T04:50:58.268Z"
   },
   {
    "duration": 32,
    "start_time": "2023-05-30T04:50:58.289Z"
   },
   {
    "duration": 15,
    "start_time": "2023-05-30T04:50:58.322Z"
   },
   {
    "duration": 47,
    "start_time": "2023-05-30T04:50:58.338Z"
   },
   {
    "duration": 11,
    "start_time": "2023-05-30T04:50:58.387Z"
   },
   {
    "duration": 1589,
    "start_time": "2023-05-30T04:50:58.399Z"
   },
   {
    "duration": 48,
    "start_time": "2023-05-30T04:50:59.989Z"
   },
   {
    "duration": 7,
    "start_time": "2023-05-30T04:51:00.039Z"
   },
   {
    "duration": 46,
    "start_time": "2023-05-30T04:51:00.047Z"
   },
   {
    "duration": 14,
    "start_time": "2023-05-30T04:51:00.095Z"
   },
   {
    "duration": 246,
    "start_time": "2023-05-30T04:51:00.111Z"
   },
   {
    "duration": 31,
    "start_time": "2023-05-30T04:51:00.358Z"
   },
   {
    "duration": 30,
    "start_time": "2023-05-30T04:51:00.391Z"
   },
   {
    "duration": 19,
    "start_time": "2023-05-30T04:51:00.425Z"
   },
   {
    "duration": 40,
    "start_time": "2023-05-30T04:51:00.446Z"
   },
   {
    "duration": 285,
    "start_time": "2023-05-30T04:51:00.487Z"
   },
   {
    "duration": 102,
    "start_time": "2023-05-30T04:51:00.774Z"
   },
   {
    "duration": 11,
    "start_time": "2023-05-30T04:51:00.877Z"
   },
   {
    "duration": 55,
    "start_time": "2023-05-30T04:51:00.890Z"
   },
   {
    "duration": 54,
    "start_time": "2023-05-30T04:51:00.946Z"
   },
   {
    "duration": 36,
    "start_time": "2023-05-30T04:51:01.002Z"
   },
   {
    "duration": 63,
    "start_time": "2023-05-30T04:51:01.039Z"
   },
   {
    "duration": 67,
    "start_time": "2023-05-30T04:51:01.103Z"
   },
   {
    "duration": 63,
    "start_time": "2023-05-30T04:51:01.172Z"
   },
   {
    "duration": 73,
    "start_time": "2023-05-30T04:51:01.237Z"
   },
   {
    "duration": 42,
    "start_time": "2023-05-30T04:51:01.312Z"
   },
   {
    "duration": 1122,
    "start_time": "2023-05-30T04:51:01.356Z"
   },
   {
    "duration": 4,
    "start_time": "2023-05-30T04:51:02.484Z"
   },
   {
    "duration": 75,
    "start_time": "2023-05-30T04:51:02.490Z"
   },
   {
    "duration": 54,
    "start_time": "2023-05-30T04:51:02.567Z"
   },
   {
    "duration": 43,
    "start_time": "2023-05-30T04:51:02.623Z"
   },
   {
    "duration": 16,
    "start_time": "2023-05-30T04:51:02.668Z"
   },
   {
    "duration": 22,
    "start_time": "2023-05-30T04:51:02.686Z"
   },
   {
    "duration": 57,
    "start_time": "2023-05-30T04:51:02.710Z"
   },
   {
    "duration": 12,
    "start_time": "2023-05-30T04:51:02.769Z"
   },
   {
    "duration": 38,
    "start_time": "2023-05-30T04:51:02.782Z"
   },
   {
    "duration": 13,
    "start_time": "2023-05-30T04:51:02.822Z"
   },
   {
    "duration": 80,
    "start_time": "2023-05-30T04:51:02.836Z"
   },
   {
    "duration": 35,
    "start_time": "2023-05-30T04:51:02.917Z"
   },
   {
    "duration": 32,
    "start_time": "2023-05-30T04:51:02.955Z"
   },
   {
    "duration": 24,
    "start_time": "2023-05-30T04:51:02.988Z"
   },
   {
    "duration": 13,
    "start_time": "2023-05-30T04:51:03.014Z"
   },
   {
    "duration": 157,
    "start_time": "2023-05-30T04:51:03.028Z"
   },
   {
    "duration": 2,
    "start_time": "2023-05-30T04:51:03.187Z"
   },
   {
    "duration": 8,
    "start_time": "2023-05-30T04:51:03.191Z"
   },
   {
    "duration": 4,
    "start_time": "2023-05-30T04:51:03.200Z"
   },
   {
    "duration": 9,
    "start_time": "2023-05-30T04:51:03.206Z"
   },
   {
    "duration": 9,
    "start_time": "2023-05-30T04:51:03.216Z"
   },
   {
    "duration": 5,
    "start_time": "2023-05-30T04:51:03.227Z"
   },
   {
    "duration": 4,
    "start_time": "2023-05-30T04:51:03.234Z"
   },
   {
    "duration": 4,
    "start_time": "2023-05-30T04:51:03.240Z"
   },
   {
    "duration": 7,
    "start_time": "2023-05-30T04:51:33.644Z"
   },
   {
    "duration": 7,
    "start_time": "2023-05-30T04:56:21.477Z"
   },
   {
    "duration": 3,
    "start_time": "2023-05-30T05:04:05.329Z"
   },
   {
    "duration": 4,
    "start_time": "2023-05-30T05:05:00.466Z"
   },
   {
    "duration": 4,
    "start_time": "2023-05-30T05:05:43.027Z"
   },
   {
    "duration": 120,
    "start_time": "2023-05-30T05:05:44.140Z"
   },
   {
    "duration": 5,
    "start_time": "2023-05-30T05:06:03.807Z"
   },
   {
    "duration": 104,
    "start_time": "2023-05-30T05:06:04.495Z"
   },
   {
    "duration": 103,
    "start_time": "2023-05-30T05:07:15.514Z"
   },
   {
    "duration": 6,
    "start_time": "2023-05-30T05:07:23.907Z"
   },
   {
    "duration": 5,
    "start_time": "2023-05-30T05:07:24.863Z"
   },
   {
    "duration": 111,
    "start_time": "2023-05-30T05:07:27.607Z"
   },
   {
    "duration": 3,
    "start_time": "2023-05-30T05:07:42.255Z"
   },
   {
    "duration": 3,
    "start_time": "2023-05-30T05:23:53.703Z"
   },
   {
    "duration": 20,
    "start_time": "2023-05-30T05:24:53.928Z"
   },
   {
    "duration": 13,
    "start_time": "2023-05-30T05:25:10.422Z"
   },
   {
    "duration": 14,
    "start_time": "2023-05-30T05:25:34.759Z"
   },
   {
    "duration": 5,
    "start_time": "2023-05-30T05:25:42.011Z"
   },
   {
    "duration": 6,
    "start_time": "2023-05-30T05:25:44.321Z"
   },
   {
    "duration": 16,
    "start_time": "2023-05-30T05:26:11.462Z"
   },
   {
    "duration": 8,
    "start_time": "2023-05-30T05:28:00.214Z"
   },
   {
    "duration": 5,
    "start_time": "2023-05-30T05:28:06.786Z"
   },
   {
    "duration": 8,
    "start_time": "2023-05-30T05:28:14.042Z"
   },
   {
    "duration": 1169,
    "start_time": "2023-05-30T05:28:45.297Z"
   },
   {
    "duration": 7,
    "start_time": "2023-05-30T05:30:02.517Z"
   },
   {
    "duration": 10,
    "start_time": "2023-05-30T05:30:31.869Z"
   },
   {
    "duration": 1198,
    "start_time": "2023-05-30T05:49:02.875Z"
   },
   {
    "duration": 8,
    "start_time": "2023-05-30T05:50:55.416Z"
   },
   {
    "duration": 19,
    "start_time": "2023-05-30T05:50:59.066Z"
   },
   {
    "duration": 15,
    "start_time": "2023-05-30T05:51:37.875Z"
   },
   {
    "duration": 11,
    "start_time": "2023-05-30T05:59:12.913Z"
   },
   {
    "duration": 13,
    "start_time": "2023-05-30T05:59:17.095Z"
   },
   {
    "duration": 16,
    "start_time": "2023-05-30T05:59:21.989Z"
   },
   {
    "duration": 5,
    "start_time": "2023-05-30T05:59:39.968Z"
   },
   {
    "duration": 5,
    "start_time": "2023-05-30T06:10:39.130Z"
   },
   {
    "duration": 8,
    "start_time": "2023-05-30T06:10:46.831Z"
   },
   {
    "duration": 12,
    "start_time": "2023-05-30T06:11:11.016Z"
   },
   {
    "duration": 11,
    "start_time": "2023-05-30T06:12:33.738Z"
   },
   {
    "duration": 20,
    "start_time": "2023-05-30T06:14:09.718Z"
   },
   {
    "duration": 13,
    "start_time": "2023-05-30T06:14:12.943Z"
   },
   {
    "duration": 5,
    "start_time": "2023-05-30T06:19:43.094Z"
   },
   {
    "duration": 3,
    "start_time": "2023-05-30T06:22:04.234Z"
   },
   {
    "duration": 210,
    "start_time": "2023-05-30T06:25:58.451Z"
   },
   {
    "duration": 224,
    "start_time": "2023-05-30T06:26:26.995Z"
   },
   {
    "duration": 376,
    "start_time": "2023-05-30T06:26:33.330Z"
   },
   {
    "duration": 14,
    "start_time": "2023-05-30T06:26:52.261Z"
   },
   {
    "duration": 5,
    "start_time": "2023-05-30T06:27:19.247Z"
   },
   {
    "duration": 18,
    "start_time": "2023-05-30T06:27:20.257Z"
   },
   {
    "duration": 13,
    "start_time": "2023-05-30T06:27:21.643Z"
   },
   {
    "duration": 26,
    "start_time": "2023-05-30T06:27:27.739Z"
   },
   {
    "duration": 7,
    "start_time": "2023-05-30T06:27:43.225Z"
   },
   {
    "duration": 24,
    "start_time": "2023-05-30T06:27:46.566Z"
   },
   {
    "duration": 5,
    "start_time": "2023-05-30T06:27:50.778Z"
   },
   {
    "duration": 18,
    "start_time": "2023-05-30T06:27:51.770Z"
   },
   {
    "duration": 11,
    "start_time": "2023-05-30T06:27:53.612Z"
   },
   {
    "duration": 28,
    "start_time": "2023-05-30T06:27:54.370Z"
   },
   {
    "duration": 6,
    "start_time": "2023-05-30T06:28:05.324Z"
   },
   {
    "duration": 4,
    "start_time": "2023-05-30T06:28:07.397Z"
   },
   {
    "duration": 21,
    "start_time": "2023-05-30T06:28:18.268Z"
   },
   {
    "duration": 11,
    "start_time": "2023-05-30T06:28:21.252Z"
   },
   {
    "duration": 66,
    "start_time": "2023-05-30T06:28:35.297Z"
   },
   {
    "duration": 2900,
    "start_time": "2023-05-30T06:28:36.931Z"
   },
   {
    "duration": 4015,
    "start_time": "2023-05-30T06:28:44.543Z"
   },
   {
    "duration": 4324,
    "start_time": "2023-05-30T06:29:08.919Z"
   },
   {
    "duration": 4167,
    "start_time": "2023-05-30T06:30:15.077Z"
   },
   {
    "duration": 3994,
    "start_time": "2023-05-30T06:30:56.334Z"
   },
   {
    "duration": 4194,
    "start_time": "2023-05-30T06:32:06.297Z"
   },
   {
    "duration": 4389,
    "start_time": "2023-05-30T06:32:36.342Z"
   },
   {
    "duration": 4371,
    "start_time": "2023-05-30T06:32:52.463Z"
   },
   {
    "duration": 4372,
    "start_time": "2023-05-30T06:33:08.065Z"
   },
   {
    "duration": 3443,
    "start_time": "2023-05-30T06:36:14.135Z"
   },
   {
    "duration": 4144,
    "start_time": "2023-05-30T06:36:44.862Z"
   },
   {
    "duration": 3496,
    "start_time": "2023-05-30T06:36:54.864Z"
   },
   {
    "duration": 2220,
    "start_time": "2023-05-30T06:42:48.402Z"
   },
   {
    "duration": 2044,
    "start_time": "2023-05-30T06:42:50.625Z"
   },
   {
    "duration": 2056,
    "start_time": "2023-05-30T06:42:52.671Z"
   },
   {
    "duration": 5,
    "start_time": "2023-05-30T06:42:54.729Z"
   },
   {
    "duration": 22,
    "start_time": "2023-05-30T06:42:54.735Z"
   },
   {
    "duration": 7,
    "start_time": "2023-05-30T06:42:54.758Z"
   },
   {
    "duration": 50,
    "start_time": "2023-05-30T06:42:54.766Z"
   },
   {
    "duration": 9,
    "start_time": "2023-05-30T06:42:54.818Z"
   },
   {
    "duration": 39,
    "start_time": "2023-05-30T06:42:54.828Z"
   },
   {
    "duration": 16,
    "start_time": "2023-05-30T06:42:54.869Z"
   },
   {
    "duration": 455,
    "start_time": "2023-05-30T06:42:54.886Z"
   },
   {
    "duration": 18,
    "start_time": "2023-05-30T06:42:55.343Z"
   },
   {
    "duration": 25,
    "start_time": "2023-05-30T06:42:55.363Z"
   },
   {
    "duration": 15,
    "start_time": "2023-05-30T06:42:55.389Z"
   },
   {
    "duration": 23,
    "start_time": "2023-05-30T06:42:55.405Z"
   },
   {
    "duration": 13,
    "start_time": "2023-05-30T06:42:55.429Z"
   },
   {
    "duration": 11,
    "start_time": "2023-05-30T06:42:55.444Z"
   },
   {
    "duration": 61,
    "start_time": "2023-05-30T06:42:55.457Z"
   },
   {
    "duration": 9,
    "start_time": "2023-05-30T06:42:55.520Z"
   },
   {
    "duration": 1763,
    "start_time": "2023-05-30T06:42:55.531Z"
   },
   {
    "duration": 47,
    "start_time": "2023-05-30T06:42:57.295Z"
   },
   {
    "duration": 6,
    "start_time": "2023-05-30T06:42:57.344Z"
   },
   {
    "duration": 27,
    "start_time": "2023-05-30T06:42:57.351Z"
   },
   {
    "duration": 21,
    "start_time": "2023-05-30T06:42:57.379Z"
   },
   {
    "duration": 247,
    "start_time": "2023-05-30T06:42:57.401Z"
   },
   {
    "duration": 26,
    "start_time": "2023-05-30T06:42:57.649Z"
   },
   {
    "duration": 8,
    "start_time": "2023-05-30T06:42:57.676Z"
   },
   {
    "duration": 10,
    "start_time": "2023-05-30T06:42:57.689Z"
   },
   {
    "duration": 15,
    "start_time": "2023-05-30T06:42:57.701Z"
   },
   {
    "duration": 267,
    "start_time": "2023-05-30T06:42:57.718Z"
   },
   {
    "duration": 105,
    "start_time": "2023-05-30T06:42:57.987Z"
   },
   {
    "duration": 6,
    "start_time": "2023-05-30T06:42:58.094Z"
   },
   {
    "duration": 21,
    "start_time": "2023-05-30T06:42:58.102Z"
   },
   {
    "duration": 19,
    "start_time": "2023-05-30T06:42:58.125Z"
   },
   {
    "duration": 11,
    "start_time": "2023-05-30T06:42:58.145Z"
   },
   {
    "duration": 13,
    "start_time": "2023-05-30T06:42:58.157Z"
   },
   {
    "duration": 17,
    "start_time": "2023-05-30T06:42:58.172Z"
   },
   {
    "duration": 12,
    "start_time": "2023-05-30T06:42:58.190Z"
   },
   {
    "duration": 50,
    "start_time": "2023-05-30T06:42:58.203Z"
   },
   {
    "duration": 9,
    "start_time": "2023-05-30T06:42:58.255Z"
   },
   {
    "duration": 1190,
    "start_time": "2023-05-30T06:42:58.265Z"
   },
   {
    "duration": 4,
    "start_time": "2023-05-30T06:42:59.457Z"
   },
   {
    "duration": 29,
    "start_time": "2023-05-30T06:42:59.462Z"
   },
   {
    "duration": 47,
    "start_time": "2023-05-30T06:42:59.492Z"
   },
   {
    "duration": 41,
    "start_time": "2023-05-30T06:42:59.541Z"
   },
   {
    "duration": 19,
    "start_time": "2023-05-30T06:42:59.584Z"
   },
   {
    "duration": 44,
    "start_time": "2023-05-30T06:42:59.604Z"
   },
   {
    "duration": 12,
    "start_time": "2023-05-30T06:42:59.649Z"
   },
   {
    "duration": 114,
    "start_time": "2023-05-30T06:42:59.663Z"
   },
   {
    "duration": 2,
    "start_time": "2023-05-30T06:42:59.784Z"
   },
   {
    "duration": 8,
    "start_time": "2023-05-30T06:42:59.788Z"
   },
   {
    "duration": 10,
    "start_time": "2023-05-30T06:42:59.797Z"
   },
   {
    "duration": 16,
    "start_time": "2023-05-30T06:42:59.808Z"
   },
   {
    "duration": 10,
    "start_time": "2023-05-30T06:42:59.826Z"
   },
   {
    "duration": 10,
    "start_time": "2023-05-30T06:42:59.837Z"
   },
   {
    "duration": 20,
    "start_time": "2023-05-30T06:42:59.848Z"
   },
   {
    "duration": 14,
    "start_time": "2023-05-30T06:42:59.870Z"
   },
   {
    "duration": 12,
    "start_time": "2023-05-30T06:42:59.885Z"
   },
   {
    "duration": 27,
    "start_time": "2023-05-30T06:42:59.899Z"
   },
   {
    "duration": 21,
    "start_time": "2023-05-30T06:42:59.927Z"
   },
   {
    "duration": 19,
    "start_time": "2023-05-30T06:42:59.950Z"
   },
   {
    "duration": 24,
    "start_time": "2023-05-30T06:42:59.970Z"
   },
   {
    "duration": 21,
    "start_time": "2023-05-30T06:42:59.996Z"
   },
   {
    "duration": 62,
    "start_time": "2023-05-30T06:43:00.019Z"
   },
   {
    "duration": 49,
    "start_time": "2023-05-30T06:43:00.083Z"
   },
   {
    "duration": 28,
    "start_time": "2023-05-30T06:43:00.134Z"
   },
   {
    "duration": 33,
    "start_time": "2023-05-30T06:43:00.164Z"
   },
   {
    "duration": 35,
    "start_time": "2023-05-30T06:43:00.198Z"
   },
   {
    "duration": 13,
    "start_time": "2023-05-30T06:43:00.235Z"
   },
   {
    "duration": 21,
    "start_time": "2023-05-30T06:43:00.250Z"
   },
   {
    "duration": 44,
    "start_time": "2023-05-30T06:43:00.272Z"
   },
   {
    "duration": 29,
    "start_time": "2023-05-30T06:43:00.318Z"
   },
   {
    "duration": 167,
    "start_time": "2023-05-30T06:43:00.349Z"
   },
   {
    "duration": 3,
    "start_time": "2023-05-30T06:43:00.517Z"
   },
   {
    "duration": 10,
    "start_time": "2023-05-30T06:43:00.522Z"
   },
   {
    "duration": 19,
    "start_time": "2023-05-30T06:43:00.533Z"
   },
   {
    "duration": 35,
    "start_time": "2023-05-30T06:43:00.553Z"
   },
   {
    "duration": 29,
    "start_time": "2023-05-30T06:43:00.589Z"
   },
   {
    "duration": 36,
    "start_time": "2023-05-30T06:43:00.620Z"
   },
   {
    "duration": 40,
    "start_time": "2023-05-30T06:43:00.657Z"
   },
   {
    "duration": 49,
    "start_time": "2023-05-30T06:43:00.698Z"
   },
   {
    "duration": 22,
    "start_time": "2023-05-30T06:43:00.753Z"
   },
   {
    "duration": 26,
    "start_time": "2023-05-30T06:43:00.776Z"
   },
   {
    "duration": 27,
    "start_time": "2023-05-30T06:43:00.804Z"
   },
   {
    "duration": 18,
    "start_time": "2023-05-30T06:43:00.832Z"
   },
   {
    "duration": 20,
    "start_time": "2023-05-30T06:43:00.852Z"
   },
   {
    "duration": 40,
    "start_time": "2023-05-30T06:43:00.873Z"
   },
   {
    "duration": 31,
    "start_time": "2023-05-30T06:43:00.914Z"
   },
   {
    "duration": 75,
    "start_time": "2023-05-30T06:43:00.946Z"
   },
   {
    "duration": 2770,
    "start_time": "2023-05-30T06:43:01.022Z"
   },
   {
    "duration": 3603,
    "start_time": "2023-05-30T06:43:03.794Z"
   },
   {
    "duration": 4,
    "start_time": "2023-05-30T06:43:07.399Z"
   },
   {
    "duration": 8,
    "start_time": "2023-05-30T06:43:07.404Z"
   },
   {
    "duration": 6,
    "start_time": "2023-05-30T06:43:07.414Z"
   },
   {
    "duration": 24,
    "start_time": "2023-05-30T06:43:07.421Z"
   },
   {
    "duration": 4,
    "start_time": "2023-05-30T06:43:07.447Z"
   },
   {
    "duration": 14,
    "start_time": "2023-05-30T06:43:07.452Z"
   },
   {
    "duration": 21,
    "start_time": "2023-05-30T06:43:07.468Z"
   },
   {
    "duration": 23,
    "start_time": "2023-05-30T06:43:07.490Z"
   },
   {
    "duration": 183,
    "start_time": "2023-05-30T06:43:07.515Z"
   },
   {
    "duration": 210,
    "start_time": "2023-05-30T06:43:07.699Z"
   },
   {
    "duration": 1067,
    "start_time": "2023-05-30T06:43:07.910Z"
   },
   {
    "duration": 1014,
    "start_time": "2023-05-30T06:43:08.979Z"
   },
   {
    "duration": 322,
    "start_time": "2023-05-30T06:43:09.994Z"
   },
   {
    "duration": 212,
    "start_time": "2023-05-30T06:43:10.317Z"
   },
   {
    "duration": 410,
    "start_time": "2023-05-30T06:43:10.531Z"
   },
   {
    "duration": 5,
    "start_time": "2023-05-30T06:44:05.466Z"
   },
   {
    "duration": 90557,
    "start_time": "2023-05-30T06:44:12.002Z"
   },
   {
    "duration": 261019,
    "start_time": "2023-05-30T06:47:22.848Z"
   },
   {
    "duration": 200092,
    "start_time": "2023-05-30T06:51:48.933Z"
   },
   {
    "duration": 1179937,
    "start_time": "2023-05-30T06:55:20.140Z"
   },
   {
    "duration": 18,
    "start_time": "2023-05-30T07:15:09.120Z"
   },
   {
    "duration": 18,
    "start_time": "2023-05-30T07:15:20.960Z"
   },
   {
    "duration": 332,
    "start_time": "2023-05-30T07:15:41.337Z"
   },
   {
    "duration": 292,
    "start_time": "2023-05-30T07:16:46.628Z"
   },
   {
    "duration": 7,
    "start_time": "2023-05-30T07:16:49.532Z"
   },
   {
    "duration": 1077626,
    "start_time": "2023-05-30T07:17:31.239Z"
   },
   {
    "duration": 43,
    "start_time": "2023-05-30T07:38:34.556Z"
   },
   {
    "duration": 510962,
    "start_time": "2023-05-30T07:38:48.658Z"
   },
   {
    "duration": 189,
    "start_time": "2023-05-30T07:47:38.927Z"
   },
   {
    "duration": 8,
    "start_time": "2023-05-30T07:47:40.208Z"
   },
   {
    "duration": 53,
    "start_time": "2023-05-30T07:48:43.303Z"
   },
   {
    "duration": 80,
    "start_time": "2023-05-30T07:48:50.756Z"
   },
   {
    "duration": 65603,
    "start_time": "2023-05-30T07:49:02.726Z"
   },
   {
    "duration": 54710,
    "start_time": "2023-05-30T07:50:50.800Z"
   },
   {
    "duration": 373669,
    "start_time": "2023-05-30T07:52:05.548Z"
   },
   {
    "duration": 5,
    "start_time": "2023-05-30T07:58:49.380Z"
   },
   {
    "duration": 179456,
    "start_time": "2023-05-30T07:58:56.310Z"
   },
   {
    "duration": 222,
    "start_time": "2023-05-30T08:02:03.169Z"
   },
   {
    "duration": 8,
    "start_time": "2023-05-30T08:02:04.411Z"
   },
   {
    "duration": 49,
    "start_time": "2023-05-30T08:02:25.402Z"
   },
   {
    "duration": 856002,
    "start_time": "2023-05-30T08:02:32.750Z"
   },
   {
    "duration": 222218,
    "start_time": "2023-05-30T08:17:40.862Z"
   },
   {
    "duration": 276,
    "start_time": "2023-05-30T08:21:32.017Z"
   },
   {
    "duration": 10,
    "start_time": "2023-05-30T08:21:33.751Z"
   },
   {
    "duration": 14,
    "start_time": "2023-05-30T08:23:57.061Z"
   },
   {
    "duration": 223,
    "start_time": "2023-05-30T08:24:05.736Z"
   },
   {
    "duration": 7,
    "start_time": "2023-05-30T08:24:07.158Z"
   },
   {
    "duration": 262,
    "start_time": "2023-05-30T08:25:04.537Z"
   },
   {
    "duration": 282,
    "start_time": "2023-05-30T08:25:20.217Z"
   },
   {
    "duration": 10,
    "start_time": "2023-05-30T08:25:22.218Z"
   },
   {
    "duration": 4,
    "start_time": "2023-05-30T08:27:23.281Z"
   },
   {
    "duration": 26,
    "start_time": "2023-05-30T08:27:47.306Z"
   },
   {
    "duration": 18,
    "start_time": "2023-05-30T08:29:28.443Z"
   },
   {
    "duration": 26,
    "start_time": "2023-05-30T08:30:50.038Z"
   },
   {
    "duration": 4,
    "start_time": "2023-05-30T08:31:13.294Z"
   },
   {
    "duration": 16,
    "start_time": "2023-05-30T08:31:15.023Z"
   },
   {
    "duration": 279,
    "start_time": "2023-05-30T08:31:24.170Z"
   },
   {
    "duration": 8,
    "start_time": "2023-05-30T08:31:25.963Z"
   },
   {
    "duration": 17,
    "start_time": "2023-05-30T08:32:46.873Z"
   },
   {
    "duration": 6,
    "start_time": "2023-05-30T08:32:55.316Z"
   },
   {
    "duration": 276,
    "start_time": "2023-05-30T08:36:20.978Z"
   },
   {
    "duration": 7,
    "start_time": "2023-05-30T08:36:23.189Z"
   },
   {
    "duration": 258,
    "start_time": "2023-05-30T08:38:11.957Z"
   },
   {
    "duration": 7,
    "start_time": "2023-05-30T08:38:13.530Z"
   },
   {
    "duration": 227,
    "start_time": "2023-05-30T08:38:55.627Z"
   },
   {
    "duration": 319,
    "start_time": "2023-05-30T08:39:47.509Z"
   },
   {
    "duration": 312,
    "start_time": "2023-05-30T08:40:33.014Z"
   },
   {
    "duration": 4,
    "start_time": "2023-05-30T08:42:39.616Z"
   },
   {
    "duration": 192,
    "start_time": "2023-05-30T08:42:40.344Z"
   },
   {
    "duration": 4,
    "start_time": "2023-05-30T08:42:46.013Z"
   },
   {
    "duration": 295,
    "start_time": "2023-05-30T08:42:46.779Z"
   },
   {
    "duration": 4,
    "start_time": "2023-05-30T08:43:00.246Z"
   },
   {
    "duration": 248,
    "start_time": "2023-05-30T08:43:01.629Z"
   },
   {
    "duration": 3,
    "start_time": "2023-05-30T08:43:13.027Z"
   },
   {
    "duration": 252,
    "start_time": "2023-05-30T08:43:13.647Z"
   },
   {
    "duration": 4,
    "start_time": "2023-05-30T08:43:20.444Z"
   },
   {
    "duration": 230,
    "start_time": "2023-05-30T08:43:21.149Z"
   },
   {
    "duration": 14,
    "start_time": "2023-05-30T08:43:26.291Z"
   },
   {
    "duration": 220,
    "start_time": "2023-05-30T08:43:26.963Z"
   },
   {
    "duration": 4,
    "start_time": "2023-05-30T08:43:31.456Z"
   },
   {
    "duration": 234,
    "start_time": "2023-05-30T08:43:32.081Z"
   },
   {
    "duration": 4,
    "start_time": "2023-05-30T08:43:36.332Z"
   },
   {
    "duration": 197,
    "start_time": "2023-05-30T08:43:37.231Z"
   },
   {
    "duration": 2882,
    "start_time": "2023-05-30T08:43:53.477Z"
   },
   {
    "duration": 2783,
    "start_time": "2023-05-30T08:43:56.363Z"
   },
   {
    "duration": 3075,
    "start_time": "2023-05-30T08:43:59.149Z"
   },
   {
    "duration": 878,
    "start_time": "2023-05-30T08:44:02.227Z"
   },
   {
    "duration": 2268,
    "start_time": "2023-05-30T08:44:03.107Z"
   },
   {
    "duration": 4,
    "start_time": "2023-05-30T08:44:05.377Z"
   },
   {
    "duration": 91,
    "start_time": "2023-05-30T08:44:05.403Z"
   },
   {
    "duration": 19,
    "start_time": "2023-05-30T08:44:05.495Z"
   },
   {
    "duration": 55,
    "start_time": "2023-05-30T08:44:05.518Z"
   },
   {
    "duration": 49,
    "start_time": "2023-05-30T08:44:05.577Z"
   },
   {
    "duration": 683,
    "start_time": "2023-05-30T08:44:05.627Z"
   },
   {
    "duration": 25,
    "start_time": "2023-05-30T08:44:06.320Z"
   },
   {
    "duration": 29,
    "start_time": "2023-05-30T08:44:06.347Z"
   },
   {
    "duration": 27,
    "start_time": "2023-05-30T08:44:06.379Z"
   },
   {
    "duration": 68,
    "start_time": "2023-05-30T08:44:06.408Z"
   },
   {
    "duration": 66,
    "start_time": "2023-05-30T08:44:06.479Z"
   },
   {
    "duration": 27,
    "start_time": "2023-05-30T08:44:06.548Z"
   },
   {
    "duration": 157,
    "start_time": "2023-05-30T08:44:06.577Z"
   },
   {
    "duration": 16,
    "start_time": "2023-05-30T08:44:06.736Z"
   },
   {
    "duration": 1897,
    "start_time": "2023-05-30T08:44:06.753Z"
   },
   {
    "duration": 84,
    "start_time": "2023-05-30T08:44:08.652Z"
   },
   {
    "duration": 8,
    "start_time": "2023-05-30T08:44:08.737Z"
   },
   {
    "duration": 24,
    "start_time": "2023-05-30T08:44:08.746Z"
   },
   {
    "duration": 28,
    "start_time": "2023-05-30T08:44:08.772Z"
   },
   {
    "duration": 364,
    "start_time": "2023-05-30T08:44:08.803Z"
   },
   {
    "duration": 32,
    "start_time": "2023-05-30T08:44:09.168Z"
   },
   {
    "duration": 19,
    "start_time": "2023-05-30T08:44:09.201Z"
   },
   {
    "duration": 28,
    "start_time": "2023-05-30T08:44:09.226Z"
   },
   {
    "duration": 25,
    "start_time": "2023-05-30T08:44:09.256Z"
   },
   {
    "duration": 431,
    "start_time": "2023-05-30T08:44:09.283Z"
   },
   {
    "duration": 160,
    "start_time": "2023-05-30T08:44:09.723Z"
   },
   {
    "duration": 42,
    "start_time": "2023-05-30T08:44:09.899Z"
   },
   {
    "duration": 63,
    "start_time": "2023-05-30T08:44:09.943Z"
   },
   {
    "duration": 28,
    "start_time": "2023-05-30T08:44:10.008Z"
   },
   {
    "duration": 26,
    "start_time": "2023-05-30T08:44:10.039Z"
   },
   {
    "duration": 30,
    "start_time": "2023-05-30T08:44:10.068Z"
   },
   {
    "duration": 53,
    "start_time": "2023-05-30T08:44:10.100Z"
   },
   {
    "duration": 20,
    "start_time": "2023-05-30T08:44:10.156Z"
   },
   {
    "duration": 90,
    "start_time": "2023-05-30T08:44:10.178Z"
   },
   {
    "duration": 70,
    "start_time": "2023-05-30T08:44:10.270Z"
   },
   {
    "duration": 1395,
    "start_time": "2023-05-30T08:44:10.344Z"
   },
   {
    "duration": 4,
    "start_time": "2023-05-30T08:44:11.741Z"
   },
   {
    "duration": 9,
    "start_time": "2023-05-30T08:44:11.747Z"
   },
   {
    "duration": 4,
    "start_time": "2023-05-30T08:44:11.758Z"
   },
   {
    "duration": 198,
    "start_time": "2023-05-30T08:44:11.764Z"
   },
   {
    "duration": 11,
    "start_time": "2023-05-30T08:44:11.964Z"
   },
   {
    "duration": 29,
    "start_time": "2023-05-30T08:44:11.977Z"
   },
   {
    "duration": 33,
    "start_time": "2023-05-30T08:44:12.007Z"
   },
   {
    "duration": 188,
    "start_time": "2023-05-30T08:44:12.042Z"
   },
   {
    "duration": 4,
    "start_time": "2023-05-30T08:44:12.232Z"
   },
   {
    "duration": 8,
    "start_time": "2023-05-30T08:44:12.238Z"
   },
   {
    "duration": 4,
    "start_time": "2023-05-30T08:44:12.248Z"
   },
   {
    "duration": 8,
    "start_time": "2023-05-30T08:44:12.255Z"
   },
   {
    "duration": 4,
    "start_time": "2023-05-30T08:44:12.265Z"
   },
   {
    "duration": 39,
    "start_time": "2023-05-30T08:44:12.271Z"
   },
   {
    "duration": 27,
    "start_time": "2023-05-30T08:44:12.312Z"
   },
   {
    "duration": 13,
    "start_time": "2023-05-30T08:44:12.341Z"
   },
   {
    "duration": 18,
    "start_time": "2023-05-30T08:44:12.356Z"
   },
   {
    "duration": 42,
    "start_time": "2023-05-30T08:44:12.376Z"
   },
   {
    "duration": 11,
    "start_time": "2023-05-30T08:44:12.428Z"
   },
   {
    "duration": 10,
    "start_time": "2023-05-30T08:44:12.442Z"
   },
   {
    "duration": 17,
    "start_time": "2023-05-30T08:44:12.454Z"
   },
   {
    "duration": 57,
    "start_time": "2023-05-30T08:44:12.473Z"
   },
   {
    "duration": 15,
    "start_time": "2023-05-30T08:44:12.532Z"
   },
   {
    "duration": 12,
    "start_time": "2023-05-30T08:44:12.549Z"
   },
   {
    "duration": 6,
    "start_time": "2023-05-30T08:44:12.564Z"
   },
   {
    "duration": 60,
    "start_time": "2023-05-30T08:44:12.572Z"
   },
   {
    "duration": 13,
    "start_time": "2023-05-30T08:44:12.634Z"
   },
   {
    "duration": 7,
    "start_time": "2023-05-30T08:44:12.649Z"
   },
   {
    "duration": 5,
    "start_time": "2023-05-30T08:44:12.658Z"
   },
   {
    "duration": 10,
    "start_time": "2023-05-30T08:44:12.665Z"
   },
   {
    "duration": 27,
    "start_time": "2023-05-30T08:44:12.677Z"
   },
   {
    "duration": 225,
    "start_time": "2023-05-30T08:44:12.711Z"
   },
   {
    "duration": 3,
    "start_time": "2023-05-30T08:44:12.938Z"
   },
   {
    "duration": 8,
    "start_time": "2023-05-30T08:44:12.943Z"
   },
   {
    "duration": 6,
    "start_time": "2023-05-30T08:44:12.952Z"
   },
   {
    "duration": 14,
    "start_time": "2023-05-30T08:44:12.959Z"
   },
   {
    "duration": 43,
    "start_time": "2023-05-30T08:44:12.974Z"
   },
   {
    "duration": 28,
    "start_time": "2023-05-30T08:44:13.018Z"
   },
   {
    "duration": 21,
    "start_time": "2023-05-30T08:44:13.048Z"
   },
   {
    "duration": 29,
    "start_time": "2023-05-30T08:44:13.070Z"
   },
   {
    "duration": 23,
    "start_time": "2023-05-30T08:44:13.116Z"
   },
   {
    "duration": 16,
    "start_time": "2023-05-30T08:44:13.141Z"
   },
   {
    "duration": 17,
    "start_time": "2023-05-30T08:44:13.158Z"
   },
   {
    "duration": 25,
    "start_time": "2023-05-30T08:44:13.177Z"
   },
   {
    "duration": 29,
    "start_time": "2023-05-30T08:44:13.209Z"
   },
   {
    "duration": 33,
    "start_time": "2023-05-30T08:44:13.240Z"
   },
   {
    "duration": 66,
    "start_time": "2023-05-30T08:44:13.274Z"
   },
   {
    "duration": 113,
    "start_time": "2023-05-30T08:44:13.342Z"
   },
   {
    "duration": 3502,
    "start_time": "2023-05-30T08:44:13.457Z"
   },
   {
    "duration": 3973,
    "start_time": "2023-05-30T08:44:16.961Z"
   },
   {
    "duration": 8,
    "start_time": "2023-05-30T08:44:20.936Z"
   },
   {
    "duration": 19,
    "start_time": "2023-05-30T08:44:20.947Z"
   },
   {
    "duration": 73,
    "start_time": "2023-05-30T08:44:20.967Z"
   },
   {
    "duration": 30,
    "start_time": "2023-05-30T08:44:21.042Z"
   },
   {
    "duration": 59,
    "start_time": "2023-05-30T08:44:21.074Z"
   },
   {
    "duration": 87,
    "start_time": "2023-05-30T08:44:21.135Z"
   },
   {
    "duration": 21,
    "start_time": "2023-05-30T08:44:21.224Z"
   },
   {
    "duration": 151,
    "start_time": "2023-05-30T08:44:21.247Z"
   },
   {
    "duration": 136,
    "start_time": "2023-05-30T08:44:21.400Z"
   },
   {
    "duration": 158,
    "start_time": "2023-05-30T08:44:21.544Z"
   },
   {
    "duration": 1320,
    "start_time": "2023-05-30T08:44:21.704Z"
   },
   {
    "duration": 288429,
    "start_time": "2023-05-30T08:44:23.036Z"
   },
   {
    "duration": 212,
    "start_time": "2023-05-30T08:49:11.467Z"
   },
   {
    "duration": 263,
    "start_time": "2023-05-30T08:49:11.681Z"
   },
   {
    "duration": 448,
    "start_time": "2023-05-30T08:49:11.946Z"
   },
   {
    "duration": 8,
    "start_time": "2023-05-30T08:49:12.406Z"
   },
   {
    "duration": 215214,
    "start_time": "2023-05-30T08:49:12.415Z"
   },
   {
    "duration": 264,
    "start_time": "2023-05-30T08:52:47.630Z"
   },
   {
    "duration": 8,
    "start_time": "2023-05-30T08:52:47.895Z"
   },
   {
    "duration": 23,
    "start_time": "2023-05-30T08:52:47.905Z"
   },
   {
    "duration": 347,
    "start_time": "2023-05-30T08:54:34.844Z"
   },
   {
    "duration": 54102,
    "start_time": "2023-05-30T13:09:20.666Z"
   },
   {
    "duration": 4881,
    "start_time": "2023-05-30T13:10:14.783Z"
   },
   {
    "duration": 13589,
    "start_time": "2023-05-30T13:10:19.666Z"
   },
   {
    "duration": 763,
    "start_time": "2023-05-30T13:10:33.257Z"
   },
   {
    "duration": 35802,
    "start_time": "2023-05-30T13:10:34.023Z"
   },
   {
    "duration": 8,
    "start_time": "2023-05-30T13:11:09.834Z"
   },
   {
    "duration": 464,
    "start_time": "2023-05-30T13:11:09.850Z"
   },
   {
    "duration": 37,
    "start_time": "2023-05-30T13:11:10.317Z"
   },
   {
    "duration": 174,
    "start_time": "2023-05-30T13:11:10.365Z"
   },
   {
    "duration": 186,
    "start_time": "2023-05-30T13:11:10.551Z"
   },
   {
    "duration": 1199,
    "start_time": "2023-05-30T13:11:10.745Z"
   },
   {
    "duration": 177,
    "start_time": "2023-05-30T13:11:11.957Z"
   },
   {
    "duration": 158,
    "start_time": "2023-05-30T13:11:12.143Z"
   },
   {
    "duration": 76,
    "start_time": "2023-05-30T13:11:12.320Z"
   },
   {
    "duration": 177,
    "start_time": "2023-05-30T13:11:12.404Z"
   },
   {
    "duration": 155,
    "start_time": "2023-05-30T13:11:12.584Z"
   },
   {
    "duration": 169,
    "start_time": "2023-05-30T13:11:12.751Z"
   },
   {
    "duration": 265,
    "start_time": "2023-05-30T13:11:12.926Z"
   },
   {
    "duration": 72,
    "start_time": "2023-05-30T13:11:13.205Z"
   },
   {
    "duration": 4769,
    "start_time": "2023-05-30T13:11:13.291Z"
   },
   {
    "duration": 200,
    "start_time": "2023-05-30T13:11:18.076Z"
   },
   {
    "duration": 42,
    "start_time": "2023-05-30T13:11:18.280Z"
   },
   {
    "duration": 172,
    "start_time": "2023-05-30T13:11:18.336Z"
   },
   {
    "duration": 187,
    "start_time": "2023-05-30T13:11:18.513Z"
   },
   {
    "duration": 931,
    "start_time": "2023-05-30T13:11:18.702Z"
   },
   {
    "duration": 214,
    "start_time": "2023-05-30T13:11:19.638Z"
   },
   {
    "duration": 25,
    "start_time": "2023-05-30T13:11:19.855Z"
   },
   {
    "duration": 86,
    "start_time": "2023-05-30T13:11:19.896Z"
   },
   {
    "duration": 60,
    "start_time": "2023-05-30T13:11:19.989Z"
   },
   {
    "duration": 800,
    "start_time": "2023-05-30T13:11:20.060Z"
   },
   {
    "duration": 269,
    "start_time": "2023-05-30T13:11:20.878Z"
   },
   {
    "duration": 41,
    "start_time": "2023-05-30T13:11:21.155Z"
   },
   {
    "duration": 216,
    "start_time": "2023-05-30T13:11:21.204Z"
   },
   {
    "duration": 182,
    "start_time": "2023-05-30T13:11:21.426Z"
   },
   {
    "duration": 46,
    "start_time": "2023-05-30T13:11:21.614Z"
   },
   {
    "duration": 177,
    "start_time": "2023-05-30T13:11:21.671Z"
   },
   {
    "duration": 203,
    "start_time": "2023-05-30T13:11:21.861Z"
   },
   {
    "duration": 172,
    "start_time": "2023-05-30T13:11:22.076Z"
   },
   {
    "duration": 276,
    "start_time": "2023-05-30T13:11:22.259Z"
   },
   {
    "duration": 93,
    "start_time": "2023-05-30T13:11:22.544Z"
   },
   {
    "duration": 3498,
    "start_time": "2023-05-30T13:11:22.646Z"
   },
   {
    "duration": 18,
    "start_time": "2023-05-30T13:11:26.150Z"
   },
   {
    "duration": 145,
    "start_time": "2023-05-30T13:11:26.175Z"
   },
   {
    "duration": 201,
    "start_time": "2023-05-30T13:11:26.327Z"
   },
   {
    "duration": 710,
    "start_time": "2023-05-30T13:11:26.538Z"
   },
   {
    "duration": 34,
    "start_time": "2023-05-30T13:11:27.255Z"
   },
   {
    "duration": 206,
    "start_time": "2023-05-30T13:11:27.298Z"
   },
   {
    "duration": 129,
    "start_time": "2023-05-30T13:11:27.515Z"
   },
   {
    "duration": 728,
    "start_time": "2023-05-30T13:11:27.656Z"
   },
   {
    "duration": 6,
    "start_time": "2023-05-30T13:11:28.390Z"
   },
   {
    "duration": 176,
    "start_time": "2023-05-30T13:11:28.416Z"
   },
   {
    "duration": 163,
    "start_time": "2023-05-30T13:11:28.609Z"
   },
   {
    "duration": 143,
    "start_time": "2023-05-30T13:11:28.789Z"
   },
   {
    "duration": 172,
    "start_time": "2023-05-30T13:11:28.946Z"
   },
   {
    "duration": 113,
    "start_time": "2023-05-30T13:11:29.133Z"
   },
   {
    "duration": 231,
    "start_time": "2023-05-30T13:11:29.257Z"
   },
   {
    "duration": 276,
    "start_time": "2023-05-30T13:11:29.496Z"
   },
   {
    "duration": 163,
    "start_time": "2023-05-30T13:11:29.793Z"
   },
   {
    "duration": 176,
    "start_time": "2023-05-30T13:11:29.968Z"
   },
   {
    "duration": 149,
    "start_time": "2023-05-30T13:11:30.153Z"
   },
   {
    "duration": 250,
    "start_time": "2023-05-30T13:11:30.310Z"
   },
   {
    "duration": 233,
    "start_time": "2023-05-30T13:11:30.567Z"
   },
   {
    "duration": 212,
    "start_time": "2023-05-30T13:11:30.812Z"
   },
   {
    "duration": 227,
    "start_time": "2023-05-30T13:11:31.041Z"
   },
   {
    "duration": 183,
    "start_time": "2023-05-30T13:11:31.281Z"
   },
   {
    "duration": 206,
    "start_time": "2023-05-30T13:11:31.466Z"
   },
   {
    "duration": 200,
    "start_time": "2023-05-30T13:11:31.678Z"
   },
   {
    "duration": 176,
    "start_time": "2023-05-30T13:11:31.892Z"
   },
   {
    "duration": 262,
    "start_time": "2023-05-30T13:11:32.084Z"
   },
   {
    "duration": 136,
    "start_time": "2023-05-30T13:11:32.368Z"
   },
   {
    "duration": 204,
    "start_time": "2023-05-30T13:11:32.511Z"
   },
   {
    "duration": 186,
    "start_time": "2023-05-30T13:11:32.730Z"
   },
   {
    "duration": 556,
    "start_time": "2023-05-30T13:11:32.924Z"
   },
   {
    "duration": 5,
    "start_time": "2023-05-30T13:11:33.482Z"
   },
   {
    "duration": 158,
    "start_time": "2023-05-30T13:11:33.490Z"
   },
   {
    "duration": 178,
    "start_time": "2023-05-30T13:11:33.650Z"
   },
   {
    "duration": 165,
    "start_time": "2023-05-30T13:11:33.837Z"
   },
   {
    "duration": 188,
    "start_time": "2023-05-30T13:11:34.020Z"
   },
   {
    "duration": 153,
    "start_time": "2023-05-30T13:11:34.219Z"
   },
   {
    "duration": 165,
    "start_time": "2023-05-30T13:11:34.379Z"
   },
   {
    "duration": 203,
    "start_time": "2023-05-30T13:11:34.551Z"
   },
   {
    "duration": 155,
    "start_time": "2023-05-30T13:11:34.783Z"
   },
   {
    "duration": 90,
    "start_time": "2023-05-30T13:11:34.962Z"
   },
   {
    "duration": 124,
    "start_time": "2023-05-30T13:11:35.060Z"
   },
   {
    "duration": 121,
    "start_time": "2023-05-30T13:11:35.192Z"
   },
   {
    "duration": 130,
    "start_time": "2023-05-30T13:11:35.334Z"
   },
   {
    "duration": 272,
    "start_time": "2023-05-30T13:11:35.471Z"
   },
   {
    "duration": 115,
    "start_time": "2023-05-30T13:11:35.756Z"
   },
   {
    "duration": 411,
    "start_time": "2023-05-30T13:11:35.885Z"
   },
   {
    "duration": 7159,
    "start_time": "2023-05-30T13:11:36.298Z"
   },
   {
    "duration": 8737,
    "start_time": "2023-05-30T13:11:43.459Z"
   },
   {
    "duration": 29,
    "start_time": "2023-05-30T13:11:52.213Z"
   },
   {
    "duration": 191,
    "start_time": "2023-05-30T13:11:52.245Z"
   },
   {
    "duration": 219,
    "start_time": "2023-05-30T13:11:52.441Z"
   },
   {
    "duration": 236,
    "start_time": "2023-05-30T13:11:52.676Z"
   },
   {
    "duration": 209,
    "start_time": "2023-05-30T13:11:52.923Z"
   },
   {
    "duration": 211,
    "start_time": "2023-05-30T13:11:53.138Z"
   },
   {
    "duration": 181,
    "start_time": "2023-05-30T13:11:53.365Z"
   },
   {
    "duration": 531,
    "start_time": "2023-05-30T13:11:53.559Z"
   },
   {
    "duration": 856,
    "start_time": "2023-05-30T13:11:54.124Z"
   },
   {
    "duration": 135,
    "start_time": "2023-05-30T13:11:55.005Z"
   },
   {
    "duration": 2885,
    "start_time": "2023-05-30T13:11:55.147Z"
   },
   {
    "duration": 631,
    "start_time": "2023-05-30T13:11:58.041Z"
   },
   {
    "duration": 473,
    "start_time": "2023-05-30T13:11:58.683Z"
   },
   {
    "duration": 760,
    "start_time": "2023-05-30T13:11:59.168Z"
   },
   {
    "duration": 8,
    "start_time": "2023-05-30T13:11:59.942Z"
   },
   {
    "duration": 418082,
    "start_time": "2023-05-30T13:11:59.957Z"
   },
   {
    "duration": 497,
    "start_time": "2023-05-30T13:18:58.043Z"
   },
   {
    "duration": 14,
    "start_time": "2023-05-30T13:18:58.543Z"
   },
   {
    "duration": 980,
    "start_time": "2023-05-30T13:18:58.560Z"
   },
   {
    "duration": 5,
    "start_time": "2023-05-30T13:38:23.121Z"
   },
   {
    "duration": 8,
    "start_time": "2023-05-30T15:39:58.323Z"
   },
   {
    "duration": 48,
    "start_time": "2023-05-30T15:40:09.239Z"
   },
   {
    "duration": 15496,
    "start_time": "2023-05-30T15:40:24.642Z"
   },
   {
    "duration": 2333,
    "start_time": "2023-05-30T15:40:40.141Z"
   },
   {
    "duration": 4754,
    "start_time": "2023-05-30T15:40:42.477Z"
   },
   {
    "duration": 577,
    "start_time": "2023-05-30T15:40:47.233Z"
   },
   {
    "duration": 1745,
    "start_time": "2023-05-30T15:40:47.813Z"
   },
   {
    "duration": 3,
    "start_time": "2023-05-30T15:40:49.559Z"
   },
   {
    "duration": 100,
    "start_time": "2023-05-30T15:40:49.564Z"
   },
   {
    "duration": 20,
    "start_time": "2023-05-30T15:40:49.666Z"
   },
   {
    "duration": 17,
    "start_time": "2023-05-30T15:40:49.688Z"
   },
   {
    "duration": 22,
    "start_time": "2023-05-30T15:40:49.707Z"
   },
   {
    "duration": 484,
    "start_time": "2023-05-30T15:40:49.731Z"
   },
   {
    "duration": 128,
    "start_time": "2023-05-30T15:40:50.225Z"
   },
   {
    "duration": 83,
    "start_time": "2023-05-30T15:40:50.355Z"
   },
   {
    "duration": 16,
    "start_time": "2023-05-30T15:40:50.441Z"
   },
   {
    "duration": 77,
    "start_time": "2023-05-30T15:40:50.458Z"
   },
   {
    "duration": 37,
    "start_time": "2023-05-30T15:40:50.536Z"
   },
   {
    "duration": 28,
    "start_time": "2023-05-30T15:40:50.575Z"
   },
   {
    "duration": 77,
    "start_time": "2023-05-30T15:40:50.605Z"
   },
   {
    "duration": 12,
    "start_time": "2023-05-30T15:40:50.684Z"
   },
   {
    "duration": 1864,
    "start_time": "2023-05-30T15:40:50.697Z"
   },
   {
    "duration": 113,
    "start_time": "2023-05-30T15:40:52.562Z"
   },
   {
    "duration": 7,
    "start_time": "2023-05-30T15:40:52.676Z"
   },
   {
    "duration": 20,
    "start_time": "2023-05-30T15:40:52.685Z"
   },
   {
    "duration": 36,
    "start_time": "2023-05-30T15:40:52.707Z"
   },
   {
    "duration": 280,
    "start_time": "2023-05-30T15:40:52.745Z"
   },
   {
    "duration": 234,
    "start_time": "2023-05-30T15:40:53.026Z"
   },
   {
    "duration": 8,
    "start_time": "2023-05-30T15:40:53.262Z"
   },
   {
    "duration": 30,
    "start_time": "2023-05-30T15:40:53.271Z"
   },
   {
    "duration": 38,
    "start_time": "2023-05-30T15:40:53.303Z"
   },
   {
    "duration": 275,
    "start_time": "2023-05-30T15:40:53.343Z"
   },
   {
    "duration": 119,
    "start_time": "2023-05-30T15:40:53.624Z"
   },
   {
    "duration": 6,
    "start_time": "2023-05-30T15:40:53.745Z"
   },
   {
    "duration": 72,
    "start_time": "2023-05-30T15:40:53.752Z"
   },
   {
    "duration": 99,
    "start_time": "2023-05-30T15:40:53.825Z"
   },
   {
    "duration": 11,
    "start_time": "2023-05-30T15:40:53.925Z"
   },
   {
    "duration": 76,
    "start_time": "2023-05-30T15:40:53.937Z"
   },
   {
    "duration": 61,
    "start_time": "2023-05-30T15:40:54.015Z"
   },
   {
    "duration": 21,
    "start_time": "2023-05-30T15:40:54.077Z"
   },
   {
    "duration": 45,
    "start_time": "2023-05-30T15:40:54.100Z"
   },
   {
    "duration": 10,
    "start_time": "2023-05-30T15:40:54.146Z"
   },
   {
    "duration": 1229,
    "start_time": "2023-05-30T15:40:54.161Z"
   },
   {
    "duration": 3,
    "start_time": "2023-05-30T15:40:55.392Z"
   },
   {
    "duration": 12,
    "start_time": "2023-05-30T15:40:55.397Z"
   },
   {
    "duration": 13,
    "start_time": "2023-05-30T15:40:55.411Z"
   },
   {
    "duration": 182,
    "start_time": "2023-05-30T15:40:55.426Z"
   },
   {
    "duration": 19,
    "start_time": "2023-05-30T15:40:55.610Z"
   },
   {
    "duration": 23,
    "start_time": "2023-05-30T15:40:55.631Z"
   },
   {
    "duration": 25,
    "start_time": "2023-05-30T15:40:55.655Z"
   },
   {
    "duration": 165,
    "start_time": "2023-05-30T15:40:55.681Z"
   },
   {
    "duration": 3,
    "start_time": "2023-05-30T15:40:55.847Z"
   },
   {
    "duration": 13,
    "start_time": "2023-05-30T15:40:55.852Z"
   },
   {
    "duration": 26,
    "start_time": "2023-05-30T15:40:55.866Z"
   },
   {
    "duration": 9,
    "start_time": "2023-05-30T15:40:55.894Z"
   },
   {
    "duration": 28,
    "start_time": "2023-05-30T15:40:55.905Z"
   },
   {
    "duration": 33,
    "start_time": "2023-05-30T15:40:55.935Z"
   },
   {
    "duration": 37,
    "start_time": "2023-05-30T15:40:55.970Z"
   },
   {
    "duration": 17,
    "start_time": "2023-05-30T15:40:56.009Z"
   },
   {
    "duration": 20,
    "start_time": "2023-05-30T15:40:56.028Z"
   },
   {
    "duration": 34,
    "start_time": "2023-05-30T15:40:56.050Z"
   },
   {
    "duration": 10,
    "start_time": "2023-05-30T15:40:56.085Z"
   },
   {
    "duration": 9,
    "start_time": "2023-05-30T15:40:56.096Z"
   },
   {
    "duration": 12,
    "start_time": "2023-05-30T15:40:56.106Z"
   },
   {
    "duration": 19,
    "start_time": "2023-05-30T15:40:56.120Z"
   },
   {
    "duration": 18,
    "start_time": "2023-05-30T15:40:56.140Z"
   },
   {
    "duration": 12,
    "start_time": "2023-05-30T15:40:56.160Z"
   },
   {
    "duration": 6,
    "start_time": "2023-05-30T15:40:56.174Z"
   },
   {
    "duration": 9,
    "start_time": "2023-05-30T15:40:56.181Z"
   },
   {
    "duration": 30,
    "start_time": "2023-05-30T15:40:56.191Z"
   },
   {
    "duration": 15,
    "start_time": "2023-05-30T15:40:56.223Z"
   },
   {
    "duration": 32,
    "start_time": "2023-05-30T15:40:56.240Z"
   },
   {
    "duration": 64,
    "start_time": "2023-05-30T15:40:56.274Z"
   },
   {
    "duration": 22,
    "start_time": "2023-05-30T15:40:56.339Z"
   },
   {
    "duration": 152,
    "start_time": "2023-05-30T15:40:56.363Z"
   },
   {
    "duration": 7,
    "start_time": "2023-05-30T15:40:56.517Z"
   },
   {
    "duration": 47,
    "start_time": "2023-05-30T15:40:56.526Z"
   },
   {
    "duration": 28,
    "start_time": "2023-05-30T15:40:56.575Z"
   },
   {
    "duration": 29,
    "start_time": "2023-05-30T15:40:56.605Z"
   },
   {
    "duration": 37,
    "start_time": "2023-05-30T15:40:56.636Z"
   },
   {
    "duration": 22,
    "start_time": "2023-05-30T15:40:56.675Z"
   },
   {
    "duration": 30,
    "start_time": "2023-05-30T15:40:56.699Z"
   },
   {
    "duration": 53,
    "start_time": "2023-05-30T15:40:56.731Z"
   },
   {
    "duration": 14,
    "start_time": "2023-05-30T15:40:56.786Z"
   },
   {
    "duration": 20,
    "start_time": "2023-05-30T15:40:56.802Z"
   },
   {
    "duration": 35,
    "start_time": "2023-05-30T15:40:56.823Z"
   },
   {
    "duration": 34,
    "start_time": "2023-05-30T15:40:56.859Z"
   },
   {
    "duration": 4,
    "start_time": "2023-05-30T15:40:56.895Z"
   },
   {
    "duration": 45,
    "start_time": "2023-05-30T15:40:56.901Z"
   },
   {
    "duration": 47,
    "start_time": "2023-05-30T15:40:56.948Z"
   },
   {
    "duration": 72,
    "start_time": "2023-05-30T15:40:56.997Z"
   },
   {
    "duration": 3055,
    "start_time": "2023-05-30T15:40:57.070Z"
   },
   {
    "duration": 4174,
    "start_time": "2023-05-30T15:41:00.128Z"
   },
   {
    "duration": 3,
    "start_time": "2023-05-30T15:41:04.304Z"
   },
   {
    "duration": 28,
    "start_time": "2023-05-30T15:41:04.309Z"
   },
   {
    "duration": 9,
    "start_time": "2023-05-30T15:41:04.339Z"
   },
   {
    "duration": 22,
    "start_time": "2023-05-30T15:41:04.349Z"
   },
   {
    "duration": 3,
    "start_time": "2023-05-30T15:41:05.907Z"
   },
   {
    "duration": 17,
    "start_time": "2023-05-30T15:41:07.833Z"
   },
   {
    "duration": 7,
    "start_time": "2023-05-30T15:41:32.931Z"
   },
   {
    "duration": 73,
    "start_time": "2023-05-30T15:41:34.781Z"
   },
   {
    "duration": 4149,
    "start_time": "2023-05-30T15:41:36.012Z"
   },
   {
    "duration": 746,
    "start_time": "2023-05-30T15:41:41.939Z"
   },
   {
    "duration": 829,
    "start_time": "2023-05-30T15:41:44.301Z"
   },
   {
    "duration": 1358,
    "start_time": "2023-05-30T15:41:46.515Z"
   },
   {
    "duration": 2661,
    "start_time": "2023-05-30T16:05:39.359Z"
   },
   {
    "duration": 2245,
    "start_time": "2023-05-30T16:05:42.022Z"
   },
   {
    "duration": 2105,
    "start_time": "2023-05-30T16:05:44.269Z"
   },
   {
    "duration": 365,
    "start_time": "2023-05-30T16:05:46.376Z"
   },
   {
    "duration": 1839,
    "start_time": "2023-05-30T16:05:46.743Z"
   },
   {
    "duration": 3,
    "start_time": "2023-05-30T16:05:48.583Z"
   },
   {
    "duration": 73,
    "start_time": "2023-05-30T16:05:48.587Z"
   },
   {
    "duration": 12,
    "start_time": "2023-05-30T16:05:48.661Z"
   },
   {
    "duration": 31,
    "start_time": "2023-05-30T16:05:48.674Z"
   },
   {
    "duration": 20,
    "start_time": "2023-05-30T16:05:48.707Z"
   },
   {
    "duration": 485,
    "start_time": "2023-05-30T16:05:48.728Z"
   },
   {
    "duration": 17,
    "start_time": "2023-05-30T16:05:49.215Z"
   },
   {
    "duration": 23,
    "start_time": "2023-05-30T16:05:49.233Z"
   },
   {
    "duration": 16,
    "start_time": "2023-05-30T16:05:49.258Z"
   },
   {
    "duration": 18,
    "start_time": "2023-05-30T16:05:49.275Z"
   },
   {
    "duration": 17,
    "start_time": "2023-05-30T16:05:49.294Z"
   },
   {
    "duration": 14,
    "start_time": "2023-05-30T16:05:49.312Z"
   },
   {
    "duration": 47,
    "start_time": "2023-05-30T16:05:49.327Z"
   },
   {
    "duration": 9,
    "start_time": "2023-05-30T16:05:49.375Z"
   },
   {
    "duration": 1698,
    "start_time": "2023-05-30T16:05:49.386Z"
   },
   {
    "duration": 46,
    "start_time": "2023-05-30T16:05:51.085Z"
   },
   {
    "duration": 6,
    "start_time": "2023-05-30T16:05:51.133Z"
   },
   {
    "duration": 15,
    "start_time": "2023-05-30T16:05:51.141Z"
   },
   {
    "duration": 25,
    "start_time": "2023-05-30T16:05:51.158Z"
   },
   {
    "duration": 267,
    "start_time": "2023-05-30T16:05:51.185Z"
   },
   {
    "duration": 26,
    "start_time": "2023-05-30T16:05:51.454Z"
   },
   {
    "duration": 7,
    "start_time": "2023-05-30T16:05:51.482Z"
   },
   {
    "duration": 16,
    "start_time": "2023-05-30T16:05:51.491Z"
   },
   {
    "duration": 23,
    "start_time": "2023-05-30T16:05:51.508Z"
   },
   {
    "duration": 277,
    "start_time": "2023-05-30T16:05:51.532Z"
   },
   {
    "duration": 116,
    "start_time": "2023-05-30T16:05:51.810Z"
   },
   {
    "duration": 6,
    "start_time": "2023-05-30T16:05:51.927Z"
   },
   {
    "duration": 40,
    "start_time": "2023-05-30T16:05:51.935Z"
   },
   {
    "duration": 18,
    "start_time": "2023-05-30T16:05:51.976Z"
   },
   {
    "duration": 9,
    "start_time": "2023-05-30T16:05:51.995Z"
   },
   {
    "duration": 12,
    "start_time": "2023-05-30T16:05:52.005Z"
   },
   {
    "duration": 15,
    "start_time": "2023-05-30T16:05:52.019Z"
   },
   {
    "duration": 13,
    "start_time": "2023-05-30T16:05:52.035Z"
   },
   {
    "duration": 42,
    "start_time": "2023-05-30T16:05:52.049Z"
   },
   {
    "duration": 10,
    "start_time": "2023-05-30T16:05:52.092Z"
   },
   {
    "duration": 1082,
    "start_time": "2023-05-30T16:05:52.106Z"
   },
   {
    "duration": 3,
    "start_time": "2023-05-30T16:05:53.190Z"
   },
   {
    "duration": 26,
    "start_time": "2023-05-30T16:05:53.194Z"
   },
   {
    "duration": 21,
    "start_time": "2023-05-30T16:05:53.221Z"
   },
   {
    "duration": 182,
    "start_time": "2023-05-30T16:05:53.243Z"
   },
   {
    "duration": 8,
    "start_time": "2023-05-30T16:05:53.427Z"
   },
   {
    "duration": 38,
    "start_time": "2023-05-30T16:05:53.437Z"
   },
   {
    "duration": 6,
    "start_time": "2023-05-30T16:05:53.477Z"
   },
   {
    "duration": 182,
    "start_time": "2023-05-30T16:05:53.484Z"
   },
   {
    "duration": 3,
    "start_time": "2023-05-30T16:05:53.668Z"
   },
   {
    "duration": 8,
    "start_time": "2023-05-30T16:05:53.672Z"
   },
   {
    "duration": 18,
    "start_time": "2023-05-30T16:05:53.682Z"
   },
   {
    "duration": 20,
    "start_time": "2023-05-30T16:05:53.702Z"
   },
   {
    "duration": 19,
    "start_time": "2023-05-30T16:05:53.723Z"
   },
   {
    "duration": 11,
    "start_time": "2023-05-30T16:05:53.743Z"
   },
   {
    "duration": 19,
    "start_time": "2023-05-30T16:05:53.755Z"
   },
   {
    "duration": 32,
    "start_time": "2023-05-30T16:05:53.775Z"
   },
   {
    "duration": 36,
    "start_time": "2023-05-30T16:05:53.808Z"
   },
   {
    "duration": 17,
    "start_time": "2023-05-30T16:05:53.845Z"
   },
   {
    "duration": 7,
    "start_time": "2023-05-30T16:05:53.863Z"
   },
   {
    "duration": 12,
    "start_time": "2023-05-30T16:05:53.872Z"
   },
   {
    "duration": 15,
    "start_time": "2023-05-30T16:05:53.886Z"
   },
   {
    "duration": 20,
    "start_time": "2023-05-30T16:05:53.902Z"
   },
   {
    "duration": 21,
    "start_time": "2023-05-30T16:05:53.923Z"
   },
   {
    "duration": 12,
    "start_time": "2023-05-30T16:05:53.945Z"
   },
   {
    "duration": 11,
    "start_time": "2023-05-30T16:05:53.958Z"
   },
   {
    "duration": 22,
    "start_time": "2023-05-30T16:05:53.971Z"
   },
   {
    "duration": 22,
    "start_time": "2023-05-30T16:05:53.994Z"
   },
   {
    "duration": 16,
    "start_time": "2023-05-30T16:05:54.017Z"
   },
   {
    "duration": 9,
    "start_time": "2023-05-30T16:05:54.034Z"
   },
   {
    "duration": 12,
    "start_time": "2023-05-30T16:05:54.044Z"
   },
   {
    "duration": 21,
    "start_time": "2023-05-30T16:05:54.057Z"
   },
   {
    "duration": 132,
    "start_time": "2023-05-30T16:05:54.079Z"
   },
   {
    "duration": 11,
    "start_time": "2023-05-30T16:05:54.213Z"
   },
   {
    "duration": 4,
    "start_time": "2023-05-30T16:05:54.225Z"
   },
   {
    "duration": 26,
    "start_time": "2023-05-30T16:05:54.230Z"
   },
   {
    "duration": 15,
    "start_time": "2023-05-30T16:05:54.258Z"
   },
   {
    "duration": 17,
    "start_time": "2023-05-30T16:05:54.274Z"
   },
   {
    "duration": 31,
    "start_time": "2023-05-30T16:05:54.292Z"
   },
   {
    "duration": 12,
    "start_time": "2023-05-30T16:05:54.325Z"
   },
   {
    "duration": 32,
    "start_time": "2023-05-30T16:05:54.339Z"
   },
   {
    "duration": 25,
    "start_time": "2023-05-30T16:05:54.373Z"
   },
   {
    "duration": 18,
    "start_time": "2023-05-30T16:05:54.399Z"
   },
   {
    "duration": 31,
    "start_time": "2023-05-30T16:05:54.418Z"
   },
   {
    "duration": 19,
    "start_time": "2023-05-30T16:05:54.450Z"
   },
   {
    "duration": 7,
    "start_time": "2023-05-30T16:05:54.470Z"
   },
   {
    "duration": 42,
    "start_time": "2023-05-30T16:05:54.478Z"
   },
   {
    "duration": 21,
    "start_time": "2023-05-30T16:05:54.521Z"
   },
   {
    "duration": 100,
    "start_time": "2023-05-30T16:05:54.543Z"
   },
   {
    "duration": 2836,
    "start_time": "2023-05-30T16:05:54.645Z"
   },
   {
    "duration": 3828,
    "start_time": "2023-05-30T16:05:57.483Z"
   },
   {
    "duration": 13,
    "start_time": "2023-05-30T16:06:01.312Z"
   },
   {
    "duration": 42,
    "start_time": "2023-05-30T16:06:01.327Z"
   },
   {
    "duration": 64,
    "start_time": "2023-05-30T16:06:01.370Z"
   },
   {
    "duration": 39,
    "start_time": "2023-05-30T16:06:01.436Z"
   },
   {
    "duration": 12,
    "start_time": "2023-05-30T16:06:01.477Z"
   },
   {
    "duration": 33,
    "start_time": "2023-05-30T16:06:01.491Z"
   },
   {
    "duration": 11,
    "start_time": "2023-05-30T16:06:01.526Z"
   },
   {
    "duration": 101,
    "start_time": "2023-05-30T16:06:01.538Z"
   },
   {
    "duration": 3872,
    "start_time": "2023-05-30T16:06:01.641Z"
   },
   {
    "duration": 627,
    "start_time": "2023-05-30T16:06:05.514Z"
   },
   {
    "duration": 746,
    "start_time": "2023-05-30T16:06:06.143Z"
   },
   {
    "duration": 1293,
    "start_time": "2023-05-30T16:06:06.890Z"
   },
   {
    "duration": 5,
    "start_time": "2023-05-30T16:06:08.184Z"
   },
   {
    "duration": 195746,
    "start_time": "2023-05-30T16:06:08.190Z"
   },
   {
    "duration": 246,
    "start_time": "2023-05-30T16:09:23.937Z"
   },
   {
    "duration": 6,
    "start_time": "2023-05-30T16:09:24.185Z"
   },
   {
    "duration": 295,
    "start_time": "2023-05-30T16:09:24.193Z"
   },
   {
    "duration": 55,
    "start_time": "2023-05-31T04:56:25.514Z"
   },
   {
    "duration": 16831,
    "start_time": "2023-05-31T04:56:29.190Z"
   },
   {
    "duration": 2144,
    "start_time": "2023-05-31T04:56:46.023Z"
   },
   {
    "duration": 5095,
    "start_time": "2023-05-31T04:56:48.169Z"
   },
   {
    "duration": 605,
    "start_time": "2023-05-31T04:56:53.267Z"
   },
   {
    "duration": 1849,
    "start_time": "2023-05-31T04:56:53.874Z"
   },
   {
    "duration": 3,
    "start_time": "2023-05-31T04:56:55.725Z"
   },
   {
    "duration": 107,
    "start_time": "2023-05-31T04:56:55.729Z"
   },
   {
    "duration": 19,
    "start_time": "2023-05-31T04:56:55.838Z"
   },
   {
    "duration": 12,
    "start_time": "2023-05-31T04:56:55.859Z"
   },
   {
    "duration": 17,
    "start_time": "2023-05-31T04:56:55.873Z"
   },
   {
    "duration": 537,
    "start_time": "2023-05-31T04:56:55.892Z"
   },
   {
    "duration": 96,
    "start_time": "2023-05-31T04:56:56.432Z"
   },
   {
    "duration": 94,
    "start_time": "2023-05-31T04:56:56.530Z"
   },
   {
    "duration": 15,
    "start_time": "2023-05-31T04:56:56.626Z"
   },
   {
    "duration": 43,
    "start_time": "2023-05-31T04:56:56.643Z"
   },
   {
    "duration": 11,
    "start_time": "2023-05-31T04:56:56.688Z"
   },
   {
    "duration": 15,
    "start_time": "2023-05-31T04:56:56.701Z"
   },
   {
    "duration": 59,
    "start_time": "2023-05-31T04:56:56.717Z"
   },
   {
    "duration": 11,
    "start_time": "2023-05-31T04:56:56.778Z"
   },
   {
    "duration": 2024,
    "start_time": "2023-05-31T04:56:56.791Z"
   },
   {
    "duration": 88,
    "start_time": "2023-05-31T04:56:58.817Z"
   },
   {
    "duration": 7,
    "start_time": "2023-05-31T04:56:58.907Z"
   },
   {
    "duration": 20,
    "start_time": "2023-05-31T04:56:58.916Z"
   },
   {
    "duration": 32,
    "start_time": "2023-05-31T04:56:58.938Z"
   },
   {
    "duration": 294,
    "start_time": "2023-05-31T04:56:58.972Z"
   },
   {
    "duration": 123,
    "start_time": "2023-05-31T04:56:59.268Z"
   },
   {
    "duration": 9,
    "start_time": "2023-05-31T04:56:59.392Z"
   },
   {
    "duration": 11,
    "start_time": "2023-05-31T04:56:59.407Z"
   },
   {
    "duration": 16,
    "start_time": "2023-05-31T04:56:59.420Z"
   },
   {
    "duration": 296,
    "start_time": "2023-05-31T04:56:59.438Z"
   },
   {
    "duration": 118,
    "start_time": "2023-05-31T04:56:59.736Z"
   },
   {
    "duration": 8,
    "start_time": "2023-05-31T04:56:59.856Z"
   },
   {
    "duration": 63,
    "start_time": "2023-05-31T04:56:59.865Z"
   },
   {
    "duration": 75,
    "start_time": "2023-05-31T04:56:59.929Z"
   },
   {
    "duration": 13,
    "start_time": "2023-05-31T04:57:00.006Z"
   },
   {
    "duration": 47,
    "start_time": "2023-05-31T04:57:00.020Z"
   },
   {
    "duration": 30,
    "start_time": "2023-05-31T04:57:00.068Z"
   },
   {
    "duration": 39,
    "start_time": "2023-05-31T04:57:00.099Z"
   },
   {
    "duration": 57,
    "start_time": "2023-05-31T04:57:00.140Z"
   },
   {
    "duration": 12,
    "start_time": "2023-05-31T04:57:00.198Z"
   },
   {
    "duration": 1308,
    "start_time": "2023-05-31T04:57:00.212Z"
   },
   {
    "duration": 3,
    "start_time": "2023-05-31T04:57:01.522Z"
   },
   {
    "duration": 92,
    "start_time": "2023-05-31T04:57:01.527Z"
   },
   {
    "duration": 103,
    "start_time": "2023-05-31T04:57:01.620Z"
   },
   {
    "duration": 288,
    "start_time": "2023-05-31T04:57:01.725Z"
   },
   {
    "duration": 26,
    "start_time": "2023-05-31T04:57:02.014Z"
   },
   {
    "duration": 97,
    "start_time": "2023-05-31T04:57:02.042Z"
   },
   {
    "duration": 40,
    "start_time": "2023-05-31T04:57:02.141Z"
   },
   {
    "duration": 174,
    "start_time": "2023-05-31T04:57:02.182Z"
   },
   {
    "duration": 4,
    "start_time": "2023-05-31T04:57:02.358Z"
   },
   {
    "duration": 19,
    "start_time": "2023-05-31T04:57:02.364Z"
   },
   {
    "duration": 12,
    "start_time": "2023-05-31T04:57:02.385Z"
   },
   {
    "duration": 18,
    "start_time": "2023-05-31T04:57:02.399Z"
   },
   {
    "duration": 22,
    "start_time": "2023-05-31T04:57:02.418Z"
   },
   {
    "duration": 36,
    "start_time": "2023-05-31T04:57:02.442Z"
   },
   {
    "duration": 42,
    "start_time": "2023-05-31T04:57:02.480Z"
   },
   {
    "duration": 60,
    "start_time": "2023-05-31T04:57:02.524Z"
   },
   {
    "duration": 27,
    "start_time": "2023-05-31T04:57:02.586Z"
   },
   {
    "duration": 18,
    "start_time": "2023-05-31T04:57:02.614Z"
   },
   {
    "duration": 28,
    "start_time": "2023-05-31T04:57:02.634Z"
   },
   {
    "duration": 28,
    "start_time": "2023-05-31T04:57:02.664Z"
   },
   {
    "duration": 34,
    "start_time": "2023-05-31T04:57:02.694Z"
   },
   {
    "duration": 52,
    "start_time": "2023-05-31T04:57:02.730Z"
   },
   {
    "duration": 20,
    "start_time": "2023-05-31T04:57:02.783Z"
   },
   {
    "duration": 14,
    "start_time": "2023-05-31T04:57:02.805Z"
   },
   {
    "duration": 40,
    "start_time": "2023-05-31T04:57:02.821Z"
   },
   {
    "duration": 69,
    "start_time": "2023-05-31T04:57:02.863Z"
   },
   {
    "duration": 33,
    "start_time": "2023-05-31T04:57:02.933Z"
   },
   {
    "duration": 27,
    "start_time": "2023-05-31T04:57:02.968Z"
   },
   {
    "duration": 30,
    "start_time": "2023-05-31T04:57:02.997Z"
   },
   {
    "duration": 35,
    "start_time": "2023-05-31T04:57:03.029Z"
   },
   {
    "duration": 19,
    "start_time": "2023-05-31T04:57:03.065Z"
   },
   {
    "duration": 176,
    "start_time": "2023-05-31T04:57:03.086Z"
   },
   {
    "duration": 4,
    "start_time": "2023-05-31T04:57:03.264Z"
   },
   {
    "duration": 19,
    "start_time": "2023-05-31T04:57:03.270Z"
   },
   {
    "duration": 25,
    "start_time": "2023-05-31T04:57:03.291Z"
   },
   {
    "duration": 16,
    "start_time": "2023-05-31T04:57:03.318Z"
   },
   {
    "duration": 21,
    "start_time": "2023-05-31T04:57:03.336Z"
   },
   {
    "duration": 25,
    "start_time": "2023-05-31T04:57:03.359Z"
   },
   {
    "duration": 20,
    "start_time": "2023-05-31T04:57:03.386Z"
   },
   {
    "duration": 21,
    "start_time": "2023-05-31T04:57:03.408Z"
   },
   {
    "duration": 5,
    "start_time": "2023-05-31T04:57:03.435Z"
   },
   {
    "duration": 22,
    "start_time": "2023-05-31T04:57:03.445Z"
   },
   {
    "duration": 23,
    "start_time": "2023-05-31T04:57:03.468Z"
   },
   {
    "duration": 15,
    "start_time": "2023-05-31T04:57:03.492Z"
   },
   {
    "duration": 4,
    "start_time": "2023-05-31T04:57:03.509Z"
   },
   {
    "duration": 36,
    "start_time": "2023-05-31T04:57:03.515Z"
   },
   {
    "duration": 15,
    "start_time": "2023-05-31T04:57:03.554Z"
   },
   {
    "duration": 93,
    "start_time": "2023-05-31T04:57:03.571Z"
   },
   {
    "duration": 3334,
    "start_time": "2023-05-31T04:57:03.666Z"
   },
   {
    "duration": 4365,
    "start_time": "2023-05-31T04:57:07.002Z"
   },
   {
    "duration": 4,
    "start_time": "2023-05-31T04:57:11.369Z"
   },
   {
    "duration": 22,
    "start_time": "2023-05-31T04:57:11.375Z"
   },
   {
    "duration": 17,
    "start_time": "2023-05-31T04:57:11.398Z"
   },
   {
    "duration": 21,
    "start_time": "2023-05-31T04:57:11.417Z"
   },
   {
    "duration": 17,
    "start_time": "2023-05-31T04:57:11.440Z"
   },
   {
    "duration": 24,
    "start_time": "2023-05-31T04:57:11.459Z"
   },
   {
    "duration": 7,
    "start_time": "2023-05-31T04:57:11.485Z"
   },
   {
    "duration": 79,
    "start_time": "2023-05-31T04:57:11.493Z"
   },
   {
    "duration": 4139,
    "start_time": "2023-05-31T04:57:11.573Z"
   },
   {
    "duration": 740,
    "start_time": "2023-05-31T04:57:15.714Z"
   },
   {
    "duration": 1018,
    "start_time": "2023-05-31T04:57:16.455Z"
   },
   {
    "duration": 1390,
    "start_time": "2023-05-31T04:57:17.475Z"
   },
   {
    "duration": 5,
    "start_time": "2023-05-31T04:57:18.867Z"
   },
   {
    "duration": 210753,
    "start_time": "2023-05-31T04:57:18.873Z"
   },
   {
    "duration": 246,
    "start_time": "2023-05-31T05:00:49.627Z"
   },
   {
    "duration": 6,
    "start_time": "2023-05-31T05:00:49.875Z"
   },
   {
    "duration": 5,
    "start_time": "2023-05-31T05:01:01.793Z"
   }
  ],
  "colab": {
   "provenance": []
  },
  "kernelspec": {
   "display_name": "Python 3 (ipykernel)",
   "language": "python",
   "name": "python3"
  },
  "language_info": {
   "codemirror_mode": {
    "name": "ipython",
    "version": 3
   },
   "file_extension": ".py",
   "mimetype": "text/x-python",
   "name": "python",
   "nbconvert_exporter": "python",
   "pygments_lexer": "ipython3",
   "version": "3.11.3"
  },
  "toc": {
   "base_numbering": 1,
   "nav_menu": {},
   "number_sections": true,
   "sideBar": true,
   "skip_h1_title": true,
   "title_cell": "Table of Contents",
   "title_sidebar": "Contents",
   "toc_cell": false,
   "toc_position": {
    "height": "calc(100% - 180px)",
    "left": "10px",
    "top": "150px",
    "width": "369.156px"
   },
   "toc_section_display": true,
   "toc_window_display": true
  }
 },
 "nbformat": 4,
 "nbformat_minor": 5
}
